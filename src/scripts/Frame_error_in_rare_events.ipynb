{
 "cells": [
  {
   "cell_type": "markdown",
   "id": "abf19b91-0ce9-4bd4-ab52-2f560c156fb6",
   "metadata": {},
   "source": [
    "# Frame error in rare events\n",
    "This notebook calculates frame error exclusively in pre-defined time epochs of rare events\n",
    "\\\n",
    "Yarden, June 2021"
   ]
  },
  {
   "cell_type": "code",
   "execution_count": 2,
   "id": "0443fcea-072b-4322-8da8-e9fbf60f0d29",
   "metadata": {},
   "outputs": [],
   "source": [
    "# imports\n",
    "from argparse import ArgumentParser\n",
    "import configparser  # used to load 'min_segment_dur.ini'\n",
    "\n",
    "from collections import defaultdict\n",
    "import json\n",
    "from pathlib import Path\n",
    "\n",
    "import joblib\n",
    "import numpy as np\n",
    "import pandas as pd\n",
    "import pyprojroot\n",
    "import torch\n",
    "from tqdm import tqdm\n",
    "\n",
    "from vak import config, io, models, transforms\n",
    "from vak.datasets.vocal_dataset import VocalDataset\n",
    "import vak.device\n",
    "import vak.files\n",
    "from vak.labeled_timebins import lbl_tb2segments, majority_vote_transform, lbl_tb_segment_inds_list,     remove_short_segments\n",
    "from vak.core.learncurve import train_dur_csv_paths as _train_dur_csv_paths\n",
    "from vak.logging import log_or_print\n",
    "from vak.labeled_timebins import (\n",
    "    lbl_tb2segments,\n",
    "    majority_vote_transform,\n",
    "    lbl_tb_segment_inds_list,\n",
    "    remove_short_segments\n",
    ")\n",
    "import copy\n",
    "from collections import Counter\n",
    "from crowsetta import Transcriber\n",
    "from pathlib import Path"
   ]
  },
  {
   "cell_type": "code",
   "execution_count": 3,
   "id": "46b82404-0d37-4f45-80f3-2659e4ddad44",
   "metadata": {},
   "outputs": [],
   "source": [
    "# Data folders and parameters\n",
    "min_segment_dur_ini = 'D:\\\\Users\\\\yarde\\\\github\\\\tweetynet\\\\data\\\\configs\\\\min_segment_dur.ini  '\n",
    "config = configparser.ConfigParser()\n",
    "config.optionxform = lambda option: option  # monkeypatch optionxform so it doesn't lowercase animal IDs\n",
    "config.read(Path(min_segment_dur_ini).expanduser().resolve())\n",
    "min_segment_durs = {k: float(v) for k, v in config['min_segment_dur'].items()}\n",
    "\n",
    "Root_learning_curve = Path('D:\\\\Users\\\\yarde\\\\vak_project\\\\BF\\\\learncurve')\n",
    "Root_behavior = Path('D:\\\\Users\\\\yarde\\\\vak_project\\\\BF\\\\BFSongRepository')\n",
    "Root_hidden_16 = Path('D:\\\\Users\\\\yarde\\\\vak_project\\\\BF\\\\hidden_size\\\\hidden_size_16')\n",
    "Root_hidden_64 = Path('D:\\\\Users\\\\yarde\\\\vak_project\\\\BF\\\\hidden_size\\\\hidden_size_64')\n",
    "birds = ['bl26lb16','gr41rd51','gy6or6','or60yw70']\n",
    "\n",
    "# general parameters\n",
    "min_p_ratio = 0.001\n",
    "min_rare_count = 10\n",
    "min_count = 50\n",
    "max_p_ratio = 0.25"
   ]
  },
  {
   "cell_type": "code",
   "execution_count": 4,
   "id": "b81e4a91-7d34-42a7-bbd3-df29065db0c1",
   "metadata": {},
   "outputs": [],
   "source": [
    "# functions to convert .not.mat annotations for a single .csv\n",
    "def convert_notmats_to_csv(notmat_folder,csv_filename):\n",
    "    scribe = Transcriber(format='notmat')\n",
    "    annotpaths = [str(x) for x in Path(notmat_folder).glob('*.not.mat')]\n",
    "    scribe.to_csv(annotpaths,csv_filename)"
   ]
  },
  {
   "cell_type": "code",
   "execution_count": 5,
   "id": "17a555f0-c26c-46dc-b77c-0417d5094167",
   "metadata": {},
   "outputs": [],
   "source": [
    "# creaate csv annotations for BFSongRepository\n",
    "BF1_notmat_folder = 'D:\\\\Users\\\\yarde\\\\vak_project\\\\BF\\\\BFSongRepository\\\\bl26lb16\\\\041912'\n",
    "BF1_csv_filename = 'D:\\\\Users\\\\yarde\\\\vak_project\\\\BF\\\\BFSongRepository\\\\bl26lb16\\\\bl26lb16_annotation.csv'\n",
    "convert_notmats_to_csv(BF1_notmat_folder,BF1_csv_filename)\n",
    "BF2_notmat_folder = 'D:\\\\Users\\\\yarde\\\\vak_project\\\\BF\\\\BFSongRepository\\\\gr41rd51\\\\06-21-12'\n",
    "BF2_csv_filename = 'D:\\\\Users\\\\yarde\\\\vak_project\\\\BF\\\\BFSongRepository\\\\gr41rd51\\\\gr41rd51_annotation.csv'\n",
    "convert_notmats_to_csv(BF2_notmat_folder,BF2_csv_filename)\n",
    "BF3_notmat_folder = 'D:\\\\Users\\\\yarde\\\\vak_project\\\\BF\\\\BFSongRepository\\\\gy6or6\\\\032212'\n",
    "BF3_csv_filename = 'D:\\\\Users\\\\yarde\\\\vak_project\\\\BF\\\\BFSongRepository\\\\gy6or6\\\\gy6or6_annotation.csv'\n",
    "convert_notmats_to_csv(BF3_notmat_folder,BF3_csv_filename)\n",
    "BF4_notmat_folder = 'D:\\\\Users\\\\yarde\\\\vak_project\\\\BF\\\\BFSongRepository\\\\or60yw70\\\\09-27-28-12'\n",
    "BF4_csv_filename = 'D:\\\\Users\\\\yarde\\\\vak_project\\\\BF\\\\BFSongRepository\\\\or60yw70\\\\or60yw70_annotation.csv'\n",
    "convert_notmats_to_csv(BF4_notmat_folder,BF4_csv_filename)"
   ]
  },
  {
   "cell_type": "code",
   "execution_count": 27,
   "id": "0bb89939-7ca0-4544-9f52-f7eb43140674",
   "metadata": {},
   "outputs": [],
   "source": [
    "# Bird names and Root folders for experiments:\n",
    "Root_learning_curve = Path('D:\\\\Users\\\\yarde\\\\vak_project\\\\BF\\\\learncurve')\n",
    "Root_hidden_16 = Path('D:\\\\Users\\\\yarde\\\\vak_project\\\\BF\\\\hidden_size\\\\hidden_size_16')\n",
    "Root_hidden_64 = Path('D:\\\\Users\\\\yarde\\\\vak_project\\\\BF\\\\hidden_size\\\\hidden_size_64')\n",
    "birds = ['bl26lb16','gr41rd51','gy6or6','or60yw70']\n",
    "annotations = {'bl26lb16':BF1_csv_filename,'gr41rd51':BF2_csv_filename,'gy6or6':BF3_csv_filename,'or60yw70':BF4_csv_filename}"
   ]
  },
  {
   "cell_type": "code",
   "execution_count": 22,
   "id": "9e7b8aa8-4b89-4494-ba6d-4b50767d551e",
   "metadata": {},
   "outputs": [],
   "source": [
    "# function to locate rare events\n",
    "def locate_rare_events(path_annot_csv,labelmap,degree=3):\n",
    "    if 'unlabeled' in labelmap.keys():\n",
    "        unl_shift = 1\n",
    "    else:\n",
    "        unl_shift = 0\n",
    "    inverse_labelmap = dict((v, k) for k, v in labelmap.items())\n",
    "    annot_df = pd.read_csv(path_annot_csv)\n",
    "    filenames = np.unique(annot_df.audio_path)\n",
    "    labels = \"\".join([l for l in labelmap.keys() if l != 'unlabeled'])\n",
    "    nsyls = len(labels)\n",
    "    # create ngram matrix\n",
    "    if degree==3:\n",
    "        transmat = np.zeros((nsyls,nsyls,nsyls))\n",
    "    else:\n",
    "        transmat = np.zeros((nsyls,nsyls))\n",
    "    for filename in filenames:\n",
    "        label_idx_seq = np.array([labelmap[x]-unl_shift for x in annot_df[annot_df.audio_path==filename].label if x in labelmap.keys()])\n",
    "    \n",
    "        if degree==3:\n",
    "            for i in range(len(label_idx_seq)-2):\n",
    "                a=label_idx_seq[i]; b=label_idx_seq[i+1]; c=label_idx_seq[i+2]\n",
    "                transmat[a,b,c] +=1\n",
    "        else:\n",
    "            for i in range(len(label_idx_seq)-1):\n",
    "                a=label_idx_seq[i]; b=label_idx_seq[i+1];\n",
    "                transmat[a,b] +=1\n",
    "        \n",
    "    # find forking transition points\n",
    "    if degree==3:\n",
    "        syl1 = []\n",
    "        syl2 = []\n",
    "        outsyls = []\n",
    "        for a in range(unl_shift,nsyls):\n",
    "            for b in range(unl_shift,nsyls):\n",
    "                if sum(np.squeeze(transmat[a-unl_shift,b-unl_shift,:]) > 0) > 1:\n",
    "                    syl1.append(inverse_labelmap[a])\n",
    "                    syl2.append(inverse_labelmap[b])\n",
    "                    outsyls.append(np.squeeze(transmat[a-unl_shift,b-unl_shift,:]))\n",
    "        rare_events_df = pd.DataFrame({'a':syl1,'b':syl2,'trans_outcome':outsyls})\n",
    "    else:\n",
    "        syl1 = []\n",
    "        outsyls = []\n",
    "        for a in range(unl_shift,nsyls):\n",
    "            if sum(np.squeeze(transmat[a-unl_shift,:]) > 0) > 1:\n",
    "                syl1.append(inverse_labelmap[a]);\n",
    "                outsyls.append(np.squeeze(transmat[a0unl_shift,:]))\n",
    "        rare_events_df = pd.DataFrame({'a':syl1,'trans_outcome':outsyls})    \n",
    "    return rare_events_df\n",
    "    "
   ]
  },
  {
   "cell_type": "code",
   "execution_count": 8,
   "id": "add4079f-7edd-4097-9741-18f478fc4513",
   "metadata": {},
   "outputs": [],
   "source": [
    "# Curate 2nd and 3rd order rare events"
   ]
  },
  {
   "cell_type": "code",
   "execution_count": 9,
   "id": "f2aa07fa-9c73-425b-87ed-26d7a53a02cb",
   "metadata": {},
   "outputs": [],
   "source": [
    "def load_network_results(path_to_config=None,\n",
    "                        spect_scaler_path = None,\n",
    "                        csv_path=None,\n",
    "                        labelmap_path=None,\n",
    "                        checkpoint_path=None,\n",
    "                        window_size = 370,\n",
    "                        hidden_size = None,\n",
    "                        min_segment_dur = 0.01,\n",
    "                        num_workers = 12,\n",
    "                        device='cuda',\n",
    "                        spect_key='s',\n",
    "                        timebins_key='t',\n",
    "                        freq_key = 'f',\n",
    "                        test_all_files=False):\n",
    "    '''\n",
    "    This function loads a model from an EVAL config file or from specified parameters, loads a model, and returns its outputs \n",
    "    for a specified test set.\n",
    "    \n",
    "    Setting 'test_all_files=True' will create a copy of the list in csv_path where all files are in the test set.\n",
    "    '''\n",
    "    if path_to_config:\n",
    "        # ---- get all the parameters from the config we need\n",
    "        cfg = config.parse.from_toml_path(path_to_config)\n",
    "        if cfg.eval: \n",
    "            model_config_map = config.models.map_from_path(path_to_config, cfg.eval.models)\n",
    "            csv_path = cfg.eval.csv_path\n",
    "            labelmap_path = cfg.eval.labelmap_path\n",
    "            checkpoint_path = cfg.eval.checkpoint_path\n",
    "            window_size = cfg.dataloader.window_size\n",
    "            num_workers = cfg.eval.num_workers\n",
    "            if spect_scaler_path:\n",
    "                spect_scaler_path = cfg.eval.spect_scaler_path\n",
    "        else:\n",
    "            print('config file must hold parameters in an [EVAL] section')\n",
    "            return None\n",
    "    else:\n",
    "        if hidden_size:\n",
    "            model_config_map = {'TweetyNet': {'loss': {}, 'metrics': {}, 'network': {'hidden_size':hidden_size}, 'optimizer': {'lr': 0.001}}}\n",
    "        else:\n",
    "            model_config_map = {'TweetyNet': {'loss': {}, 'metrics': {}, 'network': {}, 'optimizer': {'lr': 0.001}}}\n",
    "        \n",
    "    with labelmap_path.open('r') as f:\n",
    "        labelmap = json.load(f)\n",
    "    if spect_scaler_path:\n",
    "        spect_standardizer = joblib.load(spect_scaler_path)\n",
    "    else:\n",
    "        spect_standardizer = None\n",
    "    # prepare evaluation data\n",
    "    csv_df = pd.read_csv(csv_path)\n",
    "    if test_all_files==True: # allow creating a new csv 'csv_path_test.csv' where all entries are 'test'\n",
    "        csv_df['split'] = 'test'\n",
    "        csv_df.to_csv(csv_path.parent.joinpath(csv_path.stem + '_test.csv'))\n",
    "        csv_path = csv_path.parent.joinpath(csv_path.stem + '_test.csv')\n",
    "    csv_df = csv_df[csv_df.split == 'test']\n",
    "    \n",
    "    item_transform = transforms.get_defaults('eval',\n",
    "                                                 spect_standardizer=spect_standardizer,\n",
    "                                                 window_size=window_size,\n",
    "                                                 return_padding_mask=True,\n",
    "                                                 )\n",
    "\n",
    "    eval_dataset = VocalDataset.from_csv(csv_path=csv_path,\n",
    "                                         split='test',\n",
    "                                         labelmap=labelmap,\n",
    "                                         spect_key=spect_key,\n",
    "                                         timebins_key=timebins_key,\n",
    "                                         item_transform=item_transform,\n",
    "                                         )\n",
    "\n",
    "    eval_data = torch.utils.data.DataLoader(dataset=eval_dataset,\n",
    "                                            shuffle=False,\n",
    "                                            # batch size 1 because each spectrogram reshaped into a batch of windows\n",
    "                                            batch_size=1,\n",
    "                                            num_workers=num_workers)\n",
    "    input_shape = eval_dataset.shape\n",
    "    # if dataset returns spectrogram reshaped into windows,\n",
    "    # throw out the window dimension; just want to tell network (channels, height, width) shape\n",
    "    if len(input_shape) == 4:\n",
    "        input_shape = input_shape[1:]\n",
    "\n",
    "    models_map = models.from_model_config_map(\n",
    "        model_config_map,\n",
    "        num_classes=len(labelmap),\n",
    "        input_shape=input_shape\n",
    "    )\n",
    "    model_name = 'TweetyNet'\n",
    "    model = models_map['TweetyNet']\n",
    "    model.load(checkpoint_path)\n",
    "    #metrics = model.metrics  # metric name -> callable map we use below in loop\n",
    "    if device is None:\n",
    "        device = vak.device.get_default_device()\n",
    "    pred_dict = model.predict(pred_data=eval_data,\n",
    "                              device=device)\n",
    "    \n",
    "    \n",
    "    annotation_dfs = [pd.DataFrame(eval_dataset.annots[file_number].seq.as_dict()) for file_number in range(len(csv_df))]\n",
    "   \n",
    "    return csv_df, annotation_dfs, pred_dict, labelmap\n",
    "\n",
    "def seq_in_seq(long_seq,target_seq):\n",
    "    #import pdb\n",
    "    #pdb.set_trace()\n",
    "    onsets = []\n",
    "    offsets = []\n",
    "    for onset in np.arange(0,len(long_seq)-len(target_seq)):\n",
    "        if list(long_seq)[onset:onset+len(target_seq)] == list(target_seq):\n",
    "            onsets.append(onset)\n",
    "            offsets.append(onset+len(target_seq))\n",
    "    return onsets,offsets"
   ]
  },
  {
   "cell_type": "code",
   "execution_count": 10,
   "id": "b60df337-841b-4dd5-b6a8-d9e1cfaceb6c",
   "metadata": {},
   "outputs": [],
   "source": [
    "# Function to summarize experiments"
   ]
  },
  {
   "cell_type": "code",
   "execution_count": 18,
   "id": "239d09c5-ad77-4d94-a346-a6c4ca533444",
   "metadata": {},
   "outputs": [],
   "source": [
    "def create_results(annot_path,rare_trans_df,labelmap,csv_df,pred_dict,degree=3):\n",
    "    if 'unlabeled' in labelmap.keys():\n",
    "        unl_shift = 1\n",
    "    else:\n",
    "        unl_shift = 0\n",
    "    labels = \"\".join([l for l in labelmap.keys() if l != 'unlabeled'])\n",
    "    df_annot = pd.read_csv(annot_path)\n",
    "    inverse_labelmap = dict((v, k) for k, v in labelmap.items())\n",
    "    nsyls = len(labels)\n",
    "    sequences = []\n",
    "    ratios = []\n",
    "    totals = []\n",
    "    for n in range(len(rare_trans_df)):\n",
    "        stem = np.array(rare_trans_df.loc[n,['a','b']])\n",
    "        trans_n = np.array(rare_trans_df.loc[n,'trans_outcome'])\n",
    "        tot_num_event = sum(trans_n)\n",
    "        trans_p = trans_n/tot_num_event\n",
    "        max_p = max(trans_p)\n",
    "        rec_trans_p = trans_p/max_p\n",
    "        if tot_num_event >= min_count:\n",
    "            for i in range(len(rec_trans_p)):\n",
    "                if ((rec_trans_p[i] <= max_p_ratio) & (trans_n[i] > min_rare_count) & (trans_p[i] > min_p_ratio)):\n",
    "                    print('Transition added: ',stem,'to',inverse_labelmap[i+unl_shift])\n",
    "                    ratios.append(rec_trans_p[i])\n",
    "                    sequences.append(np.append(stem,inverse_labelmap[i+unl_shift]))\n",
    "                    totals.append(trans_n)\n",
    "\n",
    "    names = [Path(x).name for x in csv_df['audio_path']]\n",
    "    spect_names = [x for x in csv_df['spect_path']]\n",
    "\n",
    "    idxs = []\n",
    "    times_on=[]\n",
    "    times_off=[]\n",
    "    seq_idxs = []\n",
    "    for ind,name in enumerate(names):\n",
    "        temp_df = copy.deepcopy(df_annot[[Path(x).name == name for x in df_annot.audio_path]])\n",
    "        for seq_id,seq in enumerate(sequences):\n",
    "            onsets,offsets = seq_in_seq(np.array(temp_df.label),seq)\n",
    "            if len(onsets)>0:\n",
    "                idxs.append(ind)\n",
    "                times_on.append([temp_df['onset_s'].iloc[x-1] for x in offsets])\n",
    "                times_off.append([temp_df['offset_s'].iloc[x-1] for x in offsets])\n",
    "                seq_idxs.append(seq_id)\n",
    "                #print('seq:',seq,'in',name,':',times_on[-1])\n",
    "\n",
    "\n",
    "    # now collect frame error rate\n",
    "\n",
    "    argmax_labels = []\n",
    "    argmax_labels_maj = []\n",
    "    cnt=0\n",
    "    for idx,seq_idx,t_ons,t_offs in zip(idxs,seq_idxs,times_on,times_off):\n",
    "        #print(cnt)\n",
    "        #spect = vak.files.spect.load(str(spect_names[idx]))['s']\n",
    "        model_output = pred_dict[str(spect_names[idx])]\n",
    "        model_output = np.squeeze(model_output.cpu().numpy())\n",
    "        model_output = np.transpose(model_output,(0,2,1))\n",
    "        m_shape = np.shape(model_output)\n",
    "        model_output = model_output.reshape(m_shape[0]*m_shape[1],m_shape[2])\n",
    "        t_vec = vak.files.spect.load(str(spect_names[idx]))['t']#[0] #remember to remove [0]\n",
    "        f_vec = vak.files.spect.load(str(spect_names[idx]))['f']#[0]   \n",
    "        model_output = model_output[:len(t_vec)]\n",
    "        #import pdb\n",
    "        #pdb.set_trace()\n",
    "        #model_output_argmax = np.array([int(inverse_labelmap[(x)]) if x>0 else 0 for x in np.argmax(model_output,axis=1)])\n",
    "        model_output_argmax = np.argmax(model_output,axis=1)\n",
    "        tmp = [model_output_argmax[(t_vec >= t_on) & (t_vec <= t_off)] for t_on,t_off in zip(t_ons,t_offs)]\n",
    "        argmax_labels.append(np.concatenate(tmp))\n",
    "        tmp_maj = []\n",
    "        for t in tmp:\n",
    "            tmp_maj.append(list(Counter(t).most_common(1)[0])[0]*np.ones_like(t))\n",
    "        argmax_labels_maj.append(np.concatenate(tmp_maj))\n",
    "        \n",
    "        \n",
    "    errs_maj = []\n",
    "    errs=[]\n",
    "    ns = []\n",
    "    for i_seq,seq in enumerate(sequences):\n",
    "        ratio = ratios[i_seq]\n",
    "        label = seq[-1]\n",
    "        tmp_argmax_seq_labels = [[inverse_labelmap[y] for y in argmax_labels[x]] for x in np.where(np.array(seq_idxs) == i_seq)[0]]\n",
    "        if len(tmp_argmax_seq_labels) > 0:\n",
    "            argmax_seq_labels = np.concatenate(tmp_argmax_seq_labels)\n",
    "            print('seq:',seq,'ratio:',ratio,'err',1-np.mean(argmax_seq_labels == label),'n',totals[i_seq])\n",
    "            errs.append(1-np.mean(argmax_seq_labels == label))\n",
    "        else:\n",
    "            print('seq:',seq,'does not appear in the test set')\n",
    "            errs.append(None)\n",
    "        tmp_argmax_seq_labels = [[inverse_labelmap[y] for y in argmax_labels_maj[x]] for x in np.where(np.array(seq_idxs) == i_seq)[0]]\n",
    "        if len(tmp_argmax_seq_labels) > 0:\n",
    "            argmax_seq_labels = np.concatenate(tmp_argmax_seq_labels)\n",
    "            errs_maj.append(1-np.mean(argmax_seq_labels == label))\n",
    "            ns.append(len(argmax_seq_labels))\n",
    "        else:\n",
    "            #print('seq:',seq,'does not appear in the test set')\n",
    "            errs_maj.append(None)\n",
    "            ns.append(None)\n",
    "    outdict={'sequences':sequences, \n",
    "             'ratios':ratios, \n",
    "             'totals':totals, \n",
    "             'idxs':idxs, \n",
    "             'times_on':times_on, \n",
    "             'times_off':times_off, \n",
    "             'seq_idxs':seq_idxs,  \n",
    "             'argmax_labels':argmax_labels, \n",
    "             'argmax_labels_maj':argmax_labels_maj, \n",
    "             'errs_maj':errs_maj, \n",
    "             'errs':errs, \n",
    "             'ns':ns}    \n",
    "    return outdict"
   ]
  },
  {
   "cell_type": "code",
   "execution_count": 79,
   "id": "1798ffea-ffa6-449a-9b66-41442cacca9d",
   "metadata": {},
   "outputs": [
    {
     "name": "stderr",
     "output_type": "stream",
     "text": [
      "  0%|                                                                                           | 0/29 [00:00<?, ?it/s]"
     ]
    },
    {
     "name": "stdout",
     "output_type": "stream",
     "text": [
      "Loading checkpoint from:\n",
      "D:\\Users\\yarde\\vak_project\\BF\\hidden_size\\hidden_size_16\\gr41rd51\\results_210526_160858\\train_dur_120s\\replicate_1\\TweetyNet\\checkpoints\\max-val-acc-checkpoint.pt \n"
     ]
    },
    {
     "name": "stderr",
     "output_type": "stream",
     "text": [
      "batch 28 / 29: 100%|███████████████████████████████████████████████████████████████████| 29/29 [00:13<00:00,  2.08it/s]\n"
     ]
    },
    {
     "name": "stdout",
     "output_type": "stream",
     "text": [
      "Transition added:  ['a' 'b'] to f\n",
      "Transition added:  ['a' 'b'] to i\n",
      "Transition added:  ['c' 'd'] to i\n",
      "Transition added:  ['d' 'e'] to j\n",
      "Transition added:  ['d' 'i'] to i\n",
      "Transition added:  ['e' 'i'] to i\n",
      "Transition added:  ['i' 'i'] to a\n",
      "Transition added:  ['i' 'i'] to j\n",
      "Transition added:  ['i' 'i'] to m\n",
      "Transition added:  ['i' 'j'] to j\n"
     ]
    },
    {
     "name": "stderr",
     "output_type": "stream",
     "text": [
      "  0%|                                                                                           | 0/29 [00:00<?, ?it/s]"
     ]
    },
    {
     "name": "stdout",
     "output_type": "stream",
     "text": [
      "seq: ['a' 'b' 'f'] ratio: 0.016923076923076923 err 0.33333333333333337 n [  0.   0. 650.   1.   0.  11.   0.  26.   7.   0.   7.]\n",
      "seq: ['a' 'b' 'i'] ratio: 0.04 err 0.2990654205607477 n [  0.   0. 650.   1.   0.  11.   0.  26.   7.   0.   7.]\n",
      "seq: ['c' 'd' 'i'] ratio: 0.14817880794701987 err 0.03181818181818186 n [0.000e+00 0.000e+00 0.000e+00 0.000e+00 1.208e+03 0.000e+00 0.000e+00\n",
      " 1.790e+02 4.000e+00 1.000e+00 3.000e+00]\n",
      "seq: ['d' 'e' 'j'] ratio: 0.018518518518518517 err 0.028846153846153855 n [  6.   0.   0.   0.   0. 756.   0. 238.  14.   0.   1.]\n",
      "seq: ['d' 'i' 'i'] ratio: 0.14012738853503184 err 0.016949152542372836 n [  0.   0.   0.   0.   0.   0.   0.  22. 157.   0.   0.]\n",
      "seq: ['e' 'i' 'i'] ratio: 0.23560209424083767 err 0.020325203252032575 n [  0.   0.   0.   0.   0.   1.   0.  45. 191.   0.   1.]\n",
      "seq: ['i' 'i' 'a'] ratio: 0.05162523900573613 err 0.28378378378378377 n [5.400e+01 0.000e+00 0.000e+00 0.000e+00 0.000e+00 0.000e+00 1.000e+00\n",
      " 1.046e+03 8.100e+01 0.000e+00 1.410e+02]\n",
      "seq: ['i' 'i' 'j'] ratio: 0.0774378585086042 err 0.07843137254901966 n [5.400e+01 0.000e+00 0.000e+00 0.000e+00 0.000e+00 0.000e+00 1.000e+00\n",
      " 1.046e+03 8.100e+01 0.000e+00 1.410e+02]\n",
      "seq: ['i' 'i' 'm'] ratio: 0.13479923518164436 err 0.3949864498644986 n [5.400e+01 0.000e+00 0.000e+00 0.000e+00 0.000e+00 0.000e+00 1.000e+00\n",
      " 1.046e+03 8.100e+01 0.000e+00 1.410e+02]\n",
      "seq: ['i' 'j' 'j'] ratio: 0.02813852813852814 err 0.027027027027026973 n [  1.   0.   0.   0.   0.   0.   0.   7.  13. 462.   0.]\n",
      "Done D:\\Users\\yarde\\vak_project\\BF\\hidden_size\\hidden_size_16\\gr41rd51\\results_210526_160858\\train_dur_120s\\replicate_1\n",
      "Loading checkpoint from:\n",
      "D:\\Users\\yarde\\vak_project\\BF\\hidden_size\\hidden_size_16\\gr41rd51\\results_210526_160858\\train_dur_120s\\replicate_10\\TweetyNet\\checkpoints\\max-val-acc-checkpoint.pt \n"
     ]
    },
    {
     "name": "stderr",
     "output_type": "stream",
     "text": [
      "batch 28 / 29: 100%|███████████████████████████████████████████████████████████████████| 29/29 [00:13<00:00,  2.13it/s]\n"
     ]
    },
    {
     "name": "stdout",
     "output_type": "stream",
     "text": [
      "Transition added:  ['a' 'b'] to f\n",
      "Transition added:  ['a' 'b'] to i\n",
      "Transition added:  ['c' 'd'] to i\n",
      "Transition added:  ['d' 'e'] to j\n",
      "Transition added:  ['d' 'i'] to i\n",
      "Transition added:  ['e' 'i'] to i\n",
      "Transition added:  ['i' 'i'] to a\n",
      "Transition added:  ['i' 'i'] to j\n",
      "Transition added:  ['i' 'i'] to m\n",
      "Transition added:  ['i' 'j'] to j\n"
     ]
    },
    {
     "name": "stderr",
     "output_type": "stream",
     "text": [
      "  0%|                                                                                           | 0/29 [00:00<?, ?it/s]"
     ]
    },
    {
     "name": "stdout",
     "output_type": "stream",
     "text": [
      "seq: ['a' 'b' 'f'] ratio: 0.016923076923076923 err 1.0 n [  0.   0. 650.   1.   0.  11.   0.  26.   7.   0.   7.]\n",
      "seq: ['a' 'b' 'i'] ratio: 0.04 err 0.39252336448598135 n [  0.   0. 650.   1.   0.  11.   0.  26.   7.   0.   7.]\n",
      "seq: ['c' 'd' 'i'] ratio: 0.14817880794701987 err 0.06666666666666665 n [0.000e+00 0.000e+00 0.000e+00 0.000e+00 1.208e+03 0.000e+00 0.000e+00\n",
      " 1.790e+02 4.000e+00 1.000e+00 3.000e+00]\n",
      "seq: ['d' 'e' 'j'] ratio: 0.018518518518518517 err 0.019230769230769273 n [  6.   0.   0.   0.   0. 756.   0. 238.  14.   0.   1.]\n",
      "seq: ['d' 'i' 'i'] ratio: 0.14012738853503184 err 0.05084745762711862 n [  0.   0.   0.   0.   0.   0.   0.  22. 157.   0.   0.]\n",
      "seq: ['e' 'i' 'i'] ratio: 0.23560209424083767 err 0.028455284552845517 n [  0.   0.   0.   0.   0.   1.   0.  45. 191.   0.   1.]\n",
      "seq: ['i' 'i' 'a'] ratio: 0.05162523900573613 err 0.09459459459459463 n [5.400e+01 0.000e+00 0.000e+00 0.000e+00 0.000e+00 0.000e+00 1.000e+00\n",
      " 1.046e+03 8.100e+01 0.000e+00 1.410e+02]\n",
      "seq: ['i' 'i' 'j'] ratio: 0.0774378585086042 err 0.0490196078431373 n [5.400e+01 0.000e+00 0.000e+00 0.000e+00 0.000e+00 0.000e+00 1.000e+00\n",
      " 1.046e+03 8.100e+01 0.000e+00 1.410e+02]\n",
      "seq: ['i' 'i' 'm'] ratio: 0.13479923518164436 err 0.24254742547425479 n [5.400e+01 0.000e+00 0.000e+00 0.000e+00 0.000e+00 0.000e+00 1.000e+00\n",
      " 1.046e+03 8.100e+01 0.000e+00 1.410e+02]\n",
      "seq: ['i' 'j' 'j'] ratio: 0.02813852813852814 err 0.7567567567567568 n [  1.   0.   0.   0.   0.   0.   0.   7.  13. 462.   0.]\n",
      "Done D:\\Users\\yarde\\vak_project\\BF\\hidden_size\\hidden_size_16\\gr41rd51\\results_210526_160858\\train_dur_120s\\replicate_10\n",
      "Loading checkpoint from:\n",
      "D:\\Users\\yarde\\vak_project\\BF\\hidden_size\\hidden_size_16\\gr41rd51\\results_210526_160858\\train_dur_120s\\replicate_2\\TweetyNet\\checkpoints\\max-val-acc-checkpoint.pt \n"
     ]
    },
    {
     "name": "stderr",
     "output_type": "stream",
     "text": [
      "batch 28 / 29: 100%|███████████████████████████████████████████████████████████████████| 29/29 [00:13<00:00,  2.15it/s]\n"
     ]
    },
    {
     "name": "stdout",
     "output_type": "stream",
     "text": [
      "Transition added:  ['a' 'b'] to f\n",
      "Transition added:  ['a' 'b'] to i\n",
      "Transition added:  ['c' 'd'] to i\n",
      "Transition added:  ['d' 'e'] to j\n",
      "Transition added:  ['d' 'i'] to i\n",
      "Transition added:  ['e' 'i'] to i\n",
      "Transition added:  ['i' 'i'] to a\n",
      "Transition added:  ['i' 'i'] to j\n",
      "Transition added:  ['i' 'i'] to m\n",
      "Transition added:  ['i' 'j'] to j\n"
     ]
    },
    {
     "name": "stderr",
     "output_type": "stream",
     "text": [
      "  0%|                                                                                           | 0/29 [00:00<?, ?it/s]"
     ]
    },
    {
     "name": "stdout",
     "output_type": "stream",
     "text": [
      "seq: ['a' 'b' 'f'] ratio: 0.016923076923076923 err 0.9333333333333333 n [  0.   0. 650.   1.   0.  11.   0.  26.   7.   0.   7.]\n",
      "seq: ['a' 'b' 'i'] ratio: 0.04 err 0.28037383177570097 n [  0.   0. 650.   1.   0.  11.   0.  26.   7.   0.   7.]\n",
      "seq: ['c' 'd' 'i'] ratio: 0.14817880794701987 err 0.09848484848484851 n [0.000e+00 0.000e+00 0.000e+00 0.000e+00 1.208e+03 0.000e+00 0.000e+00\n",
      " 1.790e+02 4.000e+00 1.000e+00 3.000e+00]\n",
      "seq: ['d' 'e' 'j'] ratio: 0.018518518518518517 err 0.05769230769230771 n [  6.   0.   0.   0.   0. 756.   0. 238.  14.   0.   1.]\n",
      "seq: ['d' 'i' 'i'] ratio: 0.14012738853503184 err 0.0 n [  0.   0.   0.   0.   0.   0.   0.  22. 157.   0.   0.]\n",
      "seq: ['e' 'i' 'i'] ratio: 0.23560209424083767 err 0.03252032520325199 n [  0.   0.   0.   0.   0.   1.   0.  45. 191.   0.   1.]\n",
      "seq: ['i' 'i' 'a'] ratio: 0.05162523900573613 err 0.21283783783783783 n [5.400e+01 0.000e+00 0.000e+00 0.000e+00 0.000e+00 0.000e+00 1.000e+00\n",
      " 1.046e+03 8.100e+01 0.000e+00 1.410e+02]\n",
      "seq: ['i' 'i' 'j'] ratio: 0.0774378585086042 err 0.065359477124183 n [5.400e+01 0.000e+00 0.000e+00 0.000e+00 0.000e+00 0.000e+00 1.000e+00\n",
      " 1.046e+03 8.100e+01 0.000e+00 1.410e+02]\n",
      "seq: ['i' 'i' 'm'] ratio: 0.13479923518164436 err 0.19308943089430897 n [5.400e+01 0.000e+00 0.000e+00 0.000e+00 0.000e+00 0.000e+00 1.000e+00\n",
      " 1.046e+03 8.100e+01 0.000e+00 1.410e+02]\n",
      "seq: ['i' 'j' 'j'] ratio: 0.02813852813852814 err 0.18918918918918914 n [  1.   0.   0.   0.   0.   0.   0.   7.  13. 462.   0.]\n",
      "Done D:\\Users\\yarde\\vak_project\\BF\\hidden_size\\hidden_size_16\\gr41rd51\\results_210526_160858\\train_dur_120s\\replicate_2\n",
      "Loading checkpoint from:\n",
      "D:\\Users\\yarde\\vak_project\\BF\\hidden_size\\hidden_size_16\\gr41rd51\\results_210526_160858\\train_dur_120s\\replicate_3\\TweetyNet\\checkpoints\\max-val-acc-checkpoint.pt \n"
     ]
    },
    {
     "name": "stderr",
     "output_type": "stream",
     "text": [
      "batch 28 / 29: 100%|███████████████████████████████████████████████████████████████████| 29/29 [00:13<00:00,  2.16it/s]\n"
     ]
    },
    {
     "name": "stdout",
     "output_type": "stream",
     "text": [
      "Transition added:  ['a' 'b'] to f\n",
      "Transition added:  ['a' 'b'] to i\n",
      "Transition added:  ['c' 'd'] to i\n",
      "Transition added:  ['d' 'e'] to j\n",
      "Transition added:  ['d' 'i'] to i\n",
      "Transition added:  ['e' 'i'] to i\n",
      "Transition added:  ['i' 'i'] to a\n",
      "Transition added:  ['i' 'i'] to j\n",
      "Transition added:  ['i' 'i'] to m\n",
      "Transition added:  ['i' 'j'] to j\n"
     ]
    },
    {
     "name": "stderr",
     "output_type": "stream",
     "text": [
      "  0%|                                                                                           | 0/29 [00:00<?, ?it/s]"
     ]
    },
    {
     "name": "stdout",
     "output_type": "stream",
     "text": [
      "seq: ['a' 'b' 'f'] ratio: 0.016923076923076923 err 1.0 n [  0.   0. 650.   1.   0.  11.   0.  26.   7.   0.   7.]\n",
      "seq: ['a' 'b' 'i'] ratio: 0.04 err 0.20560747663551404 n [  0.   0. 650.   1.   0.  11.   0.  26.   7.   0.   7.]\n",
      "seq: ['c' 'd' 'i'] ratio: 0.14817880794701987 err 0.034848484848484795 n [0.000e+00 0.000e+00 0.000e+00 0.000e+00 1.208e+03 0.000e+00 0.000e+00\n",
      " 1.790e+02 4.000e+00 1.000e+00 3.000e+00]\n",
      "seq: ['d' 'e' 'j'] ratio: 0.018518518518518517 err 0.019230769230769273 n [  6.   0.   0.   0.   0. 756.   0. 238.  14.   0.   1.]\n",
      "seq: ['d' 'i' 'i'] ratio: 0.14012738853503184 err 0.016949152542372836 n [  0.   0.   0.   0.   0.   0.   0.  22. 157.   0.   0.]\n",
      "seq: ['e' 'i' 'i'] ratio: 0.23560209424083767 err 0.04471544715447151 n [  0.   0.   0.   0.   0.   1.   0.  45. 191.   0.   1.]\n",
      "seq: ['i' 'i' 'a'] ratio: 0.05162523900573613 err 0.402027027027027 n [5.400e+01 0.000e+00 0.000e+00 0.000e+00 0.000e+00 0.000e+00 1.000e+00\n",
      " 1.046e+03 8.100e+01 0.000e+00 1.410e+02]\n",
      "seq: ['i' 'i' 'j'] ratio: 0.0774378585086042 err 0.09150326797385622 n [5.400e+01 0.000e+00 0.000e+00 0.000e+00 0.000e+00 0.000e+00 1.000e+00\n",
      " 1.046e+03 8.100e+01 0.000e+00 1.410e+02]\n",
      "seq: ['i' 'i' 'm'] ratio: 0.13479923518164436 err 0.23441734417344173 n [5.400e+01 0.000e+00 0.000e+00 0.000e+00 0.000e+00 0.000e+00 1.000e+00\n",
      " 1.046e+03 8.100e+01 0.000e+00 1.410e+02]\n",
      "seq: ['i' 'j' 'j'] ratio: 0.02813852813852814 err 0.1351351351351351 n [  1.   0.   0.   0.   0.   0.   0.   7.  13. 462.   0.]\n",
      "Done D:\\Users\\yarde\\vak_project\\BF\\hidden_size\\hidden_size_16\\gr41rd51\\results_210526_160858\\train_dur_120s\\replicate_3\n",
      "Loading checkpoint from:\n",
      "D:\\Users\\yarde\\vak_project\\BF\\hidden_size\\hidden_size_16\\gr41rd51\\results_210526_160858\\train_dur_120s\\replicate_4\\TweetyNet\\checkpoints\\max-val-acc-checkpoint.pt \n"
     ]
    },
    {
     "name": "stderr",
     "output_type": "stream",
     "text": [
      "batch 28 / 29: 100%|███████████████████████████████████████████████████████████████████| 29/29 [00:13<00:00,  2.15it/s]\n"
     ]
    },
    {
     "name": "stdout",
     "output_type": "stream",
     "text": [
      "Transition added:  ['a' 'b'] to f\n",
      "Transition added:  ['a' 'b'] to i\n",
      "Transition added:  ['c' 'd'] to i\n",
      "Transition added:  ['d' 'e'] to j\n",
      "Transition added:  ['d' 'i'] to i\n",
      "Transition added:  ['e' 'i'] to i\n",
      "Transition added:  ['i' 'i'] to a\n",
      "Transition added:  ['i' 'i'] to j\n",
      "Transition added:  ['i' 'i'] to m\n",
      "Transition added:  ['i' 'j'] to j\n"
     ]
    },
    {
     "name": "stderr",
     "output_type": "stream",
     "text": [
      "  0%|                                                                                           | 0/29 [00:00<?, ?it/s]"
     ]
    },
    {
     "name": "stdout",
     "output_type": "stream",
     "text": [
      "seq: ['a' 'b' 'f'] ratio: 0.016923076923076923 err 0.9 n [  0.   0. 650.   1.   0.  11.   0.  26.   7.   0.   7.]\n",
      "seq: ['a' 'b' 'i'] ratio: 0.04 err 0.2710280373831776 n [  0.   0. 650.   1.   0.  11.   0.  26.   7.   0.   7.]\n",
      "seq: ['c' 'd' 'i'] ratio: 0.14817880794701987 err 0.10757575757575755 n [0.000e+00 0.000e+00 0.000e+00 0.000e+00 1.208e+03 0.000e+00 0.000e+00\n",
      " 1.790e+02 4.000e+00 1.000e+00 3.000e+00]\n",
      "seq: ['d' 'e' 'j'] ratio: 0.018518518518518517 err 0.028846153846153855 n [  6.   0.   0.   0.   0. 756.   0. 238.  14.   0.   1.]\n",
      "seq: ['d' 'i' 'i'] ratio: 0.14012738853503184 err 0.016949152542372836 n [  0.   0.   0.   0.   0.   0.   0.  22. 157.   0.   0.]\n",
      "seq: ['e' 'i' 'i'] ratio: 0.23560209424083767 err 0.04471544715447151 n [  0.   0.   0.   0.   0.   1.   0.  45. 191.   0.   1.]\n",
      "seq: ['i' 'i' 'a'] ratio: 0.05162523900573613 err 0.11486486486486491 n [5.400e+01 0.000e+00 0.000e+00 0.000e+00 0.000e+00 0.000e+00 1.000e+00\n",
      " 1.046e+03 8.100e+01 0.000e+00 1.410e+02]\n",
      "seq: ['i' 'i' 'j'] ratio: 0.0774378585086042 err 0.0490196078431373 n [5.400e+01 0.000e+00 0.000e+00 0.000e+00 0.000e+00 0.000e+00 1.000e+00\n",
      " 1.046e+03 8.100e+01 0.000e+00 1.410e+02]\n",
      "seq: ['i' 'i' 'm'] ratio: 0.13479923518164436 err 0.20663956639566394 n [5.400e+01 0.000e+00 0.000e+00 0.000e+00 0.000e+00 0.000e+00 1.000e+00\n",
      " 1.046e+03 8.100e+01 0.000e+00 1.410e+02]\n",
      "seq: ['i' 'j' 'j'] ratio: 0.02813852813852814 err 0.2432432432432432 n [  1.   0.   0.   0.   0.   0.   0.   7.  13. 462.   0.]\n",
      "Done D:\\Users\\yarde\\vak_project\\BF\\hidden_size\\hidden_size_16\\gr41rd51\\results_210526_160858\\train_dur_120s\\replicate_4\n",
      "Loading checkpoint from:\n",
      "D:\\Users\\yarde\\vak_project\\BF\\hidden_size\\hidden_size_16\\gr41rd51\\results_210526_160858\\train_dur_120s\\replicate_5\\TweetyNet\\checkpoints\\max-val-acc-checkpoint.pt \n"
     ]
    },
    {
     "name": "stderr",
     "output_type": "stream",
     "text": [
      "batch 28 / 29: 100%|███████████████████████████████████████████████████████████████████| 29/29 [00:13<00:00,  2.15it/s]\n"
     ]
    },
    {
     "name": "stdout",
     "output_type": "stream",
     "text": [
      "Transition added:  ['a' 'b'] to f\n",
      "Transition added:  ['a' 'b'] to i\n",
      "Transition added:  ['c' 'd'] to i\n",
      "Transition added:  ['d' 'e'] to j\n",
      "Transition added:  ['d' 'i'] to i\n",
      "Transition added:  ['e' 'i'] to i\n",
      "Transition added:  ['i' 'i'] to a\n",
      "Transition added:  ['i' 'i'] to j\n",
      "Transition added:  ['i' 'i'] to m\n",
      "Transition added:  ['i' 'j'] to j\n"
     ]
    },
    {
     "name": "stderr",
     "output_type": "stream",
     "text": [
      "  0%|                                                                                           | 0/29 [00:00<?, ?it/s]"
     ]
    },
    {
     "name": "stdout",
     "output_type": "stream",
     "text": [
      "seq: ['a' 'b' 'f'] ratio: 0.016923076923076923 err 0.7333333333333334 n [  0.   0. 650.   1.   0.  11.   0.  26.   7.   0.   7.]\n",
      "seq: ['a' 'b' 'i'] ratio: 0.04 err 0.33644859813084116 n [  0.   0. 650.   1.   0.  11.   0.  26.   7.   0.   7.]\n",
      "seq: ['c' 'd' 'i'] ratio: 0.14817880794701987 err 0.034848484848484795 n [0.000e+00 0.000e+00 0.000e+00 0.000e+00 1.208e+03 0.000e+00 0.000e+00\n",
      " 1.790e+02 4.000e+00 1.000e+00 3.000e+00]\n",
      "seq: ['d' 'e' 'j'] ratio: 0.018518518518518517 err 0.028846153846153855 n [  6.   0.   0.   0.   0. 756.   0. 238.  14.   0.   1.]\n",
      "seq: ['d' 'i' 'i'] ratio: 0.14012738853503184 err 0.016949152542372836 n [  0.   0.   0.   0.   0.   0.   0.  22. 157.   0.   0.]\n",
      "seq: ['e' 'i' 'i'] ratio: 0.23560209424083767 err 0.028455284552845517 n [  0.   0.   0.   0.   0.   1.   0.  45. 191.   0.   1.]\n",
      "seq: ['i' 'i' 'a'] ratio: 0.05162523900573613 err 0.29391891891891897 n [5.400e+01 0.000e+00 0.000e+00 0.000e+00 0.000e+00 0.000e+00 1.000e+00\n",
      " 1.046e+03 8.100e+01 0.000e+00 1.410e+02]\n",
      "seq: ['i' 'i' 'j'] ratio: 0.0774378585086042 err 0.039215686274509776 n [5.400e+01 0.000e+00 0.000e+00 0.000e+00 0.000e+00 0.000e+00 1.000e+00\n",
      " 1.046e+03 8.100e+01 0.000e+00 1.410e+02]\n",
      "seq: ['i' 'i' 'm'] ratio: 0.13479923518164436 err 0.1355013550135501 n [5.400e+01 0.000e+00 0.000e+00 0.000e+00 0.000e+00 0.000e+00 1.000e+00\n",
      " 1.046e+03 8.100e+01 0.000e+00 1.410e+02]\n",
      "seq: ['i' 'j' 'j'] ratio: 0.02813852813852814 err 0.0 n [  1.   0.   0.   0.   0.   0.   0.   7.  13. 462.   0.]\n",
      "Done D:\\Users\\yarde\\vak_project\\BF\\hidden_size\\hidden_size_16\\gr41rd51\\results_210526_160858\\train_dur_120s\\replicate_5\n",
      "Loading checkpoint from:\n",
      "D:\\Users\\yarde\\vak_project\\BF\\hidden_size\\hidden_size_16\\gr41rd51\\results_210526_160858\\train_dur_120s\\replicate_6\\TweetyNet\\checkpoints\\max-val-acc-checkpoint.pt \n"
     ]
    },
    {
     "name": "stderr",
     "output_type": "stream",
     "text": [
      "batch 28 / 29: 100%|███████████████████████████████████████████████████████████████████| 29/29 [00:13<00:00,  2.15it/s]\n"
     ]
    },
    {
     "name": "stdout",
     "output_type": "stream",
     "text": [
      "Transition added:  ['a' 'b'] to f\n",
      "Transition added:  ['a' 'b'] to i\n",
      "Transition added:  ['c' 'd'] to i\n",
      "Transition added:  ['d' 'e'] to j\n",
      "Transition added:  ['d' 'i'] to i\n",
      "Transition added:  ['e' 'i'] to i\n",
      "Transition added:  ['i' 'i'] to a\n",
      "Transition added:  ['i' 'i'] to j\n",
      "Transition added:  ['i' 'i'] to m\n",
      "Transition added:  ['i' 'j'] to j\n"
     ]
    },
    {
     "name": "stderr",
     "output_type": "stream",
     "text": [
      "  0%|                                                                                           | 0/29 [00:00<?, ?it/s]"
     ]
    },
    {
     "name": "stdout",
     "output_type": "stream",
     "text": [
      "seq: ['a' 'b' 'f'] ratio: 0.016923076923076923 err 0.7 n [  0.   0. 650.   1.   0.  11.   0.  26.   7.   0.   7.]\n",
      "seq: ['a' 'b' 'i'] ratio: 0.04 err 0.31775700934579443 n [  0.   0. 650.   1.   0.  11.   0.  26.   7.   0.   7.]\n",
      "seq: ['c' 'd' 'i'] ratio: 0.14817880794701987 err 0.040909090909090895 n [0.000e+00 0.000e+00 0.000e+00 0.000e+00 1.208e+03 0.000e+00 0.000e+00\n",
      " 1.790e+02 4.000e+00 1.000e+00 3.000e+00]\n",
      "seq: ['d' 'e' 'j'] ratio: 0.018518518518518517 err 0.009615384615384581 n [  6.   0.   0.   0.   0. 756.   0. 238.  14.   0.   1.]\n",
      "seq: ['d' 'i' 'i'] ratio: 0.14012738853503184 err 0.016949152542372836 n [  0.   0.   0.   0.   0.   0.   0.  22. 157.   0.   0.]\n",
      "seq: ['e' 'i' 'i'] ratio: 0.23560209424083767 err 0.03658536585365857 n [  0.   0.   0.   0.   0.   1.   0.  45. 191.   0.   1.]\n",
      "seq: ['i' 'i' 'a'] ratio: 0.05162523900573613 err 0.17567567567567566 n [5.400e+01 0.000e+00 0.000e+00 0.000e+00 0.000e+00 0.000e+00 1.000e+00\n",
      " 1.046e+03 8.100e+01 0.000e+00 1.410e+02]\n",
      "seq: ['i' 'i' 'j'] ratio: 0.0774378585086042 err 0.019607843137254943 n [5.400e+01 0.000e+00 0.000e+00 0.000e+00 0.000e+00 0.000e+00 1.000e+00\n",
      " 1.046e+03 8.100e+01 0.000e+00 1.410e+02]\n",
      "seq: ['i' 'i' 'm'] ratio: 0.13479923518164436 err 0.217479674796748 n [5.400e+01 0.000e+00 0.000e+00 0.000e+00 0.000e+00 0.000e+00 1.000e+00\n",
      " 1.046e+03 8.100e+01 0.000e+00 1.410e+02]\n",
      "seq: ['i' 'j' 'j'] ratio: 0.02813852813852814 err 0.21621621621621623 n [  1.   0.   0.   0.   0.   0.   0.   7.  13. 462.   0.]\n",
      "Done D:\\Users\\yarde\\vak_project\\BF\\hidden_size\\hidden_size_16\\gr41rd51\\results_210526_160858\\train_dur_120s\\replicate_6\n",
      "Loading checkpoint from:\n",
      "D:\\Users\\yarde\\vak_project\\BF\\hidden_size\\hidden_size_16\\gr41rd51\\results_210526_160858\\train_dur_120s\\replicate_7\\TweetyNet\\checkpoints\\max-val-acc-checkpoint.pt \n"
     ]
    },
    {
     "name": "stderr",
     "output_type": "stream",
     "text": [
      "batch 28 / 29: 100%|███████████████████████████████████████████████████████████████████| 29/29 [00:13<00:00,  2.15it/s]\n"
     ]
    },
    {
     "name": "stdout",
     "output_type": "stream",
     "text": [
      "Transition added:  ['a' 'b'] to f\n",
      "Transition added:  ['a' 'b'] to i\n",
      "Transition added:  ['c' 'd'] to i\n",
      "Transition added:  ['d' 'e'] to j\n",
      "Transition added:  ['d' 'i'] to i\n",
      "Transition added:  ['e' 'i'] to i\n",
      "Transition added:  ['i' 'i'] to a\n",
      "Transition added:  ['i' 'i'] to j\n",
      "Transition added:  ['i' 'i'] to m\n",
      "Transition added:  ['i' 'j'] to j\n"
     ]
    },
    {
     "name": "stderr",
     "output_type": "stream",
     "text": [
      "  0%|                                                                                           | 0/29 [00:00<?, ?it/s]"
     ]
    },
    {
     "name": "stdout",
     "output_type": "stream",
     "text": [
      "seq: ['a' 'b' 'f'] ratio: 0.016923076923076923 err 1.0 n [  0.   0. 650.   1.   0.  11.   0.  26.   7.   0.   7.]\n",
      "seq: ['a' 'b' 'i'] ratio: 0.04 err 0.3738317757009346 n [  0.   0. 650.   1.   0.  11.   0.  26.   7.   0.   7.]\n",
      "seq: ['c' 'd' 'i'] ratio: 0.14817880794701987 err 0.036363636363636376 n [0.000e+00 0.000e+00 0.000e+00 0.000e+00 1.208e+03 0.000e+00 0.000e+00\n",
      " 1.790e+02 4.000e+00 1.000e+00 3.000e+00]\n",
      "seq: ['d' 'e' 'j'] ratio: 0.018518518518518517 err 0.009615384615384581 n [  6.   0.   0.   0.   0. 756.   0. 238.  14.   0.   1.]\n",
      "seq: ['d' 'i' 'i'] ratio: 0.14012738853503184 err 0.27118644067796616 n [  0.   0.   0.   0.   0.   0.   0.  22. 157.   0.   0.]\n",
      "seq: ['e' 'i' 'i'] ratio: 0.23560209424083767 err 0.04471544715447151 n [  0.   0.   0.   0.   0.   1.   0.  45. 191.   0.   1.]\n",
      "seq: ['i' 'i' 'a'] ratio: 0.05162523900573613 err 0.19256756756756754 n [5.400e+01 0.000e+00 0.000e+00 0.000e+00 0.000e+00 0.000e+00 1.000e+00\n",
      " 1.046e+03 8.100e+01 0.000e+00 1.410e+02]\n",
      "seq: ['i' 'i' 'j'] ratio: 0.0774378585086042 err 0.0326797385620915 n [5.400e+01 0.000e+00 0.000e+00 0.000e+00 0.000e+00 0.000e+00 1.000e+00\n",
      " 1.046e+03 8.100e+01 0.000e+00 1.410e+02]\n",
      "seq: ['i' 'i' 'm'] ratio: 0.13479923518164436 err 0.21341463414634143 n [5.400e+01 0.000e+00 0.000e+00 0.000e+00 0.000e+00 0.000e+00 1.000e+00\n",
      " 1.046e+03 8.100e+01 0.000e+00 1.410e+02]\n",
      "seq: ['i' 'j' 'j'] ratio: 0.02813852813852814 err 0.7837837837837838 n [  1.   0.   0.   0.   0.   0.   0.   7.  13. 462.   0.]\n",
      "Done D:\\Users\\yarde\\vak_project\\BF\\hidden_size\\hidden_size_16\\gr41rd51\\results_210526_160858\\train_dur_120s\\replicate_7\n",
      "Loading checkpoint from:\n",
      "D:\\Users\\yarde\\vak_project\\BF\\hidden_size\\hidden_size_16\\gr41rd51\\results_210526_160858\\train_dur_120s\\replicate_8\\TweetyNet\\checkpoints\\max-val-acc-checkpoint.pt \n"
     ]
    },
    {
     "name": "stderr",
     "output_type": "stream",
     "text": [
      "batch 28 / 29: 100%|███████████████████████████████████████████████████████████████████| 29/29 [00:13<00:00,  2.14it/s]\n"
     ]
    },
    {
     "name": "stdout",
     "output_type": "stream",
     "text": [
      "Transition added:  ['a' 'b'] to f\n",
      "Transition added:  ['a' 'b'] to i\n",
      "Transition added:  ['c' 'd'] to i\n",
      "Transition added:  ['d' 'e'] to j\n",
      "Transition added:  ['d' 'i'] to i\n",
      "Transition added:  ['e' 'i'] to i\n",
      "Transition added:  ['i' 'i'] to a\n",
      "Transition added:  ['i' 'i'] to j\n",
      "Transition added:  ['i' 'i'] to m\n",
      "Transition added:  ['i' 'j'] to j\n"
     ]
    },
    {
     "name": "stderr",
     "output_type": "stream",
     "text": [
      "  0%|                                                                                           | 0/29 [00:00<?, ?it/s]"
     ]
    },
    {
     "name": "stdout",
     "output_type": "stream",
     "text": [
      "seq: ['a' 'b' 'f'] ratio: 0.016923076923076923 err 1.0 n [  0.   0. 650.   1.   0.  11.   0.  26.   7.   0.   7.]\n",
      "seq: ['a' 'b' 'i'] ratio: 0.04 err 0.30841121495327106 n [  0.   0. 650.   1.   0.  11.   0.  26.   7.   0.   7.]\n",
      "seq: ['c' 'd' 'i'] ratio: 0.14817880794701987 err 0.06212121212121213 n [0.000e+00 0.000e+00 0.000e+00 0.000e+00 1.208e+03 0.000e+00 0.000e+00\n",
      " 1.790e+02 4.000e+00 1.000e+00 3.000e+00]\n",
      "seq: ['d' 'e' 'j'] ratio: 0.018518518518518517 err 0.028846153846153855 n [  6.   0.   0.   0.   0. 756.   0. 238.  14.   0.   1.]\n",
      "seq: ['d' 'i' 'i'] ratio: 0.14012738853503184 err 0.016949152542372836 n [  0.   0.   0.   0.   0.   0.   0.  22. 157.   0.   0.]\n",
      "seq: ['e' 'i' 'i'] ratio: 0.23560209424083767 err 0.04065040650406504 n [  0.   0.   0.   0.   0.   1.   0.  45. 191.   0.   1.]\n",
      "seq: ['i' 'i' 'a'] ratio: 0.05162523900573613 err 0.33108108108108103 n [5.400e+01 0.000e+00 0.000e+00 0.000e+00 0.000e+00 0.000e+00 1.000e+00\n",
      " 1.046e+03 8.100e+01 0.000e+00 1.410e+02]\n",
      "seq: ['i' 'i' 'j'] ratio: 0.0774378585086042 err 0.0326797385620915 n [5.400e+01 0.000e+00 0.000e+00 0.000e+00 0.000e+00 0.000e+00 1.000e+00\n",
      " 1.046e+03 8.100e+01 0.000e+00 1.410e+02]\n",
      "seq: ['i' 'i' 'm'] ratio: 0.13479923518164436 err 0.1192411924119241 n [5.400e+01 0.000e+00 0.000e+00 0.000e+00 0.000e+00 0.000e+00 1.000e+00\n",
      " 1.046e+03 8.100e+01 0.000e+00 1.410e+02]\n",
      "seq: ['i' 'j' 'j'] ratio: 0.02813852813852814 err 0.0 n [  1.   0.   0.   0.   0.   0.   0.   7.  13. 462.   0.]\n",
      "Done D:\\Users\\yarde\\vak_project\\BF\\hidden_size\\hidden_size_16\\gr41rd51\\results_210526_160858\\train_dur_120s\\replicate_8\n",
      "Loading checkpoint from:\n",
      "D:\\Users\\yarde\\vak_project\\BF\\hidden_size\\hidden_size_16\\gr41rd51\\results_210526_160858\\train_dur_120s\\replicate_9\\TweetyNet\\checkpoints\\max-val-acc-checkpoint.pt \n"
     ]
    },
    {
     "name": "stderr",
     "output_type": "stream",
     "text": [
      "batch 28 / 29: 100%|███████████████████████████████████████████████████████████████████| 29/29 [00:13<00:00,  2.14it/s]\n"
     ]
    },
    {
     "name": "stdout",
     "output_type": "stream",
     "text": [
      "Transition added:  ['a' 'b'] to f\n",
      "Transition added:  ['a' 'b'] to i\n",
      "Transition added:  ['c' 'd'] to i\n",
      "Transition added:  ['d' 'e'] to j\n",
      "Transition added:  ['d' 'i'] to i\n",
      "Transition added:  ['e' 'i'] to i\n",
      "Transition added:  ['i' 'i'] to a\n",
      "Transition added:  ['i' 'i'] to j\n",
      "Transition added:  ['i' 'i'] to m\n",
      "Transition added:  ['i' 'j'] to j\n"
     ]
    },
    {
     "name": "stderr",
     "output_type": "stream",
     "text": [
      "  0%|                                                                                           | 0/29 [00:00<?, ?it/s]"
     ]
    },
    {
     "name": "stdout",
     "output_type": "stream",
     "text": [
      "seq: ['a' 'b' 'f'] ratio: 0.016923076923076923 err 1.0 n [  0.   0. 650.   1.   0.  11.   0.  26.   7.   0.   7.]\n",
      "seq: ['a' 'b' 'i'] ratio: 0.04 err 0.2710280373831776 n [  0.   0. 650.   1.   0.  11.   0.  26.   7.   0.   7.]\n",
      "seq: ['c' 'd' 'i'] ratio: 0.14817880794701987 err 0.05303030303030298 n [0.000e+00 0.000e+00 0.000e+00 0.000e+00 1.208e+03 0.000e+00 0.000e+00\n",
      " 1.790e+02 4.000e+00 1.000e+00 3.000e+00]\n",
      "seq: ['d' 'e' 'j'] ratio: 0.018518518518518517 err 0.04807692307692313 n [  6.   0.   0.   0.   0. 756.   0. 238.  14.   0.   1.]\n",
      "seq: ['d' 'i' 'i'] ratio: 0.14012738853503184 err 0.016949152542372836 n [  0.   0.   0.   0.   0.   0.   0.  22. 157.   0.   0.]\n",
      "seq: ['e' 'i' 'i'] ratio: 0.23560209424083767 err 0.04065040650406504 n [  0.   0.   0.   0.   0.   1.   0.  45. 191.   0.   1.]\n",
      "seq: ['i' 'i' 'a'] ratio: 0.05162523900573613 err 0.10810810810810811 n [5.400e+01 0.000e+00 0.000e+00 0.000e+00 0.000e+00 0.000e+00 1.000e+00\n",
      " 1.046e+03 8.100e+01 0.000e+00 1.410e+02]\n",
      "seq: ['i' 'i' 'j'] ratio: 0.0774378585086042 err 0.02941176470588236 n [5.400e+01 0.000e+00 0.000e+00 0.000e+00 0.000e+00 0.000e+00 1.000e+00\n",
      " 1.046e+03 8.100e+01 0.000e+00 1.410e+02]\n",
      "seq: ['i' 'i' 'm'] ratio: 0.13479923518164436 err 0.20460704607046065 n [5.400e+01 0.000e+00 0.000e+00 0.000e+00 0.000e+00 0.000e+00 1.000e+00\n",
      " 1.046e+03 8.100e+01 0.000e+00 1.410e+02]\n",
      "seq: ['i' 'j' 'j'] ratio: 0.02813852813852814 err 0.027027027027026973 n [  1.   0.   0.   0.   0.   0.   0.   7.  13. 462.   0.]\n",
      "Done D:\\Users\\yarde\\vak_project\\BF\\hidden_size\\hidden_size_16\\gr41rd51\\results_210526_160858\\train_dur_120s\\replicate_9\n",
      "Loading checkpoint from:\n",
      "D:\\Users\\yarde\\vak_project\\BF\\hidden_size\\hidden_size_16\\gr41rd51\\results_210526_160858\\train_dur_180s\\replicate_1\\TweetyNet\\checkpoints\\max-val-acc-checkpoint.pt \n"
     ]
    },
    {
     "name": "stderr",
     "output_type": "stream",
     "text": [
      "batch 28 / 29: 100%|███████████████████████████████████████████████████████████████████| 29/29 [00:13<00:00,  2.14it/s]\n"
     ]
    },
    {
     "name": "stdout",
     "output_type": "stream",
     "text": [
      "Transition added:  ['a' 'b'] to f\n",
      "Transition added:  ['a' 'b'] to i\n",
      "Transition added:  ['c' 'd'] to i\n",
      "Transition added:  ['d' 'e'] to j\n",
      "Transition added:  ['d' 'i'] to i\n",
      "Transition added:  ['e' 'i'] to i\n",
      "Transition added:  ['i' 'i'] to a\n",
      "Transition added:  ['i' 'i'] to j\n",
      "Transition added:  ['i' 'i'] to m\n",
      "Transition added:  ['i' 'j'] to j\n"
     ]
    },
    {
     "name": "stderr",
     "output_type": "stream",
     "text": [
      "  0%|                                                                                           | 0/29 [00:00<?, ?it/s]"
     ]
    },
    {
     "name": "stdout",
     "output_type": "stream",
     "text": [
      "seq: ['a' 'b' 'f'] ratio: 0.016923076923076923 err 0.9 n [  0.   0. 650.   1.   0.  11.   0.  26.   7.   0.   7.]\n",
      "seq: ['a' 'b' 'i'] ratio: 0.04 err 0.3271028037383178 n [  0.   0. 650.   1.   0.  11.   0.  26.   7.   0.   7.]\n",
      "seq: ['c' 'd' 'i'] ratio: 0.14817880794701987 err 0.042424242424242475 n [0.000e+00 0.000e+00 0.000e+00 0.000e+00 1.208e+03 0.000e+00 0.000e+00\n",
      " 1.790e+02 4.000e+00 1.000e+00 3.000e+00]\n",
      "seq: ['d' 'e' 'j'] ratio: 0.018518518518518517 err 0.028846153846153855 n [  6.   0.   0.   0.   0. 756.   0. 238.  14.   0.   1.]\n",
      "seq: ['d' 'i' 'i'] ratio: 0.14012738853503184 err 0.0 n [  0.   0.   0.   0.   0.   0.   0.  22. 157.   0.   0.]\n",
      "seq: ['e' 'i' 'i'] ratio: 0.23560209424083767 err 0.06504065040650409 n [  0.   0.   0.   0.   0.   1.   0.  45. 191.   0.   1.]\n",
      "seq: ['i' 'i' 'a'] ratio: 0.05162523900573613 err 0.21621621621621623 n [5.400e+01 0.000e+00 0.000e+00 0.000e+00 0.000e+00 0.000e+00 1.000e+00\n",
      " 1.046e+03 8.100e+01 0.000e+00 1.410e+02]\n",
      "seq: ['i' 'i' 'j'] ratio: 0.0774378585086042 err 0.042483660130718914 n [5.400e+01 0.000e+00 0.000e+00 0.000e+00 0.000e+00 0.000e+00 1.000e+00\n",
      " 1.046e+03 8.100e+01 0.000e+00 1.410e+02]\n",
      "seq: ['i' 'i' 'm'] ratio: 0.13479923518164436 err 0.2289972899728997 n [5.400e+01 0.000e+00 0.000e+00 0.000e+00 0.000e+00 0.000e+00 1.000e+00\n",
      " 1.046e+03 8.100e+01 0.000e+00 1.410e+02]\n",
      "seq: ['i' 'j' 'j'] ratio: 0.02813852813852814 err 0.8378378378378378 n [  1.   0.   0.   0.   0.   0.   0.   7.  13. 462.   0.]\n",
      "Done D:\\Users\\yarde\\vak_project\\BF\\hidden_size\\hidden_size_16\\gr41rd51\\results_210526_160858\\train_dur_180s\\replicate_1\n",
      "Loading checkpoint from:\n",
      "D:\\Users\\yarde\\vak_project\\BF\\hidden_size\\hidden_size_16\\gr41rd51\\results_210526_160858\\train_dur_180s\\replicate_10\\TweetyNet\\checkpoints\\max-val-acc-checkpoint.pt \n"
     ]
    },
    {
     "name": "stderr",
     "output_type": "stream",
     "text": [
      "batch 28 / 29: 100%|███████████████████████████████████████████████████████████████████| 29/29 [00:13<00:00,  2.13it/s]\n"
     ]
    },
    {
     "name": "stdout",
     "output_type": "stream",
     "text": [
      "Transition added:  ['a' 'b'] to f\n",
      "Transition added:  ['a' 'b'] to i\n",
      "Transition added:  ['c' 'd'] to i\n",
      "Transition added:  ['d' 'e'] to j\n",
      "Transition added:  ['d' 'i'] to i\n",
      "Transition added:  ['e' 'i'] to i\n",
      "Transition added:  ['i' 'i'] to a\n",
      "Transition added:  ['i' 'i'] to j\n",
      "Transition added:  ['i' 'i'] to m\n",
      "Transition added:  ['i' 'j'] to j\n"
     ]
    },
    {
     "name": "stderr",
     "output_type": "stream",
     "text": [
      "  0%|                                                                                           | 0/29 [00:00<?, ?it/s]"
     ]
    },
    {
     "name": "stdout",
     "output_type": "stream",
     "text": [
      "seq: ['a' 'b' 'f'] ratio: 0.016923076923076923 err 0.4666666666666667 n [  0.   0. 650.   1.   0.  11.   0.  26.   7.   0.   7.]\n",
      "seq: ['a' 'b' 'i'] ratio: 0.04 err 0.2429906542056075 n [  0.   0. 650.   1.   0.  11.   0.  26.   7.   0.   7.]\n",
      "seq: ['c' 'd' 'i'] ratio: 0.14817880794701987 err 0.033333333333333326 n [0.000e+00 0.000e+00 0.000e+00 0.000e+00 1.208e+03 0.000e+00 0.000e+00\n",
      " 1.790e+02 4.000e+00 1.000e+00 3.000e+00]\n",
      "seq: ['d' 'e' 'j'] ratio: 0.018518518518518517 err 0.019230769230769273 n [  6.   0.   0.   0.   0. 756.   0. 238.  14.   0.   1.]\n",
      "seq: ['d' 'i' 'i'] ratio: 0.14012738853503184 err 0.0 n [  0.   0.   0.   0.   0.   0.   0.  22. 157.   0.   0.]\n",
      "seq: ['e' 'i' 'i'] ratio: 0.23560209424083767 err 0.028455284552845517 n [  0.   0.   0.   0.   0.   1.   0.  45. 191.   0.   1.]\n",
      "seq: ['i' 'i' 'a'] ratio: 0.05162523900573613 err 0.2364864864864865 n [5.400e+01 0.000e+00 0.000e+00 0.000e+00 0.000e+00 0.000e+00 1.000e+00\n",
      " 1.046e+03 8.100e+01 0.000e+00 1.410e+02]\n",
      "seq: ['i' 'i' 'j'] ratio: 0.0774378585086042 err 0.019607843137254943 n [5.400e+01 0.000e+00 0.000e+00 0.000e+00 0.000e+00 0.000e+00 1.000e+00\n",
      " 1.046e+03 8.100e+01 0.000e+00 1.410e+02]\n",
      "seq: ['i' 'i' 'm'] ratio: 0.13479923518164436 err 0.1680216802168022 n [5.400e+01 0.000e+00 0.000e+00 0.000e+00 0.000e+00 0.000e+00 1.000e+00\n",
      " 1.046e+03 8.100e+01 0.000e+00 1.410e+02]\n",
      "seq: ['i' 'j' 'j'] ratio: 0.02813852813852814 err 0.027027027027026973 n [  1.   0.   0.   0.   0.   0.   0.   7.  13. 462.   0.]\n",
      "Done D:\\Users\\yarde\\vak_project\\BF\\hidden_size\\hidden_size_16\\gr41rd51\\results_210526_160858\\train_dur_180s\\replicate_10\n",
      "Loading checkpoint from:\n",
      "D:\\Users\\yarde\\vak_project\\BF\\hidden_size\\hidden_size_16\\gr41rd51\\results_210526_160858\\train_dur_180s\\replicate_2\\TweetyNet\\checkpoints\\max-val-acc-checkpoint.pt \n"
     ]
    },
    {
     "name": "stderr",
     "output_type": "stream",
     "text": [
      "batch 28 / 29: 100%|███████████████████████████████████████████████████████████████████| 29/29 [00:13<00:00,  2.13it/s]\n"
     ]
    },
    {
     "name": "stdout",
     "output_type": "stream",
     "text": [
      "Transition added:  ['a' 'b'] to f\n",
      "Transition added:  ['a' 'b'] to i\n",
      "Transition added:  ['c' 'd'] to i\n",
      "Transition added:  ['d' 'e'] to j\n",
      "Transition added:  ['d' 'i'] to i\n",
      "Transition added:  ['e' 'i'] to i\n",
      "Transition added:  ['i' 'i'] to a\n",
      "Transition added:  ['i' 'i'] to j\n",
      "Transition added:  ['i' 'i'] to m\n",
      "Transition added:  ['i' 'j'] to j\n"
     ]
    },
    {
     "name": "stderr",
     "output_type": "stream",
     "text": [
      "  0%|                                                                                           | 0/29 [00:00<?, ?it/s]"
     ]
    },
    {
     "name": "stdout",
     "output_type": "stream",
     "text": [
      "seq: ['a' 'b' 'f'] ratio: 0.016923076923076923 err 0.30000000000000004 n [  0.   0. 650.   1.   0.  11.   0.  26.   7.   0.   7.]\n",
      "seq: ['a' 'b' 'i'] ratio: 0.04 err 0.3457943925233645 n [  0.   0. 650.   1.   0.  11.   0.  26.   7.   0.   7.]\n",
      "seq: ['c' 'd' 'i'] ratio: 0.14817880794701987 err 0.0757575757575758 n [0.000e+00 0.000e+00 0.000e+00 0.000e+00 1.208e+03 0.000e+00 0.000e+00\n",
      " 1.790e+02 4.000e+00 1.000e+00 3.000e+00]\n",
      "seq: ['d' 'e' 'j'] ratio: 0.018518518518518517 err 0.04807692307692313 n [  6.   0.   0.   0.   0. 756.   0. 238.  14.   0.   1.]\n",
      "seq: ['d' 'i' 'i'] ratio: 0.14012738853503184 err 0.05084745762711862 n [  0.   0.   0.   0.   0.   0.   0.  22. 157.   0.   0.]\n",
      "seq: ['e' 'i' 'i'] ratio: 0.23560209424083767 err 0.04065040650406504 n [  0.   0.   0.   0.   0.   1.   0.  45. 191.   0.   1.]\n",
      "seq: ['i' 'i' 'a'] ratio: 0.05162523900573613 err 0.25 n [5.400e+01 0.000e+00 0.000e+00 0.000e+00 0.000e+00 0.000e+00 1.000e+00\n",
      " 1.046e+03 8.100e+01 0.000e+00 1.410e+02]\n",
      "seq: ['i' 'i' 'j'] ratio: 0.0774378585086042 err 0.04575163398692805 n [5.400e+01 0.000e+00 0.000e+00 0.000e+00 0.000e+00 0.000e+00 1.000e+00\n",
      " 1.046e+03 8.100e+01 0.000e+00 1.410e+02]\n",
      "seq: ['i' 'i' 'm'] ratio: 0.13479923518164436 err 0.23983739837398377 n [5.400e+01 0.000e+00 0.000e+00 0.000e+00 0.000e+00 0.000e+00 1.000e+00\n",
      " 1.046e+03 8.100e+01 0.000e+00 1.410e+02]\n",
      "seq: ['i' 'j' 'j'] ratio: 0.02813852813852814 err 0.0 n [  1.   0.   0.   0.   0.   0.   0.   7.  13. 462.   0.]\n",
      "Done D:\\Users\\yarde\\vak_project\\BF\\hidden_size\\hidden_size_16\\gr41rd51\\results_210526_160858\\train_dur_180s\\replicate_2\n",
      "Loading checkpoint from:\n",
      "D:\\Users\\yarde\\vak_project\\BF\\hidden_size\\hidden_size_16\\gr41rd51\\results_210526_160858\\train_dur_180s\\replicate_3\\TweetyNet\\checkpoints\\max-val-acc-checkpoint.pt \n"
     ]
    },
    {
     "name": "stderr",
     "output_type": "stream",
     "text": [
      "batch 28 / 29: 100%|███████████████████████████████████████████████████████████████████| 29/29 [00:13<00:00,  2.14it/s]\n"
     ]
    },
    {
     "name": "stdout",
     "output_type": "stream",
     "text": [
      "Transition added:  ['a' 'b'] to f\n",
      "Transition added:  ['a' 'b'] to i\n",
      "Transition added:  ['c' 'd'] to i\n",
      "Transition added:  ['d' 'e'] to j\n",
      "Transition added:  ['d' 'i'] to i\n",
      "Transition added:  ['e' 'i'] to i\n",
      "Transition added:  ['i' 'i'] to a\n",
      "Transition added:  ['i' 'i'] to j\n",
      "Transition added:  ['i' 'i'] to m\n",
      "Transition added:  ['i' 'j'] to j\n"
     ]
    },
    {
     "name": "stderr",
     "output_type": "stream",
     "text": [
      "  0%|                                                                                           | 0/29 [00:00<?, ?it/s]"
     ]
    },
    {
     "name": "stdout",
     "output_type": "stream",
     "text": [
      "seq: ['a' 'b' 'f'] ratio: 0.016923076923076923 err 1.0 n [  0.   0. 650.   1.   0.  11.   0.  26.   7.   0.   7.]\n",
      "seq: ['a' 'b' 'i'] ratio: 0.04 err 0.23364485981308414 n [  0.   0. 650.   1.   0.  11.   0.  26.   7.   0.   7.]\n",
      "seq: ['c' 'd' 'i'] ratio: 0.14817880794701987 err 0.028787878787878807 n [0.000e+00 0.000e+00 0.000e+00 0.000e+00 1.208e+03 0.000e+00 0.000e+00\n",
      " 1.790e+02 4.000e+00 1.000e+00 3.000e+00]\n",
      "seq: ['d' 'e' 'j'] ratio: 0.018518518518518517 err 0.028846153846153855 n [  6.   0.   0.   0.   0. 756.   0. 238.  14.   0.   1.]\n",
      "seq: ['d' 'i' 'i'] ratio: 0.14012738853503184 err 0.0 n [  0.   0.   0.   0.   0.   0.   0.  22. 157.   0.   0.]\n",
      "seq: ['e' 'i' 'i'] ratio: 0.23560209424083767 err 0.024390243902439046 n [  0.   0.   0.   0.   0.   1.   0.  45. 191.   0.   1.]\n",
      "seq: ['i' 'i' 'a'] ratio: 0.05162523900573613 err 0.25 n [5.400e+01 0.000e+00 0.000e+00 0.000e+00 0.000e+00 0.000e+00 1.000e+00\n",
      " 1.046e+03 8.100e+01 0.000e+00 1.410e+02]\n",
      "seq: ['i' 'i' 'j'] ratio: 0.0774378585086042 err 0.019607843137254943 n [5.400e+01 0.000e+00 0.000e+00 0.000e+00 0.000e+00 0.000e+00 1.000e+00\n",
      " 1.046e+03 8.100e+01 0.000e+00 1.410e+02]\n",
      "seq: ['i' 'i' 'm'] ratio: 0.13479923518164436 err 0.14092140921409213 n [5.400e+01 0.000e+00 0.000e+00 0.000e+00 0.000e+00 0.000e+00 1.000e+00\n",
      " 1.046e+03 8.100e+01 0.000e+00 1.410e+02]\n",
      "seq: ['i' 'j' 'j'] ratio: 0.02813852813852814 err 0.05405405405405406 n [  1.   0.   0.   0.   0.   0.   0.   7.  13. 462.   0.]\n",
      "Done D:\\Users\\yarde\\vak_project\\BF\\hidden_size\\hidden_size_16\\gr41rd51\\results_210526_160858\\train_dur_180s\\replicate_3\n",
      "Loading checkpoint from:\n",
      "D:\\Users\\yarde\\vak_project\\BF\\hidden_size\\hidden_size_16\\gr41rd51\\results_210526_160858\\train_dur_180s\\replicate_4\\TweetyNet\\checkpoints\\max-val-acc-checkpoint.pt \n"
     ]
    },
    {
     "name": "stderr",
     "output_type": "stream",
     "text": [
      "batch 28 / 29: 100%|███████████████████████████████████████████████████████████████████| 29/29 [00:13<00:00,  2.14it/s]\n"
     ]
    },
    {
     "name": "stdout",
     "output_type": "stream",
     "text": [
      "Transition added:  ['a' 'b'] to f\n",
      "Transition added:  ['a' 'b'] to i\n",
      "Transition added:  ['c' 'd'] to i\n",
      "Transition added:  ['d' 'e'] to j\n",
      "Transition added:  ['d' 'i'] to i\n",
      "Transition added:  ['e' 'i'] to i\n",
      "Transition added:  ['i' 'i'] to a\n",
      "Transition added:  ['i' 'i'] to j\n",
      "Transition added:  ['i' 'i'] to m\n",
      "Transition added:  ['i' 'j'] to j\n"
     ]
    },
    {
     "name": "stderr",
     "output_type": "stream",
     "text": [
      "  0%|                                                                                           | 0/29 [00:00<?, ?it/s]"
     ]
    },
    {
     "name": "stdout",
     "output_type": "stream",
     "text": [
      "seq: ['a' 'b' 'f'] ratio: 0.016923076923076923 err 0.23333333333333328 n [  0.   0. 650.   1.   0.  11.   0.  26.   7.   0.   7.]\n",
      "seq: ['a' 'b' 'i'] ratio: 0.04 err 0.05607476635514019 n [  0.   0. 650.   1.   0.  11.   0.  26.   7.   0.   7.]\n",
      "seq: ['c' 'd' 'i'] ratio: 0.14817880794701987 err 0.022727272727272707 n [0.000e+00 0.000e+00 0.000e+00 0.000e+00 1.208e+03 0.000e+00 0.000e+00\n",
      " 1.790e+02 4.000e+00 1.000e+00 3.000e+00]\n",
      "seq: ['d' 'e' 'j'] ratio: 0.018518518518518517 err 0.019230769230769273 n [  6.   0.   0.   0.   0. 756.   0. 238.  14.   0.   1.]\n",
      "seq: ['d' 'i' 'i'] ratio: 0.14012738853503184 err 0.016949152542372836 n [  0.   0.   0.   0.   0.   0.   0.  22. 157.   0.   0.]\n",
      "seq: ['e' 'i' 'i'] ratio: 0.23560209424083767 err 0.024390243902439046 n [  0.   0.   0.   0.   0.   1.   0.  45. 191.   0.   1.]\n",
      "seq: ['i' 'i' 'a'] ratio: 0.05162523900573613 err 0.2567567567567568 n [5.400e+01 0.000e+00 0.000e+00 0.000e+00 0.000e+00 0.000e+00 1.000e+00\n",
      " 1.046e+03 8.100e+01 0.000e+00 1.410e+02]\n",
      "seq: ['i' 'i' 'j'] ratio: 0.0774378585086042 err 0.065359477124183 n [5.400e+01 0.000e+00 0.000e+00 0.000e+00 0.000e+00 0.000e+00 1.000e+00\n",
      " 1.046e+03 8.100e+01 0.000e+00 1.410e+02]\n",
      "seq: ['i' 'i' 'm'] ratio: 0.13479923518164436 err 0.3692411924119241 n [5.400e+01 0.000e+00 0.000e+00 0.000e+00 0.000e+00 0.000e+00 1.000e+00\n",
      " 1.046e+03 8.100e+01 0.000e+00 1.410e+02]\n",
      "seq: ['i' 'j' 'j'] ratio: 0.02813852813852814 err 0.0 n [  1.   0.   0.   0.   0.   0.   0.   7.  13. 462.   0.]\n",
      "Done D:\\Users\\yarde\\vak_project\\BF\\hidden_size\\hidden_size_16\\gr41rd51\\results_210526_160858\\train_dur_180s\\replicate_4\n",
      "Loading checkpoint from:\n",
      "D:\\Users\\yarde\\vak_project\\BF\\hidden_size\\hidden_size_16\\gr41rd51\\results_210526_160858\\train_dur_180s\\replicate_5\\TweetyNet\\checkpoints\\max-val-acc-checkpoint.pt \n"
     ]
    },
    {
     "name": "stderr",
     "output_type": "stream",
     "text": [
      "batch 28 / 29: 100%|███████████████████████████████████████████████████████████████████| 29/29 [00:13<00:00,  2.14it/s]\n"
     ]
    },
    {
     "name": "stdout",
     "output_type": "stream",
     "text": [
      "Transition added:  ['a' 'b'] to f\n",
      "Transition added:  ['a' 'b'] to i\n",
      "Transition added:  ['c' 'd'] to i\n",
      "Transition added:  ['d' 'e'] to j\n",
      "Transition added:  ['d' 'i'] to i\n",
      "Transition added:  ['e' 'i'] to i\n",
      "Transition added:  ['i' 'i'] to a\n",
      "Transition added:  ['i' 'i'] to j\n",
      "Transition added:  ['i' 'i'] to m\n",
      "Transition added:  ['i' 'j'] to j\n"
     ]
    },
    {
     "name": "stderr",
     "output_type": "stream",
     "text": [
      "  0%|                                                                                           | 0/29 [00:00<?, ?it/s]"
     ]
    },
    {
     "name": "stdout",
     "output_type": "stream",
     "text": [
      "seq: ['a' 'b' 'f'] ratio: 0.016923076923076923 err 0.7666666666666666 n [  0.   0. 650.   1.   0.  11.   0.  26.   7.   0.   7.]\n",
      "seq: ['a' 'b' 'i'] ratio: 0.04 err 0.19626168224299068 n [  0.   0. 650.   1.   0.  11.   0.  26.   7.   0.   7.]\n",
      "seq: ['c' 'd' 'i'] ratio: 0.14817880794701987 err 0.07424242424242422 n [0.000e+00 0.000e+00 0.000e+00 0.000e+00 1.208e+03 0.000e+00 0.000e+00\n",
      " 1.790e+02 4.000e+00 1.000e+00 3.000e+00]\n",
      "seq: ['d' 'e' 'j'] ratio: 0.018518518518518517 err 0.009615384615384581 n [  6.   0.   0.   0.   0. 756.   0. 238.  14.   0.   1.]\n",
      "seq: ['d' 'i' 'i'] ratio: 0.14012738853503184 err 0.0 n [  0.   0.   0.   0.   0.   0.   0.  22. 157.   0.   0.]\n",
      "seq: ['e' 'i' 'i'] ratio: 0.23560209424083767 err 0.060975609756097615 n [  0.   0.   0.   0.   0.   1.   0.  45. 191.   0.   1.]\n",
      "seq: ['i' 'i' 'a'] ratio: 0.05162523900573613 err 0.027027027027026973 n [5.400e+01 0.000e+00 0.000e+00 0.000e+00 0.000e+00 0.000e+00 1.000e+00\n",
      " 1.046e+03 8.100e+01 0.000e+00 1.410e+02]\n",
      "seq: ['i' 'i' 'j'] ratio: 0.0774378585086042 err 0.05228758169934644 n [5.400e+01 0.000e+00 0.000e+00 0.000e+00 0.000e+00 0.000e+00 1.000e+00\n",
      " 1.046e+03 8.100e+01 0.000e+00 1.410e+02]\n",
      "seq: ['i' 'i' 'm'] ratio: 0.13479923518164436 err 0.3062330623306233 n [5.400e+01 0.000e+00 0.000e+00 0.000e+00 0.000e+00 0.000e+00 1.000e+00\n",
      " 1.046e+03 8.100e+01 0.000e+00 1.410e+02]\n",
      "seq: ['i' 'j' 'j'] ratio: 0.02813852813852814 err 0.1351351351351351 n [  1.   0.   0.   0.   0.   0.   0.   7.  13. 462.   0.]\n",
      "Done D:\\Users\\yarde\\vak_project\\BF\\hidden_size\\hidden_size_16\\gr41rd51\\results_210526_160858\\train_dur_180s\\replicate_5\n",
      "Loading checkpoint from:\n",
      "D:\\Users\\yarde\\vak_project\\BF\\hidden_size\\hidden_size_16\\gr41rd51\\results_210526_160858\\train_dur_180s\\replicate_6\\TweetyNet\\checkpoints\\max-val-acc-checkpoint.pt \n"
     ]
    },
    {
     "name": "stderr",
     "output_type": "stream",
     "text": [
      "batch 28 / 29: 100%|███████████████████████████████████████████████████████████████████| 29/29 [00:13<00:00,  2.14it/s]\n"
     ]
    },
    {
     "name": "stdout",
     "output_type": "stream",
     "text": [
      "Transition added:  ['a' 'b'] to f\n",
      "Transition added:  ['a' 'b'] to i\n",
      "Transition added:  ['c' 'd'] to i\n",
      "Transition added:  ['d' 'e'] to j\n",
      "Transition added:  ['d' 'i'] to i\n",
      "Transition added:  ['e' 'i'] to i\n",
      "Transition added:  ['i' 'i'] to a\n",
      "Transition added:  ['i' 'i'] to j\n",
      "Transition added:  ['i' 'i'] to m\n",
      "Transition added:  ['i' 'j'] to j\n"
     ]
    },
    {
     "name": "stderr",
     "output_type": "stream",
     "text": [
      "  0%|                                                                                           | 0/29 [00:00<?, ?it/s]"
     ]
    },
    {
     "name": "stdout",
     "output_type": "stream",
     "text": [
      "seq: ['a' 'b' 'f'] ratio: 0.016923076923076923 err 0.3666666666666667 n [  0.   0. 650.   1.   0.  11.   0.  26.   7.   0.   7.]\n",
      "seq: ['a' 'b' 'i'] ratio: 0.04 err 0.3271028037383178 n [  0.   0. 650.   1.   0.  11.   0.  26.   7.   0.   7.]\n",
      "seq: ['c' 'd' 'i'] ratio: 0.14817880794701987 err 0.037878787878787845 n [0.000e+00 0.000e+00 0.000e+00 0.000e+00 1.208e+03 0.000e+00 0.000e+00\n",
      " 1.790e+02 4.000e+00 1.000e+00 3.000e+00]\n",
      "seq: ['d' 'e' 'j'] ratio: 0.018518518518518517 err 0.04807692307692313 n [  6.   0.   0.   0.   0. 756.   0. 238.  14.   0.   1.]\n",
      "seq: ['d' 'i' 'i'] ratio: 0.14012738853503184 err 0.016949152542372836 n [  0.   0.   0.   0.   0.   0.   0.  22. 157.   0.   0.]\n",
      "seq: ['e' 'i' 'i'] ratio: 0.23560209424083767 err 0.05284552845528456 n [  0.   0.   0.   0.   0.   1.   0.  45. 191.   0.   1.]\n",
      "seq: ['i' 'i' 'a'] ratio: 0.05162523900573613 err 0.18243243243243246 n [5.400e+01 0.000e+00 0.000e+00 0.000e+00 0.000e+00 0.000e+00 1.000e+00\n",
      " 1.046e+03 8.100e+01 0.000e+00 1.410e+02]\n",
      "seq: ['i' 'i' 'j'] ratio: 0.0774378585086042 err 0.05228758169934644 n [5.400e+01 0.000e+00 0.000e+00 0.000e+00 0.000e+00 0.000e+00 1.000e+00\n",
      " 1.046e+03 8.100e+01 0.000e+00 1.410e+02]\n",
      "seq: ['i' 'i' 'm'] ratio: 0.13479923518164436 err 0.15582655826558267 n [5.400e+01 0.000e+00 0.000e+00 0.000e+00 0.000e+00 0.000e+00 1.000e+00\n",
      " 1.046e+03 8.100e+01 0.000e+00 1.410e+02]\n",
      "seq: ['i' 'j' 'j'] ratio: 0.02813852813852814 err 0.2432432432432432 n [  1.   0.   0.   0.   0.   0.   0.   7.  13. 462.   0.]\n",
      "Done D:\\Users\\yarde\\vak_project\\BF\\hidden_size\\hidden_size_16\\gr41rd51\\results_210526_160858\\train_dur_180s\\replicate_6\n",
      "Loading checkpoint from:\n",
      "D:\\Users\\yarde\\vak_project\\BF\\hidden_size\\hidden_size_16\\gr41rd51\\results_210526_160858\\train_dur_180s\\replicate_7\\TweetyNet\\checkpoints\\max-val-acc-checkpoint.pt \n"
     ]
    },
    {
     "name": "stderr",
     "output_type": "stream",
     "text": [
      "batch 28 / 29: 100%|███████████████████████████████████████████████████████████████████| 29/29 [00:13<00:00,  2.13it/s]\n"
     ]
    },
    {
     "name": "stdout",
     "output_type": "stream",
     "text": [
      "Transition added:  ['a' 'b'] to f\n",
      "Transition added:  ['a' 'b'] to i\n",
      "Transition added:  ['c' 'd'] to i\n",
      "Transition added:  ['d' 'e'] to j\n",
      "Transition added:  ['d' 'i'] to i\n",
      "Transition added:  ['e' 'i'] to i\n",
      "Transition added:  ['i' 'i'] to a\n",
      "Transition added:  ['i' 'i'] to j\n",
      "Transition added:  ['i' 'i'] to m\n",
      "Transition added:  ['i' 'j'] to j\n"
     ]
    },
    {
     "name": "stderr",
     "output_type": "stream",
     "text": [
      "  0%|                                                                                           | 0/29 [00:00<?, ?it/s]"
     ]
    },
    {
     "name": "stdout",
     "output_type": "stream",
     "text": [
      "seq: ['a' 'b' 'f'] ratio: 0.016923076923076923 err 1.0 n [  0.   0. 650.   1.   0.  11.   0.  26.   7.   0.   7.]\n",
      "seq: ['a' 'b' 'i'] ratio: 0.04 err 0.23364485981308414 n [  0.   0. 650.   1.   0.  11.   0.  26.   7.   0.   7.]\n",
      "seq: ['c' 'd' 'i'] ratio: 0.14817880794701987 err 0.09848484848484851 n [0.000e+00 0.000e+00 0.000e+00 0.000e+00 1.208e+03 0.000e+00 0.000e+00\n",
      " 1.790e+02 4.000e+00 1.000e+00 3.000e+00]\n",
      "seq: ['d' 'e' 'j'] ratio: 0.018518518518518517 err 0.028846153846153855 n [  6.   0.   0.   0.   0. 756.   0. 238.  14.   0.   1.]\n",
      "seq: ['d' 'i' 'i'] ratio: 0.14012738853503184 err 0.44067796610169496 n [  0.   0.   0.   0.   0.   0.   0.  22. 157.   0.   0.]\n",
      "seq: ['e' 'i' 'i'] ratio: 0.23560209424083767 err 0.028455284552845517 n [  0.   0.   0.   0.   0.   1.   0.  45. 191.   0.   1.]\n",
      "seq: ['i' 'i' 'a'] ratio: 0.05162523900573613 err 0.030405405405405372 n [5.400e+01 0.000e+00 0.000e+00 0.000e+00 0.000e+00 0.000e+00 1.000e+00\n",
      " 1.046e+03 8.100e+01 0.000e+00 1.410e+02]\n",
      "seq: ['i' 'i' 'j'] ratio: 0.0774378585086042 err 0.039215686274509776 n [5.400e+01 0.000e+00 0.000e+00 0.000e+00 0.000e+00 0.000e+00 1.000e+00\n",
      " 1.046e+03 8.100e+01 0.000e+00 1.410e+02]\n",
      "seq: ['i' 'i' 'm'] ratio: 0.13479923518164436 err 0.1565040650406504 n [5.400e+01 0.000e+00 0.000e+00 0.000e+00 0.000e+00 0.000e+00 1.000e+00\n",
      " 1.046e+03 8.100e+01 0.000e+00 1.410e+02]\n",
      "seq: ['i' 'j' 'j'] ratio: 0.02813852813852814 err 0.08108108108108103 n [  1.   0.   0.   0.   0.   0.   0.   7.  13. 462.   0.]\n",
      "Done D:\\Users\\yarde\\vak_project\\BF\\hidden_size\\hidden_size_16\\gr41rd51\\results_210526_160858\\train_dur_180s\\replicate_7\n",
      "Loading checkpoint from:\n",
      "D:\\Users\\yarde\\vak_project\\BF\\hidden_size\\hidden_size_16\\gr41rd51\\results_210526_160858\\train_dur_180s\\replicate_8\\TweetyNet\\checkpoints\\max-val-acc-checkpoint.pt \n"
     ]
    },
    {
     "name": "stderr",
     "output_type": "stream",
     "text": [
      "batch 28 / 29: 100%|███████████████████████████████████████████████████████████████████| 29/29 [00:13<00:00,  2.15it/s]\n"
     ]
    },
    {
     "name": "stdout",
     "output_type": "stream",
     "text": [
      "Transition added:  ['a' 'b'] to f\n",
      "Transition added:  ['a' 'b'] to i\n",
      "Transition added:  ['c' 'd'] to i\n",
      "Transition added:  ['d' 'e'] to j\n",
      "Transition added:  ['d' 'i'] to i\n",
      "Transition added:  ['e' 'i'] to i\n",
      "Transition added:  ['i' 'i'] to a\n",
      "Transition added:  ['i' 'i'] to j\n",
      "Transition added:  ['i' 'i'] to m\n",
      "Transition added:  ['i' 'j'] to j\n"
     ]
    },
    {
     "name": "stderr",
     "output_type": "stream",
     "text": [
      "  0%|                                                                                           | 0/29 [00:00<?, ?it/s]"
     ]
    },
    {
     "name": "stdout",
     "output_type": "stream",
     "text": [
      "seq: ['a' 'b' 'f'] ratio: 0.016923076923076923 err 0.23333333333333328 n [  0.   0. 650.   1.   0.  11.   0.  26.   7.   0.   7.]\n",
      "seq: ['a' 'b' 'i'] ratio: 0.04 err 0.30841121495327106 n [  0.   0. 650.   1.   0.  11.   0.  26.   7.   0.   7.]\n",
      "seq: ['c' 'd' 'i'] ratio: 0.14817880794701987 err 0.051515151515151514 n [0.000e+00 0.000e+00 0.000e+00 0.000e+00 1.208e+03 0.000e+00 0.000e+00\n",
      " 1.790e+02 4.000e+00 1.000e+00 3.000e+00]\n",
      "seq: ['d' 'e' 'j'] ratio: 0.018518518518518517 err 0.028846153846153855 n [  6.   0.   0.   0.   0. 756.   0. 238.  14.   0.   1.]\n",
      "seq: ['d' 'i' 'i'] ratio: 0.14012738853503184 err 0.0 n [  0.   0.   0.   0.   0.   0.   0.  22. 157.   0.   0.]\n",
      "seq: ['e' 'i' 'i'] ratio: 0.23560209424083767 err 0.03658536585365857 n [  0.   0.   0.   0.   0.   1.   0.  45. 191.   0.   1.]\n",
      "seq: ['i' 'i' 'a'] ratio: 0.05162523900573613 err 0.14527027027027029 n [5.400e+01 0.000e+00 0.000e+00 0.000e+00 0.000e+00 0.000e+00 1.000e+00\n",
      " 1.046e+03 8.100e+01 0.000e+00 1.410e+02]\n",
      "seq: ['i' 'i' 'j'] ratio: 0.0774378585086042 err 0.019607843137254943 n [5.400e+01 0.000e+00 0.000e+00 0.000e+00 0.000e+00 0.000e+00 1.000e+00\n",
      " 1.046e+03 8.100e+01 0.000e+00 1.410e+02]\n",
      "seq: ['i' 'i' 'm'] ratio: 0.13479923518164436 err 0.263550135501355 n [5.400e+01 0.000e+00 0.000e+00 0.000e+00 0.000e+00 0.000e+00 1.000e+00\n",
      " 1.046e+03 8.100e+01 0.000e+00 1.410e+02]\n",
      "seq: ['i' 'j' 'j'] ratio: 0.02813852813852814 err 0.0 n [  1.   0.   0.   0.   0.   0.   0.   7.  13. 462.   0.]\n",
      "Done D:\\Users\\yarde\\vak_project\\BF\\hidden_size\\hidden_size_16\\gr41rd51\\results_210526_160858\\train_dur_180s\\replicate_8\n",
      "Loading checkpoint from:\n",
      "D:\\Users\\yarde\\vak_project\\BF\\hidden_size\\hidden_size_16\\gr41rd51\\results_210526_160858\\train_dur_180s\\replicate_9\\TweetyNet\\checkpoints\\max-val-acc-checkpoint.pt \n"
     ]
    },
    {
     "name": "stderr",
     "output_type": "stream",
     "text": [
      "batch 28 / 29: 100%|███████████████████████████████████████████████████████████████████| 29/29 [00:13<00:00,  2.14it/s]\n"
     ]
    },
    {
     "name": "stdout",
     "output_type": "stream",
     "text": [
      "Transition added:  ['a' 'b'] to f\n",
      "Transition added:  ['a' 'b'] to i\n",
      "Transition added:  ['c' 'd'] to i\n",
      "Transition added:  ['d' 'e'] to j\n",
      "Transition added:  ['d' 'i'] to i\n",
      "Transition added:  ['e' 'i'] to i\n",
      "Transition added:  ['i' 'i'] to a\n",
      "Transition added:  ['i' 'i'] to j\n",
      "Transition added:  ['i' 'i'] to m\n",
      "Transition added:  ['i' 'j'] to j\n"
     ]
    },
    {
     "name": "stderr",
     "output_type": "stream",
     "text": [
      "  0%|                                                                                           | 0/29 [00:00<?, ?it/s]"
     ]
    },
    {
     "name": "stdout",
     "output_type": "stream",
     "text": [
      "seq: ['a' 'b' 'f'] ratio: 0.016923076923076923 err 1.0 n [  0.   0. 650.   1.   0.  11.   0.  26.   7.   0.   7.]\n",
      "seq: ['a' 'b' 'i'] ratio: 0.04 err 0.09345794392523366 n [  0.   0. 650.   1.   0.  11.   0.  26.   7.   0.   7.]\n",
      "seq: ['c' 'd' 'i'] ratio: 0.14817880794701987 err 0.039393939393939426 n [0.000e+00 0.000e+00 0.000e+00 0.000e+00 1.208e+03 0.000e+00 0.000e+00\n",
      " 1.790e+02 4.000e+00 1.000e+00 3.000e+00]\n",
      "seq: ['d' 'e' 'j'] ratio: 0.018518518518518517 err 0.04807692307692313 n [  6.   0.   0.   0.   0. 756.   0. 238.  14.   0.   1.]\n",
      "seq: ['d' 'i' 'i'] ratio: 0.14012738853503184 err 0.0 n [  0.   0.   0.   0.   0.   0.   0.  22. 157.   0.   0.]\n",
      "seq: ['e' 'i' 'i'] ratio: 0.23560209424083767 err 0.07317073170731703 n [  0.   0.   0.   0.   0.   1.   0.  45. 191.   0.   1.]\n",
      "seq: ['i' 'i' 'a'] ratio: 0.05162523900573613 err 0.17229729729729726 n [5.400e+01 0.000e+00 0.000e+00 0.000e+00 0.000e+00 0.000e+00 1.000e+00\n",
      " 1.046e+03 8.100e+01 0.000e+00 1.410e+02]\n",
      "seq: ['i' 'i' 'j'] ratio: 0.0774378585086042 err 0.03594771241830064 n [5.400e+01 0.000e+00 0.000e+00 0.000e+00 0.000e+00 0.000e+00 1.000e+00\n",
      " 1.046e+03 8.100e+01 0.000e+00 1.410e+02]\n",
      "seq: ['i' 'i' 'm'] ratio: 0.13479923518164436 err 0.3082655826558266 n [5.400e+01 0.000e+00 0.000e+00 0.000e+00 0.000e+00 0.000e+00 1.000e+00\n",
      " 1.046e+03 8.100e+01 0.000e+00 1.410e+02]\n",
      "seq: ['i' 'j' 'j'] ratio: 0.02813852813852814 err 0.18918918918918914 n [  1.   0.   0.   0.   0.   0.   0.   7.  13. 462.   0.]\n",
      "Done D:\\Users\\yarde\\vak_project\\BF\\hidden_size\\hidden_size_16\\gr41rd51\\results_210526_160858\\train_dur_180s\\replicate_9\n",
      "Loading checkpoint from:\n",
      "D:\\Users\\yarde\\vak_project\\BF\\hidden_size\\hidden_size_16\\gr41rd51\\results_210526_160858\\train_dur_30s\\replicate_1\\TweetyNet\\checkpoints\\max-val-acc-checkpoint.pt \n"
     ]
    },
    {
     "name": "stderr",
     "output_type": "stream",
     "text": [
      "batch 28 / 29: 100%|███████████████████████████████████████████████████████████████████| 29/29 [00:13<00:00,  2.14it/s]\n"
     ]
    },
    {
     "name": "stdout",
     "output_type": "stream",
     "text": [
      "Transition added:  ['a' 'b'] to f\n",
      "Transition added:  ['a' 'b'] to i\n",
      "Transition added:  ['c' 'd'] to i\n",
      "Transition added:  ['d' 'e'] to j\n",
      "Transition added:  ['d' 'i'] to i\n",
      "Transition added:  ['e' 'i'] to i\n",
      "Transition added:  ['i' 'i'] to a\n",
      "Transition added:  ['i' 'i'] to j\n",
      "Transition added:  ['i' 'i'] to m\n",
      "Transition added:  ['i' 'j'] to j\n"
     ]
    },
    {
     "name": "stderr",
     "output_type": "stream",
     "text": [
      "  0%|                                                                                           | 0/29 [00:00<?, ?it/s]"
     ]
    },
    {
     "name": "stdout",
     "output_type": "stream",
     "text": [
      "seq: ['a' 'b' 'f'] ratio: 0.016923076923076923 err 1.0 n [  0.   0. 650.   1.   0.  11.   0.  26.   7.   0.   7.]\n",
      "seq: ['a' 'b' 'i'] ratio: 0.04 err 0.36448598130841126 n [  0.   0. 650.   1.   0.  11.   0.  26.   7.   0.   7.]\n",
      "seq: ['c' 'd' 'i'] ratio: 0.14817880794701987 err 0.23030303030303034 n [0.000e+00 0.000e+00 0.000e+00 0.000e+00 1.208e+03 0.000e+00 0.000e+00\n",
      " 1.790e+02 4.000e+00 1.000e+00 3.000e+00]\n",
      "seq: ['d' 'e' 'j'] ratio: 0.018518518518518517 err 0.05769230769230771 n [  6.   0.   0.   0.   0. 756.   0. 238.  14.   0.   1.]\n",
      "seq: ['d' 'i' 'i'] ratio: 0.14012738853503184 err 0.11864406779661019 n [  0.   0.   0.   0.   0.   0.   0.  22. 157.   0.   0.]\n",
      "seq: ['e' 'i' 'i'] ratio: 0.23560209424083767 err 0.15040650406504064 n [  0.   0.   0.   0.   0.   1.   0.  45. 191.   0.   1.]\n",
      "seq: ['i' 'i' 'a'] ratio: 0.05162523900573613 err 0.3986486486486487 n [5.400e+01 0.000e+00 0.000e+00 0.000e+00 0.000e+00 0.000e+00 1.000e+00\n",
      " 1.046e+03 8.100e+01 0.000e+00 1.410e+02]\n",
      "seq: ['i' 'i' 'j'] ratio: 0.0774378585086042 err 0.1633986928104575 n [5.400e+01 0.000e+00 0.000e+00 0.000e+00 0.000e+00 0.000e+00 1.000e+00\n",
      " 1.046e+03 8.100e+01 0.000e+00 1.410e+02]\n",
      "seq: ['i' 'i' 'm'] ratio: 0.13479923518164436 err 0.46612466124661245 n [5.400e+01 0.000e+00 0.000e+00 0.000e+00 0.000e+00 0.000e+00 1.000e+00\n",
      " 1.046e+03 8.100e+01 0.000e+00 1.410e+02]\n",
      "seq: ['i' 'j' 'j'] ratio: 0.02813852813852814 err 0.2702702702702703 n [  1.   0.   0.   0.   0.   0.   0.   7.  13. 462.   0.]\n",
      "Done D:\\Users\\yarde\\vak_project\\BF\\hidden_size\\hidden_size_16\\gr41rd51\\results_210526_160858\\train_dur_30s\\replicate_1\n",
      "Loading checkpoint from:\n",
      "D:\\Users\\yarde\\vak_project\\BF\\hidden_size\\hidden_size_16\\gr41rd51\\results_210526_160858\\train_dur_30s\\replicate_10\\TweetyNet\\checkpoints\\max-val-acc-checkpoint.pt \n"
     ]
    },
    {
     "name": "stderr",
     "output_type": "stream",
     "text": [
      "batch 28 / 29: 100%|███████████████████████████████████████████████████████████████████| 29/29 [00:13<00:00,  2.13it/s]\n"
     ]
    },
    {
     "name": "stdout",
     "output_type": "stream",
     "text": [
      "Transition added:  ['a' 'b'] to f\n",
      "Transition added:  ['a' 'b'] to i\n",
      "Transition added:  ['c' 'd'] to i\n",
      "Transition added:  ['d' 'e'] to j\n",
      "Transition added:  ['d' 'i'] to i\n",
      "Transition added:  ['e' 'i'] to i\n",
      "Transition added:  ['i' 'i'] to a\n",
      "Transition added:  ['i' 'i'] to j\n",
      "Transition added:  ['i' 'i'] to m\n",
      "Transition added:  ['i' 'j'] to j\n"
     ]
    },
    {
     "name": "stderr",
     "output_type": "stream",
     "text": [
      "  0%|                                                                                           | 0/29 [00:00<?, ?it/s]"
     ]
    },
    {
     "name": "stdout",
     "output_type": "stream",
     "text": [
      "seq: ['a' 'b' 'f'] ratio: 0.016923076923076923 err 0.8666666666666667 n [  0.   0. 650.   1.   0.  11.   0.  26.   7.   0.   7.]\n",
      "seq: ['a' 'b' 'i'] ratio: 0.04 err 0.3551401869158879 n [  0.   0. 650.   1.   0.  11.   0.  26.   7.   0.   7.]\n",
      "seq: ['c' 'd' 'i'] ratio: 0.14817880794701987 err 0.2681818181818182 n [0.000e+00 0.000e+00 0.000e+00 0.000e+00 1.208e+03 0.000e+00 0.000e+00\n",
      " 1.790e+02 4.000e+00 1.000e+00 3.000e+00]\n",
      "seq: ['d' 'e' 'j'] ratio: 0.018518518518518517 err 0.04807692307692313 n [  6.   0.   0.   0.   0. 756.   0. 238.  14.   0.   1.]\n",
      "seq: ['d' 'i' 'i'] ratio: 0.14012738853503184 err 0.03389830508474578 n [  0.   0.   0.   0.   0.   0.   0.  22. 157.   0.   0.]\n",
      "seq: ['e' 'i' 'i'] ratio: 0.23560209424083767 err 0.0934959349593496 n [  0.   0.   0.   0.   0.   1.   0.  45. 191.   0.   1.]\n",
      "seq: ['i' 'i' 'a'] ratio: 0.05162523900573613 err 0.32432432432432434 n [5.400e+01 0.000e+00 0.000e+00 0.000e+00 0.000e+00 0.000e+00 1.000e+00\n",
      " 1.046e+03 8.100e+01 0.000e+00 1.410e+02]\n",
      "seq: ['i' 'i' 'j'] ratio: 0.0774378585086042 err 0.12418300653594772 n [5.400e+01 0.000e+00 0.000e+00 0.000e+00 0.000e+00 0.000e+00 1.000e+00\n",
      " 1.046e+03 8.100e+01 0.000e+00 1.410e+02]\n",
      "seq: ['i' 'i' 'm'] ratio: 0.13479923518164436 err 0.2405149051490515 n [5.400e+01 0.000e+00 0.000e+00 0.000e+00 0.000e+00 0.000e+00 1.000e+00\n",
      " 1.046e+03 8.100e+01 0.000e+00 1.410e+02]\n",
      "seq: ['i' 'j' 'j'] ratio: 0.02813852813852814 err 1.0 n [  1.   0.   0.   0.   0.   0.   0.   7.  13. 462.   0.]\n",
      "Done D:\\Users\\yarde\\vak_project\\BF\\hidden_size\\hidden_size_16\\gr41rd51\\results_210526_160858\\train_dur_30s\\replicate_10\n",
      "Loading checkpoint from:\n",
      "D:\\Users\\yarde\\vak_project\\BF\\hidden_size\\hidden_size_16\\gr41rd51\\results_210526_160858\\train_dur_30s\\replicate_2\\TweetyNet\\checkpoints\\max-val-acc-checkpoint.pt \n"
     ]
    },
    {
     "name": "stderr",
     "output_type": "stream",
     "text": [
      "batch 28 / 29: 100%|███████████████████████████████████████████████████████████████████| 29/29 [00:13<00:00,  2.15it/s]\n"
     ]
    },
    {
     "name": "stdout",
     "output_type": "stream",
     "text": [
      "Transition added:  ['a' 'b'] to f\n",
      "Transition added:  ['a' 'b'] to i\n",
      "Transition added:  ['c' 'd'] to i\n",
      "Transition added:  ['d' 'e'] to j\n",
      "Transition added:  ['d' 'i'] to i\n",
      "Transition added:  ['e' 'i'] to i\n",
      "Transition added:  ['i' 'i'] to a\n",
      "Transition added:  ['i' 'i'] to j\n",
      "Transition added:  ['i' 'i'] to m\n",
      "Transition added:  ['i' 'j'] to j\n"
     ]
    },
    {
     "name": "stderr",
     "output_type": "stream",
     "text": [
      "  0%|                                                                                           | 0/29 [00:00<?, ?it/s]"
     ]
    },
    {
     "name": "stdout",
     "output_type": "stream",
     "text": [
      "seq: ['a' 'b' 'f'] ratio: 0.016923076923076923 err 0.9 n [  0.   0. 650.   1.   0.  11.   0.  26.   7.   0.   7.]\n",
      "seq: ['a' 'b' 'i'] ratio: 0.04 err 0.2990654205607477 n [  0.   0. 650.   1.   0.  11.   0.  26.   7.   0.   7.]\n",
      "seq: ['c' 'd' 'i'] ratio: 0.14817880794701987 err 0.0636363636363636 n [0.000e+00 0.000e+00 0.000e+00 0.000e+00 1.208e+03 0.000e+00 0.000e+00\n",
      " 1.790e+02 4.000e+00 1.000e+00 3.000e+00]\n",
      "seq: ['d' 'e' 'j'] ratio: 0.018518518518518517 err 0.07692307692307687 n [  6.   0.   0.   0.   0. 756.   0. 238.  14.   0.   1.]\n",
      "seq: ['d' 'i' 'i'] ratio: 0.14012738853503184 err 0.06779661016949157 n [  0.   0.   0.   0.   0.   0.   0.  22. 157.   0.   0.]\n",
      "seq: ['e' 'i' 'i'] ratio: 0.23560209424083767 err 0.03252032520325199 n [  0.   0.   0.   0.   0.   1.   0.  45. 191.   0.   1.]\n",
      "seq: ['i' 'i' 'a'] ratio: 0.05162523900573613 err 0.2432432432432432 n [5.400e+01 0.000e+00 0.000e+00 0.000e+00 0.000e+00 0.000e+00 1.000e+00\n",
      " 1.046e+03 8.100e+01 0.000e+00 1.410e+02]\n",
      "seq: ['i' 'i' 'j'] ratio: 0.0774378585086042 err 0.11111111111111116 n [5.400e+01 0.000e+00 0.000e+00 0.000e+00 0.000e+00 0.000e+00 1.000e+00\n",
      " 1.046e+03 8.100e+01 0.000e+00 1.410e+02]\n",
      "seq: ['i' 'i' 'm'] ratio: 0.13479923518164436 err 0.3556910569105691 n [5.400e+01 0.000e+00 0.000e+00 0.000e+00 0.000e+00 0.000e+00 1.000e+00\n",
      " 1.046e+03 8.100e+01 0.000e+00 1.410e+02]\n",
      "seq: ['i' 'j' 'j'] ratio: 0.02813852813852814 err 0.45945945945945943 n [  1.   0.   0.   0.   0.   0.   0.   7.  13. 462.   0.]\n",
      "Done D:\\Users\\yarde\\vak_project\\BF\\hidden_size\\hidden_size_16\\gr41rd51\\results_210526_160858\\train_dur_30s\\replicate_2\n",
      "Loading checkpoint from:\n",
      "D:\\Users\\yarde\\vak_project\\BF\\hidden_size\\hidden_size_16\\gr41rd51\\results_210526_160858\\train_dur_30s\\replicate_3\\TweetyNet\\checkpoints\\max-val-acc-checkpoint.pt \n"
     ]
    },
    {
     "name": "stderr",
     "output_type": "stream",
     "text": [
      "batch 28 / 29: 100%|███████████████████████████████████████████████████████████████████| 29/29 [00:13<00:00,  2.15it/s]\n"
     ]
    },
    {
     "name": "stdout",
     "output_type": "stream",
     "text": [
      "Transition added:  ['a' 'b'] to f\n",
      "Transition added:  ['a' 'b'] to i\n",
      "Transition added:  ['c' 'd'] to i\n",
      "Transition added:  ['d' 'e'] to j\n",
      "Transition added:  ['d' 'i'] to i\n",
      "Transition added:  ['e' 'i'] to i\n",
      "Transition added:  ['i' 'i'] to a\n",
      "Transition added:  ['i' 'i'] to j\n",
      "Transition added:  ['i' 'i'] to m\n",
      "Transition added:  ['i' 'j'] to j\n"
     ]
    },
    {
     "name": "stderr",
     "output_type": "stream",
     "text": [
      "  0%|                                                                                           | 0/29 [00:00<?, ?it/s]"
     ]
    },
    {
     "name": "stdout",
     "output_type": "stream",
     "text": [
      "seq: ['a' 'b' 'f'] ratio: 0.016923076923076923 err 1.0 n [  0.   0. 650.   1.   0.  11.   0.  26.   7.   0.   7.]\n",
      "seq: ['a' 'b' 'i'] ratio: 0.04 err 0.5233644859813085 n [  0.   0. 650.   1.   0.  11.   0.  26.   7.   0.   7.]\n",
      "seq: ['c' 'd' 'i'] ratio: 0.14817880794701987 err 0.21363636363636362 n [0.000e+00 0.000e+00 0.000e+00 0.000e+00 1.208e+03 0.000e+00 0.000e+00\n",
      " 1.790e+02 4.000e+00 1.000e+00 3.000e+00]\n",
      "seq: ['d' 'e' 'j'] ratio: 0.018518518518518517 err 0.028846153846153855 n [  6.   0.   0.   0.   0. 756.   0. 238.  14.   0.   1.]\n",
      "seq: ['d' 'i' 'i'] ratio: 0.14012738853503184 err 0.06779661016949157 n [  0.   0.   0.   0.   0.   0.   0.  22. 157.   0.   0.]\n",
      "seq: ['e' 'i' 'i'] ratio: 0.23560209424083767 err 0.15040650406504064 n [  0.   0.   0.   0.   0.   1.   0.  45. 191.   0.   1.]\n",
      "seq: ['i' 'i' 'a'] ratio: 0.05162523900573613 err 0.44594594594594594 n [5.400e+01 0.000e+00 0.000e+00 0.000e+00 0.000e+00 0.000e+00 1.000e+00\n",
      " 1.046e+03 8.100e+01 0.000e+00 1.410e+02]\n",
      "seq: ['i' 'i' 'j'] ratio: 0.0774378585086042 err 0.16013071895424835 n [5.400e+01 0.000e+00 0.000e+00 0.000e+00 0.000e+00 0.000e+00 1.000e+00\n",
      " 1.046e+03 8.100e+01 0.000e+00 1.410e+02]\n",
      "seq: ['i' 'i' 'm'] ratio: 0.13479923518164436 err 0.17886178861788615 n [5.400e+01 0.000e+00 0.000e+00 0.000e+00 0.000e+00 0.000e+00 1.000e+00\n",
      " 1.046e+03 8.100e+01 0.000e+00 1.410e+02]\n",
      "seq: ['i' 'j' 'j'] ratio: 0.02813852813852814 err 0.5675675675675675 n [  1.   0.   0.   0.   0.   0.   0.   7.  13. 462.   0.]\n",
      "Done D:\\Users\\yarde\\vak_project\\BF\\hidden_size\\hidden_size_16\\gr41rd51\\results_210526_160858\\train_dur_30s\\replicate_3\n",
      "Loading checkpoint from:\n",
      "D:\\Users\\yarde\\vak_project\\BF\\hidden_size\\hidden_size_16\\gr41rd51\\results_210526_160858\\train_dur_30s\\replicate_4\\TweetyNet\\checkpoints\\max-val-acc-checkpoint.pt \n"
     ]
    },
    {
     "name": "stderr",
     "output_type": "stream",
     "text": [
      "batch 28 / 29: 100%|███████████████████████████████████████████████████████████████████| 29/29 [00:13<00:00,  2.13it/s]\n"
     ]
    },
    {
     "name": "stdout",
     "output_type": "stream",
     "text": [
      "Transition added:  ['a' 'b'] to f\n",
      "Transition added:  ['a' 'b'] to i\n",
      "Transition added:  ['c' 'd'] to i\n",
      "Transition added:  ['d' 'e'] to j\n",
      "Transition added:  ['d' 'i'] to i\n",
      "Transition added:  ['e' 'i'] to i\n",
      "Transition added:  ['i' 'i'] to a\n",
      "Transition added:  ['i' 'i'] to j\n",
      "Transition added:  ['i' 'i'] to m\n",
      "Transition added:  ['i' 'j'] to j\n",
      "seq: ['a' 'b' 'f'] ratio: 0.016923076923076923 err 1.0 n [  0.   0. 650.   1.   0.  11.   0.  26.   7.   0.   7.]\n",
      "seq: ['a' 'b' 'i'] ratio: 0.04 err 0.23364485981308414 n [  0.   0. 650.   1.   0.  11.   0.  26.   7.   0.   7.]\n",
      "seq: ['c' 'd' 'i'] ratio: 0.14817880794701987 err 0.08181818181818179 n [0.000e+00 0.000e+00 0.000e+00 0.000e+00 1.208e+03 0.000e+00 0.000e+00\n",
      " 1.790e+02 4.000e+00 1.000e+00 3.000e+00]\n",
      "seq: ['d' 'e' 'j'] ratio: 0.018518518518518517 err 0.04807692307692313 n [  6.   0.   0.   0.   0. 756.   0. 238.  14.   0.   1.]\n",
      "seq: ['d' 'i' 'i'] ratio: 0.14012738853503184 err 0.05084745762711862 n [  0.   0.   0.   0.   0.   0.   0.  22. 157.   0.   0.]\n",
      "seq: ['e' 'i' 'i'] ratio: 0.23560209424083767 err 0.1422764227642277 n [  0.   0.   0.   0.   0.   1.   0.  45. 191.   0.   1.]\n",
      "seq: ['i' 'i' 'a'] ratio: 0.05162523900573613 err 0.21959459459459463 n [5.400e+01 0.000e+00 0.000e+00 0.000e+00 0.000e+00 0.000e+00 1.000e+00\n",
      " 1.046e+03 8.100e+01 0.000e+00 1.410e+02]\n",
      "seq: ['i' 'i' 'j'] ratio: 0.0774378585086042 err 0.05555555555555558 n [5.400e+01 0.000e+00 0.000e+00 0.000e+00 0.000e+00 0.000e+00 1.000e+00\n",
      " 1.046e+03 8.100e+01 0.000e+00 1.410e+02]\n",
      "seq: ['i' 'i' 'm'] ratio: 0.13479923518164436 err 0.39363143631436315 n [5.400e+01 0.000e+00 0.000e+00 0.000e+00 0.000e+00 0.000e+00 1.000e+00\n",
      " 1.046e+03 8.100e+01 0.000e+00 1.410e+02]\n",
      "seq: ['i' 'j' 'j'] ratio: 0.02813852813852814 err 0.43243243243243246 n [  1.   0.   0.   0.   0.   0.   0.   7.  13. 462.   0.]\n",
      "Done D:\\Users\\yarde\\vak_project\\BF\\hidden_size\\hidden_size_16\\gr41rd51\\results_210526_160858\\train_dur_30s\\replicate_4\n"
     ]
    },
    {
     "name": "stderr",
     "output_type": "stream",
     "text": [
      "  0%|                                                                                           | 0/29 [00:00<?, ?it/s]"
     ]
    },
    {
     "name": "stdout",
     "output_type": "stream",
     "text": [
      "Loading checkpoint from:\n",
      "D:\\Users\\yarde\\vak_project\\BF\\hidden_size\\hidden_size_16\\gr41rd51\\results_210526_160858\\train_dur_30s\\replicate_5\\TweetyNet\\checkpoints\\max-val-acc-checkpoint.pt \n"
     ]
    },
    {
     "name": "stderr",
     "output_type": "stream",
     "text": [
      "batch 28 / 29: 100%|███████████████████████████████████████████████████████████████████| 29/29 [00:13<00:00,  2.10it/s]\n"
     ]
    },
    {
     "name": "stdout",
     "output_type": "stream",
     "text": [
      "Transition added:  ['a' 'b'] to f\n",
      "Transition added:  ['a' 'b'] to i\n",
      "Transition added:  ['c' 'd'] to i\n",
      "Transition added:  ['d' 'e'] to j\n",
      "Transition added:  ['d' 'i'] to i\n",
      "Transition added:  ['e' 'i'] to i\n",
      "Transition added:  ['i' 'i'] to a\n",
      "Transition added:  ['i' 'i'] to j\n",
      "Transition added:  ['i' 'i'] to m\n",
      "Transition added:  ['i' 'j'] to j\n",
      "seq: ['a' 'b' 'f'] ratio: 0.016923076923076923 err 1.0 n [  0.   0. 650.   1.   0.  11.   0.  26.   7.   0.   7.]\n",
      "seq: ['a' 'b' 'i'] ratio: 0.04 err 0.47663551401869164 n [  0.   0. 650.   1.   0.  11.   0.  26.   7.   0.   7.]\n",
      "seq: ['c' 'd' 'i'] ratio: 0.14817880794701987 err 0.07878787878787874 n [0.000e+00 0.000e+00 0.000e+00 0.000e+00 1.208e+03 0.000e+00 0.000e+00\n",
      " 1.790e+02 4.000e+00 1.000e+00 3.000e+00]\n",
      "seq: ['d' 'e' 'j'] ratio: 0.018518518518518517 err 0.07692307692307687 n [  6.   0.   0.   0.   0. 756.   0. 238.  14.   0.   1.]\n",
      "seq: ['d' 'i' 'i'] ratio: 0.14012738853503184 err 0.016949152542372836 n [  0.   0.   0.   0.   0.   0.   0.  22. 157.   0.   0.]\n",
      "seq: ['e' 'i' 'i'] ratio: 0.23560209424083767 err 0.11382113821138207 n [  0.   0.   0.   0.   0.   1.   0.  45. 191.   0.   1.]\n",
      "seq: ['i' 'i' 'a'] ratio: 0.05162523900573613 err 0.2533783783783784 n [5.400e+01 0.000e+00 0.000e+00 0.000e+00 0.000e+00 0.000e+00 1.000e+00\n",
      " 1.046e+03 8.100e+01 0.000e+00 1.410e+02]\n",
      "seq: ['i' 'i' 'j'] ratio: 0.0774378585086042 err 0.10130718954248363 n [5.400e+01 0.000e+00 0.000e+00 0.000e+00 0.000e+00 0.000e+00 1.000e+00\n",
      " 1.046e+03 8.100e+01 0.000e+00 1.410e+02]\n",
      "seq: ['i' 'i' 'm'] ratio: 0.13479923518164436 err 0.285230352303523 n [5.400e+01 0.000e+00 0.000e+00 0.000e+00 0.000e+00 0.000e+00 1.000e+00\n",
      " 1.046e+03 8.100e+01 0.000e+00 1.410e+02]\n",
      "seq: ['i' 'j' 'j'] ratio: 0.02813852813852814 err 0.8108108108108107 n [  1.   0.   0.   0.   0.   0.   0.   7.  13. 462.   0.]\n",
      "Done D:\\Users\\yarde\\vak_project\\BF\\hidden_size\\hidden_size_16\\gr41rd51\\results_210526_160858\\train_dur_30s\\replicate_5\n",
      "Loading checkpoint from:\n",
      "D:\\Users\\yarde\\vak_project\\BF\\hidden_size\\hidden_size_16\\gr41rd51\\results_210526_160858\\train_dur_30s\\replicate_6\\TweetyNet\\checkpoints\\max-val-acc-checkpoint.pt \n"
     ]
    },
    {
     "name": "stderr",
     "output_type": "stream",
     "text": [
      "batch 28 / 29: 100%|███████████████████████████████████████████████████████████████████| 29/29 [00:13<00:00,  2.14it/s]\n"
     ]
    },
    {
     "name": "stdout",
     "output_type": "stream",
     "text": [
      "Transition added:  ['a' 'b'] to f\n",
      "Transition added:  ['a' 'b'] to i\n",
      "Transition added:  ['c' 'd'] to i\n",
      "Transition added:  ['d' 'e'] to j\n",
      "Transition added:  ['d' 'i'] to i\n",
      "Transition added:  ['e' 'i'] to i\n",
      "Transition added:  ['i' 'i'] to a\n",
      "Transition added:  ['i' 'i'] to j\n",
      "Transition added:  ['i' 'i'] to m\n",
      "Transition added:  ['i' 'j'] to j\n"
     ]
    },
    {
     "name": "stderr",
     "output_type": "stream",
     "text": [
      "  0%|                                                                                           | 0/29 [00:00<?, ?it/s]"
     ]
    },
    {
     "name": "stdout",
     "output_type": "stream",
     "text": [
      "seq: ['a' 'b' 'f'] ratio: 0.016923076923076923 err 1.0 n [  0.   0. 650.   1.   0.  11.   0.  26.   7.   0.   7.]\n",
      "seq: ['a' 'b' 'i'] ratio: 0.04 err 0.485981308411215 n [  0.   0. 650.   1.   0.  11.   0.  26.   7.   0.   7.]\n",
      "seq: ['c' 'd' 'i'] ratio: 0.14817880794701987 err 0.040909090909090895 n [0.000e+00 0.000e+00 0.000e+00 0.000e+00 1.208e+03 0.000e+00 0.000e+00\n",
      " 1.790e+02 4.000e+00 1.000e+00 3.000e+00]\n",
      "seq: ['d' 'e' 'j'] ratio: 0.018518518518518517 err 0.125 n [  6.   0.   0.   0.   0. 756.   0. 238.  14.   0.   1.]\n",
      "seq: ['d' 'i' 'i'] ratio: 0.14012738853503184 err 0.03389830508474578 n [  0.   0.   0.   0.   0.   0.   0.  22. 157.   0.   0.]\n",
      "seq: ['e' 'i' 'i'] ratio: 0.23560209424083767 err 0.05691056910569103 n [  0.   0.   0.   0.   0.   1.   0.  45. 191.   0.   1.]\n",
      "seq: ['i' 'i' 'a'] ratio: 0.05162523900573613 err 0.33108108108108103 n [5.400e+01 0.000e+00 0.000e+00 0.000e+00 0.000e+00 0.000e+00 1.000e+00\n",
      " 1.046e+03 8.100e+01 0.000e+00 1.410e+02]\n",
      "seq: ['i' 'i' 'j'] ratio: 0.0774378585086042 err 0.16013071895424835 n [5.400e+01 0.000e+00 0.000e+00 0.000e+00 0.000e+00 0.000e+00 1.000e+00\n",
      " 1.046e+03 8.100e+01 0.000e+00 1.410e+02]\n",
      "seq: ['i' 'i' 'm'] ratio: 0.13479923518164436 err 0.18766937669376693 n [5.400e+01 0.000e+00 0.000e+00 0.000e+00 0.000e+00 0.000e+00 1.000e+00\n",
      " 1.046e+03 8.100e+01 0.000e+00 1.410e+02]\n",
      "seq: ['i' 'j' 'j'] ratio: 0.02813852813852814 err 0.45945945945945943 n [  1.   0.   0.   0.   0.   0.   0.   7.  13. 462.   0.]\n",
      "Done D:\\Users\\yarde\\vak_project\\BF\\hidden_size\\hidden_size_16\\gr41rd51\\results_210526_160858\\train_dur_30s\\replicate_6\n",
      "Loading checkpoint from:\n",
      "D:\\Users\\yarde\\vak_project\\BF\\hidden_size\\hidden_size_16\\gr41rd51\\results_210526_160858\\train_dur_30s\\replicate_7\\TweetyNet\\checkpoints\\max-val-acc-checkpoint.pt \n"
     ]
    },
    {
     "name": "stderr",
     "output_type": "stream",
     "text": [
      "batch 28 / 29: 100%|███████████████████████████████████████████████████████████████████| 29/29 [00:13<00:00,  2.13it/s]\n"
     ]
    },
    {
     "name": "stdout",
     "output_type": "stream",
     "text": [
      "Transition added:  ['a' 'b'] to f\n",
      "Transition added:  ['a' 'b'] to i\n",
      "Transition added:  ['c' 'd'] to i\n",
      "Transition added:  ['d' 'e'] to j\n",
      "Transition added:  ['d' 'i'] to i\n",
      "Transition added:  ['e' 'i'] to i\n",
      "Transition added:  ['i' 'i'] to a\n",
      "Transition added:  ['i' 'i'] to j\n",
      "Transition added:  ['i' 'i'] to m\n",
      "Transition added:  ['i' 'j'] to j\n"
     ]
    },
    {
     "name": "stderr",
     "output_type": "stream",
     "text": [
      "  0%|                                                                                           | 0/29 [00:00<?, ?it/s]"
     ]
    },
    {
     "name": "stdout",
     "output_type": "stream",
     "text": [
      "seq: ['a' 'b' 'f'] ratio: 0.016923076923076923 err 0.7666666666666666 n [  0.   0. 650.   1.   0.  11.   0.  26.   7.   0.   7.]\n",
      "seq: ['a' 'b' 'i'] ratio: 0.04 err 0.2710280373831776 n [  0.   0. 650.   1.   0.  11.   0.  26.   7.   0.   7.]\n",
      "seq: ['c' 'd' 'i'] ratio: 0.14817880794701987 err 0.07121212121212117 n [0.000e+00 0.000e+00 0.000e+00 0.000e+00 1.208e+03 0.000e+00 0.000e+00\n",
      " 1.790e+02 4.000e+00 1.000e+00 3.000e+00]\n",
      "seq: ['d' 'e' 'j'] ratio: 0.018518518518518517 err 0.05769230769230771 n [  6.   0.   0.   0.   0. 756.   0. 238.  14.   0.   1.]\n",
      "seq: ['d' 'i' 'i'] ratio: 0.14012738853503184 err 0.06779661016949157 n [  0.   0.   0.   0.   0.   0.   0.  22. 157.   0.   0.]\n",
      "seq: ['e' 'i' 'i'] ratio: 0.23560209424083767 err 0.05284552845528456 n [  0.   0.   0.   0.   0.   1.   0.  45. 191.   0.   1.]\n",
      "seq: ['i' 'i' 'a'] ratio: 0.05162523900573613 err 0.4797297297297297 n [5.400e+01 0.000e+00 0.000e+00 0.000e+00 0.000e+00 0.000e+00 1.000e+00\n",
      " 1.046e+03 8.100e+01 0.000e+00 1.410e+02]\n",
      "seq: ['i' 'i' 'j'] ratio: 0.0774378585086042 err 0.2222222222222222 n [5.400e+01 0.000e+00 0.000e+00 0.000e+00 0.000e+00 0.000e+00 1.000e+00\n",
      " 1.046e+03 8.100e+01 0.000e+00 1.410e+02]\n",
      "seq: ['i' 'i' 'm'] ratio: 0.13479923518164436 err 0.8739837398373984 n [5.400e+01 0.000e+00 0.000e+00 0.000e+00 0.000e+00 0.000e+00 1.000e+00\n",
      " 1.046e+03 8.100e+01 0.000e+00 1.410e+02]\n",
      "seq: ['i' 'j' 'j'] ratio: 0.02813852813852814 err 0.5405405405405406 n [  1.   0.   0.   0.   0.   0.   0.   7.  13. 462.   0.]\n",
      "Done D:\\Users\\yarde\\vak_project\\BF\\hidden_size\\hidden_size_16\\gr41rd51\\results_210526_160858\\train_dur_30s\\replicate_7\n",
      "Loading checkpoint from:\n",
      "D:\\Users\\yarde\\vak_project\\BF\\hidden_size\\hidden_size_16\\gr41rd51\\results_210526_160858\\train_dur_30s\\replicate_8\\TweetyNet\\checkpoints\\max-val-acc-checkpoint.pt \n"
     ]
    },
    {
     "name": "stderr",
     "output_type": "stream",
     "text": [
      "batch 28 / 29: 100%|███████████████████████████████████████████████████████████████████| 29/29 [00:13<00:00,  2.14it/s]\n"
     ]
    },
    {
     "name": "stdout",
     "output_type": "stream",
     "text": [
      "Transition added:  ['a' 'b'] to f\n",
      "Transition added:  ['a' 'b'] to i\n",
      "Transition added:  ['c' 'd'] to i\n",
      "Transition added:  ['d' 'e'] to j\n",
      "Transition added:  ['d' 'i'] to i\n",
      "Transition added:  ['e' 'i'] to i\n",
      "Transition added:  ['i' 'i'] to a\n",
      "Transition added:  ['i' 'i'] to j\n",
      "Transition added:  ['i' 'i'] to m\n",
      "Transition added:  ['i' 'j'] to j\n"
     ]
    },
    {
     "name": "stderr",
     "output_type": "stream",
     "text": [
      "  0%|                                                                                           | 0/29 [00:00<?, ?it/s]"
     ]
    },
    {
     "name": "stdout",
     "output_type": "stream",
     "text": [
      "seq: ['a' 'b' 'f'] ratio: 0.016923076923076923 err 1.0 n [  0.   0. 650.   1.   0.  11.   0.  26.   7.   0.   7.]\n",
      "seq: ['a' 'b' 'i'] ratio: 0.04 err 0.2429906542056075 n [  0.   0. 650.   1.   0.  11.   0.  26.   7.   0.   7.]\n",
      "seq: ['c' 'd' 'i'] ratio: 0.14817880794701987 err 0.14393939393939392 n [0.000e+00 0.000e+00 0.000e+00 0.000e+00 1.208e+03 0.000e+00 0.000e+00\n",
      " 1.790e+02 4.000e+00 1.000e+00 3.000e+00]\n",
      "seq: ['d' 'e' 'j'] ratio: 0.018518518518518517 err 0.038461538461538436 n [  6.   0.   0.   0.   0. 756.   0. 238.  14.   0.   1.]\n",
      "seq: ['d' 'i' 'i'] ratio: 0.14012738853503184 err 0.18644067796610164 n [  0.   0.   0.   0.   0.   0.   0.  22. 157.   0.   0.]\n",
      "seq: ['e' 'i' 'i'] ratio: 0.23560209424083767 err 0.1260162601626016 n [  0.   0.   0.   0.   0.   1.   0.  45. 191.   0.   1.]\n",
      "seq: ['i' 'i' 'a'] ratio: 0.05162523900573613 err 0.21621621621621623 n [5.400e+01 0.000e+00 0.000e+00 0.000e+00 0.000e+00 0.000e+00 1.000e+00\n",
      " 1.046e+03 8.100e+01 0.000e+00 1.410e+02]\n",
      "seq: ['i' 'i' 'j'] ratio: 0.0774378585086042 err 0.16993464052287577 n [5.400e+01 0.000e+00 0.000e+00 0.000e+00 0.000e+00 0.000e+00 1.000e+00\n",
      " 1.046e+03 8.100e+01 0.000e+00 1.410e+02]\n",
      "seq: ['i' 'i' 'm'] ratio: 0.13479923518164436 err 0.6063685636856369 n [5.400e+01 0.000e+00 0.000e+00 0.000e+00 0.000e+00 0.000e+00 1.000e+00\n",
      " 1.046e+03 8.100e+01 0.000e+00 1.410e+02]\n",
      "seq: ['i' 'j' 'j'] ratio: 0.02813852813852814 err 1.0 n [  1.   0.   0.   0.   0.   0.   0.   7.  13. 462.   0.]\n",
      "Done D:\\Users\\yarde\\vak_project\\BF\\hidden_size\\hidden_size_16\\gr41rd51\\results_210526_160858\\train_dur_30s\\replicate_8\n",
      "Loading checkpoint from:\n",
      "D:\\Users\\yarde\\vak_project\\BF\\hidden_size\\hidden_size_16\\gr41rd51\\results_210526_160858\\train_dur_30s\\replicate_9\\TweetyNet\\checkpoints\\max-val-acc-checkpoint.pt \n"
     ]
    },
    {
     "name": "stderr",
     "output_type": "stream",
     "text": [
      "batch 28 / 29: 100%|███████████████████████████████████████████████████████████████████| 29/29 [00:13<00:00,  2.13it/s]\n"
     ]
    },
    {
     "name": "stdout",
     "output_type": "stream",
     "text": [
      "Transition added:  ['a' 'b'] to f\n",
      "Transition added:  ['a' 'b'] to i\n",
      "Transition added:  ['c' 'd'] to i\n",
      "Transition added:  ['d' 'e'] to j\n",
      "Transition added:  ['d' 'i'] to i\n",
      "Transition added:  ['e' 'i'] to i\n",
      "Transition added:  ['i' 'i'] to a\n",
      "Transition added:  ['i' 'i'] to j\n",
      "Transition added:  ['i' 'i'] to m\n",
      "Transition added:  ['i' 'j'] to j\n"
     ]
    },
    {
     "name": "stderr",
     "output_type": "stream",
     "text": [
      "  0%|                                                                                           | 0/29 [00:00<?, ?it/s]"
     ]
    },
    {
     "name": "stdout",
     "output_type": "stream",
     "text": [
      "seq: ['a' 'b' 'f'] ratio: 0.016923076923076923 err 1.0 n [  0.   0. 650.   1.   0.  11.   0.  26.   7.   0.   7.]\n",
      "seq: ['a' 'b' 'i'] ratio: 0.04 err 0.5046728971962617 n [  0.   0. 650.   1.   0.  11.   0.  26.   7.   0.   7.]\n",
      "seq: ['c' 'd' 'i'] ratio: 0.14817880794701987 err 0.06515151515151518 n [0.000e+00 0.000e+00 0.000e+00 0.000e+00 1.208e+03 0.000e+00 0.000e+00\n",
      " 1.790e+02 4.000e+00 1.000e+00 3.000e+00]\n",
      "seq: ['d' 'e' 'j'] ratio: 0.018518518518518517 err 0.028846153846153855 n [  6.   0.   0.   0.   0. 756.   0. 238.  14.   0.   1.]\n",
      "seq: ['d' 'i' 'i'] ratio: 0.14012738853503184 err 0.3389830508474576 n [  0.   0.   0.   0.   0.   0.   0.  22. 157.   0.   0.]\n",
      "seq: ['e' 'i' 'i'] ratio: 0.23560209424083767 err 0.04471544715447151 n [  0.   0.   0.   0.   0.   1.   0.  45. 191.   0.   1.]\n",
      "seq: ['i' 'i' 'a'] ratio: 0.05162523900573613 err 0.2601351351351351 n [5.400e+01 0.000e+00 0.000e+00 0.000e+00 0.000e+00 0.000e+00 1.000e+00\n",
      " 1.046e+03 8.100e+01 0.000e+00 1.410e+02]\n",
      "seq: ['i' 'i' 'j'] ratio: 0.0774378585086042 err 0.05555555555555558 n [5.400e+01 0.000e+00 0.000e+00 0.000e+00 0.000e+00 0.000e+00 1.000e+00\n",
      " 1.046e+03 8.100e+01 0.000e+00 1.410e+02]\n",
      "seq: ['i' 'i' 'm'] ratio: 0.13479923518164436 err 0.5352303523035231 n [5.400e+01 0.000e+00 0.000e+00 0.000e+00 0.000e+00 0.000e+00 1.000e+00\n",
      " 1.046e+03 8.100e+01 0.000e+00 1.410e+02]\n",
      "seq: ['i' 'j' 'j'] ratio: 0.02813852813852814 err 0.32432432432432434 n [  1.   0.   0.   0.   0.   0.   0.   7.  13. 462.   0.]\n",
      "Done D:\\Users\\yarde\\vak_project\\BF\\hidden_size\\hidden_size_16\\gr41rd51\\results_210526_160858\\train_dur_30s\\replicate_9\n",
      "Loading checkpoint from:\n",
      "D:\\Users\\yarde\\vak_project\\BF\\hidden_size\\hidden_size_16\\gr41rd51\\results_210526_160858\\train_dur_45s\\replicate_1\\TweetyNet\\checkpoints\\max-val-acc-checkpoint.pt \n"
     ]
    },
    {
     "name": "stderr",
     "output_type": "stream",
     "text": [
      "batch 28 / 29: 100%|███████████████████████████████████████████████████████████████████| 29/29 [00:13<00:00,  2.14it/s]\n"
     ]
    },
    {
     "name": "stdout",
     "output_type": "stream",
     "text": [
      "Transition added:  ['a' 'b'] to f\n",
      "Transition added:  ['a' 'b'] to i\n",
      "Transition added:  ['c' 'd'] to i\n",
      "Transition added:  ['d' 'e'] to j\n",
      "Transition added:  ['d' 'i'] to i\n",
      "Transition added:  ['e' 'i'] to i\n",
      "Transition added:  ['i' 'i'] to a\n",
      "Transition added:  ['i' 'i'] to j\n",
      "Transition added:  ['i' 'i'] to m\n",
      "Transition added:  ['i' 'j'] to j\n"
     ]
    },
    {
     "name": "stderr",
     "output_type": "stream",
     "text": [
      "  0%|                                                                                           | 0/29 [00:00<?, ?it/s]"
     ]
    },
    {
     "name": "stdout",
     "output_type": "stream",
     "text": [
      "seq: ['a' 'b' 'f'] ratio: 0.016923076923076923 err 0.8666666666666667 n [  0.   0. 650.   1.   0.  11.   0.  26.   7.   0.   7.]\n",
      "seq: ['a' 'b' 'i'] ratio: 0.04 err 0.2149532710280374 n [  0.   0. 650.   1.   0.  11.   0.  26.   7.   0.   7.]\n",
      "seq: ['c' 'd' 'i'] ratio: 0.14817880794701987 err 0.034848484848484795 n [0.000e+00 0.000e+00 0.000e+00 0.000e+00 1.208e+03 0.000e+00 0.000e+00\n",
      " 1.790e+02 4.000e+00 1.000e+00 3.000e+00]\n",
      "seq: ['d' 'e' 'j'] ratio: 0.018518518518518517 err 0.08653846153846156 n [  6.   0.   0.   0.   0. 756.   0. 238.  14.   0.   1.]\n",
      "seq: ['d' 'i' 'i'] ratio: 0.14012738853503184 err 0.0 n [  0.   0.   0.   0.   0.   0.   0.  22. 157.   0.   0.]\n",
      "seq: ['e' 'i' 'i'] ratio: 0.23560209424083767 err 0.028455284552845517 n [  0.   0.   0.   0.   0.   1.   0.  45. 191.   0.   1.]\n",
      "seq: ['i' 'i' 'a'] ratio: 0.05162523900573613 err 0.19594594594594594 n [5.400e+01 0.000e+00 0.000e+00 0.000e+00 0.000e+00 0.000e+00 1.000e+00\n",
      " 1.046e+03 8.100e+01 0.000e+00 1.410e+02]\n",
      "seq: ['i' 'i' 'j'] ratio: 0.0774378585086042 err 0.22549019607843135 n [5.400e+01 0.000e+00 0.000e+00 0.000e+00 0.000e+00 0.000e+00 1.000e+00\n",
      " 1.046e+03 8.100e+01 0.000e+00 1.410e+02]\n",
      "seq: ['i' 'i' 'm'] ratio: 0.13479923518164436 err 0.924119241192412 n [5.400e+01 0.000e+00 0.000e+00 0.000e+00 0.000e+00 0.000e+00 1.000e+00\n",
      " 1.046e+03 8.100e+01 0.000e+00 1.410e+02]\n",
      "seq: ['i' 'j' 'j'] ratio: 0.02813852813852814 err 0.18918918918918914 n [  1.   0.   0.   0.   0.   0.   0.   7.  13. 462.   0.]\n",
      "Done D:\\Users\\yarde\\vak_project\\BF\\hidden_size\\hidden_size_16\\gr41rd51\\results_210526_160858\\train_dur_45s\\replicate_1\n",
      "Loading checkpoint from:\n",
      "D:\\Users\\yarde\\vak_project\\BF\\hidden_size\\hidden_size_16\\gr41rd51\\results_210526_160858\\train_dur_45s\\replicate_10\\TweetyNet\\checkpoints\\max-val-acc-checkpoint.pt \n"
     ]
    },
    {
     "name": "stderr",
     "output_type": "stream",
     "text": [
      "batch 28 / 29: 100%|███████████████████████████████████████████████████████████████████| 29/29 [00:13<00:00,  2.14it/s]\n"
     ]
    },
    {
     "name": "stdout",
     "output_type": "stream",
     "text": [
      "Transition added:  ['a' 'b'] to f\n",
      "Transition added:  ['a' 'b'] to i\n",
      "Transition added:  ['c' 'd'] to i\n",
      "Transition added:  ['d' 'e'] to j\n",
      "Transition added:  ['d' 'i'] to i\n",
      "Transition added:  ['e' 'i'] to i\n",
      "Transition added:  ['i' 'i'] to a\n",
      "Transition added:  ['i' 'i'] to j\n",
      "Transition added:  ['i' 'i'] to m\n",
      "Transition added:  ['i' 'j'] to j\n"
     ]
    },
    {
     "name": "stderr",
     "output_type": "stream",
     "text": [
      "  0%|                                                                                           | 0/29 [00:00<?, ?it/s]"
     ]
    },
    {
     "name": "stdout",
     "output_type": "stream",
     "text": [
      "seq: ['a' 'b' 'f'] ratio: 0.016923076923076923 err 0.8666666666666667 n [  0.   0. 650.   1.   0.  11.   0.  26.   7.   0.   7.]\n",
      "seq: ['a' 'b' 'i'] ratio: 0.04 err 0.28971962616822433 n [  0.   0. 650.   1.   0.  11.   0.  26.   7.   0.   7.]\n",
      "seq: ['c' 'd' 'i'] ratio: 0.14817880794701987 err 0.07272727272727275 n [0.000e+00 0.000e+00 0.000e+00 0.000e+00 1.208e+03 0.000e+00 0.000e+00\n",
      " 1.790e+02 4.000e+00 1.000e+00 3.000e+00]\n",
      "seq: ['d' 'e' 'j'] ratio: 0.018518518518518517 err 0.07692307692307687 n [  6.   0.   0.   0.   0. 756.   0. 238.  14.   0.   1.]\n",
      "seq: ['d' 'i' 'i'] ratio: 0.14012738853503184 err 0.05084745762711862 n [  0.   0.   0.   0.   0.   0.   0.  22. 157.   0.   0.]\n",
      "seq: ['e' 'i' 'i'] ratio: 0.23560209424083767 err 0.10569105691056913 n [  0.   0.   0.   0.   0.   1.   0.  45. 191.   0.   1.]\n",
      "seq: ['i' 'i' 'a'] ratio: 0.05162523900573613 err 0.2432432432432432 n [5.400e+01 0.000e+00 0.000e+00 0.000e+00 0.000e+00 0.000e+00 1.000e+00\n",
      " 1.046e+03 8.100e+01 0.000e+00 1.410e+02]\n",
      "seq: ['i' 'i' 'j'] ratio: 0.0774378585086042 err 0.2222222222222222 n [5.400e+01 0.000e+00 0.000e+00 0.000e+00 0.000e+00 0.000e+00 1.000e+00\n",
      " 1.046e+03 8.100e+01 0.000e+00 1.410e+02]\n",
      "seq: ['i' 'i' 'm'] ratio: 0.13479923518164436 err 0.18631436314363148 n [5.400e+01 0.000e+00 0.000e+00 0.000e+00 0.000e+00 0.000e+00 1.000e+00\n",
      " 1.046e+03 8.100e+01 0.000e+00 1.410e+02]\n",
      "seq: ['i' 'j' 'j'] ratio: 0.02813852813852814 err 1.0 n [  1.   0.   0.   0.   0.   0.   0.   7.  13. 462.   0.]\n",
      "Done D:\\Users\\yarde\\vak_project\\BF\\hidden_size\\hidden_size_16\\gr41rd51\\results_210526_160858\\train_dur_45s\\replicate_10\n",
      "Loading checkpoint from:\n",
      "D:\\Users\\yarde\\vak_project\\BF\\hidden_size\\hidden_size_16\\gr41rd51\\results_210526_160858\\train_dur_45s\\replicate_2\\TweetyNet\\checkpoints\\max-val-acc-checkpoint.pt \n"
     ]
    },
    {
     "name": "stderr",
     "output_type": "stream",
     "text": [
      "batch 28 / 29: 100%|███████████████████████████████████████████████████████████████████| 29/29 [00:13<00:00,  2.13it/s]\n"
     ]
    },
    {
     "name": "stdout",
     "output_type": "stream",
     "text": [
      "Transition added:  ['a' 'b'] to f\n",
      "Transition added:  ['a' 'b'] to i\n",
      "Transition added:  ['c' 'd'] to i\n",
      "Transition added:  ['d' 'e'] to j\n",
      "Transition added:  ['d' 'i'] to i\n",
      "Transition added:  ['e' 'i'] to i\n",
      "Transition added:  ['i' 'i'] to a\n",
      "Transition added:  ['i' 'i'] to j\n",
      "Transition added:  ['i' 'i'] to m\n",
      "Transition added:  ['i' 'j'] to j\n"
     ]
    },
    {
     "name": "stderr",
     "output_type": "stream",
     "text": [
      "  0%|                                                                                           | 0/29 [00:00<?, ?it/s]"
     ]
    },
    {
     "name": "stdout",
     "output_type": "stream",
     "text": [
      "seq: ['a' 'b' 'f'] ratio: 0.016923076923076923 err 1.0 n [  0.   0. 650.   1.   0.  11.   0.  26.   7.   0.   7.]\n",
      "seq: ['a' 'b' 'i'] ratio: 0.04 err 0.44859813084112155 n [  0.   0. 650.   1.   0.  11.   0.  26.   7.   0.   7.]\n",
      "seq: ['c' 'd' 'i'] ratio: 0.14817880794701987 err 0.17878787878787883 n [0.000e+00 0.000e+00 0.000e+00 0.000e+00 1.208e+03 0.000e+00 0.000e+00\n",
      " 1.790e+02 4.000e+00 1.000e+00 3.000e+00]\n",
      "seq: ['d' 'e' 'j'] ratio: 0.018518518518518517 err 0.038461538461538436 n [  6.   0.   0.   0.   0. 756.   0. 238.  14.   0.   1.]\n",
      "seq: ['d' 'i' 'i'] ratio: 0.14012738853503184 err 0.38983050847457623 n [  0.   0.   0.   0.   0.   0.   0.  22. 157.   0.   0.]\n",
      "seq: ['e' 'i' 'i'] ratio: 0.23560209424083767 err 0.06504065040650409 n [  0.   0.   0.   0.   0.   1.   0.  45. 191.   0.   1.]\n",
      "seq: ['i' 'i' 'a'] ratio: 0.05162523900573613 err 0.42905405405405406 n [5.400e+01 0.000e+00 0.000e+00 0.000e+00 0.000e+00 0.000e+00 1.000e+00\n",
      " 1.046e+03 8.100e+01 0.000e+00 1.410e+02]\n",
      "seq: ['i' 'i' 'j'] ratio: 0.0774378585086042 err 0.08823529411764708 n [5.400e+01 0.000e+00 0.000e+00 0.000e+00 0.000e+00 0.000e+00 1.000e+00\n",
      " 1.046e+03 8.100e+01 0.000e+00 1.410e+02]\n",
      "seq: ['i' 'i' 'm'] ratio: 0.13479923518164436 err 0.12804878048780488 n [5.400e+01 0.000e+00 0.000e+00 0.000e+00 0.000e+00 0.000e+00 1.000e+00\n",
      " 1.046e+03 8.100e+01 0.000e+00 1.410e+02]\n",
      "seq: ['i' 'j' 'j'] ratio: 0.02813852813852814 err 0.4054054054054054 n [  1.   0.   0.   0.   0.   0.   0.   7.  13. 462.   0.]\n",
      "Done D:\\Users\\yarde\\vak_project\\BF\\hidden_size\\hidden_size_16\\gr41rd51\\results_210526_160858\\train_dur_45s\\replicate_2\n",
      "Loading checkpoint from:\n",
      "D:\\Users\\yarde\\vak_project\\BF\\hidden_size\\hidden_size_16\\gr41rd51\\results_210526_160858\\train_dur_45s\\replicate_3\\TweetyNet\\checkpoints\\max-val-acc-checkpoint.pt \n"
     ]
    },
    {
     "name": "stderr",
     "output_type": "stream",
     "text": [
      "batch 28 / 29: 100%|███████████████████████████████████████████████████████████████████| 29/29 [00:13<00:00,  2.12it/s]\n"
     ]
    },
    {
     "name": "stdout",
     "output_type": "stream",
     "text": [
      "Transition added:  ['a' 'b'] to f\n",
      "Transition added:  ['a' 'b'] to i\n",
      "Transition added:  ['c' 'd'] to i\n",
      "Transition added:  ['d' 'e'] to j\n",
      "Transition added:  ['d' 'i'] to i\n",
      "Transition added:  ['e' 'i'] to i\n",
      "Transition added:  ['i' 'i'] to a\n",
      "Transition added:  ['i' 'i'] to j\n",
      "Transition added:  ['i' 'i'] to m\n",
      "Transition added:  ['i' 'j'] to j\n"
     ]
    },
    {
     "name": "stderr",
     "output_type": "stream",
     "text": [
      "  0%|                                                                                           | 0/29 [00:00<?, ?it/s]"
     ]
    },
    {
     "name": "stdout",
     "output_type": "stream",
     "text": [
      "seq: ['a' 'b' 'f'] ratio: 0.016923076923076923 err 0.33333333333333337 n [  0.   0. 650.   1.   0.  11.   0.  26.   7.   0.   7.]\n",
      "seq: ['a' 'b' 'i'] ratio: 0.04 err 0.31775700934579443 n [  0.   0. 650.   1.   0.  11.   0.  26.   7.   0.   7.]\n",
      "seq: ['c' 'd' 'i'] ratio: 0.14817880794701987 err 0.05303030303030298 n [0.000e+00 0.000e+00 0.000e+00 0.000e+00 1.208e+03 0.000e+00 0.000e+00\n",
      " 1.790e+02 4.000e+00 1.000e+00 3.000e+00]\n",
      "seq: ['d' 'e' 'j'] ratio: 0.018518518518518517 err 0.05769230769230771 n [  6.   0.   0.   0.   0. 756.   0. 238.  14.   0.   1.]\n",
      "seq: ['d' 'i' 'i'] ratio: 0.14012738853503184 err 0.03389830508474578 n [  0.   0.   0.   0.   0.   0.   0.  22. 157.   0.   0.]\n",
      "seq: ['e' 'i' 'i'] ratio: 0.23560209424083767 err 0.03658536585365857 n [  0.   0.   0.   0.   0.   1.   0.  45. 191.   0.   1.]\n",
      "seq: ['i' 'i' 'a'] ratio: 0.05162523900573613 err 0.42905405405405406 n [5.400e+01 0.000e+00 0.000e+00 0.000e+00 0.000e+00 0.000e+00 1.000e+00\n",
      " 1.046e+03 8.100e+01 0.000e+00 1.410e+02]\n",
      "seq: ['i' 'i' 'j'] ratio: 0.0774378585086042 err 0.039215686274509776 n [5.400e+01 0.000e+00 0.000e+00 0.000e+00 0.000e+00 0.000e+00 1.000e+00\n",
      " 1.046e+03 8.100e+01 0.000e+00 1.410e+02]\n",
      "seq: ['i' 'i' 'm'] ratio: 0.13479923518164436 err 0.21680216802168017 n [5.400e+01 0.000e+00 0.000e+00 0.000e+00 0.000e+00 0.000e+00 1.000e+00\n",
      " 1.046e+03 8.100e+01 0.000e+00 1.410e+02]\n",
      "seq: ['i' 'j' 'j'] ratio: 0.02813852813852814 err 0.5945945945945945 n [  1.   0.   0.   0.   0.   0.   0.   7.  13. 462.   0.]\n",
      "Done D:\\Users\\yarde\\vak_project\\BF\\hidden_size\\hidden_size_16\\gr41rd51\\results_210526_160858\\train_dur_45s\\replicate_3\n",
      "Loading checkpoint from:\n",
      "D:\\Users\\yarde\\vak_project\\BF\\hidden_size\\hidden_size_16\\gr41rd51\\results_210526_160858\\train_dur_45s\\replicate_4\\TweetyNet\\checkpoints\\max-val-acc-checkpoint.pt \n"
     ]
    },
    {
     "name": "stderr",
     "output_type": "stream",
     "text": [
      "batch 28 / 29: 100%|███████████████████████████████████████████████████████████████████| 29/29 [00:13<00:00,  2.14it/s]\n"
     ]
    },
    {
     "name": "stdout",
     "output_type": "stream",
     "text": [
      "Transition added:  ['a' 'b'] to f\n",
      "Transition added:  ['a' 'b'] to i\n",
      "Transition added:  ['c' 'd'] to i\n",
      "Transition added:  ['d' 'e'] to j\n",
      "Transition added:  ['d' 'i'] to i\n",
      "Transition added:  ['e' 'i'] to i\n",
      "Transition added:  ['i' 'i'] to a\n",
      "Transition added:  ['i' 'i'] to j\n",
      "Transition added:  ['i' 'i'] to m\n",
      "Transition added:  ['i' 'j'] to j\n"
     ]
    },
    {
     "name": "stderr",
     "output_type": "stream",
     "text": [
      "  0%|                                                                                           | 0/29 [00:00<?, ?it/s]"
     ]
    },
    {
     "name": "stdout",
     "output_type": "stream",
     "text": [
      "seq: ['a' 'b' 'f'] ratio: 0.016923076923076923 err 1.0 n [  0.   0. 650.   1.   0.  11.   0.  26.   7.   0.   7.]\n",
      "seq: ['a' 'b' 'i'] ratio: 0.04 err 0.16822429906542058 n [  0.   0. 650.   1.   0.  11.   0.  26.   7.   0.   7.]\n",
      "seq: ['c' 'd' 'i'] ratio: 0.14817880794701987 err 0.0757575757575758 n [0.000e+00 0.000e+00 0.000e+00 0.000e+00 1.208e+03 0.000e+00 0.000e+00\n",
      " 1.790e+02 4.000e+00 1.000e+00 3.000e+00]\n",
      "seq: ['d' 'e' 'j'] ratio: 0.018518518518518517 err 0.009615384615384581 n [  6.   0.   0.   0.   0. 756.   0. 238.  14.   0.   1.]\n",
      "seq: ['d' 'i' 'i'] ratio: 0.14012738853503184 err 0.18644067796610164 n [  0.   0.   0.   0.   0.   0.   0.  22. 157.   0.   0.]\n",
      "seq: ['e' 'i' 'i'] ratio: 0.23560209424083767 err 0.04878048780487809 n [  0.   0.   0.   0.   0.   1.   0.  45. 191.   0.   1.]\n",
      "seq: ['i' 'i' 'a'] ratio: 0.05162523900573613 err 0.31756756756756754 n [5.400e+01 0.000e+00 0.000e+00 0.000e+00 0.000e+00 0.000e+00 1.000e+00\n",
      " 1.046e+03 8.100e+01 0.000e+00 1.410e+02]\n",
      "seq: ['i' 'i' 'j'] ratio: 0.0774378585086042 err 0.06209150326797386 n [5.400e+01 0.000e+00 0.000e+00 0.000e+00 0.000e+00 0.000e+00 1.000e+00\n",
      " 1.046e+03 8.100e+01 0.000e+00 1.410e+02]\n",
      "seq: ['i' 'i' 'm'] ratio: 0.13479923518164436 err 0.39092140921409213 n [5.400e+01 0.000e+00 0.000e+00 0.000e+00 0.000e+00 0.000e+00 1.000e+00\n",
      " 1.046e+03 8.100e+01 0.000e+00 1.410e+02]\n",
      "seq: ['i' 'j' 'j'] ratio: 0.02813852813852814 err 0.027027027027026973 n [  1.   0.   0.   0.   0.   0.   0.   7.  13. 462.   0.]\n",
      "Done D:\\Users\\yarde\\vak_project\\BF\\hidden_size\\hidden_size_16\\gr41rd51\\results_210526_160858\\train_dur_45s\\replicate_4\n",
      "Loading checkpoint from:\n",
      "D:\\Users\\yarde\\vak_project\\BF\\hidden_size\\hidden_size_16\\gr41rd51\\results_210526_160858\\train_dur_45s\\replicate_5\\TweetyNet\\checkpoints\\max-val-acc-checkpoint.pt \n"
     ]
    },
    {
     "name": "stderr",
     "output_type": "stream",
     "text": [
      "batch 28 / 29: 100%|███████████████████████████████████████████████████████████████████| 29/29 [00:13<00:00,  2.13it/s]\n"
     ]
    },
    {
     "name": "stdout",
     "output_type": "stream",
     "text": [
      "Transition added:  ['a' 'b'] to f\n",
      "Transition added:  ['a' 'b'] to i\n",
      "Transition added:  ['c' 'd'] to i\n",
      "Transition added:  ['d' 'e'] to j\n",
      "Transition added:  ['d' 'i'] to i\n",
      "Transition added:  ['e' 'i'] to i\n",
      "Transition added:  ['i' 'i'] to a\n",
      "Transition added:  ['i' 'i'] to j\n",
      "Transition added:  ['i' 'i'] to m\n",
      "Transition added:  ['i' 'j'] to j\n"
     ]
    },
    {
     "name": "stderr",
     "output_type": "stream",
     "text": [
      "  0%|                                                                                           | 0/29 [00:00<?, ?it/s]"
     ]
    },
    {
     "name": "stdout",
     "output_type": "stream",
     "text": [
      "seq: ['a' 'b' 'f'] ratio: 0.016923076923076923 err 1.0 n [  0.   0. 650.   1.   0.  11.   0.  26.   7.   0.   7.]\n",
      "seq: ['a' 'b' 'i'] ratio: 0.04 err 0.5981308411214954 n [  0.   0. 650.   1.   0.  11.   0.  26.   7.   0.   7.]\n",
      "seq: ['c' 'd' 'i'] ratio: 0.14817880794701987 err 0.09090909090909094 n [0.000e+00 0.000e+00 0.000e+00 0.000e+00 1.208e+03 0.000e+00 0.000e+00\n",
      " 1.790e+02 4.000e+00 1.000e+00 3.000e+00]\n",
      "seq: ['d' 'e' 'j'] ratio: 0.018518518518518517 err 0.019230769230769273 n [  6.   0.   0.   0.   0. 756.   0. 238.  14.   0.   1.]\n",
      "seq: ['d' 'i' 'i'] ratio: 0.14012738853503184 err 0.10169491525423724 n [  0.   0.   0.   0.   0.   0.   0.  22. 157.   0.   0.]\n",
      "seq: ['e' 'i' 'i'] ratio: 0.23560209424083767 err 0.13414634146341464 n [  0.   0.   0.   0.   0.   1.   0.  45. 191.   0.   1.]\n",
      "seq: ['i' 'i' 'a'] ratio: 0.05162523900573613 err 0.2668918918918919 n [5.400e+01 0.000e+00 0.000e+00 0.000e+00 0.000e+00 0.000e+00 1.000e+00\n",
      " 1.046e+03 8.100e+01 0.000e+00 1.410e+02]\n",
      "seq: ['i' 'i' 'j'] ratio: 0.0774378585086042 err 0.02614379084967322 n [5.400e+01 0.000e+00 0.000e+00 0.000e+00 0.000e+00 0.000e+00 1.000e+00\n",
      " 1.046e+03 8.100e+01 0.000e+00 1.410e+02]\n",
      "seq: ['i' 'i' 'm'] ratio: 0.13479923518164436 err 0.2730352303523035 n [5.400e+01 0.000e+00 0.000e+00 0.000e+00 0.000e+00 0.000e+00 1.000e+00\n",
      " 1.046e+03 8.100e+01 0.000e+00 1.410e+02]\n",
      "seq: ['i' 'j' 'j'] ratio: 0.02813852813852814 err 0.2432432432432432 n [  1.   0.   0.   0.   0.   0.   0.   7.  13. 462.   0.]\n",
      "Done D:\\Users\\yarde\\vak_project\\BF\\hidden_size\\hidden_size_16\\gr41rd51\\results_210526_160858\\train_dur_45s\\replicate_5\n",
      "Loading checkpoint from:\n",
      "D:\\Users\\yarde\\vak_project\\BF\\hidden_size\\hidden_size_16\\gr41rd51\\results_210526_160858\\train_dur_45s\\replicate_6\\TweetyNet\\checkpoints\\max-val-acc-checkpoint.pt \n"
     ]
    },
    {
     "name": "stderr",
     "output_type": "stream",
     "text": [
      "batch 28 / 29: 100%|███████████████████████████████████████████████████████████████████| 29/29 [00:13<00:00,  2.11it/s]\n"
     ]
    },
    {
     "name": "stdout",
     "output_type": "stream",
     "text": [
      "Transition added:  ['a' 'b'] to f\n",
      "Transition added:  ['a' 'b'] to i\n",
      "Transition added:  ['c' 'd'] to i\n",
      "Transition added:  ['d' 'e'] to j\n",
      "Transition added:  ['d' 'i'] to i\n",
      "Transition added:  ['e' 'i'] to i\n",
      "Transition added:  ['i' 'i'] to a\n",
      "Transition added:  ['i' 'i'] to j\n",
      "Transition added:  ['i' 'i'] to m\n",
      "Transition added:  ['i' 'j'] to j\n"
     ]
    },
    {
     "name": "stderr",
     "output_type": "stream",
     "text": [
      "  0%|                                                                                           | 0/29 [00:00<?, ?it/s]"
     ]
    },
    {
     "name": "stdout",
     "output_type": "stream",
     "text": [
      "seq: ['a' 'b' 'f'] ratio: 0.016923076923076923 err 1.0 n [  0.   0. 650.   1.   0.  11.   0.  26.   7.   0.   7.]\n",
      "seq: ['a' 'b' 'i'] ratio: 0.04 err 0.5233644859813085 n [  0.   0. 650.   1.   0.  11.   0.  26.   7.   0.   7.]\n",
      "seq: ['c' 'd' 'i'] ratio: 0.14817880794701987 err 0.07878787878787874 n [0.000e+00 0.000e+00 0.000e+00 0.000e+00 1.208e+03 0.000e+00 0.000e+00\n",
      " 1.790e+02 4.000e+00 1.000e+00 3.000e+00]\n",
      "seq: ['d' 'e' 'j'] ratio: 0.018518518518518517 err 0.04807692307692313 n [  6.   0.   0.   0.   0. 756.   0. 238.  14.   0.   1.]\n",
      "seq: ['d' 'i' 'i'] ratio: 0.14012738853503184 err 0.0 n [  0.   0.   0.   0.   0.   0.   0.  22. 157.   0.   0.]\n",
      "seq: ['e' 'i' 'i'] ratio: 0.23560209424083767 err 0.0934959349593496 n [  0.   0.   0.   0.   0.   1.   0.  45. 191.   0.   1.]\n",
      "seq: ['i' 'i' 'a'] ratio: 0.05162523900573613 err 0.20608108108108103 n [5.400e+01 0.000e+00 0.000e+00 0.000e+00 0.000e+00 0.000e+00 1.000e+00\n",
      " 1.046e+03 8.100e+01 0.000e+00 1.410e+02]\n",
      "seq: ['i' 'i' 'j'] ratio: 0.0774378585086042 err 0.04575163398692805 n [5.400e+01 0.000e+00 0.000e+00 0.000e+00 0.000e+00 0.000e+00 1.000e+00\n",
      " 1.046e+03 8.100e+01 0.000e+00 1.410e+02]\n",
      "seq: ['i' 'i' 'm'] ratio: 0.13479923518164436 err 0.27913279132791324 n [5.400e+01 0.000e+00 0.000e+00 0.000e+00 0.000e+00 0.000e+00 1.000e+00\n",
      " 1.046e+03 8.100e+01 0.000e+00 1.410e+02]\n",
      "seq: ['i' 'j' 'j'] ratio: 0.02813852813852814 err 0.2702702702702703 n [  1.   0.   0.   0.   0.   0.   0.   7.  13. 462.   0.]\n",
      "Done D:\\Users\\yarde\\vak_project\\BF\\hidden_size\\hidden_size_16\\gr41rd51\\results_210526_160858\\train_dur_45s\\replicate_6\n",
      "Loading checkpoint from:\n",
      "D:\\Users\\yarde\\vak_project\\BF\\hidden_size\\hidden_size_16\\gr41rd51\\results_210526_160858\\train_dur_45s\\replicate_7\\TweetyNet\\checkpoints\\max-val-acc-checkpoint.pt \n"
     ]
    },
    {
     "name": "stderr",
     "output_type": "stream",
     "text": [
      "batch 28 / 29: 100%|███████████████████████████████████████████████████████████████████| 29/29 [00:13<00:00,  2.13it/s]\n"
     ]
    },
    {
     "name": "stdout",
     "output_type": "stream",
     "text": [
      "Transition added:  ['a' 'b'] to f\n",
      "Transition added:  ['a' 'b'] to i\n",
      "Transition added:  ['c' 'd'] to i\n",
      "Transition added:  ['d' 'e'] to j\n",
      "Transition added:  ['d' 'i'] to i\n",
      "Transition added:  ['e' 'i'] to i\n",
      "Transition added:  ['i' 'i'] to a\n",
      "Transition added:  ['i' 'i'] to j\n",
      "Transition added:  ['i' 'i'] to m\n",
      "Transition added:  ['i' 'j'] to j\n"
     ]
    },
    {
     "name": "stderr",
     "output_type": "stream",
     "text": [
      "  0%|                                                                                           | 0/29 [00:00<?, ?it/s]"
     ]
    },
    {
     "name": "stdout",
     "output_type": "stream",
     "text": [
      "seq: ['a' 'b' 'f'] ratio: 0.016923076923076923 err 0.5 n [  0.   0. 650.   1.   0.  11.   0.  26.   7.   0.   7.]\n",
      "seq: ['a' 'b' 'i'] ratio: 0.04 err 0.44859813084112155 n [  0.   0. 650.   1.   0.  11.   0.  26.   7.   0.   7.]\n",
      "seq: ['c' 'd' 'i'] ratio: 0.14817880794701987 err 0.07272727272727275 n [0.000e+00 0.000e+00 0.000e+00 0.000e+00 1.208e+03 0.000e+00 0.000e+00\n",
      " 1.790e+02 4.000e+00 1.000e+00 3.000e+00]\n",
      "seq: ['d' 'e' 'j'] ratio: 0.018518518518518517 err 0.13461538461538458 n [  6.   0.   0.   0.   0. 756.   0. 238.  14.   0.   1.]\n",
      "seq: ['d' 'i' 'i'] ratio: 0.14012738853503184 err 0.016949152542372836 n [  0.   0.   0.   0.   0.   0.   0.  22. 157.   0.   0.]\n",
      "seq: ['e' 'i' 'i'] ratio: 0.23560209424083767 err 0.1382113821138211 n [  0.   0.   0.   0.   0.   1.   0.  45. 191.   0.   1.]\n",
      "seq: ['i' 'i' 'a'] ratio: 0.05162523900573613 err 0.21959459459459463 n [5.400e+01 0.000e+00 0.000e+00 0.000e+00 0.000e+00 0.000e+00 1.000e+00\n",
      " 1.046e+03 8.100e+01 0.000e+00 1.410e+02]\n",
      "seq: ['i' 'i' 'j'] ratio: 0.0774378585086042 err 0.130718954248366 n [5.400e+01 0.000e+00 0.000e+00 0.000e+00 0.000e+00 0.000e+00 1.000e+00\n",
      " 1.046e+03 8.100e+01 0.000e+00 1.410e+02]\n",
      "seq: ['i' 'i' 'm'] ratio: 0.13479923518164436 err 0.5481029810298104 n [5.400e+01 0.000e+00 0.000e+00 0.000e+00 0.000e+00 0.000e+00 1.000e+00\n",
      " 1.046e+03 8.100e+01 0.000e+00 1.410e+02]\n",
      "seq: ['i' 'j' 'j'] ratio: 0.02813852813852814 err 0.9459459459459459 n [  1.   0.   0.   0.   0.   0.   0.   7.  13. 462.   0.]\n",
      "Done D:\\Users\\yarde\\vak_project\\BF\\hidden_size\\hidden_size_16\\gr41rd51\\results_210526_160858\\train_dur_45s\\replicate_7\n",
      "Loading checkpoint from:\n",
      "D:\\Users\\yarde\\vak_project\\BF\\hidden_size\\hidden_size_16\\gr41rd51\\results_210526_160858\\train_dur_45s\\replicate_8\\TweetyNet\\checkpoints\\max-val-acc-checkpoint.pt \n"
     ]
    },
    {
     "name": "stderr",
     "output_type": "stream",
     "text": [
      "batch 28 / 29: 100%|███████████████████████████████████████████████████████████████████| 29/29 [00:13<00:00,  2.14it/s]\n"
     ]
    },
    {
     "name": "stdout",
     "output_type": "stream",
     "text": [
      "Transition added:  ['a' 'b'] to f\n",
      "Transition added:  ['a' 'b'] to i\n",
      "Transition added:  ['c' 'd'] to i\n",
      "Transition added:  ['d' 'e'] to j\n",
      "Transition added:  ['d' 'i'] to i\n",
      "Transition added:  ['e' 'i'] to i\n",
      "Transition added:  ['i' 'i'] to a\n",
      "Transition added:  ['i' 'i'] to j\n",
      "Transition added:  ['i' 'i'] to m\n",
      "Transition added:  ['i' 'j'] to j\n"
     ]
    },
    {
     "name": "stderr",
     "output_type": "stream",
     "text": [
      "  0%|                                                                                           | 0/29 [00:00<?, ?it/s]"
     ]
    },
    {
     "name": "stdout",
     "output_type": "stream",
     "text": [
      "seq: ['a' 'b' 'f'] ratio: 0.016923076923076923 err 0.23333333333333328 n [  0.   0. 650.   1.   0.  11.   0.  26.   7.   0.   7.]\n",
      "seq: ['a' 'b' 'i'] ratio: 0.04 err 0.2710280373831776 n [  0.   0. 650.   1.   0.  11.   0.  26.   7.   0.   7.]\n",
      "seq: ['c' 'd' 'i'] ratio: 0.14817880794701987 err 0.22878787878787876 n [0.000e+00 0.000e+00 0.000e+00 0.000e+00 1.208e+03 0.000e+00 0.000e+00\n",
      " 1.790e+02 4.000e+00 1.000e+00 3.000e+00]\n",
      "seq: ['d' 'e' 'j'] ratio: 0.018518518518518517 err 0.09615384615384615 n [  6.   0.   0.   0.   0. 756.   0. 238.  14.   0.   1.]\n",
      "seq: ['d' 'i' 'i'] ratio: 0.14012738853503184 err 0.30508474576271183 n [  0.   0.   0.   0.   0.   0.   0.  22. 157.   0.   0.]\n",
      "seq: ['e' 'i' 'i'] ratio: 0.23560209424083767 err 0.15040650406504064 n [  0.   0.   0.   0.   0.   1.   0.  45. 191.   0.   1.]\n",
      "seq: ['i' 'i' 'a'] ratio: 0.05162523900573613 err 0.3614864864864865 n [5.400e+01 0.000e+00 0.000e+00 0.000e+00 0.000e+00 0.000e+00 1.000e+00\n",
      " 1.046e+03 8.100e+01 0.000e+00 1.410e+02]\n",
      "seq: ['i' 'i' 'j'] ratio: 0.0774378585086042 err 0.0980392156862745 n [5.400e+01 0.000e+00 0.000e+00 0.000e+00 0.000e+00 0.000e+00 1.000e+00\n",
      " 1.046e+03 8.100e+01 0.000e+00 1.410e+02]\n",
      "seq: ['i' 'i' 'm'] ratio: 0.13479923518164436 err 0.33333333333333337 n [5.400e+01 0.000e+00 0.000e+00 0.000e+00 0.000e+00 0.000e+00 1.000e+00\n",
      " 1.046e+03 8.100e+01 0.000e+00 1.410e+02]\n",
      "seq: ['i' 'j' 'j'] ratio: 0.02813852813852814 err 0.10810810810810811 n [  1.   0.   0.   0.   0.   0.   0.   7.  13. 462.   0.]\n",
      "Done D:\\Users\\yarde\\vak_project\\BF\\hidden_size\\hidden_size_16\\gr41rd51\\results_210526_160858\\train_dur_45s\\replicate_8\n",
      "Loading checkpoint from:\n",
      "D:\\Users\\yarde\\vak_project\\BF\\hidden_size\\hidden_size_16\\gr41rd51\\results_210526_160858\\train_dur_45s\\replicate_9\\TweetyNet\\checkpoints\\max-val-acc-checkpoint.pt \n"
     ]
    },
    {
     "name": "stderr",
     "output_type": "stream",
     "text": [
      "batch 28 / 29: 100%|███████████████████████████████████████████████████████████████████| 29/29 [00:13<00:00,  2.14it/s]\n"
     ]
    },
    {
     "name": "stdout",
     "output_type": "stream",
     "text": [
      "Transition added:  ['a' 'b'] to f\n",
      "Transition added:  ['a' 'b'] to i\n",
      "Transition added:  ['c' 'd'] to i\n",
      "Transition added:  ['d' 'e'] to j\n",
      "Transition added:  ['d' 'i'] to i\n",
      "Transition added:  ['e' 'i'] to i\n",
      "Transition added:  ['i' 'i'] to a\n",
      "Transition added:  ['i' 'i'] to j\n",
      "Transition added:  ['i' 'i'] to m\n",
      "Transition added:  ['i' 'j'] to j\n"
     ]
    },
    {
     "name": "stderr",
     "output_type": "stream",
     "text": [
      "  0%|                                                                                           | 0/29 [00:00<?, ?it/s]"
     ]
    },
    {
     "name": "stdout",
     "output_type": "stream",
     "text": [
      "seq: ['a' 'b' 'f'] ratio: 0.016923076923076923 err 1.0 n [  0.   0. 650.   1.   0.  11.   0.  26.   7.   0.   7.]\n",
      "seq: ['a' 'b' 'i'] ratio: 0.04 err 0.42056074766355145 n [  0.   0. 650.   1.   0.  11.   0.  26.   7.   0.   7.]\n",
      "seq: ['c' 'd' 'i'] ratio: 0.14817880794701987 err 0.12121212121212122 n [0.000e+00 0.000e+00 0.000e+00 0.000e+00 1.208e+03 0.000e+00 0.000e+00\n",
      " 1.790e+02 4.000e+00 1.000e+00 3.000e+00]\n",
      "seq: ['d' 'e' 'j'] ratio: 0.018518518518518517 err 0.028846153846153855 n [  6.   0.   0.   0.   0. 756.   0. 238.  14.   0.   1.]\n",
      "seq: ['d' 'i' 'i'] ratio: 0.14012738853503184 err 0.016949152542372836 n [  0.   0.   0.   0.   0.   0.   0.  22. 157.   0.   0.]\n",
      "seq: ['e' 'i' 'i'] ratio: 0.23560209424083767 err 0.20731707317073167 n [  0.   0.   0.   0.   0.   1.   0.  45. 191.   0.   1.]\n",
      "seq: ['i' 'i' 'a'] ratio: 0.05162523900573613 err 0.2432432432432432 n [5.400e+01 0.000e+00 0.000e+00 0.000e+00 0.000e+00 0.000e+00 1.000e+00\n",
      " 1.046e+03 8.100e+01 0.000e+00 1.410e+02]\n",
      "seq: ['i' 'i' 'j'] ratio: 0.0774378585086042 err 0.05882352941176472 n [5.400e+01 0.000e+00 0.000e+00 0.000e+00 0.000e+00 0.000e+00 1.000e+00\n",
      " 1.046e+03 8.100e+01 0.000e+00 1.410e+02]\n",
      "seq: ['i' 'i' 'm'] ratio: 0.13479923518164436 err 0.42344173441734423 n [5.400e+01 0.000e+00 0.000e+00 0.000e+00 0.000e+00 0.000e+00 1.000e+00\n",
      " 1.046e+03 8.100e+01 0.000e+00 1.410e+02]\n",
      "seq: ['i' 'j' 'j'] ratio: 0.02813852813852814 err 0.8648648648648649 n [  1.   0.   0.   0.   0.   0.   0.   7.  13. 462.   0.]\n",
      "Done D:\\Users\\yarde\\vak_project\\BF\\hidden_size\\hidden_size_16\\gr41rd51\\results_210526_160858\\train_dur_45s\\replicate_9\n",
      "Loading checkpoint from:\n",
      "D:\\Users\\yarde\\vak_project\\BF\\hidden_size\\hidden_size_16\\gr41rd51\\results_210526_160858\\train_dur_480s\\replicate_1\\TweetyNet\\checkpoints\\max-val-acc-checkpoint.pt \n"
     ]
    },
    {
     "name": "stderr",
     "output_type": "stream",
     "text": [
      "batch 28 / 29: 100%|███████████████████████████████████████████████████████████████████| 29/29 [00:13<00:00,  2.13it/s]\n"
     ]
    },
    {
     "name": "stdout",
     "output_type": "stream",
     "text": [
      "Transition added:  ['a' 'b'] to f\n",
      "Transition added:  ['a' 'b'] to i\n",
      "Transition added:  ['c' 'd'] to i\n",
      "Transition added:  ['d' 'e'] to j\n",
      "Transition added:  ['d' 'i'] to i\n",
      "Transition added:  ['e' 'i'] to i\n",
      "Transition added:  ['i' 'i'] to a\n",
      "Transition added:  ['i' 'i'] to j\n",
      "Transition added:  ['i' 'i'] to m\n",
      "Transition added:  ['i' 'j'] to j\n"
     ]
    },
    {
     "name": "stderr",
     "output_type": "stream",
     "text": [
      "  0%|                                                                                           | 0/29 [00:00<?, ?it/s]"
     ]
    },
    {
     "name": "stdout",
     "output_type": "stream",
     "text": [
      "seq: ['a' 'b' 'f'] ratio: 0.016923076923076923 err 0.16666666666666663 n [  0.   0. 650.   1.   0.  11.   0.  26.   7.   0.   7.]\n",
      "seq: ['a' 'b' 'i'] ratio: 0.04 err 0.25233644859813087 n [  0.   0. 650.   1.   0.  11.   0.  26.   7.   0.   7.]\n",
      "seq: ['c' 'd' 'i'] ratio: 0.14817880794701987 err 0.06060606060606055 n [0.000e+00 0.000e+00 0.000e+00 0.000e+00 1.208e+03 0.000e+00 0.000e+00\n",
      " 1.790e+02 4.000e+00 1.000e+00 3.000e+00]\n",
      "seq: ['d' 'e' 'j'] ratio: 0.018518518518518517 err 0.009615384615384581 n [  6.   0.   0.   0.   0. 756.   0. 238.  14.   0.   1.]\n",
      "seq: ['d' 'i' 'i'] ratio: 0.14012738853503184 err 0.0 n [  0.   0.   0.   0.   0.   0.   0.  22. 157.   0.   0.]\n",
      "seq: ['e' 'i' 'i'] ratio: 0.23560209424083767 err 0.020325203252032575 n [  0.   0.   0.   0.   0.   1.   0.  45. 191.   0.   1.]\n",
      "seq: ['i' 'i' 'a'] ratio: 0.05162523900573613 err 0.08783783783783783 n [5.400e+01 0.000e+00 0.000e+00 0.000e+00 0.000e+00 0.000e+00 1.000e+00\n",
      " 1.046e+03 8.100e+01 0.000e+00 1.410e+02]\n",
      "seq: ['i' 'i' 'j'] ratio: 0.0774378585086042 err 0.022875816993464082 n [5.400e+01 0.000e+00 0.000e+00 0.000e+00 0.000e+00 0.000e+00 1.000e+00\n",
      " 1.046e+03 8.100e+01 0.000e+00 1.410e+02]\n",
      "seq: ['i' 'i' 'm'] ratio: 0.13479923518164436 err 0.09485094850948506 n [5.400e+01 0.000e+00 0.000e+00 0.000e+00 0.000e+00 0.000e+00 1.000e+00\n",
      " 1.046e+03 8.100e+01 0.000e+00 1.410e+02]\n",
      "seq: ['i' 'j' 'j'] ratio: 0.02813852813852814 err 0.027027027027026973 n [  1.   0.   0.   0.   0.   0.   0.   7.  13. 462.   0.]\n",
      "Done D:\\Users\\yarde\\vak_project\\BF\\hidden_size\\hidden_size_16\\gr41rd51\\results_210526_160858\\train_dur_480s\\replicate_1\n",
      "Loading checkpoint from:\n",
      "D:\\Users\\yarde\\vak_project\\BF\\hidden_size\\hidden_size_16\\gr41rd51\\results_210526_160858\\train_dur_480s\\replicate_10\\TweetyNet\\checkpoints\\max-val-acc-checkpoint.pt \n"
     ]
    },
    {
     "name": "stderr",
     "output_type": "stream",
     "text": [
      "batch 28 / 29: 100%|███████████████████████████████████████████████████████████████████| 29/29 [00:13<00:00,  2.13it/s]\n"
     ]
    },
    {
     "name": "stdout",
     "output_type": "stream",
     "text": [
      "Transition added:  ['a' 'b'] to f\n",
      "Transition added:  ['a' 'b'] to i\n",
      "Transition added:  ['c' 'd'] to i\n",
      "Transition added:  ['d' 'e'] to j\n",
      "Transition added:  ['d' 'i'] to i\n",
      "Transition added:  ['e' 'i'] to i\n",
      "Transition added:  ['i' 'i'] to a\n",
      "Transition added:  ['i' 'i'] to j\n",
      "Transition added:  ['i' 'i'] to m\n",
      "Transition added:  ['i' 'j'] to j\n"
     ]
    },
    {
     "name": "stderr",
     "output_type": "stream",
     "text": [
      "  0%|                                                                                           | 0/29 [00:00<?, ?it/s]"
     ]
    },
    {
     "name": "stdout",
     "output_type": "stream",
     "text": [
      "seq: ['a' 'b' 'f'] ratio: 0.016923076923076923 err 0.43333333333333335 n [  0.   0. 650.   1.   0.  11.   0.  26.   7.   0.   7.]\n",
      "seq: ['a' 'b' 'i'] ratio: 0.04 err 0.25233644859813087 n [  0.   0. 650.   1.   0.  11.   0.  26.   7.   0.   7.]\n",
      "seq: ['c' 'd' 'i'] ratio: 0.14817880794701987 err 0.024242424242424288 n [0.000e+00 0.000e+00 0.000e+00 0.000e+00 1.208e+03 0.000e+00 0.000e+00\n",
      " 1.790e+02 4.000e+00 1.000e+00 3.000e+00]\n",
      "seq: ['d' 'e' 'j'] ratio: 0.018518518518518517 err 0.019230769230769273 n [  6.   0.   0.   0.   0. 756.   0. 238.  14.   0.   1.]\n",
      "seq: ['d' 'i' 'i'] ratio: 0.14012738853503184 err 0.0 n [  0.   0.   0.   0.   0.   0.   0.  22. 157.   0.   0.]\n",
      "seq: ['e' 'i' 'i'] ratio: 0.23560209424083767 err 0.03252032520325199 n [  0.   0.   0.   0.   0.   1.   0.  45. 191.   0.   1.]\n",
      "seq: ['i' 'i' 'a'] ratio: 0.05162523900573613 err 0.04054054054054057 n [5.400e+01 0.000e+00 0.000e+00 0.000e+00 0.000e+00 0.000e+00 1.000e+00\n",
      " 1.046e+03 8.100e+01 0.000e+00 1.410e+02]\n",
      "seq: ['i' 'i' 'j'] ratio: 0.0774378585086042 err 0.022875816993464082 n [5.400e+01 0.000e+00 0.000e+00 0.000e+00 0.000e+00 0.000e+00 1.000e+00\n",
      " 1.046e+03 8.100e+01 0.000e+00 1.410e+02]\n",
      "seq: ['i' 'i' 'm'] ratio: 0.13479923518164436 err 0.2452574525745257 n [5.400e+01 0.000e+00 0.000e+00 0.000e+00 0.000e+00 0.000e+00 1.000e+00\n",
      " 1.046e+03 8.100e+01 0.000e+00 1.410e+02]\n",
      "seq: ['i' 'j' 'j'] ratio: 0.02813852813852814 err 0.027027027027026973 n [  1.   0.   0.   0.   0.   0.   0.   7.  13. 462.   0.]\n",
      "Done D:\\Users\\yarde\\vak_project\\BF\\hidden_size\\hidden_size_16\\gr41rd51\\results_210526_160858\\train_dur_480s\\replicate_10\n",
      "Loading checkpoint from:\n",
      "D:\\Users\\yarde\\vak_project\\BF\\hidden_size\\hidden_size_16\\gr41rd51\\results_210526_160858\\train_dur_480s\\replicate_2\\TweetyNet\\checkpoints\\max-val-acc-checkpoint.pt \n"
     ]
    },
    {
     "name": "stderr",
     "output_type": "stream",
     "text": [
      "batch 28 / 29: 100%|███████████████████████████████████████████████████████████████████| 29/29 [00:13<00:00,  2.13it/s]\n"
     ]
    },
    {
     "name": "stdout",
     "output_type": "stream",
     "text": [
      "Transition added:  ['a' 'b'] to f\n",
      "Transition added:  ['a' 'b'] to i\n",
      "Transition added:  ['c' 'd'] to i\n",
      "Transition added:  ['d' 'e'] to j\n",
      "Transition added:  ['d' 'i'] to i\n",
      "Transition added:  ['e' 'i'] to i\n",
      "Transition added:  ['i' 'i'] to a\n",
      "Transition added:  ['i' 'i'] to j\n",
      "Transition added:  ['i' 'i'] to m\n",
      "Transition added:  ['i' 'j'] to j\n"
     ]
    },
    {
     "name": "stderr",
     "output_type": "stream",
     "text": [
      "  0%|                                                                                           | 0/29 [00:00<?, ?it/s]"
     ]
    },
    {
     "name": "stdout",
     "output_type": "stream",
     "text": [
      "seq: ['a' 'b' 'f'] ratio: 0.016923076923076923 err 0.6333333333333333 n [  0.   0. 650.   1.   0.  11.   0.  26.   7.   0.   7.]\n",
      "seq: ['a' 'b' 'i'] ratio: 0.04 err 0.30841121495327106 n [  0.   0. 650.   1.   0.  11.   0.  26.   7.   0.   7.]\n",
      "seq: ['c' 'd' 'i'] ratio: 0.14817880794701987 err 0.033333333333333326 n [0.000e+00 0.000e+00 0.000e+00 0.000e+00 1.208e+03 0.000e+00 0.000e+00\n",
      " 1.790e+02 4.000e+00 1.000e+00 3.000e+00]\n",
      "seq: ['d' 'e' 'j'] ratio: 0.018518518518518517 err 0.019230769230769273 n [  6.   0.   0.   0.   0. 756.   0. 238.  14.   0.   1.]\n",
      "seq: ['d' 'i' 'i'] ratio: 0.14012738853503184 err 0.016949152542372836 n [  0.   0.   0.   0.   0.   0.   0.  22. 157.   0.   0.]\n",
      "seq: ['e' 'i' 'i'] ratio: 0.23560209424083767 err 0.06910569105691056 n [  0.   0.   0.   0.   0.   1.   0.  45. 191.   0.   1.]\n",
      "seq: ['i' 'i' 'a'] ratio: 0.05162523900573613 err 0.1182432432432432 n [5.400e+01 0.000e+00 0.000e+00 0.000e+00 0.000e+00 0.000e+00 1.000e+00\n",
      " 1.046e+03 8.100e+01 0.000e+00 1.410e+02]\n",
      "seq: ['i' 'i' 'j'] ratio: 0.0774378585086042 err 0.019607843137254943 n [5.400e+01 0.000e+00 0.000e+00 0.000e+00 0.000e+00 0.000e+00 1.000e+00\n",
      " 1.046e+03 8.100e+01 0.000e+00 1.410e+02]\n",
      "seq: ['i' 'i' 'm'] ratio: 0.13479923518164436 err 0.1917344173441734 n [5.400e+01 0.000e+00 0.000e+00 0.000e+00 0.000e+00 0.000e+00 1.000e+00\n",
      " 1.046e+03 8.100e+01 0.000e+00 1.410e+02]\n",
      "seq: ['i' 'j' 'j'] ratio: 0.02813852813852814 err 0.0 n [  1.   0.   0.   0.   0.   0.   0.   7.  13. 462.   0.]\n",
      "Done D:\\Users\\yarde\\vak_project\\BF\\hidden_size\\hidden_size_16\\gr41rd51\\results_210526_160858\\train_dur_480s\\replicate_2\n",
      "Loading checkpoint from:\n",
      "D:\\Users\\yarde\\vak_project\\BF\\hidden_size\\hidden_size_16\\gr41rd51\\results_210526_160858\\train_dur_480s\\replicate_3\\TweetyNet\\checkpoints\\max-val-acc-checkpoint.pt \n"
     ]
    },
    {
     "name": "stderr",
     "output_type": "stream",
     "text": [
      "batch 28 / 29: 100%|███████████████████████████████████████████████████████████████████| 29/29 [00:13<00:00,  2.14it/s]\n"
     ]
    },
    {
     "name": "stdout",
     "output_type": "stream",
     "text": [
      "Transition added:  ['a' 'b'] to f\n",
      "Transition added:  ['a' 'b'] to i\n",
      "Transition added:  ['c' 'd'] to i\n",
      "Transition added:  ['d' 'e'] to j\n",
      "Transition added:  ['d' 'i'] to i\n",
      "Transition added:  ['e' 'i'] to i\n",
      "Transition added:  ['i' 'i'] to a\n",
      "Transition added:  ['i' 'i'] to j\n",
      "Transition added:  ['i' 'i'] to m\n",
      "Transition added:  ['i' 'j'] to j\n"
     ]
    },
    {
     "name": "stderr",
     "output_type": "stream",
     "text": [
      "  0%|                                                                                           | 0/29 [00:00<?, ?it/s]"
     ]
    },
    {
     "name": "stdout",
     "output_type": "stream",
     "text": [
      "seq: ['a' 'b' 'f'] ratio: 0.016923076923076923 err 0.033333333333333326 n [  0.   0. 650.   1.   0.  11.   0.  26.   7.   0.   7.]\n",
      "seq: ['a' 'b' 'i'] ratio: 0.04 err 0.30841121495327106 n [  0.   0. 650.   1.   0.  11.   0.  26.   7.   0.   7.]\n",
      "seq: ['c' 'd' 'i'] ratio: 0.14817880794701987 err 0.045454545454545414 n [0.000e+00 0.000e+00 0.000e+00 0.000e+00 1.208e+03 0.000e+00 0.000e+00\n",
      " 1.790e+02 4.000e+00 1.000e+00 3.000e+00]\n",
      "seq: ['d' 'e' 'j'] ratio: 0.018518518518518517 err 0.009615384615384581 n [  6.   0.   0.   0.   0. 756.   0. 238.  14.   0.   1.]\n",
      "seq: ['d' 'i' 'i'] ratio: 0.14012738853503184 err 0.05084745762711862 n [  0.   0.   0.   0.   0.   0.   0.  22. 157.   0.   0.]\n",
      "seq: ['e' 'i' 'i'] ratio: 0.23560209424083767 err 0.04878048780487809 n [  0.   0.   0.   0.   0.   1.   0.  45. 191.   0.   1.]\n",
      "seq: ['i' 'i' 'a'] ratio: 0.05162523900573613 err 0.09121621621621623 n [5.400e+01 0.000e+00 0.000e+00 0.000e+00 0.000e+00 0.000e+00 1.000e+00\n",
      " 1.046e+03 8.100e+01 0.000e+00 1.410e+02]\n",
      "seq: ['i' 'i' 'j'] ratio: 0.0774378585086042 err 0.02941176470588236 n [5.400e+01 0.000e+00 0.000e+00 0.000e+00 0.000e+00 0.000e+00 1.000e+00\n",
      " 1.046e+03 8.100e+01 0.000e+00 1.410e+02]\n",
      "seq: ['i' 'i' 'm'] ratio: 0.13479923518164436 err 0.15921409214092141 n [5.400e+01 0.000e+00 0.000e+00 0.000e+00 0.000e+00 0.000e+00 1.000e+00\n",
      " 1.046e+03 8.100e+01 0.000e+00 1.410e+02]\n",
      "seq: ['i' 'j' 'j'] ratio: 0.02813852813852814 err 0.10810810810810811 n [  1.   0.   0.   0.   0.   0.   0.   7.  13. 462.   0.]\n",
      "Done D:\\Users\\yarde\\vak_project\\BF\\hidden_size\\hidden_size_16\\gr41rd51\\results_210526_160858\\train_dur_480s\\replicate_3\n",
      "Loading checkpoint from:\n",
      "D:\\Users\\yarde\\vak_project\\BF\\hidden_size\\hidden_size_16\\gr41rd51\\results_210526_160858\\train_dur_480s\\replicate_4\\TweetyNet\\checkpoints\\max-val-acc-checkpoint.pt \n"
     ]
    },
    {
     "name": "stderr",
     "output_type": "stream",
     "text": [
      "batch 28 / 29: 100%|███████████████████████████████████████████████████████████████████| 29/29 [00:13<00:00,  2.13it/s]\n"
     ]
    },
    {
     "name": "stdout",
     "output_type": "stream",
     "text": [
      "Transition added:  ['a' 'b'] to f\n",
      "Transition added:  ['a' 'b'] to i\n",
      "Transition added:  ['c' 'd'] to i\n",
      "Transition added:  ['d' 'e'] to j\n",
      "Transition added:  ['d' 'i'] to i\n",
      "Transition added:  ['e' 'i'] to i\n",
      "Transition added:  ['i' 'i'] to a\n",
      "Transition added:  ['i' 'i'] to j\n",
      "Transition added:  ['i' 'i'] to m\n",
      "Transition added:  ['i' 'j'] to j\n"
     ]
    },
    {
     "name": "stderr",
     "output_type": "stream",
     "text": [
      "  0%|                                                                                           | 0/29 [00:00<?, ?it/s]"
     ]
    },
    {
     "name": "stdout",
     "output_type": "stream",
     "text": [
      "seq: ['a' 'b' 'f'] ratio: 0.016923076923076923 err 1.0 n [  0.   0. 650.   1.   0.  11.   0.  26.   7.   0.   7.]\n",
      "seq: ['a' 'b' 'i'] ratio: 0.04 err 0.30841121495327106 n [  0.   0. 650.   1.   0.  11.   0.  26.   7.   0.   7.]\n",
      "seq: ['c' 'd' 'i'] ratio: 0.14817880794701987 err 0.013636363636363669 n [0.000e+00 0.000e+00 0.000e+00 0.000e+00 1.208e+03 0.000e+00 0.000e+00\n",
      " 1.790e+02 4.000e+00 1.000e+00 3.000e+00]\n",
      "seq: ['d' 'e' 'j'] ratio: 0.018518518518518517 err 0.028846153846153855 n [  6.   0.   0.   0.   0. 756.   0. 238.  14.   0.   1.]\n",
      "seq: ['d' 'i' 'i'] ratio: 0.14012738853503184 err 0.0 n [  0.   0.   0.   0.   0.   0.   0.  22. 157.   0.   0.]\n",
      "seq: ['e' 'i' 'i'] ratio: 0.23560209424083767 err 0.016260162601625994 n [  0.   0.   0.   0.   0.   1.   0.  45. 191.   0.   1.]\n",
      "seq: ['i' 'i' 'a'] ratio: 0.05162523900573613 err 0.125 n [5.400e+01 0.000e+00 0.000e+00 0.000e+00 0.000e+00 0.000e+00 1.000e+00\n",
      " 1.046e+03 8.100e+01 0.000e+00 1.410e+02]\n",
      "seq: ['i' 'i' 'j'] ratio: 0.0774378585086042 err 0.02614379084967322 n [5.400e+01 0.000e+00 0.000e+00 0.000e+00 0.000e+00 0.000e+00 1.000e+00\n",
      " 1.046e+03 8.100e+01 0.000e+00 1.410e+02]\n",
      "seq: ['i' 'i' 'm'] ratio: 0.13479923518164436 err 0.2567750677506775 n [5.400e+01 0.000e+00 0.000e+00 0.000e+00 0.000e+00 0.000e+00 1.000e+00\n",
      " 1.046e+03 8.100e+01 0.000e+00 1.410e+02]\n",
      "seq: ['i' 'j' 'j'] ratio: 0.02813852813852814 err 0.0 n [  1.   0.   0.   0.   0.   0.   0.   7.  13. 462.   0.]\n",
      "Done D:\\Users\\yarde\\vak_project\\BF\\hidden_size\\hidden_size_16\\gr41rd51\\results_210526_160858\\train_dur_480s\\replicate_4\n",
      "Loading checkpoint from:\n",
      "D:\\Users\\yarde\\vak_project\\BF\\hidden_size\\hidden_size_16\\gr41rd51\\results_210526_160858\\train_dur_480s\\replicate_5\\TweetyNet\\checkpoints\\max-val-acc-checkpoint.pt \n"
     ]
    },
    {
     "name": "stderr",
     "output_type": "stream",
     "text": [
      "batch 28 / 29: 100%|███████████████████████████████████████████████████████████████████| 29/29 [00:13<00:00,  2.16it/s]\n"
     ]
    },
    {
     "name": "stdout",
     "output_type": "stream",
     "text": [
      "Transition added:  ['a' 'b'] to f\n",
      "Transition added:  ['a' 'b'] to i\n",
      "Transition added:  ['c' 'd'] to i\n",
      "Transition added:  ['d' 'e'] to j\n",
      "Transition added:  ['d' 'i'] to i\n",
      "Transition added:  ['e' 'i'] to i\n",
      "Transition added:  ['i' 'i'] to a\n",
      "Transition added:  ['i' 'i'] to j\n",
      "Transition added:  ['i' 'i'] to m\n",
      "Transition added:  ['i' 'j'] to j\n",
      "seq: ['a' 'b' 'f'] ratio: 0.016923076923076923 err 0.06666666666666665 n [  0.   0. 650.   1.   0.  11.   0.  26.   7.   0.   7.]\n",
      "seq: ['a' 'b' 'i'] ratio: 0.04 err 0.22429906542056077 n [  0.   0. 650.   1.   0.  11.   0.  26.   7.   0.   7.]\n",
      "seq: ['c' 'd' 'i'] ratio: 0.14817880794701987 err 0.021212121212121238 n [0.000e+00 0.000e+00 0.000e+00 0.000e+00 1.208e+03 0.000e+00 0.000e+00\n",
      " 1.790e+02 4.000e+00 1.000e+00 3.000e+00]\n",
      "seq: ['d' 'e' 'j'] ratio: 0.018518518518518517 err 0.028846153846153855 n [  6.   0.   0.   0.   0. 756.   0. 238.  14.   0.   1.]\n",
      "seq: ['d' 'i' 'i'] ratio: 0.14012738853503184 err 0.0 n [  0.   0.   0.   0.   0.   0.   0.  22. 157.   0.   0.]\n",
      "seq: ['e' 'i' 'i'] ratio: 0.23560209424083767 err 0.012195121951219523 n [  0.   0.   0.   0.   0.   1.   0.  45. 191.   0.   1.]\n",
      "seq: ['i' 'i' 'a'] ratio: 0.05162523900573613 err 0.1351351351351351 n [5.400e+01 0.000e+00 0.000e+00 0.000e+00 0.000e+00 0.000e+00 1.000e+00\n",
      " 1.046e+03 8.100e+01 0.000e+00 1.410e+02]\n",
      "seq: ['i' 'i' 'j'] ratio: 0.0774378585086042 err 0.02614379084967322 n [5.400e+01 0.000e+00 0.000e+00 0.000e+00 0.000e+00 0.000e+00 1.000e+00\n",
      " 1.046e+03 8.100e+01 0.000e+00 1.410e+02]\n",
      "seq: ['i' 'i' 'm'] ratio: 0.13479923518164436 err 0.15989159891598914 n [5.400e+01 0.000e+00 0.000e+00 0.000e+00 0.000e+00 0.000e+00 1.000e+00\n",
      " 1.046e+03 8.100e+01 0.000e+00 1.410e+02]\n",
      "seq: ['i' 'j' 'j'] ratio: 0.02813852813852814 err 0.027027027027026973 n [  1.   0.   0.   0.   0.   0.   0.   7.  13. 462.   0.]\n",
      "Done D:\\Users\\yarde\\vak_project\\BF\\hidden_size\\hidden_size_16\\gr41rd51\\results_210526_160858\\train_dur_480s\\replicate_5\n",
      "Loading checkpoint from:\n",
      "D:\\Users\\yarde\\vak_project\\BF\\hidden_size\\hidden_size_16\\gr41rd51\\results_210526_160858\\train_dur_480s\\replicate_6\\TweetyNet\\checkpoints\\max-val-acc-checkpoint.pt \n"
     ]
    },
    {
     "name": "stderr",
     "output_type": "stream",
     "text": [
      "batch 28 / 29: 100%|███████████████████████████████████████████████████████████████████| 29/29 [00:13<00:00,  2.14it/s]\n"
     ]
    },
    {
     "name": "stdout",
     "output_type": "stream",
     "text": [
      "Transition added:  ['a' 'b'] to f\n",
      "Transition added:  ['a' 'b'] to i\n",
      "Transition added:  ['c' 'd'] to i\n",
      "Transition added:  ['d' 'e'] to j\n",
      "Transition added:  ['d' 'i'] to i\n",
      "Transition added:  ['e' 'i'] to i\n",
      "Transition added:  ['i' 'i'] to a\n",
      "Transition added:  ['i' 'i'] to j\n",
      "Transition added:  ['i' 'i'] to m\n",
      "Transition added:  ['i' 'j'] to j\n"
     ]
    },
    {
     "name": "stderr",
     "output_type": "stream",
     "text": [
      "  0%|                                                                                           | 0/29 [00:00<?, ?it/s]"
     ]
    },
    {
     "name": "stdout",
     "output_type": "stream",
     "text": [
      "seq: ['a' 'b' 'f'] ratio: 0.016923076923076923 err 0.1333333333333333 n [  0.   0. 650.   1.   0.  11.   0.  26.   7.   0.   7.]\n",
      "seq: ['a' 'b' 'i'] ratio: 0.04 err 0.3551401869158879 n [  0.   0. 650.   1.   0.  11.   0.  26.   7.   0.   7.]\n",
      "seq: ['c' 'd' 'i'] ratio: 0.14817880794701987 err 0.039393939393939426 n [0.000e+00 0.000e+00 0.000e+00 0.000e+00 1.208e+03 0.000e+00 0.000e+00\n",
      " 1.790e+02 4.000e+00 1.000e+00 3.000e+00]\n",
      "seq: ['d' 'e' 'j'] ratio: 0.018518518518518517 err 0.038461538461538436 n [  6.   0.   0.   0.   0. 756.   0. 238.  14.   0.   1.]\n",
      "seq: ['d' 'i' 'i'] ratio: 0.14012738853503184 err 0.0 n [  0.   0.   0.   0.   0.   0.   0.  22. 157.   0.   0.]\n",
      "seq: ['e' 'i' 'i'] ratio: 0.23560209424083767 err 0.028455284552845517 n [  0.   0.   0.   0.   0.   1.   0.  45. 191.   0.   1.]\n",
      "seq: ['i' 'i' 'a'] ratio: 0.05162523900573613 err 0.060810810810810856 n [5.400e+01 0.000e+00 0.000e+00 0.000e+00 0.000e+00 0.000e+00 1.000e+00\n",
      " 1.046e+03 8.100e+01 0.000e+00 1.410e+02]\n",
      "seq: ['i' 'i' 'j'] ratio: 0.0774378585086042 err 0.039215686274509776 n [5.400e+01 0.000e+00 0.000e+00 0.000e+00 0.000e+00 0.000e+00 1.000e+00\n",
      " 1.046e+03 8.100e+01 0.000e+00 1.410e+02]\n",
      "seq: ['i' 'i' 'm'] ratio: 0.13479923518164436 err 0.17344173441734423 n [5.400e+01 0.000e+00 0.000e+00 0.000e+00 0.000e+00 0.000e+00 1.000e+00\n",
      " 1.046e+03 8.100e+01 0.000e+00 1.410e+02]\n",
      "seq: ['i' 'j' 'j'] ratio: 0.02813852813852814 err 0.10810810810810811 n [  1.   0.   0.   0.   0.   0.   0.   7.  13. 462.   0.]\n",
      "Done D:\\Users\\yarde\\vak_project\\BF\\hidden_size\\hidden_size_16\\gr41rd51\\results_210526_160858\\train_dur_480s\\replicate_6\n",
      "Loading checkpoint from:\n",
      "D:\\Users\\yarde\\vak_project\\BF\\hidden_size\\hidden_size_16\\gr41rd51\\results_210526_160858\\train_dur_480s\\replicate_7\\TweetyNet\\checkpoints\\max-val-acc-checkpoint.pt \n"
     ]
    },
    {
     "name": "stderr",
     "output_type": "stream",
     "text": [
      "batch 28 / 29: 100%|███████████████████████████████████████████████████████████████████| 29/29 [00:13<00:00,  2.13it/s]\n"
     ]
    },
    {
     "name": "stdout",
     "output_type": "stream",
     "text": [
      "Transition added:  ['a' 'b'] to f\n",
      "Transition added:  ['a' 'b'] to i\n",
      "Transition added:  ['c' 'd'] to i\n",
      "Transition added:  ['d' 'e'] to j\n",
      "Transition added:  ['d' 'i'] to i\n",
      "Transition added:  ['e' 'i'] to i\n",
      "Transition added:  ['i' 'i'] to a\n",
      "Transition added:  ['i' 'i'] to j\n",
      "Transition added:  ['i' 'i'] to m\n",
      "Transition added:  ['i' 'j'] to j\n"
     ]
    },
    {
     "name": "stderr",
     "output_type": "stream",
     "text": [
      "  0%|                                                                                           | 0/29 [00:00<?, ?it/s]"
     ]
    },
    {
     "name": "stdout",
     "output_type": "stream",
     "text": [
      "seq: ['a' 'b' 'f'] ratio: 0.016923076923076923 err 0.033333333333333326 n [  0.   0. 650.   1.   0.  11.   0.  26.   7.   0.   7.]\n",
      "seq: ['a' 'b' 'i'] ratio: 0.04 err 0.4392523364485982 n [  0.   0. 650.   1.   0.  11.   0.  26.   7.   0.   7.]\n",
      "seq: ['c' 'd' 'i'] ratio: 0.14817880794701987 err 0.024242424242424288 n [0.000e+00 0.000e+00 0.000e+00 0.000e+00 1.208e+03 0.000e+00 0.000e+00\n",
      " 1.790e+02 4.000e+00 1.000e+00 3.000e+00]\n",
      "seq: ['d' 'e' 'j'] ratio: 0.018518518518518517 err 0.019230769230769273 n [  6.   0.   0.   0.   0. 756.   0. 238.  14.   0.   1.]\n",
      "seq: ['d' 'i' 'i'] ratio: 0.14012738853503184 err 0.016949152542372836 n [  0.   0.   0.   0.   0.   0.   0.  22. 157.   0.   0.]\n",
      "seq: ['e' 'i' 'i'] ratio: 0.23560209424083767 err 0.05691056910569103 n [  0.   0.   0.   0.   0.   1.   0.  45. 191.   0.   1.]\n",
      "seq: ['i' 'i' 'a'] ratio: 0.05162523900573613 err 0.1351351351351351 n [5.400e+01 0.000e+00 0.000e+00 0.000e+00 0.000e+00 0.000e+00 1.000e+00\n",
      " 1.046e+03 8.100e+01 0.000e+00 1.410e+02]\n",
      "seq: ['i' 'i' 'j'] ratio: 0.0774378585086042 err 0.022875816993464082 n [5.400e+01 0.000e+00 0.000e+00 0.000e+00 0.000e+00 0.000e+00 1.000e+00\n",
      " 1.046e+03 8.100e+01 0.000e+00 1.410e+02]\n",
      "seq: ['i' 'i' 'm'] ratio: 0.13479923518164436 err 0.12940379403794033 n [5.400e+01 0.000e+00 0.000e+00 0.000e+00 0.000e+00 0.000e+00 1.000e+00\n",
      " 1.046e+03 8.100e+01 0.000e+00 1.410e+02]\n",
      "seq: ['i' 'j' 'j'] ratio: 0.02813852813852814 err 0.0 n [  1.   0.   0.   0.   0.   0.   0.   7.  13. 462.   0.]\n",
      "Done D:\\Users\\yarde\\vak_project\\BF\\hidden_size\\hidden_size_16\\gr41rd51\\results_210526_160858\\train_dur_480s\\replicate_7\n",
      "Loading checkpoint from:\n",
      "D:\\Users\\yarde\\vak_project\\BF\\hidden_size\\hidden_size_16\\gr41rd51\\results_210526_160858\\train_dur_480s\\replicate_8\\TweetyNet\\checkpoints\\max-val-acc-checkpoint.pt \n"
     ]
    },
    {
     "name": "stderr",
     "output_type": "stream",
     "text": [
      "batch 28 / 29: 100%|███████████████████████████████████████████████████████████████████| 29/29 [00:13<00:00,  2.16it/s]\n"
     ]
    },
    {
     "name": "stdout",
     "output_type": "stream",
     "text": [
      "Transition added:  ['a' 'b'] to f\n",
      "Transition added:  ['a' 'b'] to i\n",
      "Transition added:  ['c' 'd'] to i\n",
      "Transition added:  ['d' 'e'] to j\n",
      "Transition added:  ['d' 'i'] to i\n",
      "Transition added:  ['e' 'i'] to i\n",
      "Transition added:  ['i' 'i'] to a\n",
      "Transition added:  ['i' 'i'] to j\n",
      "Transition added:  ['i' 'i'] to m\n",
      "Transition added:  ['i' 'j'] to j\n"
     ]
    },
    {
     "name": "stderr",
     "output_type": "stream",
     "text": [
      "  0%|                                                                                           | 0/29 [00:00<?, ?it/s]"
     ]
    },
    {
     "name": "stdout",
     "output_type": "stream",
     "text": [
      "seq: ['a' 'b' 'f'] ratio: 0.016923076923076923 err 0.033333333333333326 n [  0.   0. 650.   1.   0.  11.   0.  26.   7.   0.   7.]\n",
      "seq: ['a' 'b' 'i'] ratio: 0.04 err 0.39252336448598135 n [  0.   0. 650.   1.   0.  11.   0.  26.   7.   0.   7.]\n",
      "seq: ['c' 'd' 'i'] ratio: 0.14817880794701987 err 0.025757575757575757 n [0.000e+00 0.000e+00 0.000e+00 0.000e+00 1.208e+03 0.000e+00 0.000e+00\n",
      " 1.790e+02 4.000e+00 1.000e+00 3.000e+00]\n",
      "seq: ['d' 'e' 'j'] ratio: 0.018518518518518517 err 0.038461538461538436 n [  6.   0.   0.   0.   0. 756.   0. 238.  14.   0.   1.]\n",
      "seq: ['d' 'i' 'i'] ratio: 0.14012738853503184 err 0.016949152542372836 n [  0.   0.   0.   0.   0.   0.   0.  22. 157.   0.   0.]\n",
      "seq: ['e' 'i' 'i'] ratio: 0.23560209424083767 err 0.08130081300813008 n [  0.   0.   0.   0.   0.   1.   0.  45. 191.   0.   1.]\n",
      "seq: ['i' 'i' 'a'] ratio: 0.05162523900573613 err 0.06756756756756754 n [5.400e+01 0.000e+00 0.000e+00 0.000e+00 0.000e+00 0.000e+00 1.000e+00\n",
      " 1.046e+03 8.100e+01 0.000e+00 1.410e+02]\n",
      "seq: ['i' 'i' 'j'] ratio: 0.0774378585086042 err 0.02941176470588236 n [5.400e+01 0.000e+00 0.000e+00 0.000e+00 0.000e+00 0.000e+00 1.000e+00\n",
      " 1.046e+03 8.100e+01 0.000e+00 1.410e+02]\n",
      "seq: ['i' 'i' 'm'] ratio: 0.13479923518164436 err 0.1050135501355014 n [5.400e+01 0.000e+00 0.000e+00 0.000e+00 0.000e+00 0.000e+00 1.000e+00\n",
      " 1.046e+03 8.100e+01 0.000e+00 1.410e+02]\n",
      "seq: ['i' 'j' 'j'] ratio: 0.02813852813852814 err 0.027027027027026973 n [  1.   0.   0.   0.   0.   0.   0.   7.  13. 462.   0.]\n",
      "Done D:\\Users\\yarde\\vak_project\\BF\\hidden_size\\hidden_size_16\\gr41rd51\\results_210526_160858\\train_dur_480s\\replicate_8\n",
      "Loading checkpoint from:\n",
      "D:\\Users\\yarde\\vak_project\\BF\\hidden_size\\hidden_size_16\\gr41rd51\\results_210526_160858\\train_dur_480s\\replicate_9\\TweetyNet\\checkpoints\\max-val-acc-checkpoint.pt \n"
     ]
    },
    {
     "name": "stderr",
     "output_type": "stream",
     "text": [
      "batch 28 / 29: 100%|███████████████████████████████████████████████████████████████████| 29/29 [00:13<00:00,  2.14it/s]\n"
     ]
    },
    {
     "name": "stdout",
     "output_type": "stream",
     "text": [
      "Transition added:  ['a' 'b'] to f\n",
      "Transition added:  ['a' 'b'] to i\n",
      "Transition added:  ['c' 'd'] to i\n",
      "Transition added:  ['d' 'e'] to j\n",
      "Transition added:  ['d' 'i'] to i\n",
      "Transition added:  ['e' 'i'] to i\n",
      "Transition added:  ['i' 'i'] to a\n",
      "Transition added:  ['i' 'i'] to j\n",
      "Transition added:  ['i' 'i'] to m\n",
      "Transition added:  ['i' 'j'] to j\n"
     ]
    },
    {
     "name": "stderr",
     "output_type": "stream",
     "text": [
      "  0%|                                                                                           | 0/29 [00:00<?, ?it/s]"
     ]
    },
    {
     "name": "stdout",
     "output_type": "stream",
     "text": [
      "seq: ['a' 'b' 'f'] ratio: 0.016923076923076923 err 1.0 n [  0.   0. 650.   1.   0.  11.   0.  26.   7.   0.   7.]\n",
      "seq: ['a' 'b' 'i'] ratio: 0.04 err 0.39252336448598135 n [  0.   0. 650.   1.   0.  11.   0.  26.   7.   0.   7.]\n",
      "seq: ['c' 'd' 'i'] ratio: 0.14817880794701987 err 0.07727272727272727 n [0.000e+00 0.000e+00 0.000e+00 0.000e+00 1.208e+03 0.000e+00 0.000e+00\n",
      " 1.790e+02 4.000e+00 1.000e+00 3.000e+00]\n",
      "seq: ['d' 'e' 'j'] ratio: 0.018518518518518517 err 0.009615384615384581 n [  6.   0.   0.   0.   0. 756.   0. 238.  14.   0.   1.]\n",
      "seq: ['d' 'i' 'i'] ratio: 0.14012738853503184 err 0.05084745762711862 n [  0.   0.   0.   0.   0.   0.   0.  22. 157.   0.   0.]\n",
      "seq: ['e' 'i' 'i'] ratio: 0.23560209424083767 err 0.05284552845528456 n [  0.   0.   0.   0.   0.   1.   0.  45. 191.   0.   1.]\n",
      "seq: ['i' 'i' 'a'] ratio: 0.05162523900573613 err 0.1182432432432432 n [5.400e+01 0.000e+00 0.000e+00 0.000e+00 0.000e+00 0.000e+00 1.000e+00\n",
      " 1.046e+03 8.100e+01 0.000e+00 1.410e+02]\n",
      "seq: ['i' 'i' 'j'] ratio: 0.0774378585086042 err 0.0326797385620915 n [5.400e+01 0.000e+00 0.000e+00 0.000e+00 0.000e+00 0.000e+00 1.000e+00\n",
      " 1.046e+03 8.100e+01 0.000e+00 1.410e+02]\n",
      "seq: ['i' 'i' 'm'] ratio: 0.13479923518164436 err 0.17344173441734423 n [5.400e+01 0.000e+00 0.000e+00 0.000e+00 0.000e+00 0.000e+00 1.000e+00\n",
      " 1.046e+03 8.100e+01 0.000e+00 1.410e+02]\n",
      "seq: ['i' 'j' 'j'] ratio: 0.02813852813852814 err 0.08108108108108103 n [  1.   0.   0.   0.   0.   0.   0.   7.  13. 462.   0.]\n",
      "Done D:\\Users\\yarde\\vak_project\\BF\\hidden_size\\hidden_size_16\\gr41rd51\\results_210526_160858\\train_dur_480s\\replicate_9\n",
      "Loading checkpoint from:\n",
      "D:\\Users\\yarde\\vak_project\\BF\\hidden_size\\hidden_size_16\\gr41rd51\\results_210526_160858\\train_dur_600s\\replicate_1\\TweetyNet\\checkpoints\\max-val-acc-checkpoint.pt \n"
     ]
    },
    {
     "name": "stderr",
     "output_type": "stream",
     "text": [
      "batch 28 / 29: 100%|███████████████████████████████████████████████████████████████████| 29/29 [00:13<00:00,  2.16it/s]\n"
     ]
    },
    {
     "name": "stdout",
     "output_type": "stream",
     "text": [
      "Transition added:  ['a' 'b'] to f\n",
      "Transition added:  ['a' 'b'] to i\n",
      "Transition added:  ['c' 'd'] to i\n",
      "Transition added:  ['d' 'e'] to j\n",
      "Transition added:  ['d' 'i'] to i\n",
      "Transition added:  ['e' 'i'] to i\n",
      "Transition added:  ['i' 'i'] to a\n",
      "Transition added:  ['i' 'i'] to j\n",
      "Transition added:  ['i' 'i'] to m\n",
      "Transition added:  ['i' 'j'] to j\n"
     ]
    },
    {
     "name": "stderr",
     "output_type": "stream",
     "text": [
      "  0%|                                                                                           | 0/29 [00:00<?, ?it/s]"
     ]
    },
    {
     "name": "stdout",
     "output_type": "stream",
     "text": [
      "seq: ['a' 'b' 'f'] ratio: 0.016923076923076923 err 0.7 n [  0.   0. 650.   1.   0.  11.   0.  26.   7.   0.   7.]\n",
      "seq: ['a' 'b' 'i'] ratio: 0.04 err 0.31775700934579443 n [  0.   0. 650.   1.   0.  11.   0.  26.   7.   0.   7.]\n",
      "seq: ['c' 'd' 'i'] ratio: 0.14817880794701987 err 0.039393939393939426 n [0.000e+00 0.000e+00 0.000e+00 0.000e+00 1.208e+03 0.000e+00 0.000e+00\n",
      " 1.790e+02 4.000e+00 1.000e+00 3.000e+00]\n",
      "seq: ['d' 'e' 'j'] ratio: 0.018518518518518517 err 0.009615384615384581 n [  6.   0.   0.   0.   0. 756.   0. 238.  14.   0.   1.]\n",
      "seq: ['d' 'i' 'i'] ratio: 0.14012738853503184 err 0.0 n [  0.   0.   0.   0.   0.   0.   0.  22. 157.   0.   0.]\n",
      "seq: ['e' 'i' 'i'] ratio: 0.23560209424083767 err 0.016260162601625994 n [  0.   0.   0.   0.   0.   1.   0.  45. 191.   0.   1.]\n",
      "seq: ['i' 'i' 'a'] ratio: 0.05162523900573613 err 0.10472972972972971 n [5.400e+01 0.000e+00 0.000e+00 0.000e+00 0.000e+00 0.000e+00 1.000e+00\n",
      " 1.046e+03 8.100e+01 0.000e+00 1.410e+02]\n",
      "seq: ['i' 'i' 'j'] ratio: 0.0774378585086042 err 0.016339869281045805 n [5.400e+01 0.000e+00 0.000e+00 0.000e+00 0.000e+00 0.000e+00 1.000e+00\n",
      " 1.046e+03 8.100e+01 0.000e+00 1.410e+02]\n",
      "seq: ['i' 'i' 'm'] ratio: 0.13479923518164436 err 0.10569105691056913 n [5.400e+01 0.000e+00 0.000e+00 0.000e+00 0.000e+00 0.000e+00 1.000e+00\n",
      " 1.046e+03 8.100e+01 0.000e+00 1.410e+02]\n",
      "seq: ['i' 'j' 'j'] ratio: 0.02813852813852814 err 0.027027027027026973 n [  1.   0.   0.   0.   0.   0.   0.   7.  13. 462.   0.]\n",
      "Done D:\\Users\\yarde\\vak_project\\BF\\hidden_size\\hidden_size_16\\gr41rd51\\results_210526_160858\\train_dur_600s\\replicate_1\n",
      "Loading checkpoint from:\n",
      "D:\\Users\\yarde\\vak_project\\BF\\hidden_size\\hidden_size_16\\gr41rd51\\results_210526_160858\\train_dur_600s\\replicate_10\\TweetyNet\\checkpoints\\max-val-acc-checkpoint.pt \n"
     ]
    },
    {
     "name": "stderr",
     "output_type": "stream",
     "text": [
      "batch 28 / 29: 100%|███████████████████████████████████████████████████████████████████| 29/29 [00:13<00:00,  2.15it/s]\n"
     ]
    },
    {
     "name": "stdout",
     "output_type": "stream",
     "text": [
      "Transition added:  ['a' 'b'] to f\n",
      "Transition added:  ['a' 'b'] to i\n",
      "Transition added:  ['c' 'd'] to i\n",
      "Transition added:  ['d' 'e'] to j\n",
      "Transition added:  ['d' 'i'] to i\n",
      "Transition added:  ['e' 'i'] to i\n",
      "Transition added:  ['i' 'i'] to a\n",
      "Transition added:  ['i' 'i'] to j\n",
      "Transition added:  ['i' 'i'] to m\n",
      "Transition added:  ['i' 'j'] to j\n"
     ]
    },
    {
     "name": "stderr",
     "output_type": "stream",
     "text": [
      "  0%|                                                                                           | 0/29 [00:00<?, ?it/s]"
     ]
    },
    {
     "name": "stdout",
     "output_type": "stream",
     "text": [
      "seq: ['a' 'b' 'f'] ratio: 0.016923076923076923 err 0.6666666666666667 n [  0.   0. 650.   1.   0.  11.   0.  26.   7.   0.   7.]\n",
      "seq: ['a' 'b' 'i'] ratio: 0.04 err 0.42056074766355145 n [  0.   0. 650.   1.   0.  11.   0.  26.   7.   0.   7.]\n",
      "seq: ['c' 'd' 'i'] ratio: 0.14817880794701987 err 0.033333333333333326 n [0.000e+00 0.000e+00 0.000e+00 0.000e+00 1.208e+03 0.000e+00 0.000e+00\n",
      " 1.790e+02 4.000e+00 1.000e+00 3.000e+00]\n",
      "seq: ['d' 'e' 'j'] ratio: 0.018518518518518517 err 0.019230769230769273 n [  6.   0.   0.   0.   0. 756.   0. 238.  14.   0.   1.]\n",
      "seq: ['d' 'i' 'i'] ratio: 0.14012738853503184 err 0.0 n [  0.   0.   0.   0.   0.   0.   0.  22. 157.   0.   0.]\n",
      "seq: ['e' 'i' 'i'] ratio: 0.23560209424083767 err 0.05284552845528456 n [  0.   0.   0.   0.   0.   1.   0.  45. 191.   0.   1.]\n",
      "seq: ['i' 'i' 'a'] ratio: 0.05162523900573613 err 0.05067567567567566 n [5.400e+01 0.000e+00 0.000e+00 0.000e+00 0.000e+00 0.000e+00 1.000e+00\n",
      " 1.046e+03 8.100e+01 0.000e+00 1.410e+02]\n",
      "seq: ['i' 'i' 'j'] ratio: 0.0774378585086042 err 0.02614379084967322 n [5.400e+01 0.000e+00 0.000e+00 0.000e+00 0.000e+00 0.000e+00 1.000e+00\n",
      " 1.046e+03 8.100e+01 0.000e+00 1.410e+02]\n",
      "seq: ['i' 'i' 'm'] ratio: 0.13479923518164436 err 0.14295392953929542 n [5.400e+01 0.000e+00 0.000e+00 0.000e+00 0.000e+00 0.000e+00 1.000e+00\n",
      " 1.046e+03 8.100e+01 0.000e+00 1.410e+02]\n",
      "seq: ['i' 'j' 'j'] ratio: 0.02813852813852814 err 0.0 n [  1.   0.   0.   0.   0.   0.   0.   7.  13. 462.   0.]\n",
      "Done D:\\Users\\yarde\\vak_project\\BF\\hidden_size\\hidden_size_16\\gr41rd51\\results_210526_160858\\train_dur_600s\\replicate_10\n",
      "Loading checkpoint from:\n",
      "D:\\Users\\yarde\\vak_project\\BF\\hidden_size\\hidden_size_16\\gr41rd51\\results_210526_160858\\train_dur_600s\\replicate_2\\TweetyNet\\checkpoints\\max-val-acc-checkpoint.pt \n"
     ]
    },
    {
     "name": "stderr",
     "output_type": "stream",
     "text": [
      "batch 28 / 29: 100%|███████████████████████████████████████████████████████████████████| 29/29 [00:13<00:00,  2.13it/s]\n"
     ]
    },
    {
     "name": "stdout",
     "output_type": "stream",
     "text": [
      "Transition added:  ['a' 'b'] to f\n",
      "Transition added:  ['a' 'b'] to i\n",
      "Transition added:  ['c' 'd'] to i\n",
      "Transition added:  ['d' 'e'] to j\n",
      "Transition added:  ['d' 'i'] to i\n",
      "Transition added:  ['e' 'i'] to i\n",
      "Transition added:  ['i' 'i'] to a\n",
      "Transition added:  ['i' 'i'] to j\n",
      "Transition added:  ['i' 'i'] to m\n",
      "Transition added:  ['i' 'j'] to j\n"
     ]
    },
    {
     "name": "stderr",
     "output_type": "stream",
     "text": [
      "  0%|                                                                                           | 0/29 [00:00<?, ?it/s]"
     ]
    },
    {
     "name": "stdout",
     "output_type": "stream",
     "text": [
      "seq: ['a' 'b' 'f'] ratio: 0.016923076923076923 err 1.0 n [  0.   0. 650.   1.   0.  11.   0.  26.   7.   0.   7.]\n",
      "seq: ['a' 'b' 'i'] ratio: 0.04 err 0.31775700934579443 n [  0.   0. 650.   1.   0.  11.   0.  26.   7.   0.   7.]\n",
      "seq: ['c' 'd' 'i'] ratio: 0.14817880794701987 err 0.021212121212121238 n [0.000e+00 0.000e+00 0.000e+00 0.000e+00 1.208e+03 0.000e+00 0.000e+00\n",
      " 1.790e+02 4.000e+00 1.000e+00 3.000e+00]\n",
      "seq: ['d' 'e' 'j'] ratio: 0.018518518518518517 err 0.009615384615384581 n [  6.   0.   0.   0.   0. 756.   0. 238.  14.   0.   1.]\n",
      "seq: ['d' 'i' 'i'] ratio: 0.14012738853503184 err 0.0 n [  0.   0.   0.   0.   0.   0.   0.  22. 157.   0.   0.]\n",
      "seq: ['e' 'i' 'i'] ratio: 0.23560209424083767 err 0.024390243902439046 n [  0.   0.   0.   0.   0.   1.   0.  45. 191.   0.   1.]\n",
      "seq: ['i' 'i' 'a'] ratio: 0.05162523900573613 err 0.020270270270270285 n [5.400e+01 0.000e+00 0.000e+00 0.000e+00 0.000e+00 0.000e+00 1.000e+00\n",
      " 1.046e+03 8.100e+01 0.000e+00 1.410e+02]\n",
      "seq: ['i' 'i' 'j'] ratio: 0.0774378585086042 err 0.022875816993464082 n [5.400e+01 0.000e+00 0.000e+00 0.000e+00 0.000e+00 0.000e+00 1.000e+00\n",
      " 1.046e+03 8.100e+01 0.000e+00 1.410e+02]\n",
      "seq: ['i' 'i' 'm'] ratio: 0.13479923518164436 err 0.12398373983739841 n [5.400e+01 0.000e+00 0.000e+00 0.000e+00 0.000e+00 0.000e+00 1.000e+00\n",
      " 1.046e+03 8.100e+01 0.000e+00 1.410e+02]\n",
      "seq: ['i' 'j' 'j'] ratio: 0.02813852813852814 err 0.5135135135135135 n [  1.   0.   0.   0.   0.   0.   0.   7.  13. 462.   0.]\n",
      "Done D:\\Users\\yarde\\vak_project\\BF\\hidden_size\\hidden_size_16\\gr41rd51\\results_210526_160858\\train_dur_600s\\replicate_2\n",
      "Loading checkpoint from:\n",
      "D:\\Users\\yarde\\vak_project\\BF\\hidden_size\\hidden_size_16\\gr41rd51\\results_210526_160858\\train_dur_600s\\replicate_3\\TweetyNet\\checkpoints\\max-val-acc-checkpoint.pt \n"
     ]
    },
    {
     "name": "stderr",
     "output_type": "stream",
     "text": [
      "batch 28 / 29: 100%|███████████████████████████████████████████████████████████████████| 29/29 [00:13<00:00,  2.13it/s]\n"
     ]
    },
    {
     "name": "stdout",
     "output_type": "stream",
     "text": [
      "Transition added:  ['a' 'b'] to f\n",
      "Transition added:  ['a' 'b'] to i\n",
      "Transition added:  ['c' 'd'] to i\n",
      "Transition added:  ['d' 'e'] to j\n",
      "Transition added:  ['d' 'i'] to i\n",
      "Transition added:  ['e' 'i'] to i\n",
      "Transition added:  ['i' 'i'] to a\n",
      "Transition added:  ['i' 'i'] to j\n",
      "Transition added:  ['i' 'i'] to m\n",
      "Transition added:  ['i' 'j'] to j\n",
      "seq: ['a' 'b' 'f'] ratio: 0.016923076923076923 err 0.33333333333333337 n [  0.   0. 650.   1.   0.  11.   0.  26.   7.   0.   7.]\n",
      "seq: ['a' 'b' 'i'] ratio: 0.04 err 0.20560747663551404 n [  0.   0. 650.   1.   0.  11.   0.  26.   7.   0.   7.]\n",
      "seq: ['c' 'd' 'i'] ratio: 0.14817880794701987 err 0.018181818181818188 n [0.000e+00 0.000e+00 0.000e+00 0.000e+00 1.208e+03 0.000e+00 0.000e+00\n",
      " 1.790e+02 4.000e+00 1.000e+00 3.000e+00]\n",
      "seq: ['d' 'e' 'j'] ratio: 0.018518518518518517 err 0.038461538461538436 n [  6.   0.   0.   0.   0. 756.   0. 238.  14.   0.   1.]\n",
      "seq: ['d' 'i' 'i'] ratio: 0.14012738853503184 err 0.016949152542372836 n [  0.   0.   0.   0.   0.   0.   0.  22. 157.   0.   0.]\n",
      "seq: ['e' 'i' 'i'] ratio: 0.23560209424083767 err 0.04878048780487809 n [  0.   0.   0.   0.   0.   1.   0.  45. 191.   0.   1.]\n",
      "seq: ['i' 'i' 'a'] ratio: 0.05162523900573613 err 0.060810810810810856 n [5.400e+01 0.000e+00 0.000e+00 0.000e+00 0.000e+00 0.000e+00 1.000e+00\n",
      " 1.046e+03 8.100e+01 0.000e+00 1.410e+02]\n",
      "seq: ['i' 'i' 'j'] ratio: 0.0774378585086042 err 0.042483660130718914 n [5.400e+01 0.000e+00 0.000e+00 0.000e+00 0.000e+00 0.000e+00 1.000e+00\n",
      " 1.046e+03 8.100e+01 0.000e+00 1.410e+02]\n",
      "seq: ['i' 'i' 'm'] ratio: 0.13479923518164436 err 0.15989159891598914 n [5.400e+01 0.000e+00 0.000e+00 0.000e+00 0.000e+00 0.000e+00 1.000e+00\n",
      " 1.046e+03 8.100e+01 0.000e+00 1.410e+02]\n",
      "seq: ['i' 'j' 'j'] ratio: 0.02813852813852814 err 0.027027027027026973 n [  1.   0.   0.   0.   0.   0.   0.   7.  13. 462.   0.]\n",
      "Done D:\\Users\\yarde\\vak_project\\BF\\hidden_size\\hidden_size_16\\gr41rd51\\results_210526_160858\\train_dur_600s\\replicate_3\n",
      "Loading checkpoint from:\n",
      "D:\\Users\\yarde\\vak_project\\BF\\hidden_size\\hidden_size_16\\gr41rd51\\results_210526_160858\\train_dur_600s\\replicate_4\\TweetyNet\\checkpoints\\max-val-acc-checkpoint.pt \n"
     ]
    },
    {
     "name": "stderr",
     "output_type": "stream",
     "text": [
      "batch 28 / 29: 100%|███████████████████████████████████████████████████████████████████| 29/29 [00:13<00:00,  2.13it/s]\n"
     ]
    },
    {
     "name": "stdout",
     "output_type": "stream",
     "text": [
      "Transition added:  ['a' 'b'] to f\n",
      "Transition added:  ['a' 'b'] to i\n",
      "Transition added:  ['c' 'd'] to i\n",
      "Transition added:  ['d' 'e'] to j\n",
      "Transition added:  ['d' 'i'] to i\n",
      "Transition added:  ['e' 'i'] to i\n",
      "Transition added:  ['i' 'i'] to a\n",
      "Transition added:  ['i' 'i'] to j\n",
      "Transition added:  ['i' 'i'] to m\n",
      "Transition added:  ['i' 'j'] to j\n"
     ]
    },
    {
     "name": "stderr",
     "output_type": "stream",
     "text": [
      "  0%|                                                                                           | 0/29 [00:00<?, ?it/s]"
     ]
    },
    {
     "name": "stdout",
     "output_type": "stream",
     "text": [
      "seq: ['a' 'b' 'f'] ratio: 0.016923076923076923 err 0.23333333333333328 n [  0.   0. 650.   1.   0.  11.   0.  26.   7.   0.   7.]\n",
      "seq: ['a' 'b' 'i'] ratio: 0.04 err 0.15887850467289721 n [  0.   0. 650.   1.   0.  11.   0.  26.   7.   0.   7.]\n",
      "seq: ['c' 'd' 'i'] ratio: 0.14817880794701987 err 0.037878787878787845 n [0.000e+00 0.000e+00 0.000e+00 0.000e+00 1.208e+03 0.000e+00 0.000e+00\n",
      " 1.790e+02 4.000e+00 1.000e+00 3.000e+00]\n",
      "seq: ['d' 'e' 'j'] ratio: 0.018518518518518517 err 0.009615384615384581 n [  6.   0.   0.   0.   0. 756.   0. 238.  14.   0.   1.]\n",
      "seq: ['d' 'i' 'i'] ratio: 0.14012738853503184 err 0.016949152542372836 n [  0.   0.   0.   0.   0.   0.   0.  22. 157.   0.   0.]\n",
      "seq: ['e' 'i' 'i'] ratio: 0.23560209424083767 err 0.11788617886178865 n [  0.   0.   0.   0.   0.   1.   0.  45. 191.   0.   1.]\n",
      "seq: ['i' 'i' 'a'] ratio: 0.05162523900573613 err 0.020270270270270285 n [5.400e+01 0.000e+00 0.000e+00 0.000e+00 0.000e+00 0.000e+00 1.000e+00\n",
      " 1.046e+03 8.100e+01 0.000e+00 1.410e+02]\n",
      "seq: ['i' 'i' 'j'] ratio: 0.0774378585086042 err 0.019607843137254943 n [5.400e+01 0.000e+00 0.000e+00 0.000e+00 0.000e+00 0.000e+00 1.000e+00\n",
      " 1.046e+03 8.100e+01 0.000e+00 1.410e+02]\n",
      "seq: ['i' 'i' 'm'] ratio: 0.13479923518164436 err 0.1050135501355014 n [5.400e+01 0.000e+00 0.000e+00 0.000e+00 0.000e+00 0.000e+00 1.000e+00\n",
      " 1.046e+03 8.100e+01 0.000e+00 1.410e+02]\n",
      "seq: ['i' 'j' 'j'] ratio: 0.02813852813852814 err 0.027027027027026973 n [  1.   0.   0.   0.   0.   0.   0.   7.  13. 462.   0.]\n",
      "Done D:\\Users\\yarde\\vak_project\\BF\\hidden_size\\hidden_size_16\\gr41rd51\\results_210526_160858\\train_dur_600s\\replicate_4\n",
      "Loading checkpoint from:\n",
      "D:\\Users\\yarde\\vak_project\\BF\\hidden_size\\hidden_size_16\\gr41rd51\\results_210526_160858\\train_dur_600s\\replicate_5\\TweetyNet\\checkpoints\\max-val-acc-checkpoint.pt \n"
     ]
    },
    {
     "name": "stderr",
     "output_type": "stream",
     "text": [
      "batch 28 / 29: 100%|███████████████████████████████████████████████████████████████████| 29/29 [00:13<00:00,  2.14it/s]\n"
     ]
    },
    {
     "name": "stdout",
     "output_type": "stream",
     "text": [
      "Transition added:  ['a' 'b'] to f\n",
      "Transition added:  ['a' 'b'] to i\n",
      "Transition added:  ['c' 'd'] to i\n",
      "Transition added:  ['d' 'e'] to j\n",
      "Transition added:  ['d' 'i'] to i\n",
      "Transition added:  ['e' 'i'] to i\n",
      "Transition added:  ['i' 'i'] to a\n",
      "Transition added:  ['i' 'i'] to j\n",
      "Transition added:  ['i' 'i'] to m\n",
      "Transition added:  ['i' 'j'] to j\n"
     ]
    },
    {
     "name": "stderr",
     "output_type": "stream",
     "text": [
      "  0%|                                                                                           | 0/29 [00:00<?, ?it/s]"
     ]
    },
    {
     "name": "stdout",
     "output_type": "stream",
     "text": [
      "seq: ['a' 'b' 'f'] ratio: 0.016923076923076923 err 0.6666666666666667 n [  0.   0. 650.   1.   0.  11.   0.  26.   7.   0.   7.]\n",
      "seq: ['a' 'b' 'i'] ratio: 0.04 err 0.11214953271028039 n [  0.   0. 650.   1.   0.  11.   0.  26.   7.   0.   7.]\n",
      "seq: ['c' 'd' 'i'] ratio: 0.14817880794701987 err 0.028787878787878807 n [0.000e+00 0.000e+00 0.000e+00 0.000e+00 1.208e+03 0.000e+00 0.000e+00\n",
      " 1.790e+02 4.000e+00 1.000e+00 3.000e+00]\n",
      "seq: ['d' 'e' 'j'] ratio: 0.018518518518518517 err 0.019230769230769273 n [  6.   0.   0.   0.   0. 756.   0. 238.  14.   0.   1.]\n",
      "seq: ['d' 'i' 'i'] ratio: 0.14012738853503184 err 0.016949152542372836 n [  0.   0.   0.   0.   0.   0.   0.  22. 157.   0.   0.]\n",
      "seq: ['e' 'i' 'i'] ratio: 0.23560209424083767 err 0.016260162601625994 n [  0.   0.   0.   0.   0.   1.   0.  45. 191.   0.   1.]\n",
      "seq: ['i' 'i' 'a'] ratio: 0.05162523900573613 err 0.10472972972972971 n [5.400e+01 0.000e+00 0.000e+00 0.000e+00 0.000e+00 0.000e+00 1.000e+00\n",
      " 1.046e+03 8.100e+01 0.000e+00 1.410e+02]\n",
      "seq: ['i' 'i' 'j'] ratio: 0.0774378585086042 err 0.016339869281045805 n [5.400e+01 0.000e+00 0.000e+00 0.000e+00 0.000e+00 0.000e+00 1.000e+00\n",
      " 1.046e+03 8.100e+01 0.000e+00 1.410e+02]\n",
      "seq: ['i' 'i' 'm'] ratio: 0.13479923518164436 err 0.20596205962059622 n [5.400e+01 0.000e+00 0.000e+00 0.000e+00 0.000e+00 0.000e+00 1.000e+00\n",
      " 1.046e+03 8.100e+01 0.000e+00 1.410e+02]\n",
      "seq: ['i' 'j' 'j'] ratio: 0.02813852813852814 err 0.027027027027026973 n [  1.   0.   0.   0.   0.   0.   0.   7.  13. 462.   0.]\n",
      "Done D:\\Users\\yarde\\vak_project\\BF\\hidden_size\\hidden_size_16\\gr41rd51\\results_210526_160858\\train_dur_600s\\replicate_5\n",
      "Loading checkpoint from:\n",
      "D:\\Users\\yarde\\vak_project\\BF\\hidden_size\\hidden_size_16\\gr41rd51\\results_210526_160858\\train_dur_600s\\replicate_6\\TweetyNet\\checkpoints\\max-val-acc-checkpoint.pt \n"
     ]
    },
    {
     "name": "stderr",
     "output_type": "stream",
     "text": [
      "batch 28 / 29: 100%|███████████████████████████████████████████████████████████████████| 29/29 [00:13<00:00,  2.12it/s]\n"
     ]
    },
    {
     "name": "stdout",
     "output_type": "stream",
     "text": [
      "Transition added:  ['a' 'b'] to f\n",
      "Transition added:  ['a' 'b'] to i\n",
      "Transition added:  ['c' 'd'] to i\n",
      "Transition added:  ['d' 'e'] to j\n",
      "Transition added:  ['d' 'i'] to i\n",
      "Transition added:  ['e' 'i'] to i\n",
      "Transition added:  ['i' 'i'] to a\n",
      "Transition added:  ['i' 'i'] to j\n",
      "Transition added:  ['i' 'i'] to m\n",
      "Transition added:  ['i' 'j'] to j\n"
     ]
    },
    {
     "name": "stderr",
     "output_type": "stream",
     "text": [
      "  0%|                                                                                           | 0/29 [00:00<?, ?it/s]"
     ]
    },
    {
     "name": "stdout",
     "output_type": "stream",
     "text": [
      "seq: ['a' 'b' 'f'] ratio: 0.016923076923076923 err 0.7333333333333334 n [  0.   0. 650.   1.   0.  11.   0.  26.   7.   0.   7.]\n",
      "seq: ['a' 'b' 'i'] ratio: 0.04 err 0.3271028037383178 n [  0.   0. 650.   1.   0.  11.   0.  26.   7.   0.   7.]\n",
      "seq: ['c' 'd' 'i'] ratio: 0.14817880794701987 err 0.040909090909090895 n [0.000e+00 0.000e+00 0.000e+00 0.000e+00 1.208e+03 0.000e+00 0.000e+00\n",
      " 1.790e+02 4.000e+00 1.000e+00 3.000e+00]\n",
      "seq: ['d' 'e' 'j'] ratio: 0.018518518518518517 err 0.038461538461538436 n [  6.   0.   0.   0.   0. 756.   0. 238.  14.   0.   1.]\n",
      "seq: ['d' 'i' 'i'] ratio: 0.14012738853503184 err 0.0 n [  0.   0.   0.   0.   0.   0.   0.  22. 157.   0.   0.]\n",
      "seq: ['e' 'i' 'i'] ratio: 0.23560209424083767 err 0.020325203252032575 n [  0.   0.   0.   0.   0.   1.   0.  45. 191.   0.   1.]\n",
      "seq: ['i' 'i' 'a'] ratio: 0.05162523900573613 err 0.2601351351351351 n [5.400e+01 0.000e+00 0.000e+00 0.000e+00 0.000e+00 0.000e+00 1.000e+00\n",
      " 1.046e+03 8.100e+01 0.000e+00 1.410e+02]\n",
      "seq: ['i' 'i' 'j'] ratio: 0.0774378585086042 err 0.039215686274509776 n [5.400e+01 0.000e+00 0.000e+00 0.000e+00 0.000e+00 0.000e+00 1.000e+00\n",
      " 1.046e+03 8.100e+01 0.000e+00 1.410e+02]\n",
      "seq: ['i' 'i' 'm'] ratio: 0.13479923518164436 err 0.1375338753387534 n [5.400e+01 0.000e+00 0.000e+00 0.000e+00 0.000e+00 0.000e+00 1.000e+00\n",
      " 1.046e+03 8.100e+01 0.000e+00 1.410e+02]\n",
      "seq: ['i' 'j' 'j'] ratio: 0.02813852813852814 err 0.027027027027026973 n [  1.   0.   0.   0.   0.   0.   0.   7.  13. 462.   0.]\n",
      "Done D:\\Users\\yarde\\vak_project\\BF\\hidden_size\\hidden_size_16\\gr41rd51\\results_210526_160858\\train_dur_600s\\replicate_6\n",
      "Loading checkpoint from:\n",
      "D:\\Users\\yarde\\vak_project\\BF\\hidden_size\\hidden_size_16\\gr41rd51\\results_210526_160858\\train_dur_600s\\replicate_7\\TweetyNet\\checkpoints\\max-val-acc-checkpoint.pt \n"
     ]
    },
    {
     "name": "stderr",
     "output_type": "stream",
     "text": [
      "batch 28 / 29: 100%|███████████████████████████████████████████████████████████████████| 29/29 [00:13<00:00,  2.12it/s]\n"
     ]
    },
    {
     "name": "stdout",
     "output_type": "stream",
     "text": [
      "Transition added:  ['a' 'b'] to f\n",
      "Transition added:  ['a' 'b'] to i\n",
      "Transition added:  ['c' 'd'] to i\n",
      "Transition added:  ['d' 'e'] to j\n",
      "Transition added:  ['d' 'i'] to i\n",
      "Transition added:  ['e' 'i'] to i\n",
      "Transition added:  ['i' 'i'] to a\n",
      "Transition added:  ['i' 'i'] to j\n",
      "Transition added:  ['i' 'i'] to m\n",
      "Transition added:  ['i' 'j'] to j\n"
     ]
    },
    {
     "name": "stderr",
     "output_type": "stream",
     "text": [
      "  0%|                                                                                           | 0/29 [00:00<?, ?it/s]"
     ]
    },
    {
     "name": "stdout",
     "output_type": "stream",
     "text": [
      "seq: ['a' 'b' 'f'] ratio: 0.016923076923076923 err 1.0 n [  0.   0. 650.   1.   0.  11.   0.  26.   7.   0.   7.]\n",
      "seq: ['a' 'b' 'i'] ratio: 0.04 err 0.2710280373831776 n [  0.   0. 650.   1.   0.  11.   0.  26.   7.   0.   7.]\n",
      "seq: ['c' 'd' 'i'] ratio: 0.14817880794701987 err 0.06515151515151518 n [0.000e+00 0.000e+00 0.000e+00 0.000e+00 1.208e+03 0.000e+00 0.000e+00\n",
      " 1.790e+02 4.000e+00 1.000e+00 3.000e+00]\n",
      "seq: ['d' 'e' 'j'] ratio: 0.018518518518518517 err 0.038461538461538436 n [  6.   0.   0.   0.   0. 756.   0. 238.  14.   0.   1.]\n",
      "seq: ['d' 'i' 'i'] ratio: 0.14012738853503184 err 0.016949152542372836 n [  0.   0.   0.   0.   0.   0.   0.  22. 157.   0.   0.]\n",
      "seq: ['e' 'i' 'i'] ratio: 0.23560209424083767 err 0.060975609756097615 n [  0.   0.   0.   0.   0.   1.   0.  45. 191.   0.   1.]\n",
      "seq: ['i' 'i' 'a'] ratio: 0.05162523900573613 err 0.1182432432432432 n [5.400e+01 0.000e+00 0.000e+00 0.000e+00 0.000e+00 0.000e+00 1.000e+00\n",
      " 1.046e+03 8.100e+01 0.000e+00 1.410e+02]\n",
      "seq: ['i' 'i' 'j'] ratio: 0.0774378585086042 err 0.0490196078431373 n [5.400e+01 0.000e+00 0.000e+00 0.000e+00 0.000e+00 0.000e+00 1.000e+00\n",
      " 1.046e+03 8.100e+01 0.000e+00 1.410e+02]\n",
      "seq: ['i' 'i' 'm'] ratio: 0.13479923518164436 err 0.11111111111111116 n [5.400e+01 0.000e+00 0.000e+00 0.000e+00 0.000e+00 0.000e+00 1.000e+00\n",
      " 1.046e+03 8.100e+01 0.000e+00 1.410e+02]\n",
      "seq: ['i' 'j' 'j'] ratio: 0.02813852813852814 err 0.10810810810810811 n [  1.   0.   0.   0.   0.   0.   0.   7.  13. 462.   0.]\n",
      "Done D:\\Users\\yarde\\vak_project\\BF\\hidden_size\\hidden_size_16\\gr41rd51\\results_210526_160858\\train_dur_600s\\replicate_7\n",
      "Loading checkpoint from:\n",
      "D:\\Users\\yarde\\vak_project\\BF\\hidden_size\\hidden_size_16\\gr41rd51\\results_210526_160858\\train_dur_600s\\replicate_8\\TweetyNet\\checkpoints\\max-val-acc-checkpoint.pt \n"
     ]
    },
    {
     "name": "stderr",
     "output_type": "stream",
     "text": [
      "batch 28 / 29: 100%|███████████████████████████████████████████████████████████████████| 29/29 [00:13<00:00,  2.14it/s]\n"
     ]
    },
    {
     "name": "stdout",
     "output_type": "stream",
     "text": [
      "Transition added:  ['a' 'b'] to f\n",
      "Transition added:  ['a' 'b'] to i\n",
      "Transition added:  ['c' 'd'] to i\n",
      "Transition added:  ['d' 'e'] to j\n",
      "Transition added:  ['d' 'i'] to i\n",
      "Transition added:  ['e' 'i'] to i\n",
      "Transition added:  ['i' 'i'] to a\n",
      "Transition added:  ['i' 'i'] to j\n",
      "Transition added:  ['i' 'i'] to m\n",
      "Transition added:  ['i' 'j'] to j\n"
     ]
    },
    {
     "name": "stderr",
     "output_type": "stream",
     "text": [
      "  0%|                                                                                           | 0/29 [00:00<?, ?it/s]"
     ]
    },
    {
     "name": "stdout",
     "output_type": "stream",
     "text": [
      "seq: ['a' 'b' 'f'] ratio: 0.016923076923076923 err 0.9 n [  0.   0. 650.   1.   0.  11.   0.  26.   7.   0.   7.]\n",
      "seq: ['a' 'b' 'i'] ratio: 0.04 err 0.4392523364485982 n [  0.   0. 650.   1.   0.  11.   0.  26.   7.   0.   7.]\n",
      "seq: ['c' 'd' 'i'] ratio: 0.14817880794701987 err 0.07121212121212117 n [0.000e+00 0.000e+00 0.000e+00 0.000e+00 1.208e+03 0.000e+00 0.000e+00\n",
      " 1.790e+02 4.000e+00 1.000e+00 3.000e+00]\n",
      "seq: ['d' 'e' 'j'] ratio: 0.018518518518518517 err 0.019230769230769273 n [  6.   0.   0.   0.   0. 756.   0. 238.  14.   0.   1.]\n",
      "seq: ['d' 'i' 'i'] ratio: 0.14012738853503184 err 0.016949152542372836 n [  0.   0.   0.   0.   0.   0.   0.  22. 157.   0.   0.]\n",
      "seq: ['e' 'i' 'i'] ratio: 0.23560209424083767 err 0.03658536585365857 n [  0.   0.   0.   0.   0.   1.   0.  45. 191.   0.   1.]\n",
      "seq: ['i' 'i' 'a'] ratio: 0.05162523900573613 err 0.04054054054054057 n [5.400e+01 0.000e+00 0.000e+00 0.000e+00 0.000e+00 0.000e+00 1.000e+00\n",
      " 1.046e+03 8.100e+01 0.000e+00 1.410e+02]\n",
      "seq: ['i' 'i' 'j'] ratio: 0.0774378585086042 err 0.02941176470588236 n [5.400e+01 0.000e+00 0.000e+00 0.000e+00 0.000e+00 0.000e+00 1.000e+00\n",
      " 1.046e+03 8.100e+01 0.000e+00 1.410e+02]\n",
      "seq: ['i' 'i' 'm'] ratio: 0.13479923518164436 err 0.11111111111111116 n [5.400e+01 0.000e+00 0.000e+00 0.000e+00 0.000e+00 0.000e+00 1.000e+00\n",
      " 1.046e+03 8.100e+01 0.000e+00 1.410e+02]\n",
      "seq: ['i' 'j' 'j'] ratio: 0.02813852813852814 err 0.2432432432432432 n [  1.   0.   0.   0.   0.   0.   0.   7.  13. 462.   0.]\n",
      "Done D:\\Users\\yarde\\vak_project\\BF\\hidden_size\\hidden_size_16\\gr41rd51\\results_210526_160858\\train_dur_600s\\replicate_8\n",
      "Loading checkpoint from:\n",
      "D:\\Users\\yarde\\vak_project\\BF\\hidden_size\\hidden_size_16\\gr41rd51\\results_210526_160858\\train_dur_600s\\replicate_9\\TweetyNet\\checkpoints\\max-val-acc-checkpoint.pt \n"
     ]
    },
    {
     "name": "stderr",
     "output_type": "stream",
     "text": [
      "batch 28 / 29: 100%|███████████████████████████████████████████████████████████████████| 29/29 [00:13<00:00,  2.13it/s]\n"
     ]
    },
    {
     "name": "stdout",
     "output_type": "stream",
     "text": [
      "Transition added:  ['a' 'b'] to f\n",
      "Transition added:  ['a' 'b'] to i\n",
      "Transition added:  ['c' 'd'] to i\n",
      "Transition added:  ['d' 'e'] to j\n",
      "Transition added:  ['d' 'i'] to i\n",
      "Transition added:  ['e' 'i'] to i\n",
      "Transition added:  ['i' 'i'] to a\n",
      "Transition added:  ['i' 'i'] to j\n",
      "Transition added:  ['i' 'i'] to m\n",
      "Transition added:  ['i' 'j'] to j\n"
     ]
    },
    {
     "name": "stderr",
     "output_type": "stream",
     "text": [
      "  0%|                                                                                           | 0/29 [00:00<?, ?it/s]"
     ]
    },
    {
     "name": "stdout",
     "output_type": "stream",
     "text": [
      "seq: ['a' 'b' 'f'] ratio: 0.016923076923076923 err 1.0 n [  0.   0. 650.   1.   0.  11.   0.  26.   7.   0.   7.]\n",
      "seq: ['a' 'b' 'i'] ratio: 0.04 err 0.1869158878504673 n [  0.   0. 650.   1.   0.  11.   0.  26.   7.   0.   7.]\n",
      "seq: ['c' 'd' 'i'] ratio: 0.14817880794701987 err 0.027272727272727226 n [0.000e+00 0.000e+00 0.000e+00 0.000e+00 1.208e+03 0.000e+00 0.000e+00\n",
      " 1.790e+02 4.000e+00 1.000e+00 3.000e+00]\n",
      "seq: ['d' 'e' 'j'] ratio: 0.018518518518518517 err 0.028846153846153855 n [  6.   0.   0.   0.   0. 756.   0. 238.  14.   0.   1.]\n",
      "seq: ['d' 'i' 'i'] ratio: 0.14012738853503184 err 0.0 n [  0.   0.   0.   0.   0.   0.   0.  22. 157.   0.   0.]\n",
      "seq: ['e' 'i' 'i'] ratio: 0.23560209424083767 err 0.020325203252032575 n [  0.   0.   0.   0.   0.   1.   0.  45. 191.   0.   1.]\n",
      "seq: ['i' 'i' 'a'] ratio: 0.05162523900573613 err 0.10810810810810811 n [5.400e+01 0.000e+00 0.000e+00 0.000e+00 0.000e+00 0.000e+00 1.000e+00\n",
      " 1.046e+03 8.100e+01 0.000e+00 1.410e+02]\n",
      "seq: ['i' 'i' 'j'] ratio: 0.0774378585086042 err 0.013071895424836555 n [5.400e+01 0.000e+00 0.000e+00 0.000e+00 0.000e+00 0.000e+00 1.000e+00\n",
      " 1.046e+03 8.100e+01 0.000e+00 1.410e+02]\n",
      "seq: ['i' 'i' 'm'] ratio: 0.13479923518164436 err 0.19579945799457998 n [5.400e+01 0.000e+00 0.000e+00 0.000e+00 0.000e+00 0.000e+00 1.000e+00\n",
      " 1.046e+03 8.100e+01 0.000e+00 1.410e+02]\n",
      "seq: ['i' 'j' 'j'] ratio: 0.02813852813852814 err 0.027027027027026973 n [  1.   0.   0.   0.   0.   0.   0.   7.  13. 462.   0.]\n",
      "Done D:\\Users\\yarde\\vak_project\\BF\\hidden_size\\hidden_size_16\\gr41rd51\\results_210526_160858\\train_dur_600s\\replicate_9\n",
      "Loading checkpoint from:\n",
      "D:\\Users\\yarde\\vak_project\\BF\\hidden_size\\hidden_size_16\\gr41rd51\\results_210526_160858\\train_dur_75s\\replicate_1\\TweetyNet\\checkpoints\\max-val-acc-checkpoint.pt \n"
     ]
    },
    {
     "name": "stderr",
     "output_type": "stream",
     "text": [
      "batch 28 / 29: 100%|███████████████████████████████████████████████████████████████████| 29/29 [00:13<00:00,  2.14it/s]\n"
     ]
    },
    {
     "name": "stdout",
     "output_type": "stream",
     "text": [
      "Transition added:  ['a' 'b'] to f\n",
      "Transition added:  ['a' 'b'] to i\n",
      "Transition added:  ['c' 'd'] to i\n",
      "Transition added:  ['d' 'e'] to j\n",
      "Transition added:  ['d' 'i'] to i\n",
      "Transition added:  ['e' 'i'] to i\n",
      "Transition added:  ['i' 'i'] to a\n",
      "Transition added:  ['i' 'i'] to j\n",
      "Transition added:  ['i' 'i'] to m\n",
      "Transition added:  ['i' 'j'] to j\n"
     ]
    },
    {
     "name": "stderr",
     "output_type": "stream",
     "text": [
      "  0%|                                                                                           | 0/29 [00:00<?, ?it/s]"
     ]
    },
    {
     "name": "stdout",
     "output_type": "stream",
     "text": [
      "seq: ['a' 'b' 'f'] ratio: 0.016923076923076923 err 0.6 n [  0.   0. 650.   1.   0.  11.   0.  26.   7.   0.   7.]\n",
      "seq: ['a' 'b' 'i'] ratio: 0.04 err 0.22429906542056077 n [  0.   0. 650.   1.   0.  11.   0.  26.   7.   0.   7.]\n",
      "seq: ['c' 'd' 'i'] ratio: 0.14817880794701987 err 0.06212121212121213 n [0.000e+00 0.000e+00 0.000e+00 0.000e+00 1.208e+03 0.000e+00 0.000e+00\n",
      " 1.790e+02 4.000e+00 1.000e+00 3.000e+00]\n",
      "seq: ['d' 'e' 'j'] ratio: 0.018518518518518517 err 0.019230769230769273 n [  6.   0.   0.   0.   0. 756.   0. 238.  14.   0.   1.]\n",
      "seq: ['d' 'i' 'i'] ratio: 0.14012738853503184 err 0.05084745762711862 n [  0.   0.   0.   0.   0.   0.   0.  22. 157.   0.   0.]\n",
      "seq: ['e' 'i' 'i'] ratio: 0.23560209424083767 err 0.03658536585365857 n [  0.   0.   0.   0.   0.   1.   0.  45. 191.   0.   1.]\n",
      "seq: ['i' 'i' 'a'] ratio: 0.05162523900573613 err 0.19932432432432434 n [5.400e+01 0.000e+00 0.000e+00 0.000e+00 0.000e+00 0.000e+00 1.000e+00\n",
      " 1.046e+03 8.100e+01 0.000e+00 1.410e+02]\n",
      "seq: ['i' 'i' 'j'] ratio: 0.0774378585086042 err 0.21568627450980393 n [5.400e+01 0.000e+00 0.000e+00 0.000e+00 0.000e+00 0.000e+00 1.000e+00\n",
      " 1.046e+03 8.100e+01 0.000e+00 1.410e+02]\n",
      "seq: ['i' 'i' 'm'] ratio: 0.13479923518164436 err 0.47560975609756095 n [5.400e+01 0.000e+00 0.000e+00 0.000e+00 0.000e+00 0.000e+00 1.000e+00\n",
      " 1.046e+03 8.100e+01 0.000e+00 1.410e+02]\n",
      "seq: ['i' 'j' 'j'] ratio: 0.02813852813852814 err 0.9189189189189189 n [  1.   0.   0.   0.   0.   0.   0.   7.  13. 462.   0.]\n",
      "Done D:\\Users\\yarde\\vak_project\\BF\\hidden_size\\hidden_size_16\\gr41rd51\\results_210526_160858\\train_dur_75s\\replicate_1\n",
      "Loading checkpoint from:\n",
      "D:\\Users\\yarde\\vak_project\\BF\\hidden_size\\hidden_size_16\\gr41rd51\\results_210526_160858\\train_dur_75s\\replicate_10\\TweetyNet\\checkpoints\\max-val-acc-checkpoint.pt \n"
     ]
    },
    {
     "name": "stderr",
     "output_type": "stream",
     "text": [
      "batch 28 / 29: 100%|███████████████████████████████████████████████████████████████████| 29/29 [00:13<00:00,  2.14it/s]\n"
     ]
    },
    {
     "name": "stdout",
     "output_type": "stream",
     "text": [
      "Transition added:  ['a' 'b'] to f\n",
      "Transition added:  ['a' 'b'] to i\n",
      "Transition added:  ['c' 'd'] to i\n",
      "Transition added:  ['d' 'e'] to j\n",
      "Transition added:  ['d' 'i'] to i\n",
      "Transition added:  ['e' 'i'] to i\n",
      "Transition added:  ['i' 'i'] to a\n",
      "Transition added:  ['i' 'i'] to j\n",
      "Transition added:  ['i' 'i'] to m\n",
      "Transition added:  ['i' 'j'] to j\n"
     ]
    },
    {
     "name": "stderr",
     "output_type": "stream",
     "text": [
      "  0%|                                                                                           | 0/29 [00:00<?, ?it/s]"
     ]
    },
    {
     "name": "stdout",
     "output_type": "stream",
     "text": [
      "seq: ['a' 'b' 'f'] ratio: 0.016923076923076923 err 0.6 n [  0.   0. 650.   1.   0.  11.   0.  26.   7.   0.   7.]\n",
      "seq: ['a' 'b' 'i'] ratio: 0.04 err 0.28037383177570097 n [  0.   0. 650.   1.   0.  11.   0.  26.   7.   0.   7.]\n",
      "seq: ['c' 'd' 'i'] ratio: 0.14817880794701987 err 0.05757575757575761 n [0.000e+00 0.000e+00 0.000e+00 0.000e+00 1.208e+03 0.000e+00 0.000e+00\n",
      " 1.790e+02 4.000e+00 1.000e+00 3.000e+00]\n",
      "seq: ['d' 'e' 'j'] ratio: 0.018518518518518517 err 0.04807692307692313 n [  6.   0.   0.   0.   0. 756.   0. 238.  14.   0.   1.]\n",
      "seq: ['d' 'i' 'i'] ratio: 0.14012738853503184 err 0.016949152542372836 n [  0.   0.   0.   0.   0.   0.   0.  22. 157.   0.   0.]\n",
      "seq: ['e' 'i' 'i'] ratio: 0.23560209424083767 err 0.028455284552845517 n [  0.   0.   0.   0.   0.   1.   0.  45. 191.   0.   1.]\n",
      "seq: ['i' 'i' 'a'] ratio: 0.05162523900573613 err 0.09797297297297303 n [5.400e+01 0.000e+00 0.000e+00 0.000e+00 0.000e+00 0.000e+00 1.000e+00\n",
      " 1.046e+03 8.100e+01 0.000e+00 1.410e+02]\n",
      "seq: ['i' 'i' 'j'] ratio: 0.0774378585086042 err 0.05555555555555558 n [5.400e+01 0.000e+00 0.000e+00 0.000e+00 0.000e+00 0.000e+00 1.000e+00\n",
      " 1.046e+03 8.100e+01 0.000e+00 1.410e+02]\n",
      "seq: ['i' 'i' 'm'] ratio: 0.13479923518164436 err 0.26287262872628725 n [5.400e+01 0.000e+00 0.000e+00 0.000e+00 0.000e+00 0.000e+00 1.000e+00\n",
      " 1.046e+03 8.100e+01 0.000e+00 1.410e+02]\n",
      "seq: ['i' 'j' 'j'] ratio: 0.02813852813852814 err 0.0 n [  1.   0.   0.   0.   0.   0.   0.   7.  13. 462.   0.]\n",
      "Done D:\\Users\\yarde\\vak_project\\BF\\hidden_size\\hidden_size_16\\gr41rd51\\results_210526_160858\\train_dur_75s\\replicate_10\n",
      "Loading checkpoint from:\n",
      "D:\\Users\\yarde\\vak_project\\BF\\hidden_size\\hidden_size_16\\gr41rd51\\results_210526_160858\\train_dur_75s\\replicate_2\\TweetyNet\\checkpoints\\max-val-acc-checkpoint.pt \n"
     ]
    },
    {
     "name": "stderr",
     "output_type": "stream",
     "text": [
      "batch 28 / 29: 100%|███████████████████████████████████████████████████████████████████| 29/29 [00:13<00:00,  2.14it/s]\n"
     ]
    },
    {
     "name": "stdout",
     "output_type": "stream",
     "text": [
      "Transition added:  ['a' 'b'] to f\n",
      "Transition added:  ['a' 'b'] to i\n",
      "Transition added:  ['c' 'd'] to i\n",
      "Transition added:  ['d' 'e'] to j\n",
      "Transition added:  ['d' 'i'] to i\n",
      "Transition added:  ['e' 'i'] to i\n",
      "Transition added:  ['i' 'i'] to a\n",
      "Transition added:  ['i' 'i'] to j\n",
      "Transition added:  ['i' 'i'] to m\n",
      "Transition added:  ['i' 'j'] to j\n"
     ]
    },
    {
     "name": "stderr",
     "output_type": "stream",
     "text": [
      "  0%|                                                                                           | 0/29 [00:00<?, ?it/s]"
     ]
    },
    {
     "name": "stdout",
     "output_type": "stream",
     "text": [
      "seq: ['a' 'b' 'f'] ratio: 0.016923076923076923 err 0.0 n [  0.   0. 650.   1.   0.  11.   0.  26.   7.   0.   7.]\n",
      "seq: ['a' 'b' 'i'] ratio: 0.04 err 0.3457943925233645 n [  0.   0. 650.   1.   0.  11.   0.  26.   7.   0.   7.]\n",
      "seq: ['c' 'd' 'i'] ratio: 0.14817880794701987 err 0.07424242424242422 n [0.000e+00 0.000e+00 0.000e+00 0.000e+00 1.208e+03 0.000e+00 0.000e+00\n",
      " 1.790e+02 4.000e+00 1.000e+00 3.000e+00]\n",
      "seq: ['d' 'e' 'j'] ratio: 0.018518518518518517 err 0.019230769230769273 n [  6.   0.   0.   0.   0. 756.   0. 238.  14.   0.   1.]\n",
      "seq: ['d' 'i' 'i'] ratio: 0.14012738853503184 err 0.0 n [  0.   0.   0.   0.   0.   0.   0.  22. 157.   0.   0.]\n",
      "seq: ['e' 'i' 'i'] ratio: 0.23560209424083767 err 0.024390243902439046 n [  0.   0.   0.   0.   0.   1.   0.  45. 191.   0.   1.]\n",
      "seq: ['i' 'i' 'a'] ratio: 0.05162523900573613 err 0.31418918918918914 n [5.400e+01 0.000e+00 0.000e+00 0.000e+00 0.000e+00 0.000e+00 1.000e+00\n",
      " 1.046e+03 8.100e+01 0.000e+00 1.410e+02]\n",
      "seq: ['i' 'i' 'j'] ratio: 0.0774378585086042 err 0.12091503267973858 n [5.400e+01 0.000e+00 0.000e+00 0.000e+00 0.000e+00 0.000e+00 1.000e+00\n",
      " 1.046e+03 8.100e+01 0.000e+00 1.410e+02]\n",
      "seq: ['i' 'i' 'm'] ratio: 0.13479923518164436 err 0.214769647696477 n [5.400e+01 0.000e+00 0.000e+00 0.000e+00 0.000e+00 0.000e+00 1.000e+00\n",
      " 1.046e+03 8.100e+01 0.000e+00 1.410e+02]\n",
      "seq: ['i' 'j' 'j'] ratio: 0.02813852813852814 err 0.0 n [  1.   0.   0.   0.   0.   0.   0.   7.  13. 462.   0.]\n",
      "Done D:\\Users\\yarde\\vak_project\\BF\\hidden_size\\hidden_size_16\\gr41rd51\\results_210526_160858\\train_dur_75s\\replicate_2\n",
      "Loading checkpoint from:\n",
      "D:\\Users\\yarde\\vak_project\\BF\\hidden_size\\hidden_size_16\\gr41rd51\\results_210526_160858\\train_dur_75s\\replicate_3\\TweetyNet\\checkpoints\\max-val-acc-checkpoint.pt \n"
     ]
    },
    {
     "name": "stderr",
     "output_type": "stream",
     "text": [
      "batch 28 / 29: 100%|███████████████████████████████████████████████████████████████████| 29/29 [00:13<00:00,  2.14it/s]\n"
     ]
    },
    {
     "name": "stdout",
     "output_type": "stream",
     "text": [
      "Transition added:  ['a' 'b'] to f\n",
      "Transition added:  ['a' 'b'] to i\n",
      "Transition added:  ['c' 'd'] to i\n",
      "Transition added:  ['d' 'e'] to j\n",
      "Transition added:  ['d' 'i'] to i\n",
      "Transition added:  ['e' 'i'] to i\n",
      "Transition added:  ['i' 'i'] to a\n",
      "Transition added:  ['i' 'i'] to j\n",
      "Transition added:  ['i' 'i'] to m\n",
      "Transition added:  ['i' 'j'] to j\n"
     ]
    },
    {
     "name": "stderr",
     "output_type": "stream",
     "text": [
      "  0%|                                                                                           | 0/29 [00:00<?, ?it/s]"
     ]
    },
    {
     "name": "stdout",
     "output_type": "stream",
     "text": [
      "seq: ['a' 'b' 'f'] ratio: 0.016923076923076923 err 0.9333333333333333 n [  0.   0. 650.   1.   0.  11.   0.  26.   7.   0.   7.]\n",
      "seq: ['a' 'b' 'i'] ratio: 0.04 err 0.28971962616822433 n [  0.   0. 650.   1.   0.  11.   0.  26.   7.   0.   7.]\n",
      "seq: ['c' 'd' 'i'] ratio: 0.14817880794701987 err 0.10909090909090913 n [0.000e+00 0.000e+00 0.000e+00 0.000e+00 1.208e+03 0.000e+00 0.000e+00\n",
      " 1.790e+02 4.000e+00 1.000e+00 3.000e+00]\n",
      "seq: ['d' 'e' 'j'] ratio: 0.018518518518518517 err 0.038461538461538436 n [  6.   0.   0.   0.   0. 756.   0. 238.  14.   0.   1.]\n",
      "seq: ['d' 'i' 'i'] ratio: 0.14012738853503184 err 0.2542372881355932 n [  0.   0.   0.   0.   0.   0.   0.  22. 157.   0.   0.]\n",
      "seq: ['e' 'i' 'i'] ratio: 0.23560209424083767 err 0.06910569105691056 n [  0.   0.   0.   0.   0.   1.   0.  45. 191.   0.   1.]\n",
      "seq: ['i' 'i' 'a'] ratio: 0.05162523900573613 err 0.10472972972972971 n [5.400e+01 0.000e+00 0.000e+00 0.000e+00 0.000e+00 0.000e+00 1.000e+00\n",
      " 1.046e+03 8.100e+01 0.000e+00 1.410e+02]\n",
      "seq: ['i' 'i' 'j'] ratio: 0.0774378585086042 err 0.13725490196078427 n [5.400e+01 0.000e+00 0.000e+00 0.000e+00 0.000e+00 0.000e+00 1.000e+00\n",
      " 1.046e+03 8.100e+01 0.000e+00 1.410e+02]\n",
      "seq: ['i' 'i' 'm'] ratio: 0.13479923518164436 err 0.5291327913279134 n [5.400e+01 0.000e+00 0.000e+00 0.000e+00 0.000e+00 0.000e+00 1.000e+00\n",
      " 1.046e+03 8.100e+01 0.000e+00 1.410e+02]\n",
      "seq: ['i' 'j' 'j'] ratio: 0.02813852813852814 err 0.9459459459459459 n [  1.   0.   0.   0.   0.   0.   0.   7.  13. 462.   0.]\n",
      "Done D:\\Users\\yarde\\vak_project\\BF\\hidden_size\\hidden_size_16\\gr41rd51\\results_210526_160858\\train_dur_75s\\replicate_3\n",
      "Loading checkpoint from:\n",
      "D:\\Users\\yarde\\vak_project\\BF\\hidden_size\\hidden_size_16\\gr41rd51\\results_210526_160858\\train_dur_75s\\replicate_4\\TweetyNet\\checkpoints\\max-val-acc-checkpoint.pt \n"
     ]
    },
    {
     "name": "stderr",
     "output_type": "stream",
     "text": [
      "batch 28 / 29: 100%|███████████████████████████████████████████████████████████████████| 29/29 [00:13<00:00,  2.14it/s]\n"
     ]
    },
    {
     "name": "stdout",
     "output_type": "stream",
     "text": [
      "Transition added:  ['a' 'b'] to f\n",
      "Transition added:  ['a' 'b'] to i\n",
      "Transition added:  ['c' 'd'] to i\n",
      "Transition added:  ['d' 'e'] to j\n",
      "Transition added:  ['d' 'i'] to i\n",
      "Transition added:  ['e' 'i'] to i\n",
      "Transition added:  ['i' 'i'] to a\n",
      "Transition added:  ['i' 'i'] to j\n",
      "Transition added:  ['i' 'i'] to m\n",
      "Transition added:  ['i' 'j'] to j\n"
     ]
    },
    {
     "name": "stderr",
     "output_type": "stream",
     "text": [
      "  0%|                                                                                           | 0/29 [00:00<?, ?it/s]"
     ]
    },
    {
     "name": "stdout",
     "output_type": "stream",
     "text": [
      "seq: ['a' 'b' 'f'] ratio: 0.016923076923076923 err 1.0 n [  0.   0. 650.   1.   0.  11.   0.  26.   7.   0.   7.]\n",
      "seq: ['a' 'b' 'i'] ratio: 0.04 err 0.31775700934579443 n [  0.   0. 650.   1.   0.  11.   0.  26.   7.   0.   7.]\n",
      "seq: ['c' 'd' 'i'] ratio: 0.14817880794701987 err 0.039393939393939426 n [0.000e+00 0.000e+00 0.000e+00 0.000e+00 1.208e+03 0.000e+00 0.000e+00\n",
      " 1.790e+02 4.000e+00 1.000e+00 3.000e+00]\n",
      "seq: ['d' 'e' 'j'] ratio: 0.018518518518518517 err 0.038461538461538436 n [  6.   0.   0.   0.   0. 756.   0. 238.  14.   0.   1.]\n",
      "seq: ['d' 'i' 'i'] ratio: 0.14012738853503184 err 0.0 n [  0.   0.   0.   0.   0.   0.   0.  22. 157.   0.   0.]\n",
      "seq: ['e' 'i' 'i'] ratio: 0.23560209424083767 err 0.04878048780487809 n [  0.   0.   0.   0.   0.   1.   0.  45. 191.   0.   1.]\n",
      "seq: ['i' 'i' 'a'] ratio: 0.05162523900573613 err 0.14189189189189189 n [5.400e+01 0.000e+00 0.000e+00 0.000e+00 0.000e+00 0.000e+00 1.000e+00\n",
      " 1.046e+03 8.100e+01 0.000e+00 1.410e+02]\n",
      "seq: ['i' 'i' 'j'] ratio: 0.0774378585086042 err 0.08823529411764708 n [5.400e+01 0.000e+00 0.000e+00 0.000e+00 0.000e+00 0.000e+00 1.000e+00\n",
      " 1.046e+03 8.100e+01 0.000e+00 1.410e+02]\n",
      "seq: ['i' 'i' 'm'] ratio: 0.13479923518164436 err 0.28861788617886175 n [5.400e+01 0.000e+00 0.000e+00 0.000e+00 0.000e+00 0.000e+00 1.000e+00\n",
      " 1.046e+03 8.100e+01 0.000e+00 1.410e+02]\n",
      "seq: ['i' 'j' 'j'] ratio: 0.02813852813852814 err 0.0 n [  1.   0.   0.   0.   0.   0.   0.   7.  13. 462.   0.]\n",
      "Done D:\\Users\\yarde\\vak_project\\BF\\hidden_size\\hidden_size_16\\gr41rd51\\results_210526_160858\\train_dur_75s\\replicate_4\n",
      "Loading checkpoint from:\n",
      "D:\\Users\\yarde\\vak_project\\BF\\hidden_size\\hidden_size_16\\gr41rd51\\results_210526_160858\\train_dur_75s\\replicate_5\\TweetyNet\\checkpoints\\max-val-acc-checkpoint.pt \n"
     ]
    },
    {
     "name": "stderr",
     "output_type": "stream",
     "text": [
      "batch 28 / 29: 100%|███████████████████████████████████████████████████████████████████| 29/29 [00:13<00:00,  2.15it/s]\n"
     ]
    },
    {
     "name": "stdout",
     "output_type": "stream",
     "text": [
      "Transition added:  ['a' 'b'] to f\n",
      "Transition added:  ['a' 'b'] to i\n",
      "Transition added:  ['c' 'd'] to i\n",
      "Transition added:  ['d' 'e'] to j\n",
      "Transition added:  ['d' 'i'] to i\n",
      "Transition added:  ['e' 'i'] to i\n",
      "Transition added:  ['i' 'i'] to a\n",
      "Transition added:  ['i' 'i'] to j\n",
      "Transition added:  ['i' 'i'] to m\n",
      "Transition added:  ['i' 'j'] to j\n"
     ]
    },
    {
     "name": "stderr",
     "output_type": "stream",
     "text": [
      "  0%|                                                                                           | 0/29 [00:00<?, ?it/s]"
     ]
    },
    {
     "name": "stdout",
     "output_type": "stream",
     "text": [
      "seq: ['a' 'b' 'f'] ratio: 0.016923076923076923 err 0.9666666666666667 n [  0.   0. 650.   1.   0.  11.   0.  26.   7.   0.   7.]\n",
      "seq: ['a' 'b' 'i'] ratio: 0.04 err 0.30841121495327106 n [  0.   0. 650.   1.   0.  11.   0.  26.   7.   0.   7.]\n",
      "seq: ['c' 'd' 'i'] ratio: 0.14817880794701987 err 0.06212121212121213 n [0.000e+00 0.000e+00 0.000e+00 0.000e+00 1.208e+03 0.000e+00 0.000e+00\n",
      " 1.790e+02 4.000e+00 1.000e+00 3.000e+00]\n",
      "seq: ['d' 'e' 'j'] ratio: 0.018518518518518517 err 0.038461538461538436 n [  6.   0.   0.   0.   0. 756.   0. 238.  14.   0.   1.]\n",
      "seq: ['d' 'i' 'i'] ratio: 0.14012738853503184 err 0.05084745762711862 n [  0.   0.   0.   0.   0.   0.   0.  22. 157.   0.   0.]\n",
      "seq: ['e' 'i' 'i'] ratio: 0.23560209424083767 err 0.07723577235772361 n [  0.   0.   0.   0.   0.   1.   0.  45. 191.   0.   1.]\n",
      "seq: ['i' 'i' 'a'] ratio: 0.05162523900573613 err 0.22635135135135132 n [5.400e+01 0.000e+00 0.000e+00 0.000e+00 0.000e+00 0.000e+00 1.000e+00\n",
      " 1.046e+03 8.100e+01 0.000e+00 1.410e+02]\n",
      "seq: ['i' 'i' 'j'] ratio: 0.0774378585086042 err 0.06209150326797386 n [5.400e+01 0.000e+00 0.000e+00 0.000e+00 0.000e+00 0.000e+00 1.000e+00\n",
      " 1.046e+03 8.100e+01 0.000e+00 1.410e+02]\n",
      "seq: ['i' 'i' 'm'] ratio: 0.13479923518164436 err 0.34959349593495936 n [5.400e+01 0.000e+00 0.000e+00 0.000e+00 0.000e+00 0.000e+00 1.000e+00\n",
      " 1.046e+03 8.100e+01 0.000e+00 1.410e+02]\n",
      "seq: ['i' 'j' 'j'] ratio: 0.02813852813852814 err 0.10810810810810811 n [  1.   0.   0.   0.   0.   0.   0.   7.  13. 462.   0.]\n",
      "Done D:\\Users\\yarde\\vak_project\\BF\\hidden_size\\hidden_size_16\\gr41rd51\\results_210526_160858\\train_dur_75s\\replicate_5\n",
      "Loading checkpoint from:\n",
      "D:\\Users\\yarde\\vak_project\\BF\\hidden_size\\hidden_size_16\\gr41rd51\\results_210526_160858\\train_dur_75s\\replicate_6\\TweetyNet\\checkpoints\\max-val-acc-checkpoint.pt \n"
     ]
    },
    {
     "name": "stderr",
     "output_type": "stream",
     "text": [
      "batch 28 / 29: 100%|███████████████████████████████████████████████████████████████████| 29/29 [00:13<00:00,  2.13it/s]\n"
     ]
    },
    {
     "name": "stdout",
     "output_type": "stream",
     "text": [
      "Transition added:  ['a' 'b'] to f\n",
      "Transition added:  ['a' 'b'] to i\n",
      "Transition added:  ['c' 'd'] to i\n",
      "Transition added:  ['d' 'e'] to j\n",
      "Transition added:  ['d' 'i'] to i\n",
      "Transition added:  ['e' 'i'] to i\n",
      "Transition added:  ['i' 'i'] to a\n",
      "Transition added:  ['i' 'i'] to j\n",
      "Transition added:  ['i' 'i'] to m\n",
      "Transition added:  ['i' 'j'] to j\n"
     ]
    },
    {
     "name": "stderr",
     "output_type": "stream",
     "text": [
      "  0%|                                                                                           | 0/29 [00:00<?, ?it/s]"
     ]
    },
    {
     "name": "stdout",
     "output_type": "stream",
     "text": [
      "seq: ['a' 'b' 'f'] ratio: 0.016923076923076923 err 0.9333333333333333 n [  0.   0. 650.   1.   0.  11.   0.  26.   7.   0.   7.]\n",
      "seq: ['a' 'b' 'i'] ratio: 0.04 err 0.3271028037383178 n [  0.   0. 650.   1.   0.  11.   0.  26.   7.   0.   7.]\n",
      "seq: ['c' 'd' 'i'] ratio: 0.14817880794701987 err 0.033333333333333326 n [0.000e+00 0.000e+00 0.000e+00 0.000e+00 1.208e+03 0.000e+00 0.000e+00\n",
      " 1.790e+02 4.000e+00 1.000e+00 3.000e+00]\n",
      "seq: ['d' 'e' 'j'] ratio: 0.018518518518518517 err 0.028846153846153855 n [  6.   0.   0.   0.   0. 756.   0. 238.  14.   0.   1.]\n",
      "seq: ['d' 'i' 'i'] ratio: 0.14012738853503184 err 0.03389830508474578 n [  0.   0.   0.   0.   0.   0.   0.  22. 157.   0.   0.]\n",
      "seq: ['e' 'i' 'i'] ratio: 0.23560209424083767 err 0.04471544715447151 n [  0.   0.   0.   0.   0.   1.   0.  45. 191.   0.   1.]\n",
      "seq: ['i' 'i' 'a'] ratio: 0.05162523900573613 err 0.375 n [5.400e+01 0.000e+00 0.000e+00 0.000e+00 0.000e+00 0.000e+00 1.000e+00\n",
      " 1.046e+03 8.100e+01 0.000e+00 1.410e+02]\n",
      "seq: ['i' 'i' 'j'] ratio: 0.0774378585086042 err 0.11764705882352944 n [5.400e+01 0.000e+00 0.000e+00 0.000e+00 0.000e+00 0.000e+00 1.000e+00\n",
      " 1.046e+03 8.100e+01 0.000e+00 1.410e+02]\n",
      "seq: ['i' 'i' 'm'] ratio: 0.13479923518164436 err 0.5047425474254743 n [5.400e+01 0.000e+00 0.000e+00 0.000e+00 0.000e+00 0.000e+00 1.000e+00\n",
      " 1.046e+03 8.100e+01 0.000e+00 1.410e+02]\n",
      "seq: ['i' 'j' 'j'] ratio: 0.02813852813852814 err 0.5135135135135135 n [  1.   0.   0.   0.   0.   0.   0.   7.  13. 462.   0.]\n",
      "Done D:\\Users\\yarde\\vak_project\\BF\\hidden_size\\hidden_size_16\\gr41rd51\\results_210526_160858\\train_dur_75s\\replicate_6\n",
      "Loading checkpoint from:\n",
      "D:\\Users\\yarde\\vak_project\\BF\\hidden_size\\hidden_size_16\\gr41rd51\\results_210526_160858\\train_dur_75s\\replicate_7\\TweetyNet\\checkpoints\\max-val-acc-checkpoint.pt \n"
     ]
    },
    {
     "name": "stderr",
     "output_type": "stream",
     "text": [
      "batch 28 / 29: 100%|███████████████████████████████████████████████████████████████████| 29/29 [00:13<00:00,  2.14it/s]\n"
     ]
    },
    {
     "name": "stdout",
     "output_type": "stream",
     "text": [
      "Transition added:  ['a' 'b'] to f\n",
      "Transition added:  ['a' 'b'] to i\n",
      "Transition added:  ['c' 'd'] to i\n",
      "Transition added:  ['d' 'e'] to j\n",
      "Transition added:  ['d' 'i'] to i\n",
      "Transition added:  ['e' 'i'] to i\n",
      "Transition added:  ['i' 'i'] to a\n",
      "Transition added:  ['i' 'i'] to j\n",
      "Transition added:  ['i' 'i'] to m\n",
      "Transition added:  ['i' 'j'] to j\n"
     ]
    },
    {
     "name": "stderr",
     "output_type": "stream",
     "text": [
      "  0%|                                                                                           | 0/29 [00:00<?, ?it/s]"
     ]
    },
    {
     "name": "stdout",
     "output_type": "stream",
     "text": [
      "seq: ['a' 'b' 'f'] ratio: 0.016923076923076923 err 0.30000000000000004 n [  0.   0. 650.   1.   0.  11.   0.  26.   7.   0.   7.]\n",
      "seq: ['a' 'b' 'i'] ratio: 0.04 err 0.4112149532710281 n [  0.   0. 650.   1.   0.  11.   0.  26.   7.   0.   7.]\n",
      "seq: ['c' 'd' 'i'] ratio: 0.14817880794701987 err 0.09999999999999998 n [0.000e+00 0.000e+00 0.000e+00 0.000e+00 1.208e+03 0.000e+00 0.000e+00\n",
      " 1.790e+02 4.000e+00 1.000e+00 3.000e+00]\n",
      "seq: ['d' 'e' 'j'] ratio: 0.018518518518518517 err 0.019230769230769273 n [  6.   0.   0.   0.   0. 756.   0. 238.  14.   0.   1.]\n",
      "seq: ['d' 'i' 'i'] ratio: 0.14012738853503184 err 0.0 n [  0.   0.   0.   0.   0.   0.   0.  22. 157.   0.   0.]\n",
      "seq: ['e' 'i' 'i'] ratio: 0.23560209424083767 err 0.04065040650406504 n [  0.   0.   0.   0.   0.   1.   0.  45. 191.   0.   1.]\n",
      "seq: ['i' 'i' 'a'] ratio: 0.05162523900573613 err 0.2364864864864865 n [5.400e+01 0.000e+00 0.000e+00 0.000e+00 0.000e+00 0.000e+00 1.000e+00\n",
      " 1.046e+03 8.100e+01 0.000e+00 1.410e+02]\n",
      "seq: ['i' 'i' 'j'] ratio: 0.0774378585086042 err 0.10784313725490191 n [5.400e+01 0.000e+00 0.000e+00 0.000e+00 0.000e+00 0.000e+00 1.000e+00\n",
      " 1.046e+03 8.100e+01 0.000e+00 1.410e+02]\n",
      "seq: ['i' 'i' 'm'] ratio: 0.13479923518164436 err 0.31707317073170727 n [5.400e+01 0.000e+00 0.000e+00 0.000e+00 0.000e+00 0.000e+00 1.000e+00\n",
      " 1.046e+03 8.100e+01 0.000e+00 1.410e+02]\n",
      "seq: ['i' 'j' 'j'] ratio: 0.02813852813852814 err 0.0 n [  1.   0.   0.   0.   0.   0.   0.   7.  13. 462.   0.]\n",
      "Done D:\\Users\\yarde\\vak_project\\BF\\hidden_size\\hidden_size_16\\gr41rd51\\results_210526_160858\\train_dur_75s\\replicate_7\n",
      "Loading checkpoint from:\n",
      "D:\\Users\\yarde\\vak_project\\BF\\hidden_size\\hidden_size_16\\gr41rd51\\results_210526_160858\\train_dur_75s\\replicate_8\\TweetyNet\\checkpoints\\max-val-acc-checkpoint.pt \n"
     ]
    },
    {
     "name": "stderr",
     "output_type": "stream",
     "text": [
      "batch 28 / 29: 100%|███████████████████████████████████████████████████████████████████| 29/29 [00:13<00:00,  2.16it/s]\n"
     ]
    },
    {
     "name": "stdout",
     "output_type": "stream",
     "text": [
      "Transition added:  ['a' 'b'] to f\n",
      "Transition added:  ['a' 'b'] to i\n",
      "Transition added:  ['c' 'd'] to i\n",
      "Transition added:  ['d' 'e'] to j\n",
      "Transition added:  ['d' 'i'] to i\n",
      "Transition added:  ['e' 'i'] to i\n",
      "Transition added:  ['i' 'i'] to a\n",
      "Transition added:  ['i' 'i'] to j\n",
      "Transition added:  ['i' 'i'] to m\n",
      "Transition added:  ['i' 'j'] to j\n"
     ]
    },
    {
     "name": "stderr",
     "output_type": "stream",
     "text": [
      "  0%|                                                                                           | 0/29 [00:00<?, ?it/s]"
     ]
    },
    {
     "name": "stdout",
     "output_type": "stream",
     "text": [
      "seq: ['a' 'b' 'f'] ratio: 0.016923076923076923 err 1.0 n [  0.   0. 650.   1.   0.  11.   0.  26.   7.   0.   7.]\n",
      "seq: ['a' 'b' 'i'] ratio: 0.04 err 0.3271028037383178 n [  0.   0. 650.   1.   0.  11.   0.  26.   7.   0.   7.]\n",
      "seq: ['c' 'd' 'i'] ratio: 0.14817880794701987 err 0.045454545454545414 n [0.000e+00 0.000e+00 0.000e+00 0.000e+00 1.208e+03 0.000e+00 0.000e+00\n",
      " 1.790e+02 4.000e+00 1.000e+00 3.000e+00]\n",
      "seq: ['d' 'e' 'j'] ratio: 0.018518518518518517 err 0.028846153846153855 n [  6.   0.   0.   0.   0. 756.   0. 238.  14.   0.   1.]\n",
      "seq: ['d' 'i' 'i'] ratio: 0.14012738853503184 err 0.016949152542372836 n [  0.   0.   0.   0.   0.   0.   0.  22. 157.   0.   0.]\n",
      "seq: ['e' 'i' 'i'] ratio: 0.23560209424083767 err 0.03658536585365857 n [  0.   0.   0.   0.   0.   1.   0.  45. 191.   0.   1.]\n",
      "seq: ['i' 'i' 'a'] ratio: 0.05162523900573613 err 0.2601351351351351 n [5.400e+01 0.000e+00 0.000e+00 0.000e+00 0.000e+00 0.000e+00 1.000e+00\n",
      " 1.046e+03 8.100e+01 0.000e+00 1.410e+02]\n",
      "seq: ['i' 'i' 'j'] ratio: 0.0774378585086042 err 0.05555555555555558 n [5.400e+01 0.000e+00 0.000e+00 0.000e+00 0.000e+00 0.000e+00 1.000e+00\n",
      " 1.046e+03 8.100e+01 0.000e+00 1.410e+02]\n",
      "seq: ['i' 'i' 'm'] ratio: 0.13479923518164436 err 0.40785907859078596 n [5.400e+01 0.000e+00 0.000e+00 0.000e+00 0.000e+00 0.000e+00 1.000e+00\n",
      " 1.046e+03 8.100e+01 0.000e+00 1.410e+02]\n",
      "seq: ['i' 'j' 'j'] ratio: 0.02813852813852814 err 0.0 n [  1.   0.   0.   0.   0.   0.   0.   7.  13. 462.   0.]\n",
      "Done D:\\Users\\yarde\\vak_project\\BF\\hidden_size\\hidden_size_16\\gr41rd51\\results_210526_160858\\train_dur_75s\\replicate_8\n",
      "Loading checkpoint from:\n",
      "D:\\Users\\yarde\\vak_project\\BF\\hidden_size\\hidden_size_16\\gr41rd51\\results_210526_160858\\train_dur_75s\\replicate_9\\TweetyNet\\checkpoints\\max-val-acc-checkpoint.pt \n"
     ]
    },
    {
     "name": "stderr",
     "output_type": "stream",
     "text": [
      "batch 28 / 29: 100%|███████████████████████████████████████████████████████████████████| 29/29 [00:13<00:00,  2.15it/s]\n"
     ]
    },
    {
     "name": "stdout",
     "output_type": "stream",
     "text": [
      "Transition added:  ['a' 'b'] to f\n",
      "Transition added:  ['a' 'b'] to i\n",
      "Transition added:  ['c' 'd'] to i\n",
      "Transition added:  ['d' 'e'] to j\n",
      "Transition added:  ['d' 'i'] to i\n",
      "Transition added:  ['e' 'i'] to i\n",
      "Transition added:  ['i' 'i'] to a\n",
      "Transition added:  ['i' 'i'] to j\n",
      "Transition added:  ['i' 'i'] to m\n",
      "Transition added:  ['i' 'j'] to j\n",
      "seq: ['a' 'b' 'f'] ratio: 0.016923076923076923 err 0.06666666666666665 n [  0.   0. 650.   1.   0.  11.   0.  26.   7.   0.   7.]\n",
      "seq: ['a' 'b' 'i'] ratio: 0.04 err 0.33644859813084116 n [  0.   0. 650.   1.   0.  11.   0.  26.   7.   0.   7.]\n",
      "seq: ['c' 'd' 'i'] ratio: 0.14817880794701987 err 0.12272727272727268 n [0.000e+00 0.000e+00 0.000e+00 0.000e+00 1.208e+03 0.000e+00 0.000e+00\n",
      " 1.790e+02 4.000e+00 1.000e+00 3.000e+00]\n",
      "seq: ['d' 'e' 'j'] ratio: 0.018518518518518517 err 0.038461538461538436 n [  6.   0.   0.   0.   0. 756.   0. 238.  14.   0.   1.]\n",
      "seq: ['d' 'i' 'i'] ratio: 0.14012738853503184 err 0.03389830508474578 n [  0.   0.   0.   0.   0.   0.   0.  22. 157.   0.   0.]\n",
      "seq: ['e' 'i' 'i'] ratio: 0.23560209424083767 err 0.04471544715447151 n [  0.   0.   0.   0.   0.   1.   0.  45. 191.   0.   1.]\n",
      "seq: ['i' 'i' 'a'] ratio: 0.05162523900573613 err 0.2668918918918919 n [5.400e+01 0.000e+00 0.000e+00 0.000e+00 0.000e+00 0.000e+00 1.000e+00\n",
      " 1.046e+03 8.100e+01 0.000e+00 1.410e+02]\n",
      "seq: ['i' 'i' 'j'] ratio: 0.0774378585086042 err 0.05228758169934644 n [5.400e+01 0.000e+00 0.000e+00 0.000e+00 0.000e+00 0.000e+00 1.000e+00\n",
      " 1.046e+03 8.100e+01 0.000e+00 1.410e+02]\n",
      "seq: ['i' 'i' 'm'] ratio: 0.13479923518164436 err 0.1917344173441734 n [5.400e+01 0.000e+00 0.000e+00 0.000e+00 0.000e+00 0.000e+00 1.000e+00\n",
      " 1.046e+03 8.100e+01 0.000e+00 1.410e+02]\n",
      "seq: ['i' 'j' 'j'] ratio: 0.02813852813852814 err 1.0 n [  1.   0.   0.   0.   0.   0.   0.   7.  13. 462.   0.]\n",
      "Done D:\\Users\\yarde\\vak_project\\BF\\hidden_size\\hidden_size_16\\gr41rd51\\results_210526_160858\\train_dur_75s\\replicate_9\n"
     ]
    },
    {
     "name": "stderr",
     "output_type": "stream",
     "text": [
      "  0%|                                                                                           | 0/36 [00:00<?, ?it/s]"
     ]
    },
    {
     "name": "stdout",
     "output_type": "stream",
     "text": [
      "Loading checkpoint from:\n",
      "D:\\Users\\yarde\\vak_project\\BF\\hidden_size\\hidden_size_16\\gy6or6\\results_210526_233349\\train_dur_120s\\replicate_1\\TweetyNet\\checkpoints\\max-val-acc-checkpoint.pt \n"
     ]
    },
    {
     "name": "stderr",
     "output_type": "stream",
     "text": [
      "batch 35 / 36: 100%|███████████████████████████████████████████████████████████████████| 36/36 [00:13<00:00,  2.61it/s]\n"
     ]
    },
    {
     "name": "stdout",
     "output_type": "stream",
     "text": [
      "Transition added:  ['e' 'f'] to i\n",
      "Transition added:  ['i' 'i'] to a\n"
     ]
    },
    {
     "name": "stderr",
     "output_type": "stream",
     "text": [
      "  0%|                                                                                           | 0/36 [00:00<?, ?it/s]"
     ]
    },
    {
     "name": "stdout",
     "output_type": "stream",
     "text": [
      "seq: ['e' 'f' 'i'] ratio: 0.1089866156787763 err 0.03256302521008403 n [1.000e+00 0.000e+00 0.000e+00 0.000e+00 0.000e+00 0.000e+00 1.046e+03\n",
      " 0.000e+00 1.140e+02 0.000e+00 0.000e+00]\n",
      "seq: ['i' 'i' 'a'] ratio: 0.21882581271227558 err 0.028653295128939882 n [ 451.    0.    0.    0.    0.    0.    0.    0. 2061.    0.    0.]\n",
      "Done D:\\Users\\yarde\\vak_project\\BF\\hidden_size\\hidden_size_16\\gy6or6\\results_210526_233349\\train_dur_120s\\replicate_1\n",
      "Loading checkpoint from:\n",
      "D:\\Users\\yarde\\vak_project\\BF\\hidden_size\\hidden_size_16\\gy6or6\\results_210526_233349\\train_dur_120s\\replicate_10\\TweetyNet\\checkpoints\\max-val-acc-checkpoint.pt \n"
     ]
    },
    {
     "name": "stderr",
     "output_type": "stream",
     "text": [
      "batch 35 / 36: 100%|███████████████████████████████████████████████████████████████████| 36/36 [00:13<00:00,  2.63it/s]\n"
     ]
    },
    {
     "name": "stdout",
     "output_type": "stream",
     "text": [
      "Transition added:  ['e' 'f'] to i\n",
      "Transition added:  ['i' 'i'] to a\n"
     ]
    },
    {
     "name": "stderr",
     "output_type": "stream",
     "text": [
      "  0%|                                                                                           | 0/36 [00:00<?, ?it/s]"
     ]
    },
    {
     "name": "stdout",
     "output_type": "stream",
     "text": [
      "seq: ['e' 'f' 'i'] ratio: 0.1089866156787763 err 0.054621848739495826 n [1.000e+00 0.000e+00 0.000e+00 0.000e+00 0.000e+00 0.000e+00 1.046e+03\n",
      " 0.000e+00 1.140e+02 0.000e+00 0.000e+00]\n",
      "seq: ['i' 'i' 'a'] ratio: 0.21882581271227558 err 0.0322349570200573 n [ 451.    0.    0.    0.    0.    0.    0.    0. 2061.    0.    0.]\n",
      "Done D:\\Users\\yarde\\vak_project\\BF\\hidden_size\\hidden_size_16\\gy6or6\\results_210526_233349\\train_dur_120s\\replicate_10\n",
      "Loading checkpoint from:\n",
      "D:\\Users\\yarde\\vak_project\\BF\\hidden_size\\hidden_size_16\\gy6or6\\results_210526_233349\\train_dur_120s\\replicate_2\\TweetyNet\\checkpoints\\max-val-acc-checkpoint.pt \n"
     ]
    },
    {
     "name": "stderr",
     "output_type": "stream",
     "text": [
      "batch 35 / 36: 100%|███████████████████████████████████████████████████████████████████| 36/36 [00:13<00:00,  2.64it/s]\n"
     ]
    },
    {
     "name": "stdout",
     "output_type": "stream",
     "text": [
      "Transition added:  ['e' 'f'] to i\n",
      "Transition added:  ['i' 'i'] to a\n"
     ]
    },
    {
     "name": "stderr",
     "output_type": "stream",
     "text": [
      "  0%|                                                                                           | 0/36 [00:00<?, ?it/s]"
     ]
    },
    {
     "name": "stdout",
     "output_type": "stream",
     "text": [
      "seq: ['e' 'f' 'i'] ratio: 0.1089866156787763 err 0.06617647058823528 n [1.000e+00 0.000e+00 0.000e+00 0.000e+00 0.000e+00 0.000e+00 1.046e+03\n",
      " 0.000e+00 1.140e+02 0.000e+00 0.000e+00]\n",
      "seq: ['i' 'i' 'a'] ratio: 0.21882581271227558 err 0.02936962750716332 n [ 451.    0.    0.    0.    0.    0.    0.    0. 2061.    0.    0.]\n",
      "Done D:\\Users\\yarde\\vak_project\\BF\\hidden_size\\hidden_size_16\\gy6or6\\results_210526_233349\\train_dur_120s\\replicate_2\n",
      "Loading checkpoint from:\n",
      "D:\\Users\\yarde\\vak_project\\BF\\hidden_size\\hidden_size_16\\gy6or6\\results_210526_233349\\train_dur_120s\\replicate_3\\TweetyNet\\checkpoints\\max-val-acc-checkpoint.pt \n"
     ]
    },
    {
     "name": "stderr",
     "output_type": "stream",
     "text": [
      "batch 35 / 36: 100%|███████████████████████████████████████████████████████████████████| 36/36 [00:13<00:00,  2.62it/s]\n"
     ]
    },
    {
     "name": "stdout",
     "output_type": "stream",
     "text": [
      "Transition added:  ['e' 'f'] to i\n",
      "Transition added:  ['i' 'i'] to a\n"
     ]
    },
    {
     "name": "stderr",
     "output_type": "stream",
     "text": [
      "  0%|                                                                                           | 0/36 [00:00<?, ?it/s]"
     ]
    },
    {
     "name": "stdout",
     "output_type": "stream",
     "text": [
      "seq: ['e' 'f' 'i'] ratio: 0.1089866156787763 err 0.04621848739495793 n [1.000e+00 0.000e+00 0.000e+00 0.000e+00 0.000e+00 0.000e+00 1.046e+03\n",
      " 0.000e+00 1.140e+02 0.000e+00 0.000e+00]\n",
      "seq: ['i' 'i' 'a'] ratio: 0.21882581271227558 err 0.043696275071633206 n [ 451.    0.    0.    0.    0.    0.    0.    0. 2061.    0.    0.]\n",
      "Done D:\\Users\\yarde\\vak_project\\BF\\hidden_size\\hidden_size_16\\gy6or6\\results_210526_233349\\train_dur_120s\\replicate_3\n",
      "Loading checkpoint from:\n",
      "D:\\Users\\yarde\\vak_project\\BF\\hidden_size\\hidden_size_16\\gy6or6\\results_210526_233349\\train_dur_120s\\replicate_4\\TweetyNet\\checkpoints\\max-val-acc-checkpoint.pt \n"
     ]
    },
    {
     "name": "stderr",
     "output_type": "stream",
     "text": [
      "batch 35 / 36: 100%|███████████████████████████████████████████████████████████████████| 36/36 [00:14<00:00,  2.53it/s]\n"
     ]
    },
    {
     "name": "stdout",
     "output_type": "stream",
     "text": [
      "Transition added:  ['e' 'f'] to i\n",
      "Transition added:  ['i' 'i'] to a\n"
     ]
    },
    {
     "name": "stderr",
     "output_type": "stream",
     "text": [
      "  0%|                                                                                           | 0/36 [00:00<?, ?it/s]"
     ]
    },
    {
     "name": "stdout",
     "output_type": "stream",
     "text": [
      "seq: ['e' 'f' 'i'] ratio: 0.1089866156787763 err 0.05147058823529416 n [1.000e+00 0.000e+00 0.000e+00 0.000e+00 0.000e+00 0.000e+00 1.046e+03\n",
      " 0.000e+00 1.140e+02 0.000e+00 0.000e+00]\n",
      "seq: ['i' 'i' 'a'] ratio: 0.21882581271227558 err 0.027220630372492782 n [ 451.    0.    0.    0.    0.    0.    0.    0. 2061.    0.    0.]\n",
      "Done D:\\Users\\yarde\\vak_project\\BF\\hidden_size\\hidden_size_16\\gy6or6\\results_210526_233349\\train_dur_120s\\replicate_4\n",
      "Loading checkpoint from:\n",
      "D:\\Users\\yarde\\vak_project\\BF\\hidden_size\\hidden_size_16\\gy6or6\\results_210526_233349\\train_dur_120s\\replicate_5\\TweetyNet\\checkpoints\\max-val-acc-checkpoint.pt \n"
     ]
    },
    {
     "name": "stderr",
     "output_type": "stream",
     "text": [
      "batch 35 / 36: 100%|███████████████████████████████████████████████████████████████████| 36/36 [00:13<00:00,  2.60it/s]\n"
     ]
    },
    {
     "name": "stdout",
     "output_type": "stream",
     "text": [
      "Transition added:  ['e' 'f'] to i\n",
      "Transition added:  ['i' 'i'] to a\n"
     ]
    },
    {
     "name": "stderr",
     "output_type": "stream",
     "text": [
      "  0%|                                                                                           | 0/36 [00:00<?, ?it/s]"
     ]
    },
    {
     "name": "stdout",
     "output_type": "stream",
     "text": [
      "seq: ['e' 'f' 'i'] ratio: 0.1089866156787763 err 0.04621848739495793 n [1.000e+00 0.000e+00 0.000e+00 0.000e+00 0.000e+00 0.000e+00 1.046e+03\n",
      " 0.000e+00 1.140e+02 0.000e+00 0.000e+00]\n",
      "seq: ['i' 'i' 'a'] ratio: 0.21882581271227558 err 0.035816618911174825 n [ 451.    0.    0.    0.    0.    0.    0.    0. 2061.    0.    0.]\n",
      "Done D:\\Users\\yarde\\vak_project\\BF\\hidden_size\\hidden_size_16\\gy6or6\\results_210526_233349\\train_dur_120s\\replicate_5\n",
      "Loading checkpoint from:\n",
      "D:\\Users\\yarde\\vak_project\\BF\\hidden_size\\hidden_size_16\\gy6or6\\results_210526_233349\\train_dur_120s\\replicate_6\\TweetyNet\\checkpoints\\max-val-acc-checkpoint.pt \n"
     ]
    },
    {
     "name": "stderr",
     "output_type": "stream",
     "text": [
      "batch 35 / 36: 100%|███████████████████████████████████████████████████████████████████| 36/36 [00:13<00:00,  2.61it/s]\n"
     ]
    },
    {
     "name": "stdout",
     "output_type": "stream",
     "text": [
      "Transition added:  ['e' 'f'] to i\n",
      "Transition added:  ['i' 'i'] to a\n"
     ]
    },
    {
     "name": "stderr",
     "output_type": "stream",
     "text": [
      "  0%|                                                                                           | 0/36 [00:00<?, ?it/s]"
     ]
    },
    {
     "name": "stdout",
     "output_type": "stream",
     "text": [
      "seq: ['e' 'f' 'i'] ratio: 0.1089866156787763 err 0.04201680672268904 n [1.000e+00 0.000e+00 0.000e+00 0.000e+00 0.000e+00 0.000e+00 1.046e+03\n",
      " 0.000e+00 1.140e+02 0.000e+00 0.000e+00]\n",
      "seq: ['i' 'i' 'a'] ratio: 0.21882581271227558 err 0.025071633237822355 n [ 451.    0.    0.    0.    0.    0.    0.    0. 2061.    0.    0.]\n",
      "Done D:\\Users\\yarde\\vak_project\\BF\\hidden_size\\hidden_size_16\\gy6or6\\results_210526_233349\\train_dur_120s\\replicate_6\n",
      "Loading checkpoint from:\n",
      "D:\\Users\\yarde\\vak_project\\BF\\hidden_size\\hidden_size_16\\gy6or6\\results_210526_233349\\train_dur_120s\\replicate_7\\TweetyNet\\checkpoints\\max-val-acc-checkpoint.pt \n"
     ]
    },
    {
     "name": "stderr",
     "output_type": "stream",
     "text": [
      "batch 35 / 36: 100%|███████████████████████████████████████████████████████████████████| 36/36 [00:13<00:00,  2.61it/s]\n"
     ]
    },
    {
     "name": "stdout",
     "output_type": "stream",
     "text": [
      "Transition added:  ['e' 'f'] to i\n",
      "Transition added:  ['i' 'i'] to a\n"
     ]
    },
    {
     "name": "stderr",
     "output_type": "stream",
     "text": [
      "  0%|                                                                                           | 0/36 [00:00<?, ?it/s]"
     ]
    },
    {
     "name": "stdout",
     "output_type": "stream",
     "text": [
      "seq: ['e' 'f' 'i'] ratio: 0.1089866156787763 err 0.04936974789915971 n [1.000e+00 0.000e+00 0.000e+00 0.000e+00 0.000e+00 0.000e+00 1.046e+03\n",
      " 0.000e+00 1.140e+02 0.000e+00 0.000e+00]\n",
      "seq: ['i' 'i' 'a'] ratio: 0.21882581271227558 err 0.022206303724928378 n [ 451.    0.    0.    0.    0.    0.    0.    0. 2061.    0.    0.]\n",
      "Done D:\\Users\\yarde\\vak_project\\BF\\hidden_size\\hidden_size_16\\gy6or6\\results_210526_233349\\train_dur_120s\\replicate_7\n",
      "Loading checkpoint from:\n",
      "D:\\Users\\yarde\\vak_project\\BF\\hidden_size\\hidden_size_16\\gy6or6\\results_210526_233349\\train_dur_120s\\replicate_8\\TweetyNet\\checkpoints\\max-val-acc-checkpoint.pt \n"
     ]
    },
    {
     "name": "stderr",
     "output_type": "stream",
     "text": [
      "batch 35 / 36: 100%|███████████████████████████████████████████████████████████████████| 36/36 [00:13<00:00,  2.60it/s]\n"
     ]
    },
    {
     "name": "stdout",
     "output_type": "stream",
     "text": [
      "Transition added:  ['e' 'f'] to i\n",
      "Transition added:  ['i' 'i'] to a\n"
     ]
    },
    {
     "name": "stderr",
     "output_type": "stream",
     "text": [
      "  0%|                                                                                           | 0/36 [00:00<?, ?it/s]"
     ]
    },
    {
     "name": "stdout",
     "output_type": "stream",
     "text": [
      "seq: ['e' 'f' 'i'] ratio: 0.1089866156787763 err 0.06302521008403361 n [1.000e+00 0.000e+00 0.000e+00 0.000e+00 0.000e+00 0.000e+00 1.046e+03\n",
      " 0.000e+00 1.140e+02 0.000e+00 0.000e+00]\n",
      "seq: ['i' 'i' 'a'] ratio: 0.21882581271227558 err 0.03080229226361031 n [ 451.    0.    0.    0.    0.    0.    0.    0. 2061.    0.    0.]\n",
      "Done D:\\Users\\yarde\\vak_project\\BF\\hidden_size\\hidden_size_16\\gy6or6\\results_210526_233349\\train_dur_120s\\replicate_8\n",
      "Loading checkpoint from:\n",
      "D:\\Users\\yarde\\vak_project\\BF\\hidden_size\\hidden_size_16\\gy6or6\\results_210526_233349\\train_dur_120s\\replicate_9\\TweetyNet\\checkpoints\\max-val-acc-checkpoint.pt \n"
     ]
    },
    {
     "name": "stderr",
     "output_type": "stream",
     "text": [
      "batch 35 / 36: 100%|███████████████████████████████████████████████████████████████████| 36/36 [00:13<00:00,  2.62it/s]\n"
     ]
    },
    {
     "name": "stdout",
     "output_type": "stream",
     "text": [
      "Transition added:  ['e' 'f'] to i\n",
      "Transition added:  ['i' 'i'] to a\n"
     ]
    },
    {
     "name": "stderr",
     "output_type": "stream",
     "text": [
      "  0%|                                                                                           | 0/36 [00:00<?, ?it/s]"
     ]
    },
    {
     "name": "stdout",
     "output_type": "stream",
     "text": [
      "seq: ['e' 'f' 'i'] ratio: 0.1089866156787763 err 0.037815126050420145 n [1.000e+00 0.000e+00 0.000e+00 0.000e+00 0.000e+00 0.000e+00 1.046e+03\n",
      " 0.000e+00 1.140e+02 0.000e+00 0.000e+00]\n",
      "seq: ['i' 'i' 'a'] ratio: 0.21882581271227558 err 0.03080229226361031 n [ 451.    0.    0.    0.    0.    0.    0.    0. 2061.    0.    0.]\n",
      "Done D:\\Users\\yarde\\vak_project\\BF\\hidden_size\\hidden_size_16\\gy6or6\\results_210526_233349\\train_dur_120s\\replicate_9\n",
      "Loading checkpoint from:\n",
      "D:\\Users\\yarde\\vak_project\\BF\\hidden_size\\hidden_size_16\\gy6or6\\results_210526_233349\\train_dur_180s\\replicate_1\\TweetyNet\\checkpoints\\max-val-acc-checkpoint.pt \n"
     ]
    },
    {
     "name": "stderr",
     "output_type": "stream",
     "text": [
      "batch 35 / 36: 100%|███████████████████████████████████████████████████████████████████| 36/36 [00:13<00:00,  2.64it/s]\n"
     ]
    },
    {
     "name": "stdout",
     "output_type": "stream",
     "text": [
      "Transition added:  ['e' 'f'] to i\n",
      "Transition added:  ['i' 'i'] to a\n",
      "seq: ['e' 'f' 'i'] ratio: 0.1089866156787763 err 0.03991596638655459 n [1.000e+00 0.000e+00 0.000e+00 0.000e+00 0.000e+00 0.000e+00 1.046e+03\n",
      " 0.000e+00 1.140e+02 0.000e+00 0.000e+00]\n",
      "seq: ['i' 'i' 'a'] ratio: 0.21882581271227558 err 0.035100286532951275 n [ 451.    0.    0.    0.    0.    0.    0.    0. 2061.    0.    0.]\n",
      "Done D:\\Users\\yarde\\vak_project\\BF\\hidden_size\\hidden_size_16\\gy6or6\\results_210526_233349\\train_dur_180s\\replicate_1\n"
     ]
    },
    {
     "name": "stderr",
     "output_type": "stream",
     "text": [
      "  0%|                                                                                           | 0/36 [00:00<?, ?it/s]"
     ]
    },
    {
     "name": "stdout",
     "output_type": "stream",
     "text": [
      "Loading checkpoint from:\n",
      "D:\\Users\\yarde\\vak_project\\BF\\hidden_size\\hidden_size_16\\gy6or6\\results_210526_233349\\train_dur_180s\\replicate_10\\TweetyNet\\checkpoints\\max-val-acc-checkpoint.pt \n"
     ]
    },
    {
     "name": "stderr",
     "output_type": "stream",
     "text": [
      "batch 35 / 36: 100%|███████████████████████████████████████████████████████████████████| 36/36 [00:13<00:00,  2.61it/s]\n"
     ]
    },
    {
     "name": "stdout",
     "output_type": "stream",
     "text": [
      "Transition added:  ['e' 'f'] to i\n",
      "Transition added:  ['i' 'i'] to a\n"
     ]
    },
    {
     "name": "stderr",
     "output_type": "stream",
     "text": [
      "  0%|                                                                                           | 0/36 [00:00<?, ?it/s]"
     ]
    },
    {
     "name": "stdout",
     "output_type": "stream",
     "text": [
      "seq: ['e' 'f' 'i'] ratio: 0.1089866156787763 err 0.06617647058823528 n [1.000e+00 0.000e+00 0.000e+00 0.000e+00 0.000e+00 0.000e+00 1.046e+03\n",
      " 0.000e+00 1.140e+02 0.000e+00 0.000e+00]\n",
      "seq: ['i' 'i' 'a'] ratio: 0.21882581271227558 err 0.033667621776504286 n [ 451.    0.    0.    0.    0.    0.    0.    0. 2061.    0.    0.]\n",
      "Done D:\\Users\\yarde\\vak_project\\BF\\hidden_size\\hidden_size_16\\gy6or6\\results_210526_233349\\train_dur_180s\\replicate_10\n",
      "Loading checkpoint from:\n",
      "D:\\Users\\yarde\\vak_project\\BF\\hidden_size\\hidden_size_16\\gy6or6\\results_210526_233349\\train_dur_180s\\replicate_2\\TweetyNet\\checkpoints\\max-val-acc-checkpoint.pt \n"
     ]
    },
    {
     "name": "stderr",
     "output_type": "stream",
     "text": [
      "batch 35 / 36: 100%|███████████████████████████████████████████████████████████████████| 36/36 [00:13<00:00,  2.63it/s]\n"
     ]
    },
    {
     "name": "stdout",
     "output_type": "stream",
     "text": [
      "Transition added:  ['e' 'f'] to i\n",
      "Transition added:  ['i' 'i'] to a\n"
     ]
    },
    {
     "name": "stderr",
     "output_type": "stream",
     "text": [
      "  0%|                                                                                           | 0/36 [00:00<?, ?it/s]"
     ]
    },
    {
     "name": "stdout",
     "output_type": "stream",
     "text": [
      "seq: ['e' 'f' 'i'] ratio: 0.1089866156787763 err 0.05147058823529416 n [1.000e+00 0.000e+00 0.000e+00 0.000e+00 0.000e+00 0.000e+00 1.046e+03\n",
      " 0.000e+00 1.140e+02 0.000e+00 0.000e+00]\n",
      "seq: ['i' 'i' 'a'] ratio: 0.21882581271227558 err 0.03724928366762181 n [ 451.    0.    0.    0.    0.    0.    0.    0. 2061.    0.    0.]\n",
      "Done D:\\Users\\yarde\\vak_project\\BF\\hidden_size\\hidden_size_16\\gy6or6\\results_210526_233349\\train_dur_180s\\replicate_2\n",
      "Loading checkpoint from:\n",
      "D:\\Users\\yarde\\vak_project\\BF\\hidden_size\\hidden_size_16\\gy6or6\\results_210526_233349\\train_dur_180s\\replicate_3\\TweetyNet\\checkpoints\\max-val-acc-checkpoint.pt \n"
     ]
    },
    {
     "name": "stderr",
     "output_type": "stream",
     "text": [
      "batch 35 / 36: 100%|███████████████████████████████████████████████████████████████████| 36/36 [00:13<00:00,  2.61it/s]\n"
     ]
    },
    {
     "name": "stdout",
     "output_type": "stream",
     "text": [
      "Transition added:  ['e' 'f'] to i\n",
      "Transition added:  ['i' 'i'] to a\n"
     ]
    },
    {
     "name": "stderr",
     "output_type": "stream",
     "text": [
      "  0%|                                                                                           | 0/36 [00:00<?, ?it/s]"
     ]
    },
    {
     "name": "stdout",
     "output_type": "stream",
     "text": [
      "seq: ['e' 'f' 'i'] ratio: 0.1089866156787763 err 0.07352941176470584 n [1.000e+00 0.000e+00 0.000e+00 0.000e+00 0.000e+00 0.000e+00 1.046e+03\n",
      " 0.000e+00 1.140e+02 0.000e+00 0.000e+00]\n",
      "seq: ['i' 'i' 'a'] ratio: 0.21882581271227558 err 0.05014326647564471 n [ 451.    0.    0.    0.    0.    0.    0.    0. 2061.    0.    0.]\n",
      "Done D:\\Users\\yarde\\vak_project\\BF\\hidden_size\\hidden_size_16\\gy6or6\\results_210526_233349\\train_dur_180s\\replicate_3\n",
      "Loading checkpoint from:\n",
      "D:\\Users\\yarde\\vak_project\\BF\\hidden_size\\hidden_size_16\\gy6or6\\results_210526_233349\\train_dur_180s\\replicate_4\\TweetyNet\\checkpoints\\max-val-acc-checkpoint.pt \n"
     ]
    },
    {
     "name": "stderr",
     "output_type": "stream",
     "text": [
      "batch 35 / 36: 100%|███████████████████████████████████████████████████████████████████| 36/36 [00:13<00:00,  2.62it/s]\n"
     ]
    },
    {
     "name": "stdout",
     "output_type": "stream",
     "text": [
      "Transition added:  ['e' 'f'] to i\n",
      "Transition added:  ['i' 'i'] to a\n"
     ]
    },
    {
     "name": "stderr",
     "output_type": "stream",
     "text": [
      "  0%|                                                                                           | 0/36 [00:00<?, ?it/s]"
     ]
    },
    {
     "name": "stdout",
     "output_type": "stream",
     "text": [
      "seq: ['e' 'f' 'i'] ratio: 0.1089866156787763 err 0.03256302521008403 n [1.000e+00 0.000e+00 0.000e+00 0.000e+00 0.000e+00 0.000e+00 1.046e+03\n",
      " 0.000e+00 1.140e+02 0.000e+00 0.000e+00]\n",
      "seq: ['i' 'i' 'a'] ratio: 0.21882581271227558 err 0.025071633237822355 n [ 451.    0.    0.    0.    0.    0.    0.    0. 2061.    0.    0.]\n",
      "Done D:\\Users\\yarde\\vak_project\\BF\\hidden_size\\hidden_size_16\\gy6or6\\results_210526_233349\\train_dur_180s\\replicate_4\n",
      "Loading checkpoint from:\n",
      "D:\\Users\\yarde\\vak_project\\BF\\hidden_size\\hidden_size_16\\gy6or6\\results_210526_233349\\train_dur_180s\\replicate_5\\TweetyNet\\checkpoints\\max-val-acc-checkpoint.pt \n"
     ]
    },
    {
     "name": "stderr",
     "output_type": "stream",
     "text": [
      "batch 35 / 36: 100%|███████████████████████████████████████████████████████████████████| 36/36 [00:13<00:00,  2.58it/s]\n"
     ]
    },
    {
     "name": "stdout",
     "output_type": "stream",
     "text": [
      "Transition added:  ['e' 'f'] to i\n",
      "Transition added:  ['i' 'i'] to a\n"
     ]
    },
    {
     "name": "stderr",
     "output_type": "stream",
     "text": [
      "  0%|                                                                                           | 0/36 [00:00<?, ?it/s]"
     ]
    },
    {
     "name": "stdout",
     "output_type": "stream",
     "text": [
      "seq: ['e' 'f' 'i'] ratio: 0.1089866156787763 err 0.03361344537815125 n [1.000e+00 0.000e+00 0.000e+00 0.000e+00 0.000e+00 0.000e+00 1.046e+03\n",
      " 0.000e+00 1.140e+02 0.000e+00 0.000e+00]\n",
      "seq: ['i' 'i' 'a'] ratio: 0.21882581271227558 err 0.027220630372492782 n [ 451.    0.    0.    0.    0.    0.    0.    0. 2061.    0.    0.]\n",
      "Done D:\\Users\\yarde\\vak_project\\BF\\hidden_size\\hidden_size_16\\gy6or6\\results_210526_233349\\train_dur_180s\\replicate_5\n",
      "Loading checkpoint from:\n",
      "D:\\Users\\yarde\\vak_project\\BF\\hidden_size\\hidden_size_16\\gy6or6\\results_210526_233349\\train_dur_180s\\replicate_6\\TweetyNet\\checkpoints\\max-val-acc-checkpoint.pt \n"
     ]
    },
    {
     "name": "stderr",
     "output_type": "stream",
     "text": [
      "batch 35 / 36: 100%|███████████████████████████████████████████████████████████████████| 36/36 [00:13<00:00,  2.64it/s]\n"
     ]
    },
    {
     "name": "stdout",
     "output_type": "stream",
     "text": [
      "Transition added:  ['e' 'f'] to i\n",
      "Transition added:  ['i' 'i'] to a\n"
     ]
    },
    {
     "name": "stderr",
     "output_type": "stream",
     "text": [
      "  0%|                                                                                           | 0/36 [00:00<?, ?it/s]"
     ]
    },
    {
     "name": "stdout",
     "output_type": "stream",
     "text": [
      "seq: ['e' 'f' 'i'] ratio: 0.1089866156787763 err 0.05147058823529416 n [1.000e+00 0.000e+00 0.000e+00 0.000e+00 0.000e+00 0.000e+00 1.046e+03\n",
      " 0.000e+00 1.140e+02 0.000e+00 0.000e+00]\n",
      "seq: ['i' 'i' 'a'] ratio: 0.21882581271227558 err 0.03724928366762181 n [ 451.    0.    0.    0.    0.    0.    0.    0. 2061.    0.    0.]\n",
      "Done D:\\Users\\yarde\\vak_project\\BF\\hidden_size\\hidden_size_16\\gy6or6\\results_210526_233349\\train_dur_180s\\replicate_6\n",
      "Loading checkpoint from:\n",
      "D:\\Users\\yarde\\vak_project\\BF\\hidden_size\\hidden_size_16\\gy6or6\\results_210526_233349\\train_dur_180s\\replicate_7\\TweetyNet\\checkpoints\\max-val-acc-checkpoint.pt \n"
     ]
    },
    {
     "name": "stderr",
     "output_type": "stream",
     "text": [
      "batch 35 / 36: 100%|███████████████████████████████████████████████████████████████████| 36/36 [00:13<00:00,  2.62it/s]\n"
     ]
    },
    {
     "name": "stdout",
     "output_type": "stream",
     "text": [
      "Transition added:  ['e' 'f'] to i\n",
      "Transition added:  ['i' 'i'] to a\n"
     ]
    },
    {
     "name": "stderr",
     "output_type": "stream",
     "text": [
      "  0%|                                                                                           | 0/36 [00:00<?, ?it/s]"
     ]
    },
    {
     "name": "stdout",
     "output_type": "stream",
     "text": [
      "seq: ['e' 'f' 'i'] ratio: 0.1089866156787763 err 0.054621848739495826 n [1.000e+00 0.000e+00 0.000e+00 0.000e+00 0.000e+00 0.000e+00 1.046e+03\n",
      " 0.000e+00 1.140e+02 0.000e+00 0.000e+00]\n",
      "seq: ['i' 'i' 'a'] ratio: 0.21882581271227558 err 0.0386819484240688 n [ 451.    0.    0.    0.    0.    0.    0.    0. 2061.    0.    0.]\n",
      "Done D:\\Users\\yarde\\vak_project\\BF\\hidden_size\\hidden_size_16\\gy6or6\\results_210526_233349\\train_dur_180s\\replicate_7\n",
      "Loading checkpoint from:\n",
      "D:\\Users\\yarde\\vak_project\\BF\\hidden_size\\hidden_size_16\\gy6or6\\results_210526_233349\\train_dur_180s\\replicate_8\\TweetyNet\\checkpoints\\max-val-acc-checkpoint.pt \n"
     ]
    },
    {
     "name": "stderr",
     "output_type": "stream",
     "text": [
      "batch 35 / 36: 100%|███████████████████████████████████████████████████████████████████| 36/36 [00:13<00:00,  2.60it/s]\n"
     ]
    },
    {
     "name": "stdout",
     "output_type": "stream",
     "text": [
      "Transition added:  ['e' 'f'] to i\n",
      "Transition added:  ['i' 'i'] to a\n"
     ]
    },
    {
     "name": "stderr",
     "output_type": "stream",
     "text": [
      "  0%|                                                                                           | 0/36 [00:00<?, ?it/s]"
     ]
    },
    {
     "name": "stdout",
     "output_type": "stream",
     "text": [
      "seq: ['e' 'f' 'i'] ratio: 0.1089866156787763 err 0.07352941176470584 n [1.000e+00 0.000e+00 0.000e+00 0.000e+00 0.000e+00 0.000e+00 1.046e+03\n",
      " 0.000e+00 1.140e+02 0.000e+00 0.000e+00]\n",
      "seq: ['i' 'i' 'a'] ratio: 0.21882581271227558 err 0.045128939828080195 n [ 451.    0.    0.    0.    0.    0.    0.    0. 2061.    0.    0.]\n",
      "Done D:\\Users\\yarde\\vak_project\\BF\\hidden_size\\hidden_size_16\\gy6or6\\results_210526_233349\\train_dur_180s\\replicate_8\n",
      "Loading checkpoint from:\n",
      "D:\\Users\\yarde\\vak_project\\BF\\hidden_size\\hidden_size_16\\gy6or6\\results_210526_233349\\train_dur_180s\\replicate_9\\TweetyNet\\checkpoints\\max-val-acc-checkpoint.pt \n"
     ]
    },
    {
     "name": "stderr",
     "output_type": "stream",
     "text": [
      "batch 35 / 36: 100%|███████████████████████████████████████████████████████████████████| 36/36 [00:13<00:00,  2.61it/s]\n"
     ]
    },
    {
     "name": "stdout",
     "output_type": "stream",
     "text": [
      "Transition added:  ['e' 'f'] to i\n",
      "Transition added:  ['i' 'i'] to a\n"
     ]
    },
    {
     "name": "stderr",
     "output_type": "stream",
     "text": [
      "  0%|                                                                                           | 0/36 [00:00<?, ?it/s]"
     ]
    },
    {
     "name": "stdout",
     "output_type": "stream",
     "text": [
      "seq: ['e' 'f' 'i'] ratio: 0.1089866156787763 err 0.04306722689075626 n [1.000e+00 0.000e+00 0.000e+00 0.000e+00 0.000e+00 0.000e+00 1.046e+03\n",
      " 0.000e+00 1.140e+02 0.000e+00 0.000e+00]\n",
      "seq: ['i' 'i' 'a'] ratio: 0.21882581271227558 err 0.028653295128939882 n [ 451.    0.    0.    0.    0.    0.    0.    0. 2061.    0.    0.]\n",
      "Done D:\\Users\\yarde\\vak_project\\BF\\hidden_size\\hidden_size_16\\gy6or6\\results_210526_233349\\train_dur_180s\\replicate_9\n",
      "Loading checkpoint from:\n",
      "D:\\Users\\yarde\\vak_project\\BF\\hidden_size\\hidden_size_16\\gy6or6\\results_210526_233349\\train_dur_30s\\replicate_1\\TweetyNet\\checkpoints\\max-val-acc-checkpoint.pt \n"
     ]
    },
    {
     "name": "stderr",
     "output_type": "stream",
     "text": [
      "batch 35 / 36: 100%|███████████████████████████████████████████████████████████████████| 36/36 [00:13<00:00,  2.61it/s]\n"
     ]
    },
    {
     "name": "stdout",
     "output_type": "stream",
     "text": [
      "Transition added:  ['e' 'f'] to i\n",
      "Transition added:  ['i' 'i'] to a\n"
     ]
    },
    {
     "name": "stderr",
     "output_type": "stream",
     "text": [
      "  0%|                                                                                           | 0/36 [00:00<?, ?it/s]"
     ]
    },
    {
     "name": "stdout",
     "output_type": "stream",
     "text": [
      "seq: ['e' 'f' 'i'] ratio: 0.1089866156787763 err 0.040966386554621814 n [1.000e+00 0.000e+00 0.000e+00 0.000e+00 0.000e+00 0.000e+00 1.046e+03\n",
      " 0.000e+00 1.140e+02 0.000e+00 0.000e+00]\n",
      "seq: ['i' 'i' 'a'] ratio: 0.21882581271227558 err 0.06160458452722062 n [ 451.    0.    0.    0.    0.    0.    0.    0. 2061.    0.    0.]\n",
      "Done D:\\Users\\yarde\\vak_project\\BF\\hidden_size\\hidden_size_16\\gy6or6\\results_210526_233349\\train_dur_30s\\replicate_1\n",
      "Loading checkpoint from:\n",
      "D:\\Users\\yarde\\vak_project\\BF\\hidden_size\\hidden_size_16\\gy6or6\\results_210526_233349\\train_dur_30s\\replicate_10\\TweetyNet\\checkpoints\\max-val-acc-checkpoint.pt \n"
     ]
    },
    {
     "name": "stderr",
     "output_type": "stream",
     "text": [
      "batch 35 / 36: 100%|███████████████████████████████████████████████████████████████████| 36/36 [00:13<00:00,  2.63it/s]\n"
     ]
    },
    {
     "name": "stdout",
     "output_type": "stream",
     "text": [
      "Transition added:  ['e' 'f'] to i\n",
      "Transition added:  ['i' 'i'] to a\n"
     ]
    },
    {
     "name": "stderr",
     "output_type": "stream",
     "text": [
      "  0%|                                                                                           | 0/36 [00:00<?, ?it/s]"
     ]
    },
    {
     "name": "stdout",
     "output_type": "stream",
     "text": [
      "seq: ['e' 'f' 'i'] ratio: 0.1089866156787763 err 0.07773109243697474 n [1.000e+00 0.000e+00 0.000e+00 0.000e+00 0.000e+00 0.000e+00 1.046e+03\n",
      " 0.000e+00 1.140e+02 0.000e+00 0.000e+00]\n",
      "seq: ['i' 'i' 'a'] ratio: 0.21882581271227558 err 0.08810888252148996 n [ 451.    0.    0.    0.    0.    0.    0.    0. 2061.    0.    0.]\n",
      "Done D:\\Users\\yarde\\vak_project\\BF\\hidden_size\\hidden_size_16\\gy6or6\\results_210526_233349\\train_dur_30s\\replicate_10\n",
      "Loading checkpoint from:\n",
      "D:\\Users\\yarde\\vak_project\\BF\\hidden_size\\hidden_size_16\\gy6or6\\results_210526_233349\\train_dur_30s\\replicate_2\\TweetyNet\\checkpoints\\max-val-acc-checkpoint.pt \n"
     ]
    },
    {
     "name": "stderr",
     "output_type": "stream",
     "text": [
      "batch 35 / 36: 100%|███████████████████████████████████████████████████████████████████| 36/36 [00:13<00:00,  2.61it/s]\n"
     ]
    },
    {
     "name": "stdout",
     "output_type": "stream",
     "text": [
      "Transition added:  ['e' 'f'] to i\n",
      "Transition added:  ['i' 'i'] to a\n"
     ]
    },
    {
     "name": "stderr",
     "output_type": "stream",
     "text": [
      "  0%|                                                                                           | 0/36 [00:00<?, ?it/s]"
     ]
    },
    {
     "name": "stdout",
     "output_type": "stream",
     "text": [
      "seq: ['e' 'f' 'i'] ratio: 0.1089866156787763 err 0.03991596638655459 n [1.000e+00 0.000e+00 0.000e+00 0.000e+00 0.000e+00 0.000e+00 1.046e+03\n",
      " 0.000e+00 1.140e+02 0.000e+00 0.000e+00]\n",
      "seq: ['i' 'i' 'a'] ratio: 0.21882581271227558 err 0.04799426934097417 n [ 451.    0.    0.    0.    0.    0.    0.    0. 2061.    0.    0.]\n",
      "Done D:\\Users\\yarde\\vak_project\\BF\\hidden_size\\hidden_size_16\\gy6or6\\results_210526_233349\\train_dur_30s\\replicate_2\n",
      "Loading checkpoint from:\n",
      "D:\\Users\\yarde\\vak_project\\BF\\hidden_size\\hidden_size_16\\gy6or6\\results_210526_233349\\train_dur_30s\\replicate_3\\TweetyNet\\checkpoints\\max-val-acc-checkpoint.pt \n"
     ]
    },
    {
     "name": "stderr",
     "output_type": "stream",
     "text": [
      "batch 35 / 36: 100%|███████████████████████████████████████████████████████████████████| 36/36 [00:13<00:00,  2.63it/s]\n"
     ]
    },
    {
     "name": "stdout",
     "output_type": "stream",
     "text": [
      "Transition added:  ['e' 'f'] to i\n",
      "Transition added:  ['i' 'i'] to a\n"
     ]
    },
    {
     "name": "stderr",
     "output_type": "stream",
     "text": [
      "  0%|                                                                                           | 0/36 [00:00<?, ?it/s]"
     ]
    },
    {
     "name": "stdout",
     "output_type": "stream",
     "text": [
      "seq: ['e' 'f' 'i'] ratio: 0.1089866156787763 err 0.04831932773109249 n [1.000e+00 0.000e+00 0.000e+00 0.000e+00 0.000e+00 0.000e+00 1.046e+03\n",
      " 0.000e+00 1.140e+02 0.000e+00 0.000e+00]\n",
      "seq: ['i' 'i' 'a'] ratio: 0.21882581271227558 err 0.11819484240687683 n [ 451.    0.    0.    0.    0.    0.    0.    0. 2061.    0.    0.]\n",
      "Done D:\\Users\\yarde\\vak_project\\BF\\hidden_size\\hidden_size_16\\gy6or6\\results_210526_233349\\train_dur_30s\\replicate_3\n",
      "Loading checkpoint from:\n",
      "D:\\Users\\yarde\\vak_project\\BF\\hidden_size\\hidden_size_16\\gy6or6\\results_210526_233349\\train_dur_30s\\replicate_4\\TweetyNet\\checkpoints\\max-val-acc-checkpoint.pt \n"
     ]
    },
    {
     "name": "stderr",
     "output_type": "stream",
     "text": [
      "batch 35 / 36: 100%|███████████████████████████████████████████████████████████████████| 36/36 [00:13<00:00,  2.62it/s]\n"
     ]
    },
    {
     "name": "stdout",
     "output_type": "stream",
     "text": [
      "Transition added:  ['e' 'f'] to i\n",
      "Transition added:  ['i' 'i'] to a\n"
     ]
    },
    {
     "name": "stderr",
     "output_type": "stream",
     "text": [
      "  0%|                                                                                           | 0/36 [00:00<?, ?it/s]"
     ]
    },
    {
     "name": "stdout",
     "output_type": "stream",
     "text": [
      "seq: ['e' 'f' 'i'] ratio: 0.1089866156787763 err 0.0535714285714286 n [1.000e+00 0.000e+00 0.000e+00 0.000e+00 0.000e+00 0.000e+00 1.046e+03\n",
      " 0.000e+00 1.140e+02 0.000e+00 0.000e+00]\n",
      "seq: ['i' 'i' 'a'] ratio: 0.21882581271227558 err 0.045128939828080195 n [ 451.    0.    0.    0.    0.    0.    0.    0. 2061.    0.    0.]\n",
      "Done D:\\Users\\yarde\\vak_project\\BF\\hidden_size\\hidden_size_16\\gy6or6\\results_210526_233349\\train_dur_30s\\replicate_4\n",
      "Loading checkpoint from:\n",
      "D:\\Users\\yarde\\vak_project\\BF\\hidden_size\\hidden_size_16\\gy6or6\\results_210526_233349\\train_dur_30s\\replicate_5\\TweetyNet\\checkpoints\\max-val-acc-checkpoint.pt \n"
     ]
    },
    {
     "name": "stderr",
     "output_type": "stream",
     "text": [
      "batch 35 / 36: 100%|███████████████████████████████████████████████████████████████████| 36/36 [00:13<00:00,  2.63it/s]\n"
     ]
    },
    {
     "name": "stdout",
     "output_type": "stream",
     "text": [
      "Transition added:  ['e' 'f'] to i\n",
      "Transition added:  ['i' 'i'] to a\n"
     ]
    },
    {
     "name": "stderr",
     "output_type": "stream",
     "text": [
      "  0%|                                                                                           | 0/36 [00:00<?, ?it/s]"
     ]
    },
    {
     "name": "stdout",
     "output_type": "stream",
     "text": [
      "seq: ['e' 'f' 'i'] ratio: 0.1089866156787763 err 0.05882352941176472 n [1.000e+00 0.000e+00 0.000e+00 0.000e+00 0.000e+00 0.000e+00 1.046e+03\n",
      " 0.000e+00 1.140e+02 0.000e+00 0.000e+00]\n",
      "seq: ['i' 'i' 'a'] ratio: 0.21882581271227558 err 0.04871060171919772 n [ 451.    0.    0.    0.    0.    0.    0.    0. 2061.    0.    0.]\n",
      "Done D:\\Users\\yarde\\vak_project\\BF\\hidden_size\\hidden_size_16\\gy6or6\\results_210526_233349\\train_dur_30s\\replicate_5\n",
      "Loading checkpoint from:\n",
      "D:\\Users\\yarde\\vak_project\\BF\\hidden_size\\hidden_size_16\\gy6or6\\results_210526_233349\\train_dur_30s\\replicate_6\\TweetyNet\\checkpoints\\max-val-acc-checkpoint.pt \n"
     ]
    },
    {
     "name": "stderr",
     "output_type": "stream",
     "text": [
      "batch 35 / 36: 100%|███████████████████████████████████████████████████████████████████| 36/36 [00:13<00:00,  2.62it/s]\n"
     ]
    },
    {
     "name": "stdout",
     "output_type": "stream",
     "text": [
      "Transition added:  ['e' 'f'] to i\n",
      "Transition added:  ['i' 'i'] to a\n"
     ]
    },
    {
     "name": "stderr",
     "output_type": "stream",
     "text": [
      "  0%|                                                                                           | 0/36 [00:00<?, ?it/s]"
     ]
    },
    {
     "name": "stdout",
     "output_type": "stream",
     "text": [
      "seq: ['e' 'f' 'i'] ratio: 0.1089866156787763 err 0.0535714285714286 n [1.000e+00 0.000e+00 0.000e+00 0.000e+00 0.000e+00 0.000e+00 1.046e+03\n",
      " 0.000e+00 1.140e+02 0.000e+00 0.000e+00]\n",
      "seq: ['i' 'i' 'a'] ratio: 0.21882581271227558 err 0.04942693409742116 n [ 451.    0.    0.    0.    0.    0.    0.    0. 2061.    0.    0.]\n",
      "Done D:\\Users\\yarde\\vak_project\\BF\\hidden_size\\hidden_size_16\\gy6or6\\results_210526_233349\\train_dur_30s\\replicate_6\n",
      "Loading checkpoint from:\n",
      "D:\\Users\\yarde\\vak_project\\BF\\hidden_size\\hidden_size_16\\gy6or6\\results_210526_233349\\train_dur_30s\\replicate_7\\TweetyNet\\checkpoints\\max-val-acc-checkpoint.pt \n"
     ]
    },
    {
     "name": "stderr",
     "output_type": "stream",
     "text": [
      "batch 35 / 36: 100%|███████████████████████████████████████████████████████████████████| 36/36 [00:13<00:00,  2.63it/s]\n"
     ]
    },
    {
     "name": "stdout",
     "output_type": "stream",
     "text": [
      "Transition added:  ['e' 'f'] to i\n",
      "Transition added:  ['i' 'i'] to a\n"
     ]
    },
    {
     "name": "stderr",
     "output_type": "stream",
     "text": [
      "  0%|                                                                                           | 0/36 [00:00<?, ?it/s]"
     ]
    },
    {
     "name": "stdout",
     "output_type": "stream",
     "text": [
      "seq: ['e' 'f' 'i'] ratio: 0.1089866156787763 err 0.04621848739495793 n [1.000e+00 0.000e+00 0.000e+00 0.000e+00 0.000e+00 0.000e+00 1.046e+03\n",
      " 0.000e+00 1.140e+02 0.000e+00 0.000e+00]\n",
      "seq: ['i' 'i' 'a'] ratio: 0.21882581271227558 err 0.05730659025787965 n [ 451.    0.    0.    0.    0.    0.    0.    0. 2061.    0.    0.]\n",
      "Done D:\\Users\\yarde\\vak_project\\BF\\hidden_size\\hidden_size_16\\gy6or6\\results_210526_233349\\train_dur_30s\\replicate_7\n",
      "Loading checkpoint from:\n",
      "D:\\Users\\yarde\\vak_project\\BF\\hidden_size\\hidden_size_16\\gy6or6\\results_210526_233349\\train_dur_30s\\replicate_8\\TweetyNet\\checkpoints\\max-val-acc-checkpoint.pt \n"
     ]
    },
    {
     "name": "stderr",
     "output_type": "stream",
     "text": [
      "batch 35 / 36: 100%|███████████████████████████████████████████████████████████████████| 36/36 [00:13<00:00,  2.62it/s]\n"
     ]
    },
    {
     "name": "stdout",
     "output_type": "stream",
     "text": [
      "Transition added:  ['e' 'f'] to i\n",
      "Transition added:  ['i' 'i'] to a\n"
     ]
    },
    {
     "name": "stderr",
     "output_type": "stream",
     "text": [
      "  0%|                                                                                           | 0/36 [00:00<?, ?it/s]"
     ]
    },
    {
     "name": "stdout",
     "output_type": "stream",
     "text": [
      "seq: ['e' 'f' 'i'] ratio: 0.1089866156787763 err 0.040966386554621814 n [1.000e+00 0.000e+00 0.000e+00 0.000e+00 0.000e+00 0.000e+00 1.046e+03\n",
      " 0.000e+00 1.140e+02 0.000e+00 0.000e+00]\n",
      "seq: ['i' 'i' 'a'] ratio: 0.21882581271227558 err 0.10530085959885382 n [ 451.    0.    0.    0.    0.    0.    0.    0. 2061.    0.    0.]\n",
      "Done D:\\Users\\yarde\\vak_project\\BF\\hidden_size\\hidden_size_16\\gy6or6\\results_210526_233349\\train_dur_30s\\replicate_8\n",
      "Loading checkpoint from:\n",
      "D:\\Users\\yarde\\vak_project\\BF\\hidden_size\\hidden_size_16\\gy6or6\\results_210526_233349\\train_dur_30s\\replicate_9\\TweetyNet\\checkpoints\\max-val-acc-checkpoint.pt \n"
     ]
    },
    {
     "name": "stderr",
     "output_type": "stream",
     "text": [
      "batch 35 / 36: 100%|███████████████████████████████████████████████████████████████████| 36/36 [00:13<00:00,  2.61it/s]\n"
     ]
    },
    {
     "name": "stdout",
     "output_type": "stream",
     "text": [
      "Transition added:  ['e' 'f'] to i\n",
      "Transition added:  ['i' 'i'] to a\n"
     ]
    },
    {
     "name": "stderr",
     "output_type": "stream",
     "text": [
      "  0%|                                                                                           | 0/36 [00:00<?, ?it/s]"
     ]
    },
    {
     "name": "stdout",
     "output_type": "stream",
     "text": [
      "seq: ['e' 'f' 'i'] ratio: 0.1089866156787763 err 0.05672268907563027 n [1.000e+00 0.000e+00 0.000e+00 0.000e+00 0.000e+00 0.000e+00 1.046e+03\n",
      " 0.000e+00 1.140e+02 0.000e+00 0.000e+00]\n",
      "seq: ['i' 'i' 'a'] ratio: 0.21882581271227558 err 0.0644699140401146 n [ 451.    0.    0.    0.    0.    0.    0.    0. 2061.    0.    0.]\n",
      "Done D:\\Users\\yarde\\vak_project\\BF\\hidden_size\\hidden_size_16\\gy6or6\\results_210526_233349\\train_dur_30s\\replicate_9\n",
      "Loading checkpoint from:\n",
      "D:\\Users\\yarde\\vak_project\\BF\\hidden_size\\hidden_size_16\\gy6or6\\results_210526_233349\\train_dur_45s\\replicate_1\\TweetyNet\\checkpoints\\max-val-acc-checkpoint.pt \n"
     ]
    },
    {
     "name": "stderr",
     "output_type": "stream",
     "text": [
      "batch 35 / 36: 100%|███████████████████████████████████████████████████████████████████| 36/36 [00:13<00:00,  2.62it/s]\n"
     ]
    },
    {
     "name": "stdout",
     "output_type": "stream",
     "text": [
      "Transition added:  ['e' 'f'] to i\n",
      "Transition added:  ['i' 'i'] to a\n"
     ]
    },
    {
     "name": "stderr",
     "output_type": "stream",
     "text": [
      "  0%|                                                                                           | 0/36 [00:00<?, ?it/s]"
     ]
    },
    {
     "name": "stdout",
     "output_type": "stream",
     "text": [
      "seq: ['e' 'f' 'i'] ratio: 0.1089866156787763 err 0.04201680672268904 n [1.000e+00 0.000e+00 0.000e+00 0.000e+00 0.000e+00 0.000e+00 1.046e+03\n",
      " 0.000e+00 1.140e+02 0.000e+00 0.000e+00]\n",
      "seq: ['i' 'i' 'a'] ratio: 0.21882581271227558 err 0.08739255014326652 n [ 451.    0.    0.    0.    0.    0.    0.    0. 2061.    0.    0.]\n",
      "Done D:\\Users\\yarde\\vak_project\\BF\\hidden_size\\hidden_size_16\\gy6or6\\results_210526_233349\\train_dur_45s\\replicate_1\n",
      "Loading checkpoint from:\n",
      "D:\\Users\\yarde\\vak_project\\BF\\hidden_size\\hidden_size_16\\gy6or6\\results_210526_233349\\train_dur_45s\\replicate_10\\TweetyNet\\checkpoints\\max-val-acc-checkpoint.pt \n"
     ]
    },
    {
     "name": "stderr",
     "output_type": "stream",
     "text": [
      "batch 35 / 36: 100%|███████████████████████████████████████████████████████████████████| 36/36 [00:13<00:00,  2.63it/s]\n"
     ]
    },
    {
     "name": "stdout",
     "output_type": "stream",
     "text": [
      "Transition added:  ['e' 'f'] to i\n",
      "Transition added:  ['i' 'i'] to a\n"
     ]
    },
    {
     "name": "stderr",
     "output_type": "stream",
     "text": [
      "  0%|                                                                                           | 0/36 [00:00<?, ?it/s]"
     ]
    },
    {
     "name": "stdout",
     "output_type": "stream",
     "text": [
      "seq: ['e' 'f' 'i'] ratio: 0.1089866156787763 err 0.05567226890756305 n [1.000e+00 0.000e+00 0.000e+00 0.000e+00 0.000e+00 0.000e+00 1.046e+03\n",
      " 0.000e+00 1.140e+02 0.000e+00 0.000e+00]\n",
      "seq: ['i' 'i' 'a'] ratio: 0.21882581271227558 err 0.027936962750716332 n [ 451.    0.    0.    0.    0.    0.    0.    0. 2061.    0.    0.]\n",
      "Done D:\\Users\\yarde\\vak_project\\BF\\hidden_size\\hidden_size_16\\gy6or6\\results_210526_233349\\train_dur_45s\\replicate_10\n",
      "Loading checkpoint from:\n",
      "D:\\Users\\yarde\\vak_project\\BF\\hidden_size\\hidden_size_16\\gy6or6\\results_210526_233349\\train_dur_45s\\replicate_2\\TweetyNet\\checkpoints\\max-val-acc-checkpoint.pt \n"
     ]
    },
    {
     "name": "stderr",
     "output_type": "stream",
     "text": [
      "batch 35 / 36: 100%|███████████████████████████████████████████████████████████████████| 36/36 [00:13<00:00,  2.61it/s]\n"
     ]
    },
    {
     "name": "stdout",
     "output_type": "stream",
     "text": [
      "Transition added:  ['e' 'f'] to i\n",
      "Transition added:  ['i' 'i'] to a\n"
     ]
    },
    {
     "name": "stderr",
     "output_type": "stream",
     "text": [
      "  0%|                                                                                           | 0/36 [00:00<?, ?it/s]"
     ]
    },
    {
     "name": "stdout",
     "output_type": "stream",
     "text": [
      "seq: ['e' 'f' 'i'] ratio: 0.1089866156787763 err 0.11344537815126055 n [1.000e+00 0.000e+00 0.000e+00 0.000e+00 0.000e+00 0.000e+00 1.046e+03\n",
      " 0.000e+00 1.140e+02 0.000e+00 0.000e+00]\n",
      "seq: ['i' 'i' 'a'] ratio: 0.21882581271227558 err 0.0515759312320917 n [ 451.    0.    0.    0.    0.    0.    0.    0. 2061.    0.    0.]\n",
      "Done D:\\Users\\yarde\\vak_project\\BF\\hidden_size\\hidden_size_16\\gy6or6\\results_210526_233349\\train_dur_45s\\replicate_2\n",
      "Loading checkpoint from:\n",
      "D:\\Users\\yarde\\vak_project\\BF\\hidden_size\\hidden_size_16\\gy6or6\\results_210526_233349\\train_dur_45s\\replicate_3\\TweetyNet\\checkpoints\\max-val-acc-checkpoint.pt \n"
     ]
    },
    {
     "name": "stderr",
     "output_type": "stream",
     "text": [
      "batch 35 / 36: 100%|███████████████████████████████████████████████████████████████████| 36/36 [00:13<00:00,  2.63it/s]\n"
     ]
    },
    {
     "name": "stdout",
     "output_type": "stream",
     "text": [
      "Transition added:  ['e' 'f'] to i\n",
      "Transition added:  ['i' 'i'] to a\n"
     ]
    },
    {
     "name": "stderr",
     "output_type": "stream",
     "text": [
      "  0%|                                                                                           | 0/36 [00:00<?, ?it/s]"
     ]
    },
    {
     "name": "stdout",
     "output_type": "stream",
     "text": [
      "seq: ['e' 'f' 'i'] ratio: 0.1089866156787763 err 0.05672268907563027 n [1.000e+00 0.000e+00 0.000e+00 0.000e+00 0.000e+00 0.000e+00 1.046e+03\n",
      " 0.000e+00 1.140e+02 0.000e+00 0.000e+00]\n",
      "seq: ['i' 'i' 'a'] ratio: 0.21882581271227558 err 0.034383954154727836 n [ 451.    0.    0.    0.    0.    0.    0.    0. 2061.    0.    0.]\n",
      "Done D:\\Users\\yarde\\vak_project\\BF\\hidden_size\\hidden_size_16\\gy6or6\\results_210526_233349\\train_dur_45s\\replicate_3\n",
      "Loading checkpoint from:\n",
      "D:\\Users\\yarde\\vak_project\\BF\\hidden_size\\hidden_size_16\\gy6or6\\results_210526_233349\\train_dur_45s\\replicate_4\\TweetyNet\\checkpoints\\max-val-acc-checkpoint.pt \n"
     ]
    },
    {
     "name": "stderr",
     "output_type": "stream",
     "text": [
      "batch 35 / 36: 100%|███████████████████████████████████████████████████████████████████| 36/36 [00:13<00:00,  2.61it/s]\n"
     ]
    },
    {
     "name": "stdout",
     "output_type": "stream",
     "text": [
      "Transition added:  ['e' 'f'] to i\n",
      "Transition added:  ['i' 'i'] to a\n"
     ]
    },
    {
     "name": "stderr",
     "output_type": "stream",
     "text": [
      "  0%|                                                                                           | 0/36 [00:00<?, ?it/s]"
     ]
    },
    {
     "name": "stdout",
     "output_type": "stream",
     "text": [
      "seq: ['e' 'f' 'i'] ratio: 0.1089866156787763 err 0.03676470588235292 n [1.000e+00 0.000e+00 0.000e+00 0.000e+00 0.000e+00 0.000e+00 1.046e+03\n",
      " 0.000e+00 1.140e+02 0.000e+00 0.000e+00]\n",
      "seq: ['i' 'i' 'a'] ratio: 0.21882581271227558 err 0.045845272206303744 n [ 451.    0.    0.    0.    0.    0.    0.    0. 2061.    0.    0.]\n",
      "Done D:\\Users\\yarde\\vak_project\\BF\\hidden_size\\hidden_size_16\\gy6or6\\results_210526_233349\\train_dur_45s\\replicate_4\n",
      "Loading checkpoint from:\n",
      "D:\\Users\\yarde\\vak_project\\BF\\hidden_size\\hidden_size_16\\gy6or6\\results_210526_233349\\train_dur_45s\\replicate_5\\TweetyNet\\checkpoints\\max-val-acc-checkpoint.pt \n"
     ]
    },
    {
     "name": "stderr",
     "output_type": "stream",
     "text": [
      "batch 35 / 36: 100%|███████████████████████████████████████████████████████████████████| 36/36 [00:13<00:00,  2.62it/s]\n"
     ]
    },
    {
     "name": "stdout",
     "output_type": "stream",
     "text": [
      "Transition added:  ['e' 'f'] to i\n",
      "Transition added:  ['i' 'i'] to a\n"
     ]
    },
    {
     "name": "stderr",
     "output_type": "stream",
     "text": [
      "  0%|                                                                                           | 0/36 [00:00<?, ?it/s]"
     ]
    },
    {
     "name": "stdout",
     "output_type": "stream",
     "text": [
      "seq: ['e' 'f' 'i'] ratio: 0.1089866156787763 err 0.05882352941176472 n [1.000e+00 0.000e+00 0.000e+00 0.000e+00 0.000e+00 0.000e+00 1.046e+03\n",
      " 0.000e+00 1.140e+02 0.000e+00 0.000e+00]\n",
      "seq: ['i' 'i' 'a'] ratio: 0.21882581271227558 err 0.07020057306590255 n [ 451.    0.    0.    0.    0.    0.    0.    0. 2061.    0.    0.]\n",
      "Done D:\\Users\\yarde\\vak_project\\BF\\hidden_size\\hidden_size_16\\gy6or6\\results_210526_233349\\train_dur_45s\\replicate_5\n",
      "Loading checkpoint from:\n",
      "D:\\Users\\yarde\\vak_project\\BF\\hidden_size\\hidden_size_16\\gy6or6\\results_210526_233349\\train_dur_45s\\replicate_6\\TweetyNet\\checkpoints\\max-val-acc-checkpoint.pt \n"
     ]
    },
    {
     "name": "stderr",
     "output_type": "stream",
     "text": [
      "batch 35 / 36: 100%|███████████████████████████████████████████████████████████████████| 36/36 [00:13<00:00,  2.62it/s]\n"
     ]
    },
    {
     "name": "stdout",
     "output_type": "stream",
     "text": [
      "Transition added:  ['e' 'f'] to i\n",
      "Transition added:  ['i' 'i'] to a\n"
     ]
    },
    {
     "name": "stderr",
     "output_type": "stream",
     "text": [
      "  0%|                                                                                           | 0/36 [00:00<?, ?it/s]"
     ]
    },
    {
     "name": "stdout",
     "output_type": "stream",
     "text": [
      "seq: ['e' 'f' 'i'] ratio: 0.1089866156787763 err 0.04621848739495793 n [1.000e+00 0.000e+00 0.000e+00 0.000e+00 0.000e+00 0.000e+00 1.046e+03\n",
      " 0.000e+00 1.140e+02 0.000e+00 0.000e+00]\n",
      "seq: ['i' 'i' 'a'] ratio: 0.21882581271227558 err 0.03724928366762181 n [ 451.    0.    0.    0.    0.    0.    0.    0. 2061.    0.    0.]\n",
      "Done D:\\Users\\yarde\\vak_project\\BF\\hidden_size\\hidden_size_16\\gy6or6\\results_210526_233349\\train_dur_45s\\replicate_6\n",
      "Loading checkpoint from:\n",
      "D:\\Users\\yarde\\vak_project\\BF\\hidden_size\\hidden_size_16\\gy6or6\\results_210526_233349\\train_dur_45s\\replicate_7\\TweetyNet\\checkpoints\\max-val-acc-checkpoint.pt \n"
     ]
    },
    {
     "name": "stderr",
     "output_type": "stream",
     "text": [
      "batch 35 / 36: 100%|███████████████████████████████████████████████████████████████████| 36/36 [00:13<00:00,  2.60it/s]\n"
     ]
    },
    {
     "name": "stdout",
     "output_type": "stream",
     "text": [
      "Transition added:  ['e' 'f'] to i\n",
      "Transition added:  ['i' 'i'] to a\n"
     ]
    },
    {
     "name": "stderr",
     "output_type": "stream",
     "text": [
      "  0%|                                                                                           | 0/36 [00:00<?, ?it/s]"
     ]
    },
    {
     "name": "stdout",
     "output_type": "stream",
     "text": [
      "seq: ['e' 'f' 'i'] ratio: 0.1089866156787763 err 0.03361344537815125 n [1.000e+00 0.000e+00 0.000e+00 0.000e+00 0.000e+00 0.000e+00 1.046e+03\n",
      " 0.000e+00 1.140e+02 0.000e+00 0.000e+00]\n",
      "seq: ['i' 'i' 'a'] ratio: 0.21882581271227558 err 0.07808022922636104 n [ 451.    0.    0.    0.    0.    0.    0.    0. 2061.    0.    0.]\n",
      "Done D:\\Users\\yarde\\vak_project\\BF\\hidden_size\\hidden_size_16\\gy6or6\\results_210526_233349\\train_dur_45s\\replicate_7\n",
      "Loading checkpoint from:\n",
      "D:\\Users\\yarde\\vak_project\\BF\\hidden_size\\hidden_size_16\\gy6or6\\results_210526_233349\\train_dur_45s\\replicate_8\\TweetyNet\\checkpoints\\max-val-acc-checkpoint.pt \n"
     ]
    },
    {
     "name": "stderr",
     "output_type": "stream",
     "text": [
      "batch 35 / 36: 100%|███████████████████████████████████████████████████████████████████| 36/36 [00:13<00:00,  2.61it/s]\n"
     ]
    },
    {
     "name": "stdout",
     "output_type": "stream",
     "text": [
      "Transition added:  ['e' 'f'] to i\n",
      "Transition added:  ['i' 'i'] to a\n"
     ]
    },
    {
     "name": "stderr",
     "output_type": "stream",
     "text": [
      "  0%|                                                                                           | 0/36 [00:00<?, ?it/s]"
     ]
    },
    {
     "name": "stdout",
     "output_type": "stream",
     "text": [
      "seq: ['e' 'f' 'i'] ratio: 0.1089866156787763 err 0.04621848739495793 n [1.000e+00 0.000e+00 0.000e+00 0.000e+00 0.000e+00 0.000e+00 1.046e+03\n",
      " 0.000e+00 1.140e+02 0.000e+00 0.000e+00]\n",
      "seq: ['i' 'i' 'a'] ratio: 0.21882581271227558 err 0.06876790830945556 n [ 451.    0.    0.    0.    0.    0.    0.    0. 2061.    0.    0.]\n",
      "Done D:\\Users\\yarde\\vak_project\\BF\\hidden_size\\hidden_size_16\\gy6or6\\results_210526_233349\\train_dur_45s\\replicate_8\n",
      "Loading checkpoint from:\n",
      "D:\\Users\\yarde\\vak_project\\BF\\hidden_size\\hidden_size_16\\gy6or6\\results_210526_233349\\train_dur_45s\\replicate_9\\TweetyNet\\checkpoints\\max-val-acc-checkpoint.pt \n"
     ]
    },
    {
     "name": "stderr",
     "output_type": "stream",
     "text": [
      "batch 35 / 36: 100%|███████████████████████████████████████████████████████████████████| 36/36 [00:13<00:00,  2.62it/s]\n"
     ]
    },
    {
     "name": "stdout",
     "output_type": "stream",
     "text": [
      "Transition added:  ['e' 'f'] to i\n",
      "Transition added:  ['i' 'i'] to a\n"
     ]
    },
    {
     "name": "stderr",
     "output_type": "stream",
     "text": [
      "  0%|                                                                                           | 0/36 [00:00<?, ?it/s]"
     ]
    },
    {
     "name": "stdout",
     "output_type": "stream",
     "text": [
      "seq: ['e' 'f' 'i'] ratio: 0.1089866156787763 err 0.05567226890756305 n [1.000e+00 0.000e+00 0.000e+00 0.000e+00 0.000e+00 0.000e+00 1.046e+03\n",
      " 0.000e+00 1.140e+02 0.000e+00 0.000e+00]\n",
      "seq: ['i' 'i' 'a'] ratio: 0.21882581271227558 err 0.028653295128939882 n [ 451.    0.    0.    0.    0.    0.    0.    0. 2061.    0.    0.]\n",
      "Done D:\\Users\\yarde\\vak_project\\BF\\hidden_size\\hidden_size_16\\gy6or6\\results_210526_233349\\train_dur_45s\\replicate_9\n",
      "Loading checkpoint from:\n",
      "D:\\Users\\yarde\\vak_project\\BF\\hidden_size\\hidden_size_16\\gy6or6\\results_210526_233349\\train_dur_480s\\replicate_1\\TweetyNet\\checkpoints\\max-val-acc-checkpoint.pt \n"
     ]
    },
    {
     "name": "stderr",
     "output_type": "stream",
     "text": [
      "batch 35 / 36: 100%|███████████████████████████████████████████████████████████████████| 36/36 [00:13<00:00,  2.62it/s]\n"
     ]
    },
    {
     "name": "stdout",
     "output_type": "stream",
     "text": [
      "Transition added:  ['e' 'f'] to i\n",
      "Transition added:  ['i' 'i'] to a\n"
     ]
    },
    {
     "name": "stderr",
     "output_type": "stream",
     "text": [
      "  0%|                                                                                           | 0/36 [00:00<?, ?it/s]"
     ]
    },
    {
     "name": "stdout",
     "output_type": "stream",
     "text": [
      "seq: ['e' 'f' 'i'] ratio: 0.1089866156787763 err 0.03886554621848737 n [1.000e+00 0.000e+00 0.000e+00 0.000e+00 0.000e+00 0.000e+00 1.046e+03\n",
      " 0.000e+00 1.140e+02 0.000e+00 0.000e+00]\n",
      "seq: ['i' 'i' 'a'] ratio: 0.21882581271227558 err 0.035816618911174825 n [ 451.    0.    0.    0.    0.    0.    0.    0. 2061.    0.    0.]\n",
      "Done D:\\Users\\yarde\\vak_project\\BF\\hidden_size\\hidden_size_16\\gy6or6\\results_210526_233349\\train_dur_480s\\replicate_1\n",
      "Loading checkpoint from:\n",
      "D:\\Users\\yarde\\vak_project\\BF\\hidden_size\\hidden_size_16\\gy6or6\\results_210526_233349\\train_dur_480s\\replicate_10\\TweetyNet\\checkpoints\\max-val-acc-checkpoint.pt \n"
     ]
    },
    {
     "name": "stderr",
     "output_type": "stream",
     "text": [
      "batch 35 / 36: 100%|███████████████████████████████████████████████████████████████████| 36/36 [00:13<00:00,  2.60it/s]\n"
     ]
    },
    {
     "name": "stdout",
     "output_type": "stream",
     "text": [
      "Transition added:  ['e' 'f'] to i\n",
      "Transition added:  ['i' 'i'] to a\n"
     ]
    },
    {
     "name": "stderr",
     "output_type": "stream",
     "text": [
      "  0%|                                                                                           | 0/36 [00:00<?, ?it/s]"
     ]
    },
    {
     "name": "stdout",
     "output_type": "stream",
     "text": [
      "seq: ['e' 'f' 'i'] ratio: 0.1089866156787763 err 0.040966386554621814 n [1.000e+00 0.000e+00 0.000e+00 0.000e+00 0.000e+00 0.000e+00 1.046e+03\n",
      " 0.000e+00 1.140e+02 0.000e+00 0.000e+00]\n",
      "seq: ['i' 'i' 'a'] ratio: 0.21882581271227558 err 0.022922636103151817 n [ 451.    0.    0.    0.    0.    0.    0.    0. 2061.    0.    0.]\n",
      "Done D:\\Users\\yarde\\vak_project\\BF\\hidden_size\\hidden_size_16\\gy6or6\\results_210526_233349\\train_dur_480s\\replicate_10\n",
      "Loading checkpoint from:\n",
      "D:\\Users\\yarde\\vak_project\\BF\\hidden_size\\hidden_size_16\\gy6or6\\results_210526_233349\\train_dur_480s\\replicate_2\\TweetyNet\\checkpoints\\max-val-acc-checkpoint.pt \n"
     ]
    },
    {
     "name": "stderr",
     "output_type": "stream",
     "text": [
      "batch 35 / 36: 100%|███████████████████████████████████████████████████████████████████| 36/36 [00:13<00:00,  2.62it/s]\n"
     ]
    },
    {
     "name": "stdout",
     "output_type": "stream",
     "text": [
      "Transition added:  ['e' 'f'] to i\n",
      "Transition added:  ['i' 'i'] to a\n"
     ]
    },
    {
     "name": "stderr",
     "output_type": "stream",
     "text": [
      "  0%|                                                                                           | 0/36 [00:00<?, ?it/s]"
     ]
    },
    {
     "name": "stdout",
     "output_type": "stream",
     "text": [
      "seq: ['e' 'f' 'i'] ratio: 0.1089866156787763 err 0.03991596638655459 n [1.000e+00 0.000e+00 0.000e+00 0.000e+00 0.000e+00 0.000e+00 1.046e+03\n",
      " 0.000e+00 1.140e+02 0.000e+00 0.000e+00]\n",
      "seq: ['i' 'i' 'a'] ratio: 0.21882581271227558 err 0.011461318051575908 n [ 451.    0.    0.    0.    0.    0.    0.    0. 2061.    0.    0.]\n",
      "Done D:\\Users\\yarde\\vak_project\\BF\\hidden_size\\hidden_size_16\\gy6or6\\results_210526_233349\\train_dur_480s\\replicate_2\n",
      "Loading checkpoint from:\n",
      "D:\\Users\\yarde\\vak_project\\BF\\hidden_size\\hidden_size_16\\gy6or6\\results_210526_233349\\train_dur_480s\\replicate_3\\TweetyNet\\checkpoints\\max-val-acc-checkpoint.pt \n"
     ]
    },
    {
     "name": "stderr",
     "output_type": "stream",
     "text": [
      "batch 35 / 36: 100%|███████████████████████████████████████████████████████████████████| 36/36 [00:13<00:00,  2.62it/s]\n"
     ]
    },
    {
     "name": "stdout",
     "output_type": "stream",
     "text": [
      "Transition added:  ['e' 'f'] to i\n",
      "Transition added:  ['i' 'i'] to a\n"
     ]
    },
    {
     "name": "stderr",
     "output_type": "stream",
     "text": [
      "  0%|                                                                                           | 0/36 [00:00<?, ?it/s]"
     ]
    },
    {
     "name": "stdout",
     "output_type": "stream",
     "text": [
      "seq: ['e' 'f' 'i'] ratio: 0.1089866156787763 err 0.050420168067226934 n [1.000e+00 0.000e+00 0.000e+00 0.000e+00 0.000e+00 0.000e+00 1.046e+03\n",
      " 0.000e+00 1.140e+02 0.000e+00 0.000e+00]\n",
      "seq: ['i' 'i' 'a'] ratio: 0.21882581271227558 err 0.022206303724928378 n [ 451.    0.    0.    0.    0.    0.    0.    0. 2061.    0.    0.]\n",
      "Done D:\\Users\\yarde\\vak_project\\BF\\hidden_size\\hidden_size_16\\gy6or6\\results_210526_233349\\train_dur_480s\\replicate_3\n",
      "Loading checkpoint from:\n",
      "D:\\Users\\yarde\\vak_project\\BF\\hidden_size\\hidden_size_16\\gy6or6\\results_210526_233349\\train_dur_480s\\replicate_4\\TweetyNet\\checkpoints\\max-val-acc-checkpoint.pt \n"
     ]
    },
    {
     "name": "stderr",
     "output_type": "stream",
     "text": [
      "batch 35 / 36: 100%|███████████████████████████████████████████████████████████████████| 36/36 [00:13<00:00,  2.63it/s]\n"
     ]
    },
    {
     "name": "stdout",
     "output_type": "stream",
     "text": [
      "Transition added:  ['e' 'f'] to i\n",
      "Transition added:  ['i' 'i'] to a\n"
     ]
    },
    {
     "name": "stderr",
     "output_type": "stream",
     "text": [
      "  0%|                                                                                           | 0/36 [00:00<?, ?it/s]"
     ]
    },
    {
     "name": "stdout",
     "output_type": "stream",
     "text": [
      "seq: ['e' 'f' 'i'] ratio: 0.1089866156787763 err 0.027310924369747913 n [1.000e+00 0.000e+00 0.000e+00 0.000e+00 0.000e+00 0.000e+00 1.046e+03\n",
      " 0.000e+00 1.140e+02 0.000e+00 0.000e+00]\n",
      "seq: ['i' 'i' 'a'] ratio: 0.21882581271227558 err 0.03080229226361031 n [ 451.    0.    0.    0.    0.    0.    0.    0. 2061.    0.    0.]\n",
      "Done D:\\Users\\yarde\\vak_project\\BF\\hidden_size\\hidden_size_16\\gy6or6\\results_210526_233349\\train_dur_480s\\replicate_4\n",
      "Loading checkpoint from:\n",
      "D:\\Users\\yarde\\vak_project\\BF\\hidden_size\\hidden_size_16\\gy6or6\\results_210526_233349\\train_dur_480s\\replicate_5\\TweetyNet\\checkpoints\\max-val-acc-checkpoint.pt \n"
     ]
    },
    {
     "name": "stderr",
     "output_type": "stream",
     "text": [
      "batch 35 / 36: 100%|███████████████████████████████████████████████████████████████████| 36/36 [00:13<00:00,  2.61it/s]\n"
     ]
    },
    {
     "name": "stdout",
     "output_type": "stream",
     "text": [
      "Transition added:  ['e' 'f'] to i\n",
      "Transition added:  ['i' 'i'] to a\n"
     ]
    },
    {
     "name": "stderr",
     "output_type": "stream",
     "text": [
      "  0%|                                                                                           | 0/36 [00:00<?, ?it/s]"
     ]
    },
    {
     "name": "stdout",
     "output_type": "stream",
     "text": [
      "seq: ['e' 'f' 'i'] ratio: 0.1089866156787763 err 0.04831932773109249 n [1.000e+00 0.000e+00 0.000e+00 0.000e+00 0.000e+00 0.000e+00 1.046e+03\n",
      " 0.000e+00 1.140e+02 0.000e+00 0.000e+00]\n",
      "seq: ['i' 'i' 'a'] ratio: 0.21882581271227558 err 0.03080229226361031 n [ 451.    0.    0.    0.    0.    0.    0.    0. 2061.    0.    0.]\n",
      "Done D:\\Users\\yarde\\vak_project\\BF\\hidden_size\\hidden_size_16\\gy6or6\\results_210526_233349\\train_dur_480s\\replicate_5\n",
      "Loading checkpoint from:\n",
      "D:\\Users\\yarde\\vak_project\\BF\\hidden_size\\hidden_size_16\\gy6or6\\results_210526_233349\\train_dur_480s\\replicate_6\\TweetyNet\\checkpoints\\max-val-acc-checkpoint.pt \n"
     ]
    },
    {
     "name": "stderr",
     "output_type": "stream",
     "text": [
      "batch 35 / 36: 100%|███████████████████████████████████████████████████████████████████| 36/36 [00:13<00:00,  2.63it/s]\n"
     ]
    },
    {
     "name": "stdout",
     "output_type": "stream",
     "text": [
      "Transition added:  ['e' 'f'] to i\n",
      "Transition added:  ['i' 'i'] to a\n"
     ]
    },
    {
     "name": "stderr",
     "output_type": "stream",
     "text": [
      "  0%|                                                                                           | 0/36 [00:00<?, ?it/s]"
     ]
    },
    {
     "name": "stdout",
     "output_type": "stream",
     "text": [
      "seq: ['e' 'f' 'i'] ratio: 0.1089866156787763 err 0.0535714285714286 n [1.000e+00 0.000e+00 0.000e+00 0.000e+00 0.000e+00 0.000e+00 1.046e+03\n",
      " 0.000e+00 1.140e+02 0.000e+00 0.000e+00]\n",
      "seq: ['i' 'i' 'a'] ratio: 0.21882581271227558 err 0.025071633237822355 n [ 451.    0.    0.    0.    0.    0.    0.    0. 2061.    0.    0.]\n",
      "Done D:\\Users\\yarde\\vak_project\\BF\\hidden_size\\hidden_size_16\\gy6or6\\results_210526_233349\\train_dur_480s\\replicate_6\n",
      "Loading checkpoint from:\n",
      "D:\\Users\\yarde\\vak_project\\BF\\hidden_size\\hidden_size_16\\gy6or6\\results_210526_233349\\train_dur_480s\\replicate_7\\TweetyNet\\checkpoints\\max-val-acc-checkpoint.pt \n"
     ]
    },
    {
     "name": "stderr",
     "output_type": "stream",
     "text": [
      "batch 35 / 36: 100%|███████████████████████████████████████████████████████████████████| 36/36 [00:13<00:00,  2.62it/s]\n"
     ]
    },
    {
     "name": "stdout",
     "output_type": "stream",
     "text": [
      "Transition added:  ['e' 'f'] to i\n",
      "Transition added:  ['i' 'i'] to a\n"
     ]
    },
    {
     "name": "stderr",
     "output_type": "stream",
     "text": [
      "  0%|                                                                                           | 0/36 [00:00<?, ?it/s]"
     ]
    },
    {
     "name": "stdout",
     "output_type": "stream",
     "text": [
      "seq: ['e' 'f' 'i'] ratio: 0.1089866156787763 err 0.04936974789915971 n [1.000e+00 0.000e+00 0.000e+00 0.000e+00 0.000e+00 0.000e+00 1.046e+03\n",
      " 0.000e+00 1.140e+02 0.000e+00 0.000e+00]\n",
      "seq: ['i' 'i' 'a'] ratio: 0.21882581271227558 err 0.01862464183381085 n [ 451.    0.    0.    0.    0.    0.    0.    0. 2061.    0.    0.]\n",
      "Done D:\\Users\\yarde\\vak_project\\BF\\hidden_size\\hidden_size_16\\gy6or6\\results_210526_233349\\train_dur_480s\\replicate_7\n",
      "Loading checkpoint from:\n",
      "D:\\Users\\yarde\\vak_project\\BF\\hidden_size\\hidden_size_16\\gy6or6\\results_210526_233349\\train_dur_480s\\replicate_8\\TweetyNet\\checkpoints\\max-val-acc-checkpoint.pt \n"
     ]
    },
    {
     "name": "stderr",
     "output_type": "stream",
     "text": [
      "batch 35 / 36: 100%|███████████████████████████████████████████████████████████████████| 36/36 [00:13<00:00,  2.63it/s]\n"
     ]
    },
    {
     "name": "stdout",
     "output_type": "stream",
     "text": [
      "Transition added:  ['e' 'f'] to i\n",
      "Transition added:  ['i' 'i'] to a\n"
     ]
    },
    {
     "name": "stderr",
     "output_type": "stream",
     "text": [
      "  0%|                                                                                           | 0/36 [00:00<?, ?it/s]"
     ]
    },
    {
     "name": "stdout",
     "output_type": "stream",
     "text": [
      "seq: ['e' 'f' 'i'] ratio: 0.1089866156787763 err 0.034663865546218475 n [1.000e+00 0.000e+00 0.000e+00 0.000e+00 0.000e+00 0.000e+00 1.046e+03\n",
      " 0.000e+00 1.140e+02 0.000e+00 0.000e+00]\n",
      "seq: ['i' 'i' 'a'] ratio: 0.21882581271227558 err 0.017908309455587412 n [ 451.    0.    0.    0.    0.    0.    0.    0. 2061.    0.    0.]\n",
      "Done D:\\Users\\yarde\\vak_project\\BF\\hidden_size\\hidden_size_16\\gy6or6\\results_210526_233349\\train_dur_480s\\replicate_8\n",
      "Loading checkpoint from:\n",
      "D:\\Users\\yarde\\vak_project\\BF\\hidden_size\\hidden_size_16\\gy6or6\\results_210526_233349\\train_dur_480s\\replicate_9\\TweetyNet\\checkpoints\\max-val-acc-checkpoint.pt \n"
     ]
    },
    {
     "name": "stderr",
     "output_type": "stream",
     "text": [
      "batch 35 / 36: 100%|███████████████████████████████████████████████████████████████████| 36/36 [00:13<00:00,  2.63it/s]\n"
     ]
    },
    {
     "name": "stdout",
     "output_type": "stream",
     "text": [
      "Transition added:  ['e' 'f'] to i\n",
      "Transition added:  ['i' 'i'] to a\n",
      "seq: ['e' 'f' 'i'] ratio: 0.1089866156787763 err 0.028361344537815136 n [1.000e+00 0.000e+00 0.000e+00 0.000e+00 0.000e+00 0.000e+00 1.046e+03\n",
      " 0.000e+00 1.140e+02 0.000e+00 0.000e+00]\n",
      "seq: ['i' 'i' 'a'] ratio: 0.21882581271227558 err 0.015759312320916874 n [ 451.    0.    0.    0.    0.    0.    0.    0. 2061.    0.    0.]\n",
      "Done D:\\Users\\yarde\\vak_project\\BF\\hidden_size\\hidden_size_16\\gy6or6\\results_210526_233349\\train_dur_480s\\replicate_9\n"
     ]
    },
    {
     "name": "stderr",
     "output_type": "stream",
     "text": [
      "  0%|                                                                                           | 0/36 [00:00<?, ?it/s]"
     ]
    },
    {
     "name": "stdout",
     "output_type": "stream",
     "text": [
      "Loading checkpoint from:\n",
      "D:\\Users\\yarde\\vak_project\\BF\\hidden_size\\hidden_size_16\\gy6or6\\results_210526_233349\\train_dur_75s\\replicate_1\\TweetyNet\\checkpoints\\max-val-acc-checkpoint.pt \n"
     ]
    },
    {
     "name": "stderr",
     "output_type": "stream",
     "text": [
      "batch 35 / 36: 100%|███████████████████████████████████████████████████████████████████| 36/36 [00:13<00:00,  2.62it/s]\n"
     ]
    },
    {
     "name": "stdout",
     "output_type": "stream",
     "text": [
      "Transition added:  ['e' 'f'] to i\n",
      "Transition added:  ['i' 'i'] to a\n"
     ]
    },
    {
     "name": "stderr",
     "output_type": "stream",
     "text": [
      "  0%|                                                                                           | 0/36 [00:00<?, ?it/s]"
     ]
    },
    {
     "name": "stdout",
     "output_type": "stream",
     "text": [
      "seq: ['e' 'f' 'i'] ratio: 0.1089866156787763 err 0.04201680672268904 n [1.000e+00 0.000e+00 0.000e+00 0.000e+00 0.000e+00 0.000e+00 1.046e+03\n",
      " 0.000e+00 1.140e+02 0.000e+00 0.000e+00]\n",
      "seq: ['i' 'i' 'a'] ratio: 0.21882581271227558 err 0.04154727793696278 n [ 451.    0.    0.    0.    0.    0.    0.    0. 2061.    0.    0.]\n",
      "Done D:\\Users\\yarde\\vak_project\\BF\\hidden_size\\hidden_size_16\\gy6or6\\results_210526_233349\\train_dur_75s\\replicate_1\n",
      "Loading checkpoint from:\n",
      "D:\\Users\\yarde\\vak_project\\BF\\hidden_size\\hidden_size_16\\gy6or6\\results_210526_233349\\train_dur_75s\\replicate_10\\TweetyNet\\checkpoints\\max-val-acc-checkpoint.pt \n"
     ]
    },
    {
     "name": "stderr",
     "output_type": "stream",
     "text": [
      "batch 35 / 36: 100%|███████████████████████████████████████████████████████████████████| 36/36 [00:13<00:00,  2.63it/s]\n"
     ]
    },
    {
     "name": "stdout",
     "output_type": "stream",
     "text": [
      "Transition added:  ['e' 'f'] to i\n",
      "Transition added:  ['i' 'i'] to a\n"
     ]
    },
    {
     "name": "stderr",
     "output_type": "stream",
     "text": [
      "  0%|                                                                                           | 0/36 [00:00<?, ?it/s]"
     ]
    },
    {
     "name": "stdout",
     "output_type": "stream",
     "text": [
      "seq: ['e' 'f' 'i'] ratio: 0.1089866156787763 err 0.05147058823529416 n [1.000e+00 0.000e+00 0.000e+00 0.000e+00 0.000e+00 0.000e+00 1.046e+03\n",
      " 0.000e+00 1.140e+02 0.000e+00 0.000e+00]\n",
      "seq: ['i' 'i' 'a'] ratio: 0.21882581271227558 err 0.0322349570200573 n [ 451.    0.    0.    0.    0.    0.    0.    0. 2061.    0.    0.]\n",
      "Done D:\\Users\\yarde\\vak_project\\BF\\hidden_size\\hidden_size_16\\gy6or6\\results_210526_233349\\train_dur_75s\\replicate_10\n",
      "Loading checkpoint from:\n",
      "D:\\Users\\yarde\\vak_project\\BF\\hidden_size\\hidden_size_16\\gy6or6\\results_210526_233349\\train_dur_75s\\replicate_2\\TweetyNet\\checkpoints\\max-val-acc-checkpoint.pt \n"
     ]
    },
    {
     "name": "stderr",
     "output_type": "stream",
     "text": [
      "batch 35 / 36: 100%|███████████████████████████████████████████████████████████████████| 36/36 [00:13<00:00,  2.62it/s]\n"
     ]
    },
    {
     "name": "stdout",
     "output_type": "stream",
     "text": [
      "Transition added:  ['e' 'f'] to i\n",
      "Transition added:  ['i' 'i'] to a\n"
     ]
    },
    {
     "name": "stderr",
     "output_type": "stream",
     "text": [
      "  0%|                                                                                           | 0/36 [00:00<?, ?it/s]"
     ]
    },
    {
     "name": "stdout",
     "output_type": "stream",
     "text": [
      "seq: ['e' 'f' 'i'] ratio: 0.1089866156787763 err 0.05987394957983194 n [1.000e+00 0.000e+00 0.000e+00 0.000e+00 0.000e+00 0.000e+00 1.046e+03\n",
      " 0.000e+00 1.140e+02 0.000e+00 0.000e+00]\n",
      "seq: ['i' 'i' 'a'] ratio: 0.21882581271227558 err 0.034383954154727836 n [ 451.    0.    0.    0.    0.    0.    0.    0. 2061.    0.    0.]\n",
      "Done D:\\Users\\yarde\\vak_project\\BF\\hidden_size\\hidden_size_16\\gy6or6\\results_210526_233349\\train_dur_75s\\replicate_2\n",
      "Loading checkpoint from:\n",
      "D:\\Users\\yarde\\vak_project\\BF\\hidden_size\\hidden_size_16\\gy6or6\\results_210526_233349\\train_dur_75s\\replicate_3\\TweetyNet\\checkpoints\\max-val-acc-checkpoint.pt \n"
     ]
    },
    {
     "name": "stderr",
     "output_type": "stream",
     "text": [
      "batch 35 / 36: 100%|███████████████████████████████████████████████████████████████████| 36/36 [00:13<00:00,  2.62it/s]\n"
     ]
    },
    {
     "name": "stdout",
     "output_type": "stream",
     "text": [
      "Transition added:  ['e' 'f'] to i\n",
      "Transition added:  ['i' 'i'] to a\n"
     ]
    },
    {
     "name": "stderr",
     "output_type": "stream",
     "text": [
      "  0%|                                                                                           | 0/36 [00:00<?, ?it/s]"
     ]
    },
    {
     "name": "stdout",
     "output_type": "stream",
     "text": [
      "seq: ['e' 'f' 'i'] ratio: 0.1089866156787763 err 0.03676470588235292 n [1.000e+00 0.000e+00 0.000e+00 0.000e+00 0.000e+00 0.000e+00 1.046e+03\n",
      " 0.000e+00 1.140e+02 0.000e+00 0.000e+00]\n",
      "seq: ['i' 'i' 'a'] ratio: 0.21882581271227558 err 0.04871060171919772 n [ 451.    0.    0.    0.    0.    0.    0.    0. 2061.    0.    0.]\n",
      "Done D:\\Users\\yarde\\vak_project\\BF\\hidden_size\\hidden_size_16\\gy6or6\\results_210526_233349\\train_dur_75s\\replicate_3\n",
      "Loading checkpoint from:\n",
      "D:\\Users\\yarde\\vak_project\\BF\\hidden_size\\hidden_size_16\\gy6or6\\results_210526_233349\\train_dur_75s\\replicate_4\\TweetyNet\\checkpoints\\max-val-acc-checkpoint.pt \n"
     ]
    },
    {
     "name": "stderr",
     "output_type": "stream",
     "text": [
      "batch 35 / 36: 100%|███████████████████████████████████████████████████████████████████| 36/36 [00:13<00:00,  2.63it/s]\n"
     ]
    },
    {
     "name": "stdout",
     "output_type": "stream",
     "text": [
      "Transition added:  ['e' 'f'] to i\n",
      "Transition added:  ['i' 'i'] to a\n"
     ]
    },
    {
     "name": "stderr",
     "output_type": "stream",
     "text": [
      "  0%|                                                                                           | 0/36 [00:00<?, ?it/s]"
     ]
    },
    {
     "name": "stdout",
     "output_type": "stream",
     "text": [
      "seq: ['e' 'f' 'i'] ratio: 0.1089866156787763 err 0.04621848739495793 n [1.000e+00 0.000e+00 0.000e+00 0.000e+00 0.000e+00 0.000e+00 1.046e+03\n",
      " 0.000e+00 1.140e+02 0.000e+00 0.000e+00]\n",
      "seq: ['i' 'i' 'a'] ratio: 0.21882581271227558 err 0.033667621776504286 n [ 451.    0.    0.    0.    0.    0.    0.    0. 2061.    0.    0.]\n",
      "Done D:\\Users\\yarde\\vak_project\\BF\\hidden_size\\hidden_size_16\\gy6or6\\results_210526_233349\\train_dur_75s\\replicate_4\n",
      "Loading checkpoint from:\n",
      "D:\\Users\\yarde\\vak_project\\BF\\hidden_size\\hidden_size_16\\gy6or6\\results_210526_233349\\train_dur_75s\\replicate_5\\TweetyNet\\checkpoints\\max-val-acc-checkpoint.pt \n"
     ]
    },
    {
     "name": "stderr",
     "output_type": "stream",
     "text": [
      "batch 35 / 36: 100%|███████████████████████████████████████████████████████████████████| 36/36 [00:13<00:00,  2.60it/s]\n"
     ]
    },
    {
     "name": "stdout",
     "output_type": "stream",
     "text": [
      "Transition added:  ['e' 'f'] to i\n",
      "Transition added:  ['i' 'i'] to a\n"
     ]
    },
    {
     "name": "stderr",
     "output_type": "stream",
     "text": [
      "  0%|                                                                                           | 0/36 [00:00<?, ?it/s]"
     ]
    },
    {
     "name": "stdout",
     "output_type": "stream",
     "text": [
      "seq: ['e' 'f' 'i'] ratio: 0.1089866156787763 err 0.0714285714285714 n [1.000e+00 0.000e+00 0.000e+00 0.000e+00 0.000e+00 0.000e+00 1.046e+03\n",
      " 0.000e+00 1.140e+02 0.000e+00 0.000e+00]\n",
      "seq: ['i' 'i' 'a'] ratio: 0.21882581271227558 err 0.054441260744985676 n [ 451.    0.    0.    0.    0.    0.    0.    0. 2061.    0.    0.]\n",
      "Done D:\\Users\\yarde\\vak_project\\BF\\hidden_size\\hidden_size_16\\gy6or6\\results_210526_233349\\train_dur_75s\\replicate_5\n",
      "Loading checkpoint from:\n",
      "D:\\Users\\yarde\\vak_project\\BF\\hidden_size\\hidden_size_16\\gy6or6\\results_210526_233349\\train_dur_75s\\replicate_6\\TweetyNet\\checkpoints\\max-val-acc-checkpoint.pt \n"
     ]
    },
    {
     "name": "stderr",
     "output_type": "stream",
     "text": [
      "batch 35 / 36: 100%|███████████████████████████████████████████████████████████████████| 36/36 [00:13<00:00,  2.61it/s]\n"
     ]
    },
    {
     "name": "stdout",
     "output_type": "stream",
     "text": [
      "Transition added:  ['e' 'f'] to i\n",
      "Transition added:  ['i' 'i'] to a\n"
     ]
    },
    {
     "name": "stderr",
     "output_type": "stream",
     "text": [
      "  0%|                                                                                           | 0/36 [00:00<?, ?it/s]"
     ]
    },
    {
     "name": "stdout",
     "output_type": "stream",
     "text": [
      "seq: ['e' 'f' 'i'] ratio: 0.1089866156787763 err 0.047268907563025264 n [1.000e+00 0.000e+00 0.000e+00 0.000e+00 0.000e+00 0.000e+00 1.046e+03\n",
      " 0.000e+00 1.140e+02 0.000e+00 0.000e+00]\n",
      "seq: ['i' 'i' 'a'] ratio: 0.21882581271227558 err 0.03939828080229224 n [ 451.    0.    0.    0.    0.    0.    0.    0. 2061.    0.    0.]\n",
      "Done D:\\Users\\yarde\\vak_project\\BF\\hidden_size\\hidden_size_16\\gy6or6\\results_210526_233349\\train_dur_75s\\replicate_6\n",
      "Loading checkpoint from:\n",
      "D:\\Users\\yarde\\vak_project\\BF\\hidden_size\\hidden_size_16\\gy6or6\\results_210526_233349\\train_dur_75s\\replicate_7\\TweetyNet\\checkpoints\\max-val-acc-checkpoint.pt \n"
     ]
    },
    {
     "name": "stderr",
     "output_type": "stream",
     "text": [
      "batch 35 / 36: 100%|███████████████████████████████████████████████████████████████████| 36/36 [00:13<00:00,  2.59it/s]\n"
     ]
    },
    {
     "name": "stdout",
     "output_type": "stream",
     "text": [
      "Transition added:  ['e' 'f'] to i\n",
      "Transition added:  ['i' 'i'] to a\n"
     ]
    },
    {
     "name": "stderr",
     "output_type": "stream",
     "text": [
      "  0%|                                                                                           | 0/36 [00:00<?, ?it/s]"
     ]
    },
    {
     "name": "stdout",
     "output_type": "stream",
     "text": [
      "seq: ['e' 'f' 'i'] ratio: 0.1089866156787763 err 0.07247899159663862 n [1.000e+00 0.000e+00 0.000e+00 0.000e+00 0.000e+00 0.000e+00 1.046e+03\n",
      " 0.000e+00 1.140e+02 0.000e+00 0.000e+00]\n",
      "seq: ['i' 'i' 'a'] ratio: 0.21882581271227558 err 0.0644699140401146 n [ 451.    0.    0.    0.    0.    0.    0.    0. 2061.    0.    0.]\n",
      "Done D:\\Users\\yarde\\vak_project\\BF\\hidden_size\\hidden_size_16\\gy6or6\\results_210526_233349\\train_dur_75s\\replicate_7\n",
      "Loading checkpoint from:\n",
      "D:\\Users\\yarde\\vak_project\\BF\\hidden_size\\hidden_size_16\\gy6or6\\results_210526_233349\\train_dur_75s\\replicate_8\\TweetyNet\\checkpoints\\max-val-acc-checkpoint.pt \n"
     ]
    },
    {
     "name": "stderr",
     "output_type": "stream",
     "text": [
      "batch 35 / 36: 100%|███████████████████████████████████████████████████████████████████| 36/36 [00:13<00:00,  2.60it/s]\n"
     ]
    },
    {
     "name": "stdout",
     "output_type": "stream",
     "text": [
      "Transition added:  ['e' 'f'] to i\n",
      "Transition added:  ['i' 'i'] to a\n"
     ]
    },
    {
     "name": "stderr",
     "output_type": "stream",
     "text": [
      "  0%|                                                                                           | 0/36 [00:00<?, ?it/s]"
     ]
    },
    {
     "name": "stdout",
     "output_type": "stream",
     "text": [
      "seq: ['e' 'f' 'i'] ratio: 0.1089866156787763 err 0.050420168067226934 n [1.000e+00 0.000e+00 0.000e+00 0.000e+00 0.000e+00 0.000e+00 1.046e+03\n",
      " 0.000e+00 1.140e+02 0.000e+00 0.000e+00]\n",
      "seq: ['i' 'i' 'a'] ratio: 0.21882581271227558 err 0.03008595988538687 n [ 451.    0.    0.    0.    0.    0.    0.    0. 2061.    0.    0.]\n",
      "Done D:\\Users\\yarde\\vak_project\\BF\\hidden_size\\hidden_size_16\\gy6or6\\results_210526_233349\\train_dur_75s\\replicate_8\n",
      "Loading checkpoint from:\n",
      "D:\\Users\\yarde\\vak_project\\BF\\hidden_size\\hidden_size_16\\gy6or6\\results_210526_233349\\train_dur_75s\\replicate_9\\TweetyNet\\checkpoints\\max-val-acc-checkpoint.pt \n"
     ]
    },
    {
     "name": "stderr",
     "output_type": "stream",
     "text": [
      "batch 35 / 36: 100%|███████████████████████████████████████████████████████████████████| 36/36 [00:13<00:00,  2.63it/s]\n"
     ]
    },
    {
     "name": "stdout",
     "output_type": "stream",
     "text": [
      "Transition added:  ['e' 'f'] to i\n",
      "Transition added:  ['i' 'i'] to a\n",
      "seq: ['e' 'f' 'i'] ratio: 0.1089866156787763 err 0.04621848739495793 n [1.000e+00 0.000e+00 0.000e+00 0.000e+00 0.000e+00 0.000e+00 1.046e+03\n",
      " 0.000e+00 1.140e+02 0.000e+00 0.000e+00]\n",
      "seq: ['i' 'i' 'a'] ratio: 0.21882581271227558 err 0.06017191977077363 n [ 451.    0.    0.    0.    0.    0.    0.    0. 2061.    0.    0.]\n",
      "Done D:\\Users\\yarde\\vak_project\\BF\\hidden_size\\hidden_size_16\\gy6or6\\results_210526_233349\\train_dur_75s\\replicate_9\n"
     ]
    },
    {
     "name": "stderr",
     "output_type": "stream",
     "text": [
      "  0%|                                                                                           | 0/32 [00:00<?, ?it/s]"
     ]
    },
    {
     "name": "stdout",
     "output_type": "stream",
     "text": [
      "Loading checkpoint from:\n",
      "D:\\Users\\yarde\\vak_project\\BF\\hidden_size\\hidden_size_16\\or60yw70\\results_210527_045230\\train_dur_120s\\replicate_1\\TweetyNet\\checkpoints\\max-val-acc-checkpoint.pt \n"
     ]
    },
    {
     "name": "stderr",
     "output_type": "stream",
     "text": [
      "batch 31 / 32: 100%|███████████████████████████████████████████████████████████████████| 32/32 [00:13<00:00,  2.30it/s]\n",
      "  0%|                                                                                           | 0/32 [00:00<?, ?it/s]"
     ]
    },
    {
     "name": "stdout",
     "output_type": "stream",
     "text": [
      "Done D:\\Users\\yarde\\vak_project\\BF\\hidden_size\\hidden_size_16\\or60yw70\\results_210527_045230\\train_dur_120s\\replicate_1\n",
      "Loading checkpoint from:\n",
      "D:\\Users\\yarde\\vak_project\\BF\\hidden_size\\hidden_size_16\\or60yw70\\results_210527_045230\\train_dur_120s\\replicate_10\\TweetyNet\\checkpoints\\max-val-acc-checkpoint.pt \n"
     ]
    },
    {
     "name": "stderr",
     "output_type": "stream",
     "text": [
      "batch 31 / 32: 100%|███████████████████████████████████████████████████████████████████| 32/32 [00:13<00:00,  2.33it/s]\n",
      "  0%|                                                                                           | 0/32 [00:00<?, ?it/s]"
     ]
    },
    {
     "name": "stdout",
     "output_type": "stream",
     "text": [
      "Done D:\\Users\\yarde\\vak_project\\BF\\hidden_size\\hidden_size_16\\or60yw70\\results_210527_045230\\train_dur_120s\\replicate_10\n",
      "Loading checkpoint from:\n",
      "D:\\Users\\yarde\\vak_project\\BF\\hidden_size\\hidden_size_16\\or60yw70\\results_210527_045230\\train_dur_120s\\replicate_2\\TweetyNet\\checkpoints\\max-val-acc-checkpoint.pt \n"
     ]
    },
    {
     "name": "stderr",
     "output_type": "stream",
     "text": [
      "batch 31 / 32: 100%|███████████████████████████████████████████████████████████████████| 32/32 [00:13<00:00,  2.33it/s]\n",
      "  0%|                                                                                           | 0/32 [00:00<?, ?it/s]"
     ]
    },
    {
     "name": "stdout",
     "output_type": "stream",
     "text": [
      "Done D:\\Users\\yarde\\vak_project\\BF\\hidden_size\\hidden_size_16\\or60yw70\\results_210527_045230\\train_dur_120s\\replicate_2\n",
      "Loading checkpoint from:\n",
      "D:\\Users\\yarde\\vak_project\\BF\\hidden_size\\hidden_size_16\\or60yw70\\results_210527_045230\\train_dur_120s\\replicate_3\\TweetyNet\\checkpoints\\max-val-acc-checkpoint.pt \n"
     ]
    },
    {
     "name": "stderr",
     "output_type": "stream",
     "text": [
      "batch 31 / 32: 100%|███████████████████████████████████████████████████████████████████| 32/32 [00:13<00:00,  2.32it/s]\n"
     ]
    },
    {
     "name": "stdout",
     "output_type": "stream",
     "text": [
      "Done D:\\Users\\yarde\\vak_project\\BF\\hidden_size\\hidden_size_16\\or60yw70\\results_210527_045230\\train_dur_120s\\replicate_3\n",
      "Loading checkpoint from:\n",
      "D:\\Users\\yarde\\vak_project\\BF\\hidden_size\\hidden_size_16\\or60yw70\\results_210527_045230\\train_dur_120s\\replicate_4\\TweetyNet\\checkpoints\\max-val-acc-checkpoint.pt \n"
     ]
    },
    {
     "name": "stderr",
     "output_type": "stream",
     "text": [
      "batch 31 / 32: 100%|███████████████████████████████████████████████████████████████████| 32/32 [00:13<00:00,  2.32it/s]\n",
      "  0%|                                                                                           | 0/32 [00:00<?, ?it/s]"
     ]
    },
    {
     "name": "stdout",
     "output_type": "stream",
     "text": [
      "Done D:\\Users\\yarde\\vak_project\\BF\\hidden_size\\hidden_size_16\\or60yw70\\results_210527_045230\\train_dur_120s\\replicate_4\n",
      "Loading checkpoint from:\n",
      "D:\\Users\\yarde\\vak_project\\BF\\hidden_size\\hidden_size_16\\or60yw70\\results_210527_045230\\train_dur_120s\\replicate_5\\TweetyNet\\checkpoints\\max-val-acc-checkpoint.pt \n"
     ]
    },
    {
     "name": "stderr",
     "output_type": "stream",
     "text": [
      "batch 31 / 32: 100%|███████████████████████████████████████████████████████████████████| 32/32 [00:13<00:00,  2.32it/s]\n",
      "  0%|                                                                                           | 0/32 [00:00<?, ?it/s]"
     ]
    },
    {
     "name": "stdout",
     "output_type": "stream",
     "text": [
      "Done D:\\Users\\yarde\\vak_project\\BF\\hidden_size\\hidden_size_16\\or60yw70\\results_210527_045230\\train_dur_120s\\replicate_5\n",
      "Loading checkpoint from:\n",
      "D:\\Users\\yarde\\vak_project\\BF\\hidden_size\\hidden_size_16\\or60yw70\\results_210527_045230\\train_dur_120s\\replicate_6\\TweetyNet\\checkpoints\\max-val-acc-checkpoint.pt \n"
     ]
    },
    {
     "name": "stderr",
     "output_type": "stream",
     "text": [
      "batch 31 / 32: 100%|███████████████████████████████████████████████████████████████████| 32/32 [00:13<00:00,  2.31it/s]\n",
      "  0%|                                                                                           | 0/32 [00:00<?, ?it/s]"
     ]
    },
    {
     "name": "stdout",
     "output_type": "stream",
     "text": [
      "Done D:\\Users\\yarde\\vak_project\\BF\\hidden_size\\hidden_size_16\\or60yw70\\results_210527_045230\\train_dur_120s\\replicate_6\n",
      "Loading checkpoint from:\n",
      "D:\\Users\\yarde\\vak_project\\BF\\hidden_size\\hidden_size_16\\or60yw70\\results_210527_045230\\train_dur_120s\\replicate_7\\TweetyNet\\checkpoints\\max-val-acc-checkpoint.pt \n"
     ]
    },
    {
     "name": "stderr",
     "output_type": "stream",
     "text": [
      "batch 31 / 32: 100%|███████████████████████████████████████████████████████████████████| 32/32 [00:13<00:00,  2.33it/s]\n",
      "  0%|                                                                                           | 0/32 [00:00<?, ?it/s]"
     ]
    },
    {
     "name": "stdout",
     "output_type": "stream",
     "text": [
      "Done D:\\Users\\yarde\\vak_project\\BF\\hidden_size\\hidden_size_16\\or60yw70\\results_210527_045230\\train_dur_120s\\replicate_7\n",
      "Loading checkpoint from:\n",
      "D:\\Users\\yarde\\vak_project\\BF\\hidden_size\\hidden_size_16\\or60yw70\\results_210527_045230\\train_dur_120s\\replicate_8\\TweetyNet\\checkpoints\\max-val-acc-checkpoint.pt \n"
     ]
    },
    {
     "name": "stderr",
     "output_type": "stream",
     "text": [
      "batch 31 / 32: 100%|███████████████████████████████████████████████████████████████████| 32/32 [00:13<00:00,  2.32it/s]\n"
     ]
    },
    {
     "name": "stdout",
     "output_type": "stream",
     "text": [
      "Done D:\\Users\\yarde\\vak_project\\BF\\hidden_size\\hidden_size_16\\or60yw70\\results_210527_045230\\train_dur_120s\\replicate_8\n",
      "Loading checkpoint from:\n",
      "D:\\Users\\yarde\\vak_project\\BF\\hidden_size\\hidden_size_16\\or60yw70\\results_210527_045230\\train_dur_120s\\replicate_9\\TweetyNet\\checkpoints\\max-val-acc-checkpoint.pt \n"
     ]
    },
    {
     "name": "stderr",
     "output_type": "stream",
     "text": [
      "batch 31 / 32: 100%|███████████████████████████████████████████████████████████████████| 32/32 [00:13<00:00,  2.31it/s]\n",
      "  0%|                                                                                           | 0/32 [00:00<?, ?it/s]"
     ]
    },
    {
     "name": "stdout",
     "output_type": "stream",
     "text": [
      "Done D:\\Users\\yarde\\vak_project\\BF\\hidden_size\\hidden_size_16\\or60yw70\\results_210527_045230\\train_dur_120s\\replicate_9\n",
      "Loading checkpoint from:\n",
      "D:\\Users\\yarde\\vak_project\\BF\\hidden_size\\hidden_size_16\\or60yw70\\results_210527_045230\\train_dur_180s\\replicate_1\\TweetyNet\\checkpoints\\max-val-acc-checkpoint.pt \n"
     ]
    },
    {
     "name": "stderr",
     "output_type": "stream",
     "text": [
      "batch 31 / 32: 100%|███████████████████████████████████████████████████████████████████| 32/32 [00:13<00:00,  2.33it/s]\n",
      "  0%|                                                                                           | 0/32 [00:00<?, ?it/s]"
     ]
    },
    {
     "name": "stdout",
     "output_type": "stream",
     "text": [
      "Done D:\\Users\\yarde\\vak_project\\BF\\hidden_size\\hidden_size_16\\or60yw70\\results_210527_045230\\train_dur_180s\\replicate_1\n",
      "Loading checkpoint from:\n",
      "D:\\Users\\yarde\\vak_project\\BF\\hidden_size\\hidden_size_16\\or60yw70\\results_210527_045230\\train_dur_180s\\replicate_10\\TweetyNet\\checkpoints\\max-val-acc-checkpoint.pt \n"
     ]
    },
    {
     "name": "stderr",
     "output_type": "stream",
     "text": [
      "batch 31 / 32: 100%|███████████████████████████████████████████████████████████████████| 32/32 [00:13<00:00,  2.34it/s]\n",
      "  0%|                                                                                           | 0/32 [00:00<?, ?it/s]"
     ]
    },
    {
     "name": "stdout",
     "output_type": "stream",
     "text": [
      "Done D:\\Users\\yarde\\vak_project\\BF\\hidden_size\\hidden_size_16\\or60yw70\\results_210527_045230\\train_dur_180s\\replicate_10\n",
      "Loading checkpoint from:\n",
      "D:\\Users\\yarde\\vak_project\\BF\\hidden_size\\hidden_size_16\\or60yw70\\results_210527_045230\\train_dur_180s\\replicate_2\\TweetyNet\\checkpoints\\max-val-acc-checkpoint.pt \n"
     ]
    },
    {
     "name": "stderr",
     "output_type": "stream",
     "text": [
      "batch 31 / 32: 100%|███████████████████████████████████████████████████████████████████| 32/32 [00:13<00:00,  2.33it/s]\n"
     ]
    },
    {
     "name": "stdout",
     "output_type": "stream",
     "text": [
      "Done D:\\Users\\yarde\\vak_project\\BF\\hidden_size\\hidden_size_16\\or60yw70\\results_210527_045230\\train_dur_180s\\replicate_2\n",
      "Loading checkpoint from:\n",
      "D:\\Users\\yarde\\vak_project\\BF\\hidden_size\\hidden_size_16\\or60yw70\\results_210527_045230\\train_dur_180s\\replicate_3\\TweetyNet\\checkpoints\\max-val-acc-checkpoint.pt \n"
     ]
    },
    {
     "name": "stderr",
     "output_type": "stream",
     "text": [
      "batch 31 / 32: 100%|███████████████████████████████████████████████████████████████████| 32/32 [00:13<00:00,  2.31it/s]\n",
      "  0%|                                                                                           | 0/32 [00:00<?, ?it/s]"
     ]
    },
    {
     "name": "stdout",
     "output_type": "stream",
     "text": [
      "Done D:\\Users\\yarde\\vak_project\\BF\\hidden_size\\hidden_size_16\\or60yw70\\results_210527_045230\\train_dur_180s\\replicate_3\n",
      "Loading checkpoint from:\n",
      "D:\\Users\\yarde\\vak_project\\BF\\hidden_size\\hidden_size_16\\or60yw70\\results_210527_045230\\train_dur_180s\\replicate_4\\TweetyNet\\checkpoints\\max-val-acc-checkpoint.pt \n"
     ]
    },
    {
     "name": "stderr",
     "output_type": "stream",
     "text": [
      "batch 31 / 32: 100%|███████████████████████████████████████████████████████████████████| 32/32 [00:13<00:00,  2.32it/s]\n",
      "  0%|                                                                                           | 0/32 [00:00<?, ?it/s]"
     ]
    },
    {
     "name": "stdout",
     "output_type": "stream",
     "text": [
      "Done D:\\Users\\yarde\\vak_project\\BF\\hidden_size\\hidden_size_16\\or60yw70\\results_210527_045230\\train_dur_180s\\replicate_4\n",
      "Loading checkpoint from:\n",
      "D:\\Users\\yarde\\vak_project\\BF\\hidden_size\\hidden_size_16\\or60yw70\\results_210527_045230\\train_dur_180s\\replicate_5\\TweetyNet\\checkpoints\\max-val-acc-checkpoint.pt \n"
     ]
    },
    {
     "name": "stderr",
     "output_type": "stream",
     "text": [
      "batch 31 / 32: 100%|███████████████████████████████████████████████████████████████████| 32/32 [00:13<00:00,  2.34it/s]\n",
      "  0%|                                                                                           | 0/32 [00:00<?, ?it/s]"
     ]
    },
    {
     "name": "stdout",
     "output_type": "stream",
     "text": [
      "Done D:\\Users\\yarde\\vak_project\\BF\\hidden_size\\hidden_size_16\\or60yw70\\results_210527_045230\\train_dur_180s\\replicate_5\n",
      "Loading checkpoint from:\n",
      "D:\\Users\\yarde\\vak_project\\BF\\hidden_size\\hidden_size_16\\or60yw70\\results_210527_045230\\train_dur_180s\\replicate_6\\TweetyNet\\checkpoints\\max-val-acc-checkpoint.pt \n"
     ]
    },
    {
     "name": "stderr",
     "output_type": "stream",
     "text": [
      "batch 31 / 32: 100%|███████████████████████████████████████████████████████████████████| 32/32 [00:13<00:00,  2.32it/s]\n"
     ]
    },
    {
     "name": "stdout",
     "output_type": "stream",
     "text": [
      "Done D:\\Users\\yarde\\vak_project\\BF\\hidden_size\\hidden_size_16\\or60yw70\\results_210527_045230\\train_dur_180s\\replicate_6\n",
      "Loading checkpoint from:\n",
      "D:\\Users\\yarde\\vak_project\\BF\\hidden_size\\hidden_size_16\\or60yw70\\results_210527_045230\\train_dur_180s\\replicate_7\\TweetyNet\\checkpoints\\max-val-acc-checkpoint.pt \n"
     ]
    },
    {
     "name": "stderr",
     "output_type": "stream",
     "text": [
      "batch 31 / 32: 100%|███████████████████████████████████████████████████████████████████| 32/32 [00:13<00:00,  2.33it/s]\n",
      "  0%|                                                                                           | 0/32 [00:00<?, ?it/s]"
     ]
    },
    {
     "name": "stdout",
     "output_type": "stream",
     "text": [
      "Done D:\\Users\\yarde\\vak_project\\BF\\hidden_size\\hidden_size_16\\or60yw70\\results_210527_045230\\train_dur_180s\\replicate_7\n",
      "Loading checkpoint from:\n",
      "D:\\Users\\yarde\\vak_project\\BF\\hidden_size\\hidden_size_16\\or60yw70\\results_210527_045230\\train_dur_180s\\replicate_8\\TweetyNet\\checkpoints\\max-val-acc-checkpoint.pt \n"
     ]
    },
    {
     "name": "stderr",
     "output_type": "stream",
     "text": [
      "batch 31 / 32: 100%|███████████████████████████████████████████████████████████████████| 32/32 [00:13<00:00,  2.33it/s]\n",
      "  0%|                                                                                           | 0/32 [00:00<?, ?it/s]"
     ]
    },
    {
     "name": "stdout",
     "output_type": "stream",
     "text": [
      "Done D:\\Users\\yarde\\vak_project\\BF\\hidden_size\\hidden_size_16\\or60yw70\\results_210527_045230\\train_dur_180s\\replicate_8\n",
      "Loading checkpoint from:\n",
      "D:\\Users\\yarde\\vak_project\\BF\\hidden_size\\hidden_size_16\\or60yw70\\results_210527_045230\\train_dur_180s\\replicate_9\\TweetyNet\\checkpoints\\max-val-acc-checkpoint.pt \n"
     ]
    },
    {
     "name": "stderr",
     "output_type": "stream",
     "text": [
      "batch 31 / 32: 100%|███████████████████████████████████████████████████████████████████| 32/32 [00:13<00:00,  2.33it/s]\n"
     ]
    },
    {
     "name": "stdout",
     "output_type": "stream",
     "text": [
      "Done D:\\Users\\yarde\\vak_project\\BF\\hidden_size\\hidden_size_16\\or60yw70\\results_210527_045230\\train_dur_180s\\replicate_9\n"
     ]
    },
    {
     "name": "stderr",
     "output_type": "stream",
     "text": [
      "  0%|                                                                                           | 0/32 [00:00<?, ?it/s]"
     ]
    },
    {
     "name": "stdout",
     "output_type": "stream",
     "text": [
      "Loading checkpoint from:\n",
      "D:\\Users\\yarde\\vak_project\\BF\\hidden_size\\hidden_size_16\\or60yw70\\results_210527_045230\\train_dur_30s\\replicate_1\\TweetyNet\\checkpoints\\max-val-acc-checkpoint.pt \n"
     ]
    },
    {
     "name": "stderr",
     "output_type": "stream",
     "text": [
      "batch 31 / 32: 100%|███████████████████████████████████████████████████████████████████| 32/32 [00:13<00:00,  2.33it/s]\n",
      "  0%|                                                                                           | 0/32 [00:00<?, ?it/s]"
     ]
    },
    {
     "name": "stdout",
     "output_type": "stream",
     "text": [
      "Done D:\\Users\\yarde\\vak_project\\BF\\hidden_size\\hidden_size_16\\or60yw70\\results_210527_045230\\train_dur_30s\\replicate_1\n",
      "Loading checkpoint from:\n",
      "D:\\Users\\yarde\\vak_project\\BF\\hidden_size\\hidden_size_16\\or60yw70\\results_210527_045230\\train_dur_30s\\replicate_10\\TweetyNet\\checkpoints\\max-val-acc-checkpoint.pt \n"
     ]
    },
    {
     "name": "stderr",
     "output_type": "stream",
     "text": [
      "batch 31 / 32: 100%|███████████████████████████████████████████████████████████████████| 32/32 [00:13<00:00,  2.33it/s]\n",
      "  0%|                                                                                           | 0/32 [00:00<?, ?it/s]"
     ]
    },
    {
     "name": "stdout",
     "output_type": "stream",
     "text": [
      "Done D:\\Users\\yarde\\vak_project\\BF\\hidden_size\\hidden_size_16\\or60yw70\\results_210527_045230\\train_dur_30s\\replicate_10\n",
      "Loading checkpoint from:\n",
      "D:\\Users\\yarde\\vak_project\\BF\\hidden_size\\hidden_size_16\\or60yw70\\results_210527_045230\\train_dur_30s\\replicate_2\\TweetyNet\\checkpoints\\max-val-acc-checkpoint.pt \n"
     ]
    },
    {
     "name": "stderr",
     "output_type": "stream",
     "text": [
      "batch 31 / 32: 100%|███████████████████████████████████████████████████████████████████| 32/32 [00:13<00:00,  2.31it/s]\n",
      "  0%|                                                                                           | 0/32 [00:00<?, ?it/s]"
     ]
    },
    {
     "name": "stdout",
     "output_type": "stream",
     "text": [
      "Done D:\\Users\\yarde\\vak_project\\BF\\hidden_size\\hidden_size_16\\or60yw70\\results_210527_045230\\train_dur_30s\\replicate_2\n",
      "Loading checkpoint from:\n",
      "D:\\Users\\yarde\\vak_project\\BF\\hidden_size\\hidden_size_16\\or60yw70\\results_210527_045230\\train_dur_30s\\replicate_3\\TweetyNet\\checkpoints\\max-val-acc-checkpoint.pt \n"
     ]
    },
    {
     "name": "stderr",
     "output_type": "stream",
     "text": [
      "batch 31 / 32: 100%|███████████████████████████████████████████████████████████████████| 32/32 [00:13<00:00,  2.33it/s]\n"
     ]
    },
    {
     "name": "stdout",
     "output_type": "stream",
     "text": [
      "Done D:\\Users\\yarde\\vak_project\\BF\\hidden_size\\hidden_size_16\\or60yw70\\results_210527_045230\\train_dur_30s\\replicate_3\n",
      "Loading checkpoint from:\n",
      "D:\\Users\\yarde\\vak_project\\BF\\hidden_size\\hidden_size_16\\or60yw70\\results_210527_045230\\train_dur_30s\\replicate_4\\TweetyNet\\checkpoints\\max-val-acc-checkpoint.pt \n"
     ]
    },
    {
     "name": "stderr",
     "output_type": "stream",
     "text": [
      "batch 31 / 32: 100%|███████████████████████████████████████████████████████████████████| 32/32 [00:13<00:00,  2.33it/s]\n",
      "  0%|                                                                                           | 0/32 [00:00<?, ?it/s]"
     ]
    },
    {
     "name": "stdout",
     "output_type": "stream",
     "text": [
      "Done D:\\Users\\yarde\\vak_project\\BF\\hidden_size\\hidden_size_16\\or60yw70\\results_210527_045230\\train_dur_30s\\replicate_4\n",
      "Loading checkpoint from:\n",
      "D:\\Users\\yarde\\vak_project\\BF\\hidden_size\\hidden_size_16\\or60yw70\\results_210527_045230\\train_dur_30s\\replicate_5\\TweetyNet\\checkpoints\\max-val-acc-checkpoint.pt \n"
     ]
    },
    {
     "name": "stderr",
     "output_type": "stream",
     "text": [
      "batch 31 / 32: 100%|███████████████████████████████████████████████████████████████████| 32/32 [00:13<00:00,  2.33it/s]\n",
      "  0%|                                                                                           | 0/32 [00:00<?, ?it/s]"
     ]
    },
    {
     "name": "stdout",
     "output_type": "stream",
     "text": [
      "Done D:\\Users\\yarde\\vak_project\\BF\\hidden_size\\hidden_size_16\\or60yw70\\results_210527_045230\\train_dur_30s\\replicate_5\n",
      "Loading checkpoint from:\n",
      "D:\\Users\\yarde\\vak_project\\BF\\hidden_size\\hidden_size_16\\or60yw70\\results_210527_045230\\train_dur_30s\\replicate_6\\TweetyNet\\checkpoints\\max-val-acc-checkpoint.pt \n"
     ]
    },
    {
     "name": "stderr",
     "output_type": "stream",
     "text": [
      "batch 31 / 32: 100%|███████████████████████████████████████████████████████████████████| 32/32 [00:13<00:00,  2.34it/s]\n"
     ]
    },
    {
     "name": "stdout",
     "output_type": "stream",
     "text": [
      "Done D:\\Users\\yarde\\vak_project\\BF\\hidden_size\\hidden_size_16\\or60yw70\\results_210527_045230\\train_dur_30s\\replicate_6\n",
      "Loading checkpoint from:\n",
      "D:\\Users\\yarde\\vak_project\\BF\\hidden_size\\hidden_size_16\\or60yw70\\results_210527_045230\\train_dur_30s\\replicate_7\\TweetyNet\\checkpoints\\max-val-acc-checkpoint.pt \n"
     ]
    },
    {
     "name": "stderr",
     "output_type": "stream",
     "text": [
      "batch 31 / 32: 100%|███████████████████████████████████████████████████████████████████| 32/32 [00:13<00:00,  2.34it/s]\n",
      "  0%|                                                                                           | 0/32 [00:00<?, ?it/s]"
     ]
    },
    {
     "name": "stdout",
     "output_type": "stream",
     "text": [
      "Done D:\\Users\\yarde\\vak_project\\BF\\hidden_size\\hidden_size_16\\or60yw70\\results_210527_045230\\train_dur_30s\\replicate_7\n",
      "Loading checkpoint from:\n",
      "D:\\Users\\yarde\\vak_project\\BF\\hidden_size\\hidden_size_16\\or60yw70\\results_210527_045230\\train_dur_30s\\replicate_8\\TweetyNet\\checkpoints\\max-val-acc-checkpoint.pt \n"
     ]
    },
    {
     "name": "stderr",
     "output_type": "stream",
     "text": [
      "batch 31 / 32: 100%|███████████████████████████████████████████████████████████████████| 32/32 [00:13<00:00,  2.32it/s]\n",
      "  0%|                                                                                           | 0/32 [00:00<?, ?it/s]"
     ]
    },
    {
     "name": "stdout",
     "output_type": "stream",
     "text": [
      "Done D:\\Users\\yarde\\vak_project\\BF\\hidden_size\\hidden_size_16\\or60yw70\\results_210527_045230\\train_dur_30s\\replicate_8\n",
      "Loading checkpoint from:\n",
      "D:\\Users\\yarde\\vak_project\\BF\\hidden_size\\hidden_size_16\\or60yw70\\results_210527_045230\\train_dur_30s\\replicate_9\\TweetyNet\\checkpoints\\max-val-acc-checkpoint.pt \n"
     ]
    },
    {
     "name": "stderr",
     "output_type": "stream",
     "text": [
      "batch 31 / 32: 100%|███████████████████████████████████████████████████████████████████| 32/32 [00:13<00:00,  2.34it/s]\n",
      "  0%|                                                                                           | 0/32 [00:00<?, ?it/s]"
     ]
    },
    {
     "name": "stdout",
     "output_type": "stream",
     "text": [
      "Done D:\\Users\\yarde\\vak_project\\BF\\hidden_size\\hidden_size_16\\or60yw70\\results_210527_045230\\train_dur_30s\\replicate_9\n",
      "Loading checkpoint from:\n",
      "D:\\Users\\yarde\\vak_project\\BF\\hidden_size\\hidden_size_16\\or60yw70\\results_210527_045230\\train_dur_45s\\replicate_1\\TweetyNet\\checkpoints\\max-val-acc-checkpoint.pt \n"
     ]
    },
    {
     "name": "stderr",
     "output_type": "stream",
     "text": [
      "batch 31 / 32: 100%|███████████████████████████████████████████████████████████████████| 32/32 [00:13<00:00,  2.33it/s]\n",
      "  0%|                                                                                           | 0/32 [00:00<?, ?it/s]"
     ]
    },
    {
     "name": "stdout",
     "output_type": "stream",
     "text": [
      "Done D:\\Users\\yarde\\vak_project\\BF\\hidden_size\\hidden_size_16\\or60yw70\\results_210527_045230\\train_dur_45s\\replicate_1\n",
      "Loading checkpoint from:\n",
      "D:\\Users\\yarde\\vak_project\\BF\\hidden_size\\hidden_size_16\\or60yw70\\results_210527_045230\\train_dur_45s\\replicate_10\\TweetyNet\\checkpoints\\max-val-acc-checkpoint.pt \n"
     ]
    },
    {
     "name": "stderr",
     "output_type": "stream",
     "text": [
      "batch 31 / 32: 100%|███████████████████████████████████████████████████████████████████| 32/32 [00:13<00:00,  2.33it/s]\n",
      "  0%|                                                                                           | 0/32 [00:00<?, ?it/s]"
     ]
    },
    {
     "name": "stdout",
     "output_type": "stream",
     "text": [
      "Done D:\\Users\\yarde\\vak_project\\BF\\hidden_size\\hidden_size_16\\or60yw70\\results_210527_045230\\train_dur_45s\\replicate_10\n",
      "Loading checkpoint from:\n",
      "D:\\Users\\yarde\\vak_project\\BF\\hidden_size\\hidden_size_16\\or60yw70\\results_210527_045230\\train_dur_45s\\replicate_2\\TweetyNet\\checkpoints\\max-val-acc-checkpoint.pt \n"
     ]
    },
    {
     "name": "stderr",
     "output_type": "stream",
     "text": [
      "batch 31 / 32: 100%|███████████████████████████████████████████████████████████████████| 32/32 [00:13<00:00,  2.31it/s]\n"
     ]
    },
    {
     "name": "stdout",
     "output_type": "stream",
     "text": [
      "Done D:\\Users\\yarde\\vak_project\\BF\\hidden_size\\hidden_size_16\\or60yw70\\results_210527_045230\\train_dur_45s\\replicate_2\n",
      "Loading checkpoint from:\n",
      "D:\\Users\\yarde\\vak_project\\BF\\hidden_size\\hidden_size_16\\or60yw70\\results_210527_045230\\train_dur_45s\\replicate_3\\TweetyNet\\checkpoints\\max-val-acc-checkpoint.pt \n"
     ]
    },
    {
     "name": "stderr",
     "output_type": "stream",
     "text": [
      "batch 31 / 32: 100%|███████████████████████████████████████████████████████████████████| 32/32 [00:13<00:00,  2.33it/s]\n"
     ]
    },
    {
     "name": "stdout",
     "output_type": "stream",
     "text": [
      "Done D:\\Users\\yarde\\vak_project\\BF\\hidden_size\\hidden_size_16\\or60yw70\\results_210527_045230\\train_dur_45s\\replicate_3\n",
      "Loading checkpoint from:\n",
      "D:\\Users\\yarde\\vak_project\\BF\\hidden_size\\hidden_size_16\\or60yw70\\results_210527_045230\\train_dur_45s\\replicate_4\\TweetyNet\\checkpoints\\max-val-acc-checkpoint.pt \n"
     ]
    },
    {
     "name": "stderr",
     "output_type": "stream",
     "text": [
      "batch 31 / 32: 100%|███████████████████████████████████████████████████████████████████| 32/32 [00:13<00:00,  2.34it/s]\n",
      "  0%|                                                                                           | 0/32 [00:00<?, ?it/s]"
     ]
    },
    {
     "name": "stdout",
     "output_type": "stream",
     "text": [
      "Done D:\\Users\\yarde\\vak_project\\BF\\hidden_size\\hidden_size_16\\or60yw70\\results_210527_045230\\train_dur_45s\\replicate_4\n",
      "Loading checkpoint from:\n",
      "D:\\Users\\yarde\\vak_project\\BF\\hidden_size\\hidden_size_16\\or60yw70\\results_210527_045230\\train_dur_45s\\replicate_5\\TweetyNet\\checkpoints\\max-val-acc-checkpoint.pt \n"
     ]
    },
    {
     "name": "stderr",
     "output_type": "stream",
     "text": [
      "batch 31 / 32: 100%|███████████████████████████████████████████████████████████████████| 32/32 [00:13<00:00,  2.33it/s]\n"
     ]
    },
    {
     "name": "stdout",
     "output_type": "stream",
     "text": [
      "Done D:\\Users\\yarde\\vak_project\\BF\\hidden_size\\hidden_size_16\\or60yw70\\results_210527_045230\\train_dur_45s\\replicate_5\n",
      "Loading checkpoint from:\n",
      "D:\\Users\\yarde\\vak_project\\BF\\hidden_size\\hidden_size_16\\or60yw70\\results_210527_045230\\train_dur_45s\\replicate_6\\TweetyNet\\checkpoints\\max-val-acc-checkpoint.pt \n"
     ]
    },
    {
     "name": "stderr",
     "output_type": "stream",
     "text": [
      "batch 31 / 32: 100%|███████████████████████████████████████████████████████████████████| 32/32 [00:13<00:00,  2.33it/s]\n"
     ]
    },
    {
     "name": "stdout",
     "output_type": "stream",
     "text": [
      "Done D:\\Users\\yarde\\vak_project\\BF\\hidden_size\\hidden_size_16\\or60yw70\\results_210527_045230\\train_dur_45s\\replicate_6\n",
      "Loading checkpoint from:\n",
      "D:\\Users\\yarde\\vak_project\\BF\\hidden_size\\hidden_size_16\\or60yw70\\results_210527_045230\\train_dur_45s\\replicate_7\\TweetyNet\\checkpoints\\max-val-acc-checkpoint.pt \n"
     ]
    },
    {
     "name": "stderr",
     "output_type": "stream",
     "text": [
      "batch 31 / 32: 100%|███████████████████████████████████████████████████████████████████| 32/32 [00:13<00:00,  2.32it/s]\n",
      "  0%|                                                                                           | 0/32 [00:00<?, ?it/s]"
     ]
    },
    {
     "name": "stdout",
     "output_type": "stream",
     "text": [
      "Done D:\\Users\\yarde\\vak_project\\BF\\hidden_size\\hidden_size_16\\or60yw70\\results_210527_045230\\train_dur_45s\\replicate_7\n",
      "Loading checkpoint from:\n",
      "D:\\Users\\yarde\\vak_project\\BF\\hidden_size\\hidden_size_16\\or60yw70\\results_210527_045230\\train_dur_45s\\replicate_8\\TweetyNet\\checkpoints\\max-val-acc-checkpoint.pt \n"
     ]
    },
    {
     "name": "stderr",
     "output_type": "stream",
     "text": [
      "batch 31 / 32: 100%|███████████████████████████████████████████████████████████████████| 32/32 [00:13<00:00,  2.33it/s]\n",
      "  0%|                                                                                           | 0/32 [00:00<?, ?it/s]"
     ]
    },
    {
     "name": "stdout",
     "output_type": "stream",
     "text": [
      "Done D:\\Users\\yarde\\vak_project\\BF\\hidden_size\\hidden_size_16\\or60yw70\\results_210527_045230\\train_dur_45s\\replicate_8\n",
      "Loading checkpoint from:\n",
      "D:\\Users\\yarde\\vak_project\\BF\\hidden_size\\hidden_size_16\\or60yw70\\results_210527_045230\\train_dur_45s\\replicate_9\\TweetyNet\\checkpoints\\max-val-acc-checkpoint.pt \n"
     ]
    },
    {
     "name": "stderr",
     "output_type": "stream",
     "text": [
      "batch 31 / 32: 100%|███████████████████████████████████████████████████████████████████| 32/32 [00:13<00:00,  2.34it/s]\n",
      "  0%|                                                                                           | 0/32 [00:00<?, ?it/s]"
     ]
    },
    {
     "name": "stdout",
     "output_type": "stream",
     "text": [
      "Done D:\\Users\\yarde\\vak_project\\BF\\hidden_size\\hidden_size_16\\or60yw70\\results_210527_045230\\train_dur_45s\\replicate_9\n",
      "Loading checkpoint from:\n",
      "D:\\Users\\yarde\\vak_project\\BF\\hidden_size\\hidden_size_16\\or60yw70\\results_210527_045230\\train_dur_480s\\replicate_1\\TweetyNet\\checkpoints\\max-val-acc-checkpoint.pt \n"
     ]
    },
    {
     "name": "stderr",
     "output_type": "stream",
     "text": [
      "batch 31 / 32: 100%|███████████████████████████████████████████████████████████████████| 32/32 [00:13<00:00,  2.33it/s]\n",
      "  0%|                                                                                           | 0/32 [00:00<?, ?it/s]"
     ]
    },
    {
     "name": "stdout",
     "output_type": "stream",
     "text": [
      "Done D:\\Users\\yarde\\vak_project\\BF\\hidden_size\\hidden_size_16\\or60yw70\\results_210527_045230\\train_dur_480s\\replicate_1\n",
      "Loading checkpoint from:\n",
      "D:\\Users\\yarde\\vak_project\\BF\\hidden_size\\hidden_size_16\\or60yw70\\results_210527_045230\\train_dur_480s\\replicate_10\\TweetyNet\\checkpoints\\max-val-acc-checkpoint.pt \n"
     ]
    },
    {
     "name": "stderr",
     "output_type": "stream",
     "text": [
      "batch 31 / 32: 100%|███████████████████████████████████████████████████████████████████| 32/32 [00:13<00:00,  2.34it/s]\n",
      "  0%|                                                                                           | 0/32 [00:00<?, ?it/s]"
     ]
    },
    {
     "name": "stdout",
     "output_type": "stream",
     "text": [
      "Done D:\\Users\\yarde\\vak_project\\BF\\hidden_size\\hidden_size_16\\or60yw70\\results_210527_045230\\train_dur_480s\\replicate_10\n",
      "Loading checkpoint from:\n",
      "D:\\Users\\yarde\\vak_project\\BF\\hidden_size\\hidden_size_16\\or60yw70\\results_210527_045230\\train_dur_480s\\replicate_2\\TweetyNet\\checkpoints\\max-val-acc-checkpoint.pt \n"
     ]
    },
    {
     "name": "stderr",
     "output_type": "stream",
     "text": [
      "batch 31 / 32: 100%|███████████████████████████████████████████████████████████████████| 32/32 [00:13<00:00,  2.33it/s]\n",
      "  0%|                                                                                           | 0/32 [00:00<?, ?it/s]"
     ]
    },
    {
     "name": "stdout",
     "output_type": "stream",
     "text": [
      "Done D:\\Users\\yarde\\vak_project\\BF\\hidden_size\\hidden_size_16\\or60yw70\\results_210527_045230\\train_dur_480s\\replicate_2\n",
      "Loading checkpoint from:\n",
      "D:\\Users\\yarde\\vak_project\\BF\\hidden_size\\hidden_size_16\\or60yw70\\results_210527_045230\\train_dur_480s\\replicate_3\\TweetyNet\\checkpoints\\max-val-acc-checkpoint.pt \n"
     ]
    },
    {
     "name": "stderr",
     "output_type": "stream",
     "text": [
      "batch 31 / 32: 100%|███████████████████████████████████████████████████████████████████| 32/32 [00:13<00:00,  2.32it/s]\n"
     ]
    },
    {
     "name": "stdout",
     "output_type": "stream",
     "text": [
      "Done D:\\Users\\yarde\\vak_project\\BF\\hidden_size\\hidden_size_16\\or60yw70\\results_210527_045230\\train_dur_480s\\replicate_3\n",
      "Loading checkpoint from:\n",
      "D:\\Users\\yarde\\vak_project\\BF\\hidden_size\\hidden_size_16\\or60yw70\\results_210527_045230\\train_dur_480s\\replicate_4\\TweetyNet\\checkpoints\\max-val-acc-checkpoint.pt \n"
     ]
    },
    {
     "name": "stderr",
     "output_type": "stream",
     "text": [
      "batch 31 / 32: 100%|███████████████████████████████████████████████████████████████████| 32/32 [00:13<00:00,  2.30it/s]\n"
     ]
    },
    {
     "name": "stdout",
     "output_type": "stream",
     "text": [
      "Done D:\\Users\\yarde\\vak_project\\BF\\hidden_size\\hidden_size_16\\or60yw70\\results_210527_045230\\train_dur_480s\\replicate_4\n"
     ]
    },
    {
     "name": "stderr",
     "output_type": "stream",
     "text": [
      "  0%|                                                                                           | 0/32 [00:00<?, ?it/s]"
     ]
    },
    {
     "name": "stdout",
     "output_type": "stream",
     "text": [
      "Loading checkpoint from:\n",
      "D:\\Users\\yarde\\vak_project\\BF\\hidden_size\\hidden_size_16\\or60yw70\\results_210527_045230\\train_dur_480s\\replicate_5\\TweetyNet\\checkpoints\\max-val-acc-checkpoint.pt \n"
     ]
    },
    {
     "name": "stderr",
     "output_type": "stream",
     "text": [
      "batch 31 / 32: 100%|███████████████████████████████████████████████████████████████████| 32/32 [00:13<00:00,  2.34it/s]\n",
      "  0%|                                                                                           | 0/32 [00:00<?, ?it/s]"
     ]
    },
    {
     "name": "stdout",
     "output_type": "stream",
     "text": [
      "Done D:\\Users\\yarde\\vak_project\\BF\\hidden_size\\hidden_size_16\\or60yw70\\results_210527_045230\\train_dur_480s\\replicate_5\n",
      "Loading checkpoint from:\n",
      "D:\\Users\\yarde\\vak_project\\BF\\hidden_size\\hidden_size_16\\or60yw70\\results_210527_045230\\train_dur_480s\\replicate_6\\TweetyNet\\checkpoints\\max-val-acc-checkpoint.pt \n"
     ]
    },
    {
     "name": "stderr",
     "output_type": "stream",
     "text": [
      "batch 31 / 32: 100%|███████████████████████████████████████████████████████████████████| 32/32 [00:13<00:00,  2.34it/s]\n",
      "  0%|                                                                                           | 0/32 [00:00<?, ?it/s]"
     ]
    },
    {
     "name": "stdout",
     "output_type": "stream",
     "text": [
      "Done D:\\Users\\yarde\\vak_project\\BF\\hidden_size\\hidden_size_16\\or60yw70\\results_210527_045230\\train_dur_480s\\replicate_6\n",
      "Loading checkpoint from:\n",
      "D:\\Users\\yarde\\vak_project\\BF\\hidden_size\\hidden_size_16\\or60yw70\\results_210527_045230\\train_dur_480s\\replicate_7\\TweetyNet\\checkpoints\\max-val-acc-checkpoint.pt \n"
     ]
    },
    {
     "name": "stderr",
     "output_type": "stream",
     "text": [
      "batch 31 / 32: 100%|███████████████████████████████████████████████████████████████████| 32/32 [00:13<00:00,  2.31it/s]\n",
      "  0%|                                                                                           | 0/32 [00:00<?, ?it/s]"
     ]
    },
    {
     "name": "stdout",
     "output_type": "stream",
     "text": [
      "Done D:\\Users\\yarde\\vak_project\\BF\\hidden_size\\hidden_size_16\\or60yw70\\results_210527_045230\\train_dur_480s\\replicate_7\n",
      "Loading checkpoint from:\n",
      "D:\\Users\\yarde\\vak_project\\BF\\hidden_size\\hidden_size_16\\or60yw70\\results_210527_045230\\train_dur_480s\\replicate_8\\TweetyNet\\checkpoints\\max-val-acc-checkpoint.pt \n"
     ]
    },
    {
     "name": "stderr",
     "output_type": "stream",
     "text": [
      "batch 31 / 32: 100%|███████████████████████████████████████████████████████████████████| 32/32 [00:13<00:00,  2.32it/s]\n"
     ]
    },
    {
     "name": "stdout",
     "output_type": "stream",
     "text": [
      "Done D:\\Users\\yarde\\vak_project\\BF\\hidden_size\\hidden_size_16\\or60yw70\\results_210527_045230\\train_dur_480s\\replicate_8\n",
      "Loading checkpoint from:\n",
      "D:\\Users\\yarde\\vak_project\\BF\\hidden_size\\hidden_size_16\\or60yw70\\results_210527_045230\\train_dur_480s\\replicate_9\\TweetyNet\\checkpoints\\max-val-acc-checkpoint.pt \n"
     ]
    },
    {
     "name": "stderr",
     "output_type": "stream",
     "text": [
      "batch 31 / 32: 100%|███████████████████████████████████████████████████████████████████| 32/32 [00:13<00:00,  2.31it/s]\n",
      "  0%|                                                                                           | 0/32 [00:00<?, ?it/s]"
     ]
    },
    {
     "name": "stdout",
     "output_type": "stream",
     "text": [
      "Done D:\\Users\\yarde\\vak_project\\BF\\hidden_size\\hidden_size_16\\or60yw70\\results_210527_045230\\train_dur_480s\\replicate_9\n",
      "Loading checkpoint from:\n",
      "D:\\Users\\yarde\\vak_project\\BF\\hidden_size\\hidden_size_16\\or60yw70\\results_210527_045230\\train_dur_600s\\replicate_1\\TweetyNet\\checkpoints\\max-val-acc-checkpoint.pt \n"
     ]
    },
    {
     "name": "stderr",
     "output_type": "stream",
     "text": [
      "batch 31 / 32: 100%|███████████████████████████████████████████████████████████████████| 32/32 [00:13<00:00,  2.32it/s]\n",
      "  0%|                                                                                           | 0/32 [00:00<?, ?it/s]"
     ]
    },
    {
     "name": "stdout",
     "output_type": "stream",
     "text": [
      "Done D:\\Users\\yarde\\vak_project\\BF\\hidden_size\\hidden_size_16\\or60yw70\\results_210527_045230\\train_dur_600s\\replicate_1\n",
      "Loading checkpoint from:\n",
      "D:\\Users\\yarde\\vak_project\\BF\\hidden_size\\hidden_size_16\\or60yw70\\results_210527_045230\\train_dur_600s\\replicate_10\\TweetyNet\\checkpoints\\max-val-acc-checkpoint.pt \n"
     ]
    },
    {
     "name": "stderr",
     "output_type": "stream",
     "text": [
      "batch 31 / 32: 100%|███████████████████████████████████████████████████████████████████| 32/32 [00:13<00:00,  2.34it/s]\n",
      "  0%|                                                                                           | 0/32 [00:00<?, ?it/s]"
     ]
    },
    {
     "name": "stdout",
     "output_type": "stream",
     "text": [
      "Done D:\\Users\\yarde\\vak_project\\BF\\hidden_size\\hidden_size_16\\or60yw70\\results_210527_045230\\train_dur_600s\\replicate_10\n",
      "Loading checkpoint from:\n",
      "D:\\Users\\yarde\\vak_project\\BF\\hidden_size\\hidden_size_16\\or60yw70\\results_210527_045230\\train_dur_600s\\replicate_2\\TweetyNet\\checkpoints\\max-val-acc-checkpoint.pt \n"
     ]
    },
    {
     "name": "stderr",
     "output_type": "stream",
     "text": [
      "batch 31 / 32: 100%|███████████████████████████████████████████████████████████████████| 32/32 [00:13<00:00,  2.32it/s]\n",
      "  0%|                                                                                           | 0/32 [00:00<?, ?it/s]"
     ]
    },
    {
     "name": "stdout",
     "output_type": "stream",
     "text": [
      "Done D:\\Users\\yarde\\vak_project\\BF\\hidden_size\\hidden_size_16\\or60yw70\\results_210527_045230\\train_dur_600s\\replicate_2\n",
      "Loading checkpoint from:\n",
      "D:\\Users\\yarde\\vak_project\\BF\\hidden_size\\hidden_size_16\\or60yw70\\results_210527_045230\\train_dur_600s\\replicate_3\\TweetyNet\\checkpoints\\max-val-acc-checkpoint.pt \n"
     ]
    },
    {
     "name": "stderr",
     "output_type": "stream",
     "text": [
      "batch 31 / 32: 100%|███████████████████████████████████████████████████████████████████| 32/32 [00:13<00:00,  2.33it/s]\n",
      "  0%|                                                                                           | 0/32 [00:00<?, ?it/s]"
     ]
    },
    {
     "name": "stdout",
     "output_type": "stream",
     "text": [
      "Done D:\\Users\\yarde\\vak_project\\BF\\hidden_size\\hidden_size_16\\or60yw70\\results_210527_045230\\train_dur_600s\\replicate_3\n",
      "Loading checkpoint from:\n",
      "D:\\Users\\yarde\\vak_project\\BF\\hidden_size\\hidden_size_16\\or60yw70\\results_210527_045230\\train_dur_600s\\replicate_4\\TweetyNet\\checkpoints\\max-val-acc-checkpoint.pt \n"
     ]
    },
    {
     "name": "stderr",
     "output_type": "stream",
     "text": [
      "batch 31 / 32: 100%|███████████████████████████████████████████████████████████████████| 32/32 [00:13<00:00,  2.31it/s]\n"
     ]
    },
    {
     "name": "stdout",
     "output_type": "stream",
     "text": [
      "Done D:\\Users\\yarde\\vak_project\\BF\\hidden_size\\hidden_size_16\\or60yw70\\results_210527_045230\\train_dur_600s\\replicate_4\n",
      "Loading checkpoint from:\n",
      "D:\\Users\\yarde\\vak_project\\BF\\hidden_size\\hidden_size_16\\or60yw70\\results_210527_045230\\train_dur_600s\\replicate_5\\TweetyNet\\checkpoints\\max-val-acc-checkpoint.pt \n"
     ]
    },
    {
     "name": "stderr",
     "output_type": "stream",
     "text": [
      "batch 31 / 32: 100%|███████████████████████████████████████████████████████████████████| 32/32 [00:13<00:00,  2.32it/s]\n",
      "  0%|                                                                                           | 0/32 [00:00<?, ?it/s]"
     ]
    },
    {
     "name": "stdout",
     "output_type": "stream",
     "text": [
      "Done D:\\Users\\yarde\\vak_project\\BF\\hidden_size\\hidden_size_16\\or60yw70\\results_210527_045230\\train_dur_600s\\replicate_5\n",
      "Loading checkpoint from:\n",
      "D:\\Users\\yarde\\vak_project\\BF\\hidden_size\\hidden_size_16\\or60yw70\\results_210527_045230\\train_dur_600s\\replicate_6\\TweetyNet\\checkpoints\\max-val-acc-checkpoint.pt \n"
     ]
    },
    {
     "name": "stderr",
     "output_type": "stream",
     "text": [
      "batch 31 / 32: 100%|███████████████████████████████████████████████████████████████████| 32/32 [00:13<00:00,  2.33it/s]\n",
      "  0%|                                                                                           | 0/32 [00:00<?, ?it/s]"
     ]
    },
    {
     "name": "stdout",
     "output_type": "stream",
     "text": [
      "Done D:\\Users\\yarde\\vak_project\\BF\\hidden_size\\hidden_size_16\\or60yw70\\results_210527_045230\\train_dur_600s\\replicate_6\n",
      "Loading checkpoint from:\n",
      "D:\\Users\\yarde\\vak_project\\BF\\hidden_size\\hidden_size_16\\or60yw70\\results_210527_045230\\train_dur_600s\\replicate_7\\TweetyNet\\checkpoints\\max-val-acc-checkpoint.pt \n"
     ]
    },
    {
     "name": "stderr",
     "output_type": "stream",
     "text": [
      "batch 31 / 32: 100%|███████████████████████████████████████████████████████████████████| 32/32 [00:13<00:00,  2.34it/s]\n",
      "  0%|                                                                                           | 0/32 [00:00<?, ?it/s]"
     ]
    },
    {
     "name": "stdout",
     "output_type": "stream",
     "text": [
      "Done D:\\Users\\yarde\\vak_project\\BF\\hidden_size\\hidden_size_16\\or60yw70\\results_210527_045230\\train_dur_600s\\replicate_7\n",
      "Loading checkpoint from:\n",
      "D:\\Users\\yarde\\vak_project\\BF\\hidden_size\\hidden_size_16\\or60yw70\\results_210527_045230\\train_dur_600s\\replicate_8\\TweetyNet\\checkpoints\\max-val-acc-checkpoint.pt \n"
     ]
    },
    {
     "name": "stderr",
     "output_type": "stream",
     "text": [
      "batch 31 / 32: 100%|███████████████████████████████████████████████████████████████████| 32/32 [00:13<00:00,  2.33it/s]\n",
      "  0%|                                                                                           | 0/32 [00:00<?, ?it/s]"
     ]
    },
    {
     "name": "stdout",
     "output_type": "stream",
     "text": [
      "Done D:\\Users\\yarde\\vak_project\\BF\\hidden_size\\hidden_size_16\\or60yw70\\results_210527_045230\\train_dur_600s\\replicate_8\n",
      "Loading checkpoint from:\n",
      "D:\\Users\\yarde\\vak_project\\BF\\hidden_size\\hidden_size_16\\or60yw70\\results_210527_045230\\train_dur_600s\\replicate_9\\TweetyNet\\checkpoints\\max-val-acc-checkpoint.pt \n"
     ]
    },
    {
     "name": "stderr",
     "output_type": "stream",
     "text": [
      "batch 31 / 32: 100%|███████████████████████████████████████████████████████████████████| 32/32 [00:13<00:00,  2.32it/s]\n",
      "  0%|                                                                                           | 0/32 [00:00<?, ?it/s]"
     ]
    },
    {
     "name": "stdout",
     "output_type": "stream",
     "text": [
      "Done D:\\Users\\yarde\\vak_project\\BF\\hidden_size\\hidden_size_16\\or60yw70\\results_210527_045230\\train_dur_600s\\replicate_9\n",
      "Loading checkpoint from:\n",
      "D:\\Users\\yarde\\vak_project\\BF\\hidden_size\\hidden_size_16\\or60yw70\\results_210527_045230\\train_dur_75s\\replicate_1\\TweetyNet\\checkpoints\\max-val-acc-checkpoint.pt \n"
     ]
    },
    {
     "name": "stderr",
     "output_type": "stream",
     "text": [
      "batch 31 / 32: 100%|███████████████████████████████████████████████████████████████████| 32/32 [00:13<00:00,  2.33it/s]\n",
      "  0%|                                                                                           | 0/32 [00:00<?, ?it/s]"
     ]
    },
    {
     "name": "stdout",
     "output_type": "stream",
     "text": [
      "Done D:\\Users\\yarde\\vak_project\\BF\\hidden_size\\hidden_size_16\\or60yw70\\results_210527_045230\\train_dur_75s\\replicate_1\n",
      "Loading checkpoint from:\n",
      "D:\\Users\\yarde\\vak_project\\BF\\hidden_size\\hidden_size_16\\or60yw70\\results_210527_045230\\train_dur_75s\\replicate_10\\TweetyNet\\checkpoints\\max-val-acc-checkpoint.pt \n"
     ]
    },
    {
     "name": "stderr",
     "output_type": "stream",
     "text": [
      "batch 31 / 32: 100%|███████████████████████████████████████████████████████████████████| 32/32 [00:13<00:00,  2.35it/s]\n",
      "  0%|                                                                                           | 0/32 [00:00<?, ?it/s]"
     ]
    },
    {
     "name": "stdout",
     "output_type": "stream",
     "text": [
      "Done D:\\Users\\yarde\\vak_project\\BF\\hidden_size\\hidden_size_16\\or60yw70\\results_210527_045230\\train_dur_75s\\replicate_10\n",
      "Loading checkpoint from:\n",
      "D:\\Users\\yarde\\vak_project\\BF\\hidden_size\\hidden_size_16\\or60yw70\\results_210527_045230\\train_dur_75s\\replicate_2\\TweetyNet\\checkpoints\\max-val-acc-checkpoint.pt \n"
     ]
    },
    {
     "name": "stderr",
     "output_type": "stream",
     "text": [
      "batch 31 / 32: 100%|███████████████████████████████████████████████████████████████████| 32/32 [00:13<00:00,  2.35it/s]\n",
      "  0%|                                                                                           | 0/32 [00:00<?, ?it/s]"
     ]
    },
    {
     "name": "stdout",
     "output_type": "stream",
     "text": [
      "Done D:\\Users\\yarde\\vak_project\\BF\\hidden_size\\hidden_size_16\\or60yw70\\results_210527_045230\\train_dur_75s\\replicate_2\n",
      "Loading checkpoint from:\n",
      "D:\\Users\\yarde\\vak_project\\BF\\hidden_size\\hidden_size_16\\or60yw70\\results_210527_045230\\train_dur_75s\\replicate_3\\TweetyNet\\checkpoints\\max-val-acc-checkpoint.pt \n"
     ]
    },
    {
     "name": "stderr",
     "output_type": "stream",
     "text": [
      "batch 31 / 32: 100%|███████████████████████████████████████████████████████████████████| 32/32 [00:13<00:00,  2.34it/s]\n",
      "  0%|                                                                                           | 0/32 [00:00<?, ?it/s]"
     ]
    },
    {
     "name": "stdout",
     "output_type": "stream",
     "text": [
      "Done D:\\Users\\yarde\\vak_project\\BF\\hidden_size\\hidden_size_16\\or60yw70\\results_210527_045230\\train_dur_75s\\replicate_3\n",
      "Loading checkpoint from:\n",
      "D:\\Users\\yarde\\vak_project\\BF\\hidden_size\\hidden_size_16\\or60yw70\\results_210527_045230\\train_dur_75s\\replicate_4\\TweetyNet\\checkpoints\\max-val-acc-checkpoint.pt \n"
     ]
    },
    {
     "name": "stderr",
     "output_type": "stream",
     "text": [
      "batch 31 / 32: 100%|███████████████████████████████████████████████████████████████████| 32/32 [00:13<00:00,  2.33it/s]\n",
      "  0%|                                                                                           | 0/32 [00:00<?, ?it/s]"
     ]
    },
    {
     "name": "stdout",
     "output_type": "stream",
     "text": [
      "Done D:\\Users\\yarde\\vak_project\\BF\\hidden_size\\hidden_size_16\\or60yw70\\results_210527_045230\\train_dur_75s\\replicate_4\n",
      "Loading checkpoint from:\n",
      "D:\\Users\\yarde\\vak_project\\BF\\hidden_size\\hidden_size_16\\or60yw70\\results_210527_045230\\train_dur_75s\\replicate_5\\TweetyNet\\checkpoints\\max-val-acc-checkpoint.pt \n"
     ]
    },
    {
     "name": "stderr",
     "output_type": "stream",
     "text": [
      "batch 31 / 32: 100%|███████████████████████████████████████████████████████████████████| 32/32 [00:13<00:00,  2.36it/s]\n",
      "  0%|                                                                                           | 0/32 [00:00<?, ?it/s]"
     ]
    },
    {
     "name": "stdout",
     "output_type": "stream",
     "text": [
      "Done D:\\Users\\yarde\\vak_project\\BF\\hidden_size\\hidden_size_16\\or60yw70\\results_210527_045230\\train_dur_75s\\replicate_5\n",
      "Loading checkpoint from:\n",
      "D:\\Users\\yarde\\vak_project\\BF\\hidden_size\\hidden_size_16\\or60yw70\\results_210527_045230\\train_dur_75s\\replicate_6\\TweetyNet\\checkpoints\\max-val-acc-checkpoint.pt \n"
     ]
    },
    {
     "name": "stderr",
     "output_type": "stream",
     "text": [
      "batch 31 / 32: 100%|███████████████████████████████████████████████████████████████████| 32/32 [00:13<00:00,  2.33it/s]\n",
      "  0%|                                                                                           | 0/32 [00:00<?, ?it/s]"
     ]
    },
    {
     "name": "stdout",
     "output_type": "stream",
     "text": [
      "Done D:\\Users\\yarde\\vak_project\\BF\\hidden_size\\hidden_size_16\\or60yw70\\results_210527_045230\\train_dur_75s\\replicate_6\n",
      "Loading checkpoint from:\n",
      "D:\\Users\\yarde\\vak_project\\BF\\hidden_size\\hidden_size_16\\or60yw70\\results_210527_045230\\train_dur_75s\\replicate_7\\TweetyNet\\checkpoints\\max-val-acc-checkpoint.pt \n"
     ]
    },
    {
     "name": "stderr",
     "output_type": "stream",
     "text": [
      "batch 31 / 32: 100%|███████████████████████████████████████████████████████████████████| 32/32 [00:13<00:00,  2.35it/s]\n"
     ]
    },
    {
     "name": "stdout",
     "output_type": "stream",
     "text": [
      "Done D:\\Users\\yarde\\vak_project\\BF\\hidden_size\\hidden_size_16\\or60yw70\\results_210527_045230\\train_dur_75s\\replicate_7\n",
      "Loading checkpoint from:\n",
      "D:\\Users\\yarde\\vak_project\\BF\\hidden_size\\hidden_size_16\\or60yw70\\results_210527_045230\\train_dur_75s\\replicate_8\\TweetyNet\\checkpoints\\max-val-acc-checkpoint.pt \n"
     ]
    },
    {
     "name": "stderr",
     "output_type": "stream",
     "text": [
      "batch 31 / 32: 100%|███████████████████████████████████████████████████████████████████| 32/32 [00:13<00:00,  2.34it/s]\n",
      "  0%|                                                                                           | 0/32 [00:00<?, ?it/s]"
     ]
    },
    {
     "name": "stdout",
     "output_type": "stream",
     "text": [
      "Done D:\\Users\\yarde\\vak_project\\BF\\hidden_size\\hidden_size_16\\or60yw70\\results_210527_045230\\train_dur_75s\\replicate_8\n",
      "Loading checkpoint from:\n",
      "D:\\Users\\yarde\\vak_project\\BF\\hidden_size\\hidden_size_16\\or60yw70\\results_210527_045230\\train_dur_75s\\replicate_9\\TweetyNet\\checkpoints\\max-val-acc-checkpoint.pt \n"
     ]
    },
    {
     "name": "stderr",
     "output_type": "stream",
     "text": [
      "batch 31 / 32: 100%|███████████████████████████████████████████████████████████████████| 32/32 [00:13<00:00,  2.33it/s]\n"
     ]
    },
    {
     "name": "stdout",
     "output_type": "stream",
     "text": [
      "Done D:\\Users\\yarde\\vak_project\\BF\\hidden_size\\hidden_size_16\\or60yw70\\results_210527_045230\\train_dur_75s\\replicate_9\n"
     ]
    }
   ],
   "source": [
    "# summarize results with hidden_size=16\n",
    "window_size = 176\n",
    "hidden_size = 16\n",
    "training_dur_summary = []\n",
    "ratio_summary = []\n",
    "errs_summary = []\n",
    "errs_maj_summary = []\n",
    "errs_se_summary = []\n",
    "errs_se_maj_summary = []\n",
    "\n",
    "for bird in birds:\n",
    "    min_segment_dur = min_segment_durs[bird]\n",
    "    result_folder = [d for d in Root_hidden_16.joinpath(bird).iterdir()][0]\n",
    "    train_dur_folders = [d for d in result_folder.iterdir() if d.is_dir()]\n",
    "    for curr_train_folder in train_dur_folders:\n",
    "        replicate_folders = [d for d in curr_train_folder.iterdir() if d.is_dir()]\n",
    "        ods = []\n",
    "        for curr_replicate_folder in replicate_folders:\n",
    "            path_labelmap = curr_replicate_folder.joinpath('labelmap.json')\n",
    "            if curr_replicate_folder.joinpath('StandardizeSpect').exists():\n",
    "                spect_scaler_path = curr_replicate_folder.joinpath('StandardizeSpect')\n",
    "            else:\n",
    "                spect_scaler_path = None\n",
    "\n",
    "            checkpoint_path = curr_replicate_folder.joinpath('TweetyNet','checkpoints','max-val-acc-checkpoint.pt')\n",
    "            csv_path = [f for f in Root_learning_curve.joinpath(bird).glob('*.csv')][0]\n",
    "            csv_df, annotation_dfs, pred_dict, labelmap = load_network_results(path_to_config=None,\n",
    "                                                                             spect_scaler_path = spect_scaler_path,\n",
    "                                                                             csv_path=csv_path,\n",
    "                                                                             labelmap_path=path_labelmap,\n",
    "                                                                             checkpoint_path=checkpoint_path,\n",
    "                                                                             window_size = window_size,\n",
    "                                                                             hidden_size = hidden_size,\n",
    "                                                                             min_segment_dur = min_segment_dur,\n",
    "                                                                             num_workers = 4,\n",
    "                                                                             device='cuda',\n",
    "                                                                             spect_key='s',\n",
    "                                                                             timebins_key='t',\n",
    "                                                                             freq_key = 'f',\n",
    "                                                                             test_all_files=False)\n",
    "            rare_trans_df = locate_rare_events(annotations[bird],labelmap,degree=3)\n",
    "            od = create_results(annotations[bird],rare_trans_df,labelmap,csv_df,pred_dict,degree=3)\n",
    "            ods.append(od)\n",
    "            print('Done',curr_replicate_folder)\n",
    "        #locate_rare_events(BF1_csv_filename,'output_folder',labelmap,degree=3)\n",
    "        mn=np.nanmean(np.array([x['errs'] for x in ods]).astype(float),axis=0)\n",
    "        sd=np.nanstd(np.array([x['errs'] for x in ods]).astype(float),axis=0)\n",
    "        mn_maj=np.nanmean(np.array([x['errs_maj'] for x in ods]).astype(float),axis=0)\n",
    "        sd_maj=np.nanstd(np.array([x['errs_maj'] for x in ods]).astype(float),axis=0)\n",
    "        \n",
    "        errs_summary.append(mn)\n",
    "        errs_maj_summary.append(mn_maj)\n",
    "        errs_se_summary.append(sd/np.sqrt(10))\n",
    "        errs_se_maj_summary.append(sd_maj/np.sqrt(10))\n",
    "        \n",
    "        ratio_summary.append(ods[0]['ratios'])\n",
    "        \n",
    "        training_dur_summary.append(curr_train_folder.parts[-1].split('_')[-1])\n",
    "#%%\n"
   ]
  },
  {
   "cell_type": "code",
   "execution_count": 108,
   "id": "992d8e70-4de7-44c4-a3bb-3fc973a6363c",
   "metadata": {},
   "outputs": [],
   "source": []
  },
  {
   "cell_type": "code",
   "execution_count": 127,
   "id": "4bbe48a4-9a00-437c-b8fd-7a07bf4e4b38",
   "metadata": {},
   "outputs": [],
   "source": [
    "#(training_dur_summary[:7])\n",
    "#(ratio_summary[:7])\n",
    "#errs_summary \n",
    "#errs_maj_summary \n",
    "#errs_se_summary \n",
    "#errs_se_maj_summary \n",
    "data = dict((x,np.concatenate(np.array(errs_summary,dtype=object)[np.where(np.array(training_dur_summary) == x)])) for x in np.unique(training_dur_summary))\n",
    "data_maj = dict((x,np.concatenate(np.array(errs_maj_summary,dtype=object)[np.where(np.array(training_dur_summary) == x)])) for x in np.unique(training_dur_summary))\n",
    "all_ratios = dict((x,np.concatenate(np.array(ratio_summary,dtype=object)[np.where(np.array(training_dur_summary) == x)])) for x in np.unique(training_dur_summary))\n",
    "durs = np.array([int(s[:-1]) for s in data.keys()])\n",
    "durkeys = np.array([s for s in data.keys()])"
   ]
  },
  {
   "cell_type": "code",
   "execution_count": 146,
   "id": "1840da1b-b26d-4bfb-815e-32ea5fa03845",
   "metadata": {},
   "outputs": [
    {
     "data": {
      "text/plain": [
       "0.23315772902572485"
      ]
     },
     "execution_count": 146,
     "metadata": {},
     "output_type": "execute_result"
    }
   ],
   "source": [
    "p"
   ]
  },
  {
   "cell_type": "code",
   "execution_count": 161,
   "id": "9ee1cb8a-645b-4af9-bc69-bd9ecacd3a72",
   "metadata": {},
   "outputs": [
    {
     "data": {
      "image/png": "[encoded data removed]",
      "text/plain": [
       "<Figure size 1800x288 with 7 Axes>"
      ]
     },
     "metadata": {
      "needs_background": "light"
     },
     "output_type": "display_data"
    }
   ],
   "source": [
    "sortind = np.argsort(durs)\n",
    "import matplotlib.pyplot as plt\n",
    "from scipy.stats.stats import pearsonr\n",
    "plt.figure(figsize=(25,4))\n",
    "for i,e in enumerate(durkeys[sortind]):\n",
    "    ax = plt.subplot(1,len(durs),i+1)\n",
    "    ax.scatter(all_ratios[e],data[e])\n",
    "    ax.scatter(all_ratios[e],data_maj[e])\n",
    "    x = [all_ratios[e][pos] for pos,d in enumerate(data[e]) if not np.isnan(d)]\n",
    "    y = [data[e][pos] for pos,d in enumerate(data[e]) if not np.isnan(d)]\n",
    "    r,p = pearsonr(x,y)\n",
    "    ax.set_title(e + ': r={0:1.2f},p={1:1.2f}'.format(r,p))\n",
    "    ax.set_ylim([0,1])\n",
    "    if i>0: \n",
    "        ax.set_yticks([])\n",
    "    else:\n",
    "        ax.set_ylabel('Frame error rate')\n",
    "        ax.set_xlabel('Ratio of Rare/Frequent sequence')\n",
    "        ax.legend(['raw','maj_vote'])\n",
    "plt.suptitle('Error rates in rare sequences - Summary plot for BFSongRepository data with num_hidden = 16',fontsize=16)  \n",
    "plt.tight_layout()\n",
    "plt.show()"
   ]
  },
  {
   "cell_type": "markdown",
   "id": "aaed72b4-477f-49c2-81aa-5d5f901fad5f",
   "metadata": {},
   "source": [
    "## Conclusion - for hidden_num=16:\n",
    "#### 1. We examine the frame error in syllables 'X' in the sequences 'a-b-X' and look for relation to the rareity of 'a-b-X' compared to the most frequent alternative 'a-b-Y'\n",
    "#### 2. High error rates in rare sequences are more likely to occur in very rare events but there is no significant correlation (pearsons r,p - high r values resulting from a few outliers).\n",
    "#### 3. The trend depends on how well the model is trained (the duration of the training set)\n",
    "#### 4. Using the majority vote cleanup almost always reduce the error rates.\n",
    "\n"
   ]
  },
  {
   "cell_type": "code",
   "execution_count": null,
   "id": "2eb90b4d-3b9a-4b0b-862f-f8a235c95acf",
   "metadata": {},
   "outputs": [],
   "source": [
    "# summarize results with hidden_size=64\n",
    "window_size = 176\n",
    "hidden_size = 64\n",
    "training_dur_summary = []\n",
    "ratio_summary = []\n",
    "errs_summary = []\n",
    "errs_maj_summary = []\n",
    "errs_se_summary = []\n",
    "errs_se_maj_summary = []\n",
    "\n",
    "for bird in birds:\n",
    "    min_segment_dur = min_segment_durs[bird]\n",
    "    result_folder = [d for d in Root_hidden_64.joinpath(bird).iterdir()][0]\n",
    "    train_dur_folders = [d for d in result_folder.iterdir() if d.is_dir()]\n",
    "    for curr_train_folder in train_dur_folders:\n",
    "        replicate_folders = [d for d in curr_train_folder.iterdir() if d.is_dir()]\n",
    "        ods = []\n",
    "        for curr_replicate_folder in replicate_folders:\n",
    "            path_labelmap = curr_replicate_folder.joinpath('labelmap.json')\n",
    "            if curr_replicate_folder.joinpath('StandardizeSpect').exists():\n",
    "                spect_scaler_path = curr_replicate_folder.joinpath('StandardizeSpect')\n",
    "            else:\n",
    "                spect_scaler_path = None\n",
    "\n",
    "            checkpoint_path = curr_replicate_folder.joinpath('TweetyNet','checkpoints','max-val-acc-checkpoint.pt')\n",
    "            csv_path = [f for f in Root_learning_curve.joinpath(bird).glob('*.csv')][0]\n",
    "            csv_df, annotation_dfs, pred_dict, labelmap = load_network_results(path_to_config=None,\n",
    "                                                                             spect_scaler_path = spect_scaler_path,\n",
    "                                                                             csv_path=csv_path,\n",
    "                                                                             labelmap_path=path_labelmap,\n",
    "                                                                             checkpoint_path=checkpoint_path,\n",
    "                                                                             window_size = window_size,\n",
    "                                                                             hidden_size = hidden_size,\n",
    "                                                                             min_segment_dur = min_segment_dur,\n",
    "                                                                             num_workers = 4,\n",
    "                                                                             device='cuda',\n",
    "                                                                             spect_key='s',\n",
    "                                                                             timebins_key='t',\n",
    "                                                                             freq_key = 'f',\n",
    "                                                                             test_all_files=False)\n",
    "            rare_trans_df = locate_rare_events(annotations[bird],labelmap,degree=3)\n",
    "            od = create_results(annotations[bird],rare_trans_df,labelmap,csv_df,pred_dict,degree=3)\n",
    "            ods.append(od)\n",
    "            print('Done',curr_replicate_folder)\n",
    "        #locate_rare_events(BF1_csv_filename,'output_folder',labelmap,degree=3)\n",
    "        mn=np.nanmean(np.array([x['errs'] for x in ods]).astype(float),axis=0)\n",
    "        sd=np.nanstd(np.array([x['errs'] for x in ods]).astype(float),axis=0)\n",
    "        mn_maj=np.nanmean(np.array([x['errs_maj'] for x in ods]).astype(float),axis=0)\n",
    "        sd_maj=np.nanstd(np.array([x['errs_maj'] for x in ods]).astype(float),axis=0)\n",
    "        \n",
    "        errs_summary.append(mn)\n",
    "        errs_maj_summary.append(mn_maj)\n",
    "        errs_se_summary.append(sd/np.sqrt(10))\n",
    "        errs_se_maj_summary.append(sd_maj/np.sqrt(10))\n",
    "        \n",
    "        ratio_summary.append(ods[0]['ratios'])\n",
    "        \n",
    "        training_dur_summary.append(curr_train_folder.parts[-1].split('_')[-1])"
   ]
  }
 ],
 "metadata": {
  "kernelspec": {
   "display_name": "Python 3",
   "language": "python",
   "name": "python3"
  },
  "language_info": {
   "codemirror_mode": {
    "name": "ipython",
    "version": 3
   },
   "file_extension": ".py",
   "mimetype": "text/x-python",
   "name": "python",
   "nbconvert_exporter": "python",
   "pygments_lexer": "ipython3",
   "version": "3.8.8"
  }
 },
 "nbformat": 4,
 "nbformat_minor": 5
}
